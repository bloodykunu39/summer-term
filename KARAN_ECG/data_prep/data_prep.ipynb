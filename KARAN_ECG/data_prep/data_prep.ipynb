{
 "cells": [
  {
   "cell_type": "code",
   "execution_count": 1,
   "metadata": {},
   "outputs": [],
   "source": [
    "import pandas as pd\n",
    "from scipy.io import loadmat\n",
    "import wfdb\n",
    "import numpy as np\n",
    "import os\n",
    "\n",
    "from numpy import asarray\n",
    "from numpy import save"
   ]
  },
  {
   "cell_type": "code",
   "execution_count": 2,
   "metadata": {},
   "outputs": [],
   "source": [
    "import requests\n",
    "import zipfile\n",
    "from pathlib import Path\n"
   ]
  },
  {
   "cell_type": "code",
   "execution_count": 3,
   "metadata": {},
   "outputs": [
    {
     "data": {
      "text/plain": [
       "'data_path = Path(\"data\")\\nimage_path = data_path / \"12_lead_ECG_images\"\\nif image_path.is_dir():\\n    print(f\"{image_path} directory exists.\")\\nelse:\\n    print(f\"Did not find {image_path} directory, creating one...\")\\n    image_path.mkdir(parents=True, exist_ok=True)\\n'"
      ]
     },
     "execution_count": 3,
     "metadata": {},
     "output_type": "execute_result"
    }
   ],
   "source": [
    "\"\"\"data_path = Path(\"data\")\n",
    "image_path = data_path / \"12_lead_ECG_images\"\n",
    "if image_path.is_dir():\n",
    "    print(f\"{image_path} directory exists.\")\n",
    "else:\n",
    "    print(f\"Did not find {image_path} directory, creating one...\")\n",
    "    image_path.mkdir(parents=True, exist_ok=True)\n",
    "\"\"\""
   ]
  },
  {
   "cell_type": "code",
   "execution_count": 4,
   "metadata": {},
   "outputs": [
    {
     "data": {
      "text/plain": [
       "'import requests\\nfrom tqdm import tqdm\\n\\nresponse = requests.get(\"https://physionet.org/static/published-projects/ecg-arrhythmia/a-large-scale-12-lead-electrocardiogram-database-for-arrhythmia-study-1.0.0.zip\", stream=True)\\n\\n# Total size in bytes.\\ntotal_size = int(response.headers.get(\\'content-length\\', 0))\\nblock_size = 1024 #1 Kibibyte\\n\\nt=tqdm(total=total_size, unit=\\'iB\\', unit_scale=True)\\n\\nwith open(data_path / \"12_lead_ECG_images.zip\", \"wb\") as f:\\n    for data in response.iter_content(block_size):\\n        t.update(len(data))\\n        f.write(data)\\nt.close()\\n\\nif total_size != 0 and t.n != total_size:\\n    print(\"ERROR, something went wrong\")'"
      ]
     },
     "execution_count": 4,
     "metadata": {},
     "output_type": "execute_result"
    }
   ],
   "source": [
    "# for downloading the data\n",
    "\"\"\"import requests\n",
    "from tqdm import tqdm\n",
    "\n",
    "response = requests.get(\"https://physionet.org/static/published-projects/ecg-arrhythmia/a-large-scale-12-lead-electrocardiogram-database-for-arrhythmia-study-1.0.0.zip\", stream=True)\n",
    "\n",
    "# Total size in bytes.\n",
    "total_size = int(response.headers.get('content-length', 0))\n",
    "block_size = 1024 #1 Kibibyte\n",
    "\n",
    "t=tqdm(total=total_size, unit='iB', unit_scale=True)\n",
    "\n",
    "with open(data_path / \"12_lead_ECG_images.zip\", \"wb\") as f:\n",
    "    for data in response.iter_content(block_size):\n",
    "        t.update(len(data))\n",
    "        f.write(data)\n",
    "t.close()\n",
    "\n",
    "if total_size != 0 and t.n != total_size:\n",
    "    print(\"ERROR, something went wrong\")\"\"\""
   ]
  },
  {
   "cell_type": "code",
   "execution_count": 5,
   "metadata": {},
   "outputs": [],
   "source": [
    "path= \"data/a-large-scale-12-lead-electrocardiogram-database-for-arrhythmia-study-1.0.0/WFDBRecords\""
   ]
  },
  {
   "cell_type": "code",
   "execution_count": 6,
   "metadata": {},
   "outputs": [
    {
     "data": {
      "text/plain": [
       "'/home/karansingh/Documents/summer-term/KARAN_ECG/data_prep'"
      ]
     },
     "execution_count": 6,
     "metadata": {},
     "output_type": "execute_result"
    }
   ],
   "source": [
    "os.getcwd()"
   ]
  },
  {
   "cell_type": "code",
   "execution_count": 7,
   "metadata": {},
   "outputs": [
    {
     "data": {
      "text/plain": [
       "['22',\n",
       " '17',\n",
       " '10',\n",
       " '31',\n",
       " '11',\n",
       " '12',\n",
       " '05',\n",
       " '25',\n",
       " '19',\n",
       " '36',\n",
       " '40',\n",
       " '18',\n",
       " '20',\n",
       " '32',\n",
       " '01',\n",
       " '41',\n",
       " '35',\n",
       " '28',\n",
       " '27',\n",
       " '46',\n",
       " '21',\n",
       " '03',\n",
       " '02',\n",
       " '04',\n",
       " '34',\n",
       " '45',\n",
       " '09',\n",
       " '06',\n",
       " '39',\n",
       " '24',\n",
       " '07',\n",
       " '42',\n",
       " '15',\n",
       " '14',\n",
       " '30',\n",
       " '26',\n",
       " '33',\n",
       " '44',\n",
       " '43',\n",
       " '37',\n",
       " '13',\n",
       " '23',\n",
       " '16',\n",
       " '29',\n",
       " '38',\n",
       " '08']"
      ]
     },
     "execution_count": 7,
     "metadata": {},
     "output_type": "execute_result"
    }
   ],
   "source": [
    "path_1_list = os.listdir(path)\n",
    "path_1_list"
   ]
  },
  {
   "cell_type": "code",
   "execution_count": 8,
   "metadata": {},
   "outputs": [
    {
     "data": {
      "text/plain": [
       "(array([[-0.059, -0.039,  0.02 , ...,  0.   ,  0.01 , -0.059],\n",
       "        [-0.059, -0.039,  0.02 , ...,  0.   ,  0.01 , -0.059],\n",
       "        [-0.059, -0.039,  0.02 , ...,  0.   ,  0.01 , -0.059],\n",
       "        ...,\n",
       "        [ 0.415,  0.244, -0.171, ...,  0.156,  0.327,  0.01 ],\n",
       "        [ 0.415,  0.249, -0.166, ...,  0.176,  0.327,  0.005],\n",
       "        [ 0.439,  0.259, -0.181, ...,  0.171,  0.332, -0.005]]),\n",
       " {'fs': 500,\n",
       "  'sig_len': 5000,\n",
       "  'n_sig': 12,\n",
       "  'base_date': None,\n",
       "  'base_time': None,\n",
       "  'units': ['mV',\n",
       "   'mV',\n",
       "   'mV',\n",
       "   'mV',\n",
       "   'mV',\n",
       "   'mV',\n",
       "   'mV',\n",
       "   'mV',\n",
       "   'mV',\n",
       "   'mV',\n",
       "   'mV',\n",
       "   'mV'],\n",
       "  'sig_name': ['I',\n",
       "   'II',\n",
       "   'III',\n",
       "   'aVR',\n",
       "   'aVL',\n",
       "   'aVF',\n",
       "   'V1',\n",
       "   'V2',\n",
       "   'V3',\n",
       "   'V4',\n",
       "   'V5',\n",
       "   'V6'],\n",
       "  'comments': ['Age: 61',\n",
       "   'Sex: Male',\n",
       "   'Dx: 426177001,59118001',\n",
       "   'Rx: Unknown',\n",
       "   'Hx: Unknown',\n",
       "   'Sx: Unknown']})"
      ]
     },
     "execution_count": 8,
     "metadata": {},
     "output_type": "execute_result"
    }
   ],
   "source": [
    "# what we are going to do in disease_categorisation fxn\n",
    "data = wfdb.rdsamp(\"data/a-large-scale-12-lead-electrocardiogram-database-for-arrhythmia-study-1.0.0/WFDBRecords/01/010/JS00018\")# \n",
    "data"
   ]
  },
  {
   "cell_type": "code",
   "execution_count": 9,
   "metadata": {},
   "outputs": [
    {
     "data": {
      "text/plain": [
       "['Age: 61',\n",
       " 'Sex: Male',\n",
       " 'Dx: 426177001,59118001',\n",
       " 'Rx: Unknown',\n",
       " 'Hx: Unknown',\n",
       " 'Sx: Unknown']"
      ]
     },
     "execution_count": 9,
     "metadata": {},
     "output_type": "execute_result"
    }
   ],
   "source": [
    "data[1]['comments']"
   ]
  },
  {
   "cell_type": "code",
   "execution_count": 10,
   "metadata": {},
   "outputs": [
    {
     "data": {
      "text/plain": [
       "'Dx: 426177001,59118001'"
      ]
     },
     "execution_count": 10,
     "metadata": {},
     "output_type": "execute_result"
    }
   ],
   "source": [
    "data[1]['comments'][2]"
   ]
  },
  {
   "cell_type": "code",
   "execution_count": 11,
   "metadata": {},
   "outputs": [
    {
     "data": {
      "text/plain": [
       "'426177001,59118001'"
      ]
     },
     "execution_count": 11,
     "metadata": {},
     "output_type": "execute_result"
    }
   ],
   "source": [
    "data[1]['comments'][2].split()[1]"
   ]
  },
  {
   "cell_type": "code",
   "execution_count": 12,
   "metadata": {},
   "outputs": [
    {
     "data": {
      "text/plain": [
       "['426177001', '59118001']"
      ]
     },
     "execution_count": 12,
     "metadata": {},
     "output_type": "execute_result"
    }
   ],
   "source": [
    "data[1]['comments'][2].split()[1].split(',')#disease_codes(data) output"
   ]
  },
  {
   "cell_type": "code",
   "execution_count": 13,
   "metadata": {},
   "outputs": [
    {
     "data": {
      "text/plain": [
       "array([[-0.059, -0.039,  0.02 , ...,  0.   ,  0.01 , -0.059],\n",
       "       [-0.059, -0.039,  0.02 , ...,  0.   ,  0.01 , -0.059],\n",
       "       [-0.059, -0.039,  0.02 , ...,  0.   ,  0.01 , -0.059],\n",
       "       ...,\n",
       "       [ 0.415,  0.244, -0.171, ...,  0.156,  0.327,  0.01 ],\n",
       "       [ 0.415,  0.249, -0.166, ...,  0.176,  0.327,  0.005],\n",
       "       [ 0.439,  0.259, -0.181, ...,  0.171,  0.332, -0.005]])"
      ]
     },
     "execution_count": 13,
     "metadata": {},
     "output_type": "execute_result"
    }
   ],
   "source": [
    "data[0]"
   ]
  },
  {
   "cell_type": "code",
   "execution_count": 36,
   "metadata": {},
   "outputs": [],
   "source": [
    "def disease_codes(data):\n",
    "    disease_codes = data[1]['comments'][2].split()[1].split(',')\n",
    "    return disease_codes\n",
    "\n",
    "def disease_categorization(code):\n",
    "                           #path_1_list:list,path : str):\n",
    "    \"\"\"we have some disease codes named code and we have to check in file eg: WFDBRecords/01/010/JS00018 file\n",
    "    if data[1]['comments'][2].split()[1].split(',') contain the code then we have to append the data[0] to the list\"\"\"\n",
    "    disease_list = []\n",
    "    for i in range(len(path_1_list)):\n",
    "        path_1 = path_1_list[i]#path_1 is the folder name inside the WFDBRecords\n",
    "        relative_path_1 = path+'/'+path_1\n",
    "        path_2_list = os.listdir(relative_path_1)#list of folder in the path_1\n",
    "\n",
    "\n",
    "        for j in range(len(path_2_list)):# checking each folder in the path_1\n",
    "            path_2 = path_2_list[j]\n",
    "\n",
    "\n",
    "            path_to_dir = relative_path_1 + '/' + path_2 + '/'\n",
    "\n",
    "            records = open(path_to_dir+'RECORDS','r').read().split()#WFDBRecords/path1/path2/RECORDS\n",
    "            # reocords is a list of all the records in the path2 folder\n",
    "            for k in range(len(records)):\n",
    "                # print(path_1_list[i],path_2_list[j],records[k])\n",
    "                # print(i,j,k)\n",
    "                # print(records[k])\n",
    "                # print(path_to_dir+'RECORDS')\n",
    "                data = wfdb.rdsamp(path_to_dir+records[k])# explained above\n",
    "                disease_codes_ = disease_codes(data)# return the desease codes of the record AS SHOWN ABOVE\n",
    "\n",
    "                for l in range(len(disease_codes_)):\n",
    "                    if disease_codes_[l] == str(code):# if the code is in the disease codes of the record\n",
    "\n",
    "                        disease_list.append(data[0])\n",
    "                \n",
    "\n",
    "    \n",
    "    return disease_list\n",
    "\n"
   ]
  },
  {
   "cell_type": "code",
   "execution_count": 15,
   "metadata": {},
   "outputs": [],
   "source": [
    "path_to_disease_codes = 'data/a-large-scale-12-lead-electrocardiogram-database-for-arrhythmia-study-1.0.0/ConditionNames_SNOMED-CT.csv'\n",
    "# it is a csv file containing the disease codes and their names\n",
    "disease_codes_list = pd.DataFrame(pd.read_csv(path_to_disease_codes))"
   ]
  },
  {
   "cell_type": "code",
   "execution_count": 16,
   "metadata": {},
   "outputs": [
    {
     "data": {
      "text/html": [
       "<div>\n",
       "<style scoped>\n",
       "    .dataframe tbody tr th:only-of-type {\n",
       "        vertical-align: middle;\n",
       "    }\n",
       "\n",
       "    .dataframe tbody tr th {\n",
       "        vertical-align: top;\n",
       "    }\n",
       "\n",
       "    .dataframe thead th {\n",
       "        text-align: right;\n",
       "    }\n",
       "</style>\n",
       "<table border=\"1\" class=\"dataframe\">\n",
       "  <thead>\n",
       "    <tr style=\"text-align: right;\">\n",
       "      <th></th>\n",
       "      <th>Acronym Name</th>\n",
       "      <th>Full Name</th>\n",
       "      <th>Snomed_CT</th>\n",
       "    </tr>\n",
       "  </thead>\n",
       "  <tbody>\n",
       "    <tr>\n",
       "      <th>0</th>\n",
       "      <td>1AVB</td>\n",
       "      <td>1 degree atrioventricular block</td>\n",
       "      <td>270492004</td>\n",
       "    </tr>\n",
       "    <tr>\n",
       "      <th>1</th>\n",
       "      <td>2AVB</td>\n",
       "      <td>2 degree atrioventricular block</td>\n",
       "      <td>195042002</td>\n",
       "    </tr>\n",
       "    <tr>\n",
       "      <th>2</th>\n",
       "      <td>2AVB1</td>\n",
       "      <td>2 degree atrioventricular block(Type one)</td>\n",
       "      <td>54016002</td>\n",
       "    </tr>\n",
       "    <tr>\n",
       "      <th>3</th>\n",
       "      <td>2AVB2</td>\n",
       "      <td>2 degree atrioventricular block(Type two)</td>\n",
       "      <td>28189009</td>\n",
       "    </tr>\n",
       "    <tr>\n",
       "      <th>4</th>\n",
       "      <td>3AVB</td>\n",
       "      <td>3 degree atrioventricular block</td>\n",
       "      <td>27885002</td>\n",
       "    </tr>\n",
       "    <tr>\n",
       "      <th>...</th>\n",
       "      <td>...</td>\n",
       "      <td>...</td>\n",
       "      <td>...</td>\n",
       "    </tr>\n",
       "    <tr>\n",
       "      <th>58</th>\n",
       "      <td>SVT</td>\n",
       "      <td>Supraventricular Tachycardia</td>\n",
       "      <td>426761007</td>\n",
       "    </tr>\n",
       "    <tr>\n",
       "      <th>59</th>\n",
       "      <td>AT</td>\n",
       "      <td>Atrial Tachycardia</td>\n",
       "      <td>713422000</td>\n",
       "    </tr>\n",
       "    <tr>\n",
       "      <th>60</th>\n",
       "      <td>AVNRT</td>\n",
       "      <td>Atrioventricular  Node Reentrant Tachycardia</td>\n",
       "      <td>233896004</td>\n",
       "    </tr>\n",
       "    <tr>\n",
       "      <th>61</th>\n",
       "      <td>AVRT</td>\n",
       "      <td>Atrioventricular Reentrant Tachycardia</td>\n",
       "      <td>233897008</td>\n",
       "    </tr>\n",
       "    <tr>\n",
       "      <th>62</th>\n",
       "      <td>SAAWR</td>\n",
       "      <td>Sinus Atrium to Atrial Wandering Rhythm</td>\n",
       "      <td>195101003</td>\n",
       "    </tr>\n",
       "  </tbody>\n",
       "</table>\n",
       "<p>63 rows × 3 columns</p>\n",
       "</div>"
      ],
      "text/plain": [
       "   Acronym Name                                     Full Name  Snomed_CT\n",
       "0          1AVB               1 degree atrioventricular block  270492004\n",
       "1          2AVB               2 degree atrioventricular block  195042002\n",
       "2         2AVB1     2 degree atrioventricular block(Type one)   54016002\n",
       "3         2AVB2     2 degree atrioventricular block(Type two)   28189009\n",
       "4          3AVB               3 degree atrioventricular block   27885002\n",
       "..          ...                                           ...        ...\n",
       "58          SVT                  Supraventricular Tachycardia  426761007\n",
       "59           AT                            Atrial Tachycardia  713422000\n",
       "60        AVNRT  Atrioventricular  Node Reentrant Tachycardia  233896004\n",
       "61         AVRT        Atrioventricular Reentrant Tachycardia  233897008\n",
       "62        SAAWR       Sinus Atrium to Atrial Wandering Rhythm  195101003\n",
       "\n",
       "[63 rows x 3 columns]"
      ]
     },
     "execution_count": 16,
     "metadata": {},
     "output_type": "execute_result"
    }
   ],
   "source": [
    "disease_codes_list\n",
    "#snomed_ct is the disease code\n",
    "# acronym is the name of the disease"
   ]
  },
  {
   "cell_type": "code",
   "execution_count": 17,
   "metadata": {},
   "outputs": [
    {
     "name": "stderr",
     "output_type": "stream",
     "text": [
      "Processing disease codes:   0%|          | 0/63 [00:00<?, ?it/s]"
     ]
    },
    {
     "name": "stdout",
     "output_type": "stream",
     "text": [
      "270492004\n"
     ]
    },
    {
     "name": "stderr",
     "output_type": "stream",
     "text": [
      "Processing disease codes:   2%|▏         | 1/63 [00:48<50:23, 48.77s/it]"
     ]
    },
    {
     "name": "stdout",
     "output_type": "stream",
     "text": [
      "1140\n",
      "195042002\n"
     ]
    },
    {
     "name": "stderr",
     "output_type": "stream",
     "text": [
      "Processing disease codes:   3%|▎         | 2/63 [01:37<49:40, 48.87s/it]"
     ]
    },
    {
     "name": "stdout",
     "output_type": "stream",
     "text": [
      "66\n",
      "54016002\n"
     ]
    },
    {
     "name": "stderr",
     "output_type": "stream",
     "text": [
      "Processing disease codes:   5%|▍         | 3/63 [02:26<48:46, 48.78s/it]"
     ]
    },
    {
     "name": "stdout",
     "output_type": "stream",
     "text": [
      "31\n",
      "28189009\n"
     ]
    },
    {
     "name": "stderr",
     "output_type": "stream",
     "text": [
      "Processing disease codes:   6%|▋         | 4/63 [03:14<47:51, 48.67s/it]"
     ]
    },
    {
     "name": "stdout",
     "output_type": "stream",
     "text": [
      "0\n",
      "27885002\n"
     ]
    },
    {
     "name": "stderr",
     "output_type": "stream",
     "text": [
      "Processing disease codes:   8%|▊         | 5/63 [04:03<47:00, 48.62s/it]"
     ]
    },
    {
     "name": "stdout",
     "output_type": "stream",
     "text": [
      "76\n",
      "251173003\n"
     ]
    },
    {
     "name": "stderr",
     "output_type": "stream",
     "text": [
      "Processing disease codes:  10%|▉         | 6/63 [04:51<46:09, 48.59s/it]"
     ]
    },
    {
     "name": "stdout",
     "output_type": "stream",
     "text": [
      "3\n",
      "39732003\n"
     ]
    },
    {
     "name": "stderr",
     "output_type": "stream",
     "text": [
      "Processing disease codes:  11%|█         | 7/63 [05:40<45:14, 48.48s/it]"
     ]
    },
    {
     "name": "stdout",
     "output_type": "stream",
     "text": [
      "1545\n",
      "284470004\n"
     ]
    },
    {
     "name": "stderr",
     "output_type": "stream",
     "text": [
      "Processing disease codes:  11%|█         | 7/63 [06:06<48:48, 52.30s/it]\n"
     ]
    },
    {
     "ename": "KeyboardInterrupt",
     "evalue": "",
     "output_type": "error",
     "traceback": [
      "\u001b[0;31m---------------------------------------------------------------------------\u001b[0m",
      "\u001b[0;31mKeyboardInterrupt\u001b[0m                         Traceback (most recent call last)",
      "Cell \u001b[0;32mIn[17], line 10\u001b[0m\n\u001b[1;32m      8\u001b[0m \u001b[38;5;28;01mfor\u001b[39;00m code \u001b[38;5;129;01min\u001b[39;00m tqdm(disease_code, desc\u001b[38;5;241m=\u001b[39m\u001b[38;5;124m\"\u001b[39m\u001b[38;5;124mProcessing disease codes\u001b[39m\u001b[38;5;124m\"\u001b[39m):\n\u001b[1;32m      9\u001b[0m     \u001b[38;5;28mprint\u001b[39m(code)\n\u001b[0;32m---> 10\u001b[0m     cc \u001b[38;5;241m=\u001b[39m \u001b[43mdisease_categorization\u001b[49m\u001b[43m(\u001b[49m\u001b[43mcode\u001b[49m\u001b[43m)\u001b[49m\n\u001b[1;32m     11\u001b[0m     \u001b[38;5;28mprint\u001b[39m(\u001b[38;5;28mlen\u001b[39m(cc))\n\u001b[1;32m     12\u001b[0m     disease_list\u001b[38;5;241m.\u001b[39mappend(cc)  \u001b[38;5;66;03m# list of records for each disease code\u001b[39;00m\n",
      "Cell \u001b[0;32mIn[14], line 29\u001b[0m, in \u001b[0;36mdisease_categorization\u001b[0;34m(code)\u001b[0m\n\u001b[1;32m     23\u001b[0m \u001b[38;5;66;03m# reocords is a list of all the records in the path2 folder\u001b[39;00m\n\u001b[1;32m     24\u001b[0m \u001b[38;5;28;01mfor\u001b[39;00m k \u001b[38;5;129;01min\u001b[39;00m \u001b[38;5;28mrange\u001b[39m(\u001b[38;5;28mlen\u001b[39m(records)):\n\u001b[1;32m     25\u001b[0m     \u001b[38;5;66;03m# print(path_1_list[i],path_2_list[j],records[k])\u001b[39;00m\n\u001b[1;32m     26\u001b[0m     \u001b[38;5;66;03m# print(i,j,k)\u001b[39;00m\n\u001b[1;32m     27\u001b[0m     \u001b[38;5;66;03m# print(records[k])\u001b[39;00m\n\u001b[1;32m     28\u001b[0m     \u001b[38;5;66;03m# print(path_to_dir+'RECORDS')\u001b[39;00m\n\u001b[0;32m---> 29\u001b[0m     data \u001b[38;5;241m=\u001b[39m \u001b[43mwfdb\u001b[49m\u001b[38;5;241;43m.\u001b[39;49m\u001b[43mrdsamp\u001b[49m\u001b[43m(\u001b[49m\u001b[43mpath_to_dir\u001b[49m\u001b[38;5;241;43m+\u001b[39;49m\u001b[43mrecords\u001b[49m\u001b[43m[\u001b[49m\u001b[43mk\u001b[49m\u001b[43m]\u001b[49m\u001b[43m)\u001b[49m\u001b[38;5;66;03m# explained above\u001b[39;00m\n\u001b[1;32m     30\u001b[0m     disease_codes_ \u001b[38;5;241m=\u001b[39m disease_codes(data)\u001b[38;5;66;03m# return the desease codes of the record AS SHOWN ABOVE\u001b[39;00m\n\u001b[1;32m     32\u001b[0m     \u001b[38;5;28;01mfor\u001b[39;00m l \u001b[38;5;129;01min\u001b[39;00m \u001b[38;5;28mrange\u001b[39m(\u001b[38;5;28mlen\u001b[39m(disease_codes_)):\n",
      "File \u001b[0;32m~/.local/lib/python3.10/site-packages/wfdb/io/record.py:2317\u001b[0m, in \u001b[0;36mrdsamp\u001b[0;34m(record_name, sampfrom, sampto, channels, pn_dir, channel_names, warn_empty, return_res)\u001b[0m\n\u001b[1;32m   2312\u001b[0m     dir_list \u001b[38;5;241m=\u001b[39m pn_dir\u001b[38;5;241m.\u001b[39msplit(\u001b[38;5;124m\"\u001b[39m\u001b[38;5;124m/\u001b[39m\u001b[38;5;124m\"\u001b[39m)\n\u001b[1;32m   2313\u001b[0m     pn_dir \u001b[38;5;241m=\u001b[39m posixpath\u001b[38;5;241m.\u001b[39mjoin(\n\u001b[1;32m   2314\u001b[0m         dir_list[\u001b[38;5;241m0\u001b[39m], download\u001b[38;5;241m.\u001b[39mget_version(dir_list[\u001b[38;5;241m0\u001b[39m]), \u001b[38;5;241m*\u001b[39mdir_list[\u001b[38;5;241m1\u001b[39m:]\n\u001b[1;32m   2315\u001b[0m     )\n\u001b[0;32m-> 2317\u001b[0m record \u001b[38;5;241m=\u001b[39m \u001b[43mrdrecord\u001b[49m\u001b[43m(\u001b[49m\n\u001b[1;32m   2318\u001b[0m \u001b[43m    \u001b[49m\u001b[43mrecord_name\u001b[49m\u001b[38;5;241;43m=\u001b[39;49m\u001b[43mrecord_name\u001b[49m\u001b[43m,\u001b[49m\n\u001b[1;32m   2319\u001b[0m \u001b[43m    \u001b[49m\u001b[43msampfrom\u001b[49m\u001b[38;5;241;43m=\u001b[39;49m\u001b[43msampfrom\u001b[49m\u001b[43m,\u001b[49m\n\u001b[1;32m   2320\u001b[0m \u001b[43m    \u001b[49m\u001b[43msampto\u001b[49m\u001b[38;5;241;43m=\u001b[39;49m\u001b[43msampto\u001b[49m\u001b[43m,\u001b[49m\n\u001b[1;32m   2321\u001b[0m \u001b[43m    \u001b[49m\u001b[43mchannels\u001b[49m\u001b[38;5;241;43m=\u001b[39;49m\u001b[43mchannels\u001b[49m\u001b[43m,\u001b[49m\n\u001b[1;32m   2322\u001b[0m \u001b[43m    \u001b[49m\u001b[43mphysical\u001b[49m\u001b[38;5;241;43m=\u001b[39;49m\u001b[38;5;28;43;01mTrue\u001b[39;49;00m\u001b[43m,\u001b[49m\n\u001b[1;32m   2323\u001b[0m \u001b[43m    \u001b[49m\u001b[43mpn_dir\u001b[49m\u001b[38;5;241;43m=\u001b[39;49m\u001b[43mpn_dir\u001b[49m\u001b[43m,\u001b[49m\n\u001b[1;32m   2324\u001b[0m \u001b[43m    \u001b[49m\u001b[43mm2s\u001b[49m\u001b[38;5;241;43m=\u001b[39;49m\u001b[38;5;28;43;01mTrue\u001b[39;49;00m\u001b[43m,\u001b[49m\n\u001b[1;32m   2325\u001b[0m \u001b[43m    \u001b[49m\u001b[43mreturn_res\u001b[49m\u001b[38;5;241;43m=\u001b[39;49m\u001b[43mreturn_res\u001b[49m\u001b[43m,\u001b[49m\n\u001b[1;32m   2326\u001b[0m \u001b[43m    \u001b[49m\u001b[43mchannel_names\u001b[49m\u001b[38;5;241;43m=\u001b[39;49m\u001b[43mchannel_names\u001b[49m\u001b[43m,\u001b[49m\n\u001b[1;32m   2327\u001b[0m \u001b[43m    \u001b[49m\u001b[43mwarn_empty\u001b[49m\u001b[38;5;241;43m=\u001b[39;49m\u001b[43mwarn_empty\u001b[49m\u001b[43m,\u001b[49m\n\u001b[1;32m   2328\u001b[0m \u001b[43m\u001b[49m\u001b[43m)\u001b[49m\n\u001b[1;32m   2330\u001b[0m signals \u001b[38;5;241m=\u001b[39m record\u001b[38;5;241m.\u001b[39mp_signal\n\u001b[1;32m   2331\u001b[0m fields \u001b[38;5;241m=\u001b[39m {}\n",
      "File \u001b[0;32m~/.local/lib/python3.10/site-packages/wfdb/io/record.py:2143\u001b[0m, in \u001b[0;36mrdrecord\u001b[0;34m(record_name, sampfrom, sampto, channels, physical, pn_dir, m2s, smooth_frames, ignore_skew, return_res, force_channels, channel_names, warn_empty)\u001b[0m\n\u001b[1;32m   2137\u001b[0m     record\u001b[38;5;241m.\u001b[39m_arrange_fields(\n\u001b[1;32m   2138\u001b[0m         channels\u001b[38;5;241m=\u001b[39mchannels, sampfrom\u001b[38;5;241m=\u001b[39msampfrom, smooth_frames\u001b[38;5;241m=\u001b[39m\u001b[38;5;28;01mTrue\u001b[39;00m\n\u001b[1;32m   2139\u001b[0m     )\n\u001b[1;32m   2141\u001b[0m     \u001b[38;5;28;01mif\u001b[39;00m physical:\n\u001b[1;32m   2142\u001b[0m         \u001b[38;5;66;03m# Perform inplace dac to get physical signal\u001b[39;00m\n\u001b[0;32m-> 2143\u001b[0m         \u001b[43mrecord\u001b[49m\u001b[38;5;241;43m.\u001b[39;49m\u001b[43mdac\u001b[49m\u001b[43m(\u001b[49m\u001b[43mexpanded\u001b[49m\u001b[38;5;241;43m=\u001b[39;49m\u001b[38;5;28;43;01mFalse\u001b[39;49;00m\u001b[43m,\u001b[49m\u001b[43m \u001b[49m\u001b[43mreturn_res\u001b[49m\u001b[38;5;241;43m=\u001b[39;49m\u001b[43mreturn_res\u001b[49m\u001b[43m,\u001b[49m\u001b[43m \u001b[49m\u001b[43minplace\u001b[49m\u001b[38;5;241;43m=\u001b[39;49m\u001b[38;5;28;43;01mTrue\u001b[39;49;00m\u001b[43m)\u001b[49m\n\u001b[1;32m   2145\u001b[0m \u001b[38;5;66;03m# Return each sample of the signals with multiple samples per frame\u001b[39;00m\n\u001b[1;32m   2146\u001b[0m \u001b[38;5;28;01melse\u001b[39;00m:\n\u001b[1;32m   2147\u001b[0m     \u001b[38;5;66;03m# Arrange/edit the object fields to reflect user channel\u001b[39;00m\n\u001b[1;32m   2148\u001b[0m     \u001b[38;5;66;03m# and/or signal range input\u001b[39;00m\n\u001b[1;32m   2149\u001b[0m     record\u001b[38;5;241m.\u001b[39m_arrange_fields(\n\u001b[1;32m   2150\u001b[0m         channels\u001b[38;5;241m=\u001b[39mchannels, sampfrom\u001b[38;5;241m=\u001b[39msampfrom, smooth_frames\u001b[38;5;241m=\u001b[39m\u001b[38;5;28;01mFalse\u001b[39;00m\n\u001b[1;32m   2151\u001b[0m     )\n",
      "File \u001b[0;32m~/.local/lib/python3.10/site-packages/wfdb/io/_signal.py:682\u001b[0m, in \u001b[0;36mSignalMixin.dac\u001b[0;34m(self, expanded, return_res, inplace)\u001b[0m\n\u001b[1;32m    680\u001b[0m \u001b[38;5;28mself\u001b[39m\u001b[38;5;241m.\u001b[39md_signal \u001b[38;5;241m=\u001b[39m \u001b[38;5;28mself\u001b[39m\u001b[38;5;241m.\u001b[39md_signal\u001b[38;5;241m.\u001b[39mastype(floatdtype, copy\u001b[38;5;241m=\u001b[39m\u001b[38;5;28;01mFalse\u001b[39;00m)\n\u001b[1;32m    681\u001b[0m np\u001b[38;5;241m.\u001b[39msubtract(\u001b[38;5;28mself\u001b[39m\u001b[38;5;241m.\u001b[39md_signal, \u001b[38;5;28mself\u001b[39m\u001b[38;5;241m.\u001b[39mbaseline, \u001b[38;5;28mself\u001b[39m\u001b[38;5;241m.\u001b[39md_signal)\n\u001b[0;32m--> 682\u001b[0m \u001b[43mnp\u001b[49m\u001b[38;5;241;43m.\u001b[39;49m\u001b[43mdivide\u001b[49m\u001b[43m(\u001b[49m\u001b[38;5;28;43mself\u001b[39;49m\u001b[38;5;241;43m.\u001b[39;49m\u001b[43md_signal\u001b[49m\u001b[43m,\u001b[49m\u001b[43m \u001b[49m\u001b[38;5;28;43mself\u001b[39;49m\u001b[38;5;241;43m.\u001b[39;49m\u001b[43madc_gain\u001b[49m\u001b[43m,\u001b[49m\u001b[43m \u001b[49m\u001b[38;5;28;43mself\u001b[39;49m\u001b[38;5;241;43m.\u001b[39;49m\u001b[43md_signal\u001b[49m\u001b[43m)\u001b[49m\n\u001b[1;32m    683\u001b[0m \u001b[38;5;28mself\u001b[39m\u001b[38;5;241m.\u001b[39md_signal[nanlocs] \u001b[38;5;241m=\u001b[39m np\u001b[38;5;241m.\u001b[39mnan\n\u001b[1;32m    684\u001b[0m \u001b[38;5;28mself\u001b[39m\u001b[38;5;241m.\u001b[39mp_signal \u001b[38;5;241m=\u001b[39m \u001b[38;5;28mself\u001b[39m\u001b[38;5;241m.\u001b[39md_signal\n",
      "\u001b[0;31mKeyboardInterrupt\u001b[0m: "
     ]
    }
   ],
   "source": [
    "from tqdm import tqdm\n",
    "\n",
    "disease_name = disease_codes_list.get('Acronym Name')\n",
    "disease_code = disease_codes_list.get('Snomed_CT')\n",
    "disease_list = []  # IDK what this is for\n",
    "code_list_len = []\n",
    "\n",
    "for code in tqdm(disease_code, desc=\"Processing disease codes\"):\n",
    "    print(code)\n",
    "    cc = disease_categorization(code)\n",
    "    print(len(cc))\n",
    "    disease_list.append(cc)  # list of records for each disease code\n",
    "    code_list_len.append(len(cc))  # how many records are there for each disease code"
   ]
  },
  {
   "cell_type": "code",
   "execution_count": null,
   "metadata": {},
   "outputs": [
    {
     "name": "stdout",
     "output_type": "stream",
     "text": [
      "p town baby done done\n"
     ]
    }
   ],
   "source": [
    "print(\"p town baby done done\")\n"
   ]
  },
  {
   "cell_type": "code",
   "execution_count": null,
   "metadata": {},
   "outputs": [
    {
     "data": {
      "text/plain": [
       "[1140,\n",
       " 66,\n",
       " 31,\n",
       " 0,\n",
       " 76,\n",
       " 3,\n",
       " 1545,\n",
       " 1312,\n",
       " 1063,\n",
       " 853,\n",
       " 244,\n",
       " 162,\n",
       " 76,\n",
       " 366,\n",
       " 3,\n",
       " 771,\n",
       " 771,\n",
       " 75,\n",
       " 11,\n",
       " 240,\n",
       " 240,\n",
       " 240,\n",
       " 647,\n",
       " 1043,\n",
       " 0,\n",
       " 0,\n",
       " 123,\n",
       " 123,\n",
       " 123,\n",
       " 123,\n",
       " 123,\n",
       " 52,\n",
       " 142,\n",
       " 394,\n",
       " 36,\n",
       " 649,\n",
       " 110,\n",
       " 1668,\n",
       " 801,\n",
       " 1158,\n",
       " 176,\n",
       " 7043,\n",
       " 2877,\n",
       " 136,\n",
       " 3,\n",
       " 56,\n",
       " 116,\n",
       " 294,\n",
       " 12,\n",
       " 8,\n",
       " 2,\n",
       " 72,\n",
       " 16559,\n",
       " 8125,\n",
       " 1780,\n",
       " 7254,\n",
       " 8060,\n",
       " 2550,\n",
       " 724,\n",
       " 297,\n",
       " 0,\n",
       " 26,\n",
       " 2]"
      ]
     },
     "execution_count": 20,
     "metadata": {},
     "output_type": "execute_result"
    }
   ],
   "source": [
    "code_list_len\n"
   ]
  },
  {
   "cell_type": "code",
   "execution_count": 20,
   "metadata": {},
   "outputs": [],
   "source": [
    "code_list_len=[1140,\n",
    " 66,\n",
    " 31,\n",
    " 0,\n",
    " 76,\n",
    " 3,\n",
    " 1545,\n",
    " 1312,\n",
    " 1063,\n",
    " 853,\n",
    " 244,\n",
    " 162,\n",
    " 76,\n",
    " 366,\n",
    " 3,\n",
    " 771,\n",
    " 771,\n",
    " 75,\n",
    " 11,\n",
    " 240,\n",
    " 240,\n",
    " 240,\n",
    " 647,\n",
    " 1043,\n",
    " 0,1312\n",
    " 0,\n",
    " 123,\n",
    " 123,\n",
    " 123,\n",
    " 123,\n",
    " 123,\n",
    " 52,\n",
    " 142,\n",
    " 394,\n",
    " 36,\n",
    " 649,\n",
    " 110,\n",
    " 1668,\n",
    " 801,\n",
    " 1158,\n",
    " 176,\n",
    " 7043,\n",
    " 2877,\n",
    " 136,\n",
    " 3,\n",
    " 56,\n",
    " 116,\n",
    " 294,\n",
    " 12,\n",
    " 8,\n",
    " 2,\n",
    " 72,\n",
    " 16559,\n",
    " 8125,\n",
    " 1780,\n",
    " 7254,\n",
    " 8060,\n",
    " 2550,\n",
    " 724,\n",
    " 297,\n",
    " 0,\n",
    " 26,\n",
    " 2]\n",
    " "
   ]
  },
  {
   "cell_type": "code",
   "execution_count": 21,
   "metadata": {},
   "outputs": [
    {
     "data": {
      "text/plain": [
       "[1140,\n",
       " 66,\n",
       " 31,\n",
       " 0,\n",
       " 76,\n",
       " 3,\n",
       " 1545,\n",
       " 1312,\n",
       " 1063,\n",
       " 853,\n",
       " 244,\n",
       " 162,\n",
       " 76,\n",
       " 366,\n",
       " 3,\n",
       " 771,\n",
       " 771,\n",
       " 75,\n",
       " 11,\n",
       " 240,\n",
       " 240,\n",
       " 240,\n",
       " 647,\n",
       " 1043,\n",
       " 0,\n",
       " 0,\n",
       " 123,\n",
       " 123,\n",
       " 123,\n",
       " 123,\n",
       " 123,\n",
       " 52,\n",
       " 142,\n",
       " 394,\n",
       " 36,\n",
       " 649,\n",
       " 110,\n",
       " 1668,\n",
       " 801,\n",
       " 1158,\n",
       " 176,\n",
       " 7043,\n",
       " 2877,\n",
       " 136,\n",
       " 3,\n",
       " 56,\n",
       " 116,\n",
       " 294,\n",
       " 12,\n",
       " 8,\n",
       " 2,\n",
       " 72,\n",
       " 16559,\n",
       " 8125,\n",
       " 1780,\n",
       " 7254,\n",
       " 8060,\n",
       " 2550,\n",
       " 724,\n",
       " 297,\n",
       " 0,\n",
       " 26,\n",
       " 2]"
      ]
     },
     "execution_count": 21,
     "metadata": {},
     "output_type": "execute_result"
    }
   ],
   "source": [
    "code_list_len"
   ]
  },
  {
   "cell_type": "code",
   "execution_count": 29,
   "metadata": {},
   "outputs": [
    {
     "name": "stdout",
     "output_type": "stream",
     "text": [
      "7043\n",
      "TWC\n",
      "164934002 \n",
      "\n",
      "16559\n",
      "SB\n",
      "426177001 \n",
      "\n",
      "8125\n",
      "SR\n",
      "426783006 \n",
      "\n",
      "7254\n",
      "ST\n",
      "427084000 \n",
      "\n",
      "8060\n",
      "AF\n",
      "164890007 \n",
      "\n"
     ]
    }
   ],
   "source": [
    "for items in range(len(code_list_len)):\n",
    "    if code_list_len[items] >= 5000:\n",
    "        print(code_list_len[items])\n",
    "        print(disease_name[items])\n",
    "        print(disease_code[items],\"\\n\")"
   ]
  },
  {
   "cell_type": "code",
   "execution_count": 27,
   "metadata": {},
   "outputs": [
    {
     "data": {
      "text/plain": [
       "[1,\n",
       " 2,\n",
       " 3,\n",
       " 4,\n",
       " 5,\n",
       " 6,\n",
       " 7,\n",
       " 8,\n",
       " 9,\n",
       " 10,\n",
       " 11,\n",
       " 12,\n",
       " 13,\n",
       " 14,\n",
       " 15,\n",
       " 16,\n",
       " 17,\n",
       " 18,\n",
       " 19,\n",
       " 20,\n",
       " 21,\n",
       " 22,\n",
       " 23,\n",
       " 24,\n",
       " 25,\n",
       " 26,\n",
       " 27,\n",
       " 28,\n",
       " 29,\n",
       " 30,\n",
       " 31,\n",
       " 32,\n",
       " 33,\n",
       " 34,\n",
       " 35,\n",
       " 36,\n",
       " 37,\n",
       " 38,\n",
       " 39,\n",
       " 40,\n",
       " 41,\n",
       " 42,\n",
       " 43,\n",
       " 44,\n",
       " 45,\n",
       " 46,\n",
       " 47,\n",
       " 48,\n",
       " 49,\n",
       " 50,\n",
       " 51,\n",
       " 52,\n",
       " 53,\n",
       " 54,\n",
       " 55,\n",
       " 56,\n",
       " 57,\n",
       " 58,\n",
       " 59,\n",
       " 60,\n",
       " 61,\n",
       " 62,\n",
       " 63,\n",
       " 64,\n",
       " 65,\n",
       " 66,\n",
       " 67,\n",
       " 68,\n",
       " 69,\n",
       " 70,\n",
       " 71,\n",
       " 72,\n",
       " 73,\n",
       " 74,\n",
       " 75,\n",
       " 76,\n",
       " 77,\n",
       " 78,\n",
       " 79,\n",
       " 80,\n",
       " 81,\n",
       " 82,\n",
       " 83,\n",
       " 84,\n",
       " 85,\n",
       " 86,\n",
       " 87,\n",
       " 88,\n",
       " 89,\n",
       " 90,\n",
       " 91,\n",
       " 92,\n",
       " 93,\n",
       " 94,\n",
       " 95,\n",
       " 96,\n",
       " 97,\n",
       " 98,\n",
       " 99,\n",
       " 100,\n",
       " 101,\n",
       " 102,\n",
       " 103,\n",
       " 104,\n",
       " 105,\n",
       " 106,\n",
       " 107,\n",
       " 108,\n",
       " 109,\n",
       " 110,\n",
       " 111,\n",
       " 112,\n",
       " 113,\n",
       " 114,\n",
       " 115,\n",
       " 116,\n",
       " 117,\n",
       " 118,\n",
       " 119,\n",
       " 120,\n",
       " 121,\n",
       " 122,\n",
       " 123,\n",
       " 124,\n",
       " 125,\n",
       " 126,\n",
       " 127,\n",
       " 128,\n",
       " 129,\n",
       " 130,\n",
       " 131,\n",
       " 132,\n",
       " 133,\n",
       " 134,\n",
       " 135,\n",
       " 136,\n",
       " 137,\n",
       " 138,\n",
       " 139,\n",
       " 140,\n",
       " 141,\n",
       " 142,\n",
       " 143,\n",
       " 144,\n",
       " 145,\n",
       " 146,\n",
       " 147,\n",
       " 148,\n",
       " 149,\n",
       " 150,\n",
       " 151,\n",
       " 152,\n",
       " 153,\n",
       " 154,\n",
       " 155,\n",
       " 156,\n",
       " 157,\n",
       " 158,\n",
       " 159,\n",
       " 160,\n",
       " 161,\n",
       " 162,\n",
       " 163,\n",
       " 164,\n",
       " 165,\n",
       " 166,\n",
       " 167,\n",
       " 168,\n",
       " 169,\n",
       " 170,\n",
       " 171,\n",
       " 172,\n",
       " 173,\n",
       " 174,\n",
       " 175,\n",
       " 176,\n",
       " 177,\n",
       " 178,\n",
       " 179,\n",
       " 180,\n",
       " 181,\n",
       " 182,\n",
       " 183,\n",
       " 184,\n",
       " 185,\n",
       " 186,\n",
       " 187,\n",
       " 188,\n",
       " 189,\n",
       " 190,\n",
       " 191,\n",
       " 192,\n",
       " 193,\n",
       " 194,\n",
       " 195,\n",
       " 196,\n",
       " 197,\n",
       " 198,\n",
       " 199,\n",
       " 200,\n",
       " 201,\n",
       " 202,\n",
       " 203,\n",
       " 204,\n",
       " 205,\n",
       " 206,\n",
       " 207,\n",
       " 208,\n",
       " 209,\n",
       " 210,\n",
       " 211,\n",
       " 212,\n",
       " 213,\n",
       " 214,\n",
       " 215,\n",
       " 216,\n",
       " 217,\n",
       " 218,\n",
       " 219,\n",
       " 220,\n",
       " 221,\n",
       " 222,\n",
       " 223,\n",
       " 224,\n",
       " 225,\n",
       " 226,\n",
       " 227,\n",
       " 228,\n",
       " 229,\n",
       " 230,\n",
       " 231,\n",
       " 232,\n",
       " 233,\n",
       " 234,\n",
       " 235,\n",
       " 236,\n",
       " 237,\n",
       " 238,\n",
       " 239,\n",
       " 240,\n",
       " 241,\n",
       " 242,\n",
       " 243,\n",
       " 244,\n",
       " 245,\n",
       " 246,\n",
       " 247,\n",
       " 248,\n",
       " 249,\n",
       " 250,\n",
       " 251,\n",
       " 252,\n",
       " 253]"
      ]
     },
     "execution_count": 27,
     "metadata": {},
     "output_type": "execute_result"
    }
   ],
   "source": [
    "k"
   ]
  },
  {
   "cell_type": "code",
   "execution_count": 33,
   "metadata": {},
   "outputs": [],
   "source": [
    "SB_code = 426177001\n",
    "SR_code = 426783006\n",
    "ST_code = 427084000"
   ]
  },
  {
   "cell_type": "code",
   "execution_count": 37,
   "metadata": {},
   "outputs": [
    {
     "name": "stdout",
     "output_type": "stream",
     "text": [
      "done done\n"
     ]
    }
   ],
   "source": [
    "SB_code = 426177001\n",
    "SR_code = 426783006\n",
    "ST_code = 427084000\n",
    "\n",
    "disease_SB = disease_categorization(SB_code)\n",
    "disease_SB_cut = disease_SB[0:5000]\n",
    "data = asarray(disease_SB_cut)\n",
    "save('disease_SB.npy', data)\n",
    "\n",
    "\n",
    "\n",
    "disease_SR = disease_categorization(SR_code)\n",
    "disease_SR_cut = disease_SR[0:5000]\n",
    "data = asarray(disease_SR_cut)\n",
    "save('disease_SR.npy', data)\n",
    "\n",
    "\n",
    "disease_ST = disease_categorization(ST_code)\n",
    "disease_ST_cut = disease_ST[0:5000]\n",
    "data = asarray(disease_ST_cut)\n",
    "save('disease_ST.npy', data)\n",
    "\n",
    "\n",
    "\n",
    "\n",
    "\n",
    "\n",
    "print(\"done done\")"
   ]
  }
 ],
 "metadata": {
  "kernelspec": {
   "display_name": "Python 3",
   "language": "python",
   "name": "python3"
  },
  "language_info": {
   "codemirror_mode": {
    "name": "ipython",
    "version": 3
   },
   "file_extension": ".py",
   "mimetype": "text/x-python",
   "name": "python",
   "nbconvert_exporter": "python",
   "pygments_lexer": "ipython3",
   "version": "3.10.12"
  }
 },
 "nbformat": 4,
 "nbformat_minor": 2
}
