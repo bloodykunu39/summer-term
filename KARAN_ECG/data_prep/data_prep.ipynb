{
 "cells": [
  {
   "cell_type": "code",
   "execution_count": 19,
   "metadata": {},
   "outputs": [],
   "source": [
    "import pandas as pd\n",
    "from scipy.io import loadmat\n",
    "import wfdb\n",
    "import numpy as np\n",
    "import os\n",
    "\n",
    "from numpy import asarray\n",
    "from numpy import save"
   ]
  },
  {
   "cell_type": "code",
   "execution_count": 20,
   "metadata": {},
   "outputs": [],
   "source": [
    "import requests\n",
    "import zipfile\n",
    "from pathlib import Path\n"
   ]
  },
  {
   "cell_type": "markdown",
   "metadata": {},
   "source": [
    "### download data"
   ]
  },
  {
   "cell_type": "code",
   "execution_count": 21,
   "metadata": {},
   "outputs": [
    {
     "data": {
      "text/plain": [
       "'data_path = Path(\"data\")\\nimage_path = data_path / \"12_lead_ECG_images\"\\nif image_path.is_dir():\\n    print(f\"{image_path} directory exists.\")\\nelse:\\n    print(f\"Did not find {image_path} directory, creating one...\")\\n    image_path.mkdir(parents=True, exist_ok=True)\\n'"
      ]
     },
     "execution_count": 21,
     "metadata": {},
     "output_type": "execute_result"
    }
   ],
   "source": [
    "\"\"\"data_path = Path(\"data\")\n",
    "image_path = data_path / \"12_lead_ECG_images\"\n",
    "if image_path.is_dir():\n",
    "    print(f\"{image_path} directory exists.\")\n",
    "else:\n",
    "    print(f\"Did not find {image_path} directory, creating one...\")\n",
    "    image_path.mkdir(parents=True, exist_ok=True)\n",
    "\"\"\""
   ]
  },
  {
   "cell_type": "code",
   "execution_count": 22,
   "metadata": {},
   "outputs": [
    {
     "data": {
      "text/plain": [
       "'import requests\\nfrom tqdm import tqdm\\n\\nresponse = requests.get(\"https://physionet.org/static/published-projects/ecg-arrhythmia/a-large-scale-12-lead-electrocardiogram-database-for-arrhythmia-study-1.0.0.zip\", stream=True)\\n\\n# Total size in bytes.\\ntotal_size = int(response.headers.get(\\'content-length\\', 0))\\nblock_size = 1024 #1 Kibibyte\\n\\nt=tqdm(total=total_size, unit=\\'iB\\', unit_scale=True)\\n\\nwith open(data_path / \"12_lead_ECG_images.zip\", \"wb\") as f:\\n    for data in response.iter_content(block_size):\\n        t.update(len(data))\\n        f.write(data)\\nt.close()\\n\\nif total_size != 0 and t.n != total_size:\\n    print(\"ERROR, something went wrong\")'"
      ]
     },
     "execution_count": 22,
     "metadata": {},
     "output_type": "execute_result"
    }
   ],
   "source": [
    "# for downloading the data\n",
    "\"\"\"import requests\n",
    "from tqdm import tqdm\n",
    "\n",
    "response = requests.get(\"https://physionet.org/static/published-projects/ecg-arrhythmia/a-large-scale-12-lead-electrocardiogram-database-for-arrhythmia-study-1.0.0.zip\", stream=True)\n",
    "\n",
    "# Total size in bytes.\n",
    "total_size = int(response.headers.get('content-length', 0))\n",
    "block_size = 1024 #1 Kibibyte\n",
    "\n",
    "t=tqdm(total=total_size, unit='iB', unit_scale=True)\n",
    "\n",
    "with open(data_path / \"12_lead_ECG_images.zip\", \"wb\") as f:\n",
    "    for data in response.iter_content(block_size):\n",
    "        t.update(len(data))\n",
    "        f.write(data)\n",
    "t.close()\n",
    "\n",
    "if total_size != 0 and t.n != total_size:\n",
    "    print(\"ERROR, something went wrong\")\"\"\""
   ]
  },
  {
   "cell_type": "markdown",
   "metadata": {},
   "source": [
    "### annalysing data"
   ]
  },
  {
   "cell_type": "code",
   "execution_count": 23,
   "metadata": {},
   "outputs": [],
   "source": [
    "path= \"data/a-large-scale-12-lead-electrocardiogram-database-for-arrhythmia-study-1.0.0/WFDBRecords\""
   ]
  },
  {
   "cell_type": "code",
   "execution_count": 24,
   "metadata": {},
   "outputs": [
    {
     "data": {
      "text/plain": [
       "'c:\\\\Users\\\\karan\\\\OneDrive - Indian Institute of Science\\\\Desktop\\\\summer term\\\\KARAN_ECG\\\\data_prep'"
      ]
     },
     "execution_count": 24,
     "metadata": {},
     "output_type": "execute_result"
    }
   ],
   "source": [
    "os.getcwd()"
   ]
  },
  {
   "cell_type": "code",
   "execution_count": 25,
   "metadata": {},
   "outputs": [
    {
     "data": {
      "text/plain": [
       "['01',\n",
       " '02',\n",
       " '03',\n",
       " '04',\n",
       " '05',\n",
       " '06',\n",
       " '07',\n",
       " '08',\n",
       " '09',\n",
       " '10',\n",
       " '11',\n",
       " '12',\n",
       " '13',\n",
       " '14',\n",
       " '15',\n",
       " '16',\n",
       " '17',\n",
       " '18',\n",
       " '19',\n",
       " '20',\n",
       " '21',\n",
       " '22',\n",
       " '23',\n",
       " '24',\n",
       " '25',\n",
       " '26',\n",
       " '27',\n",
       " '28',\n",
       " '29',\n",
       " '30',\n",
       " '31',\n",
       " '32',\n",
       " '33',\n",
       " '34',\n",
       " '35',\n",
       " '36',\n",
       " '37',\n",
       " '38',\n",
       " '39',\n",
       " '40',\n",
       " '41',\n",
       " '42',\n",
       " '43',\n",
       " '44',\n",
       " '45',\n",
       " '46']"
      ]
     },
     "execution_count": 25,
     "metadata": {},
     "output_type": "execute_result"
    }
   ],
   "source": [
    "path_1_list = os.listdir(path)\n",
    "path_1_list"
   ]
  },
  {
   "cell_type": "code",
   "execution_count": 11,
   "metadata": {},
   "outputs": [
    {
     "data": {
      "text/plain": [
       "(array([[-0.059, -0.039,  0.02 , ...,  0.   ,  0.01 , -0.059],\n",
       "        [-0.059, -0.039,  0.02 , ...,  0.   ,  0.01 , -0.059],\n",
       "        [-0.059, -0.039,  0.02 , ...,  0.   ,  0.01 , -0.059],\n",
       "        ...,\n",
       "        [ 0.415,  0.244, -0.171, ...,  0.156,  0.327,  0.01 ],\n",
       "        [ 0.415,  0.249, -0.166, ...,  0.176,  0.327,  0.005],\n",
       "        [ 0.439,  0.259, -0.181, ...,  0.171,  0.332, -0.005]]),\n",
       " {'fs': 500,\n",
       "  'sig_len': 5000,\n",
       "  'n_sig': 12,\n",
       "  'base_date': None,\n",
       "  'base_time': None,\n",
       "  'units': ['mV',\n",
       "   'mV',\n",
       "   'mV',\n",
       "   'mV',\n",
       "   'mV',\n",
       "   'mV',\n",
       "   'mV',\n",
       "   'mV',\n",
       "   'mV',\n",
       "   'mV',\n",
       "   'mV',\n",
       "   'mV'],\n",
       "  'sig_name': ['I',\n",
       "   'II',\n",
       "   'III',\n",
       "   'aVR',\n",
       "   'aVL',\n",
       "   'aVF',\n",
       "   'V1',\n",
       "   'V2',\n",
       "   'V3',\n",
       "   'V4',\n",
       "   'V5',\n",
       "   'V6'],\n",
       "  'comments': ['Age: 61',\n",
       "   'Sex: Male',\n",
       "   'Dx: 426177001,59118001',\n",
       "   'Rx: Unknown',\n",
       "   'Hx: Unknown',\n",
       "   'Sx: Unknown']})"
      ]
     },
     "execution_count": 11,
     "metadata": {},
     "output_type": "execute_result"
    }
   ],
   "source": [
    "# what we are going to do in disease_categorisation fxn\n",
    "data = wfdb.rdsamp(\"data/a-large-scale-12-lead-electrocardiogram-database-for-arrhythmia-study-1.0.0/WFDBRecords/01/010/JS00018\")# \n",
    "data"
   ]
  },
  {
   "cell_type": "code",
   "execution_count": 12,
   "metadata": {},
   "outputs": [
    {
     "data": {
      "text/plain": [
       "['Age: 61',\n",
       " 'Sex: Male',\n",
       " 'Dx: 426177001,59118001',\n",
       " 'Rx: Unknown',\n",
       " 'Hx: Unknown',\n",
       " 'Sx: Unknown']"
      ]
     },
     "execution_count": 12,
     "metadata": {},
     "output_type": "execute_result"
    }
   ],
   "source": [
    "data[1]['comments']"
   ]
  },
  {
   "cell_type": "code",
   "execution_count": 13,
   "metadata": {},
   "outputs": [
    {
     "data": {
      "text/plain": [
       "'Dx: 426177001,59118001'"
      ]
     },
     "execution_count": 13,
     "metadata": {},
     "output_type": "execute_result"
    }
   ],
   "source": [
    "data[1]['comments'][2]"
   ]
  },
  {
   "cell_type": "code",
   "execution_count": 14,
   "metadata": {},
   "outputs": [
    {
     "data": {
      "text/plain": [
       "'426177001,59118001'"
      ]
     },
     "execution_count": 14,
     "metadata": {},
     "output_type": "execute_result"
    }
   ],
   "source": [
    "data[1]['comments'][2].split()[1]"
   ]
  },
  {
   "cell_type": "code",
   "execution_count": 15,
   "metadata": {},
   "outputs": [
    {
     "data": {
      "text/plain": [
       "['426177001', '59118001']"
      ]
     },
     "execution_count": 15,
     "metadata": {},
     "output_type": "execute_result"
    }
   ],
   "source": [
    "data[1]['comments'][2].split()[1].split(',')#disease_codes(data) output"
   ]
  },
  {
   "cell_type": "code",
   "execution_count": 16,
   "metadata": {},
   "outputs": [
    {
     "data": {
      "text/plain": [
       "(5000, 12)"
      ]
     },
     "execution_count": 16,
     "metadata": {},
     "output_type": "execute_result"
    }
   ],
   "source": [
    "data[0].shape #### every ecg has 12 leads and 5000 points"
   ]
  },
  {
   "cell_type": "markdown",
   "metadata": {},
   "source": [
    "## function defines"
   ]
  },
  {
   "cell_type": "code",
   "execution_count": 17,
   "metadata": {},
   "outputs": [],
   "source": [
    "def disease_codes(data):\n",
    "    disease_codes = data[1]['comments'][2].split()[1].split(',')\n",
    "    return disease_codes\n",
    "\n",
    "def disease_categorization(code):\n",
    "                           #path_1_list:list,path : str):\n",
    "    \"\"\"we have some disease codes named code and we have to check in file eg: WFDBRecords/01/010/JS00018 file\n",
    "    if data[1]['comments'][2].split()[1].split(',') contain the code then we have to append the data[0] to the list\"\"\"\n",
    "    disease_list = []\n",
    "    for i in range(len(path_1_list)):\n",
    "        path_1 = path_1_list[i]#path_1 is the folder name inside the WFDBRecords\n",
    "        relative_path_1 = path+'/'+path_1\n",
    "        path_2_list = os.listdir(relative_path_1)#list of folder in the path_1\n",
    "\n",
    "\n",
    "        for j in range(len(path_2_list)):# checking each folder in the path_1\n",
    "            path_2 = path_2_list[j]\n",
    "\n",
    "\n",
    "            path_to_dir = relative_path_1 + '/' + path_2 + '/'\n",
    "\n",
    "            records = open(path_to_dir+'RECORDS','r').read().split()#WFDBRecords/path1/path2/RECORDS\n",
    "            # reocords is a list of all the records in the path2 folder\n",
    "\n",
    "            for k in range(len(records)):\n",
    "                \"\"\" uncomment the commented paart to see which fie is currupted\"\"\"\n",
    "                # print(path_1_list[i],path_2_list[j],records[k])\n",
    "                # print(path_to_dir+'RECORDS')\n",
    "                data = wfdb.rdsamp(path_to_dir+records[k])# explained above\n",
    "                disease_codes_ = disease_codes(data)# return the desease codes of the record AS SHOWN ABOVE\n",
    "\n",
    "                for l in range(len(disease_codes_)):\n",
    "                    if disease_codes_[l] == str(code):# if the code is in the disease codes of the record\n",
    "\n",
    "                        disease_list.append(data[0])\n",
    "                \n",
    "\n",
    "    \n",
    "    return disease_list\n",
    "\n"
   ]
  },
  {
   "cell_type": "code",
   "execution_count": 18,
   "metadata": {},
   "outputs": [],
   "source": [
    "path_to_disease_codes = 'data/a-large-scale-12-lead-electrocardiogram-database-for-arrhythmia-study-1.0.0/ConditionNames_SNOMED-CT.csv'\n",
    "# it is a csv file containing the disease codes and their names\n",
    "disease_codes_list = pd.DataFrame(pd.read_csv(path_to_disease_codes))"
   ]
  },
  {
   "cell_type": "code",
   "execution_count": 19,
   "metadata": {},
   "outputs": [
    {
     "data": {
      "text/html": [
       "<div>\n",
       "<style scoped>\n",
       "    .dataframe tbody tr th:only-of-type {\n",
       "        vertical-align: middle;\n",
       "    }\n",
       "\n",
       "    .dataframe tbody tr th {\n",
       "        vertical-align: top;\n",
       "    }\n",
       "\n",
       "    .dataframe thead th {\n",
       "        text-align: right;\n",
       "    }\n",
       "</style>\n",
       "<table border=\"1\" class=\"dataframe\">\n",
       "  <thead>\n",
       "    <tr style=\"text-align: right;\">\n",
       "      <th></th>\n",
       "      <th>Acronym Name</th>\n",
       "      <th>Full Name</th>\n",
       "      <th>Snomed_CT</th>\n",
       "    </tr>\n",
       "  </thead>\n",
       "  <tbody>\n",
       "    <tr>\n",
       "      <th>0</th>\n",
       "      <td>1AVB</td>\n",
       "      <td>1 degree atrioventricular block</td>\n",
       "      <td>270492004</td>\n",
       "    </tr>\n",
       "    <tr>\n",
       "      <th>1</th>\n",
       "      <td>2AVB</td>\n",
       "      <td>2 degree atrioventricular block</td>\n",
       "      <td>195042002</td>\n",
       "    </tr>\n",
       "    <tr>\n",
       "      <th>2</th>\n",
       "      <td>2AVB1</td>\n",
       "      <td>2 degree atrioventricular block(Type one)</td>\n",
       "      <td>54016002</td>\n",
       "    </tr>\n",
       "    <tr>\n",
       "      <th>3</th>\n",
       "      <td>2AVB2</td>\n",
       "      <td>2 degree atrioventricular block(Type two)</td>\n",
       "      <td>28189009</td>\n",
       "    </tr>\n",
       "    <tr>\n",
       "      <th>4</th>\n",
       "      <td>3AVB</td>\n",
       "      <td>3 degree atrioventricular block</td>\n",
       "      <td>27885002</td>\n",
       "    </tr>\n",
       "    <tr>\n",
       "      <th>...</th>\n",
       "      <td>...</td>\n",
       "      <td>...</td>\n",
       "      <td>...</td>\n",
       "    </tr>\n",
       "    <tr>\n",
       "      <th>58</th>\n",
       "      <td>SVT</td>\n",
       "      <td>Supraventricular Tachycardia</td>\n",
       "      <td>426761007</td>\n",
       "    </tr>\n",
       "    <tr>\n",
       "      <th>59</th>\n",
       "      <td>AT</td>\n",
       "      <td>Atrial Tachycardia</td>\n",
       "      <td>713422000</td>\n",
       "    </tr>\n",
       "    <tr>\n",
       "      <th>60</th>\n",
       "      <td>AVNRT</td>\n",
       "      <td>Atrioventricular  Node Reentrant Tachycardia</td>\n",
       "      <td>233896004</td>\n",
       "    </tr>\n",
       "    <tr>\n",
       "      <th>61</th>\n",
       "      <td>AVRT</td>\n",
       "      <td>Atrioventricular Reentrant Tachycardia</td>\n",
       "      <td>233897008</td>\n",
       "    </tr>\n",
       "    <tr>\n",
       "      <th>62</th>\n",
       "      <td>SAAWR</td>\n",
       "      <td>Sinus Atrium to Atrial Wandering Rhythm</td>\n",
       "      <td>195101003</td>\n",
       "    </tr>\n",
       "  </tbody>\n",
       "</table>\n",
       "<p>63 rows × 3 columns</p>\n",
       "</div>"
      ],
      "text/plain": [
       "   Acronym Name                                     Full Name  Snomed_CT\n",
       "0          1AVB               1 degree atrioventricular block  270492004\n",
       "1          2AVB               2 degree atrioventricular block  195042002\n",
       "2         2AVB1     2 degree atrioventricular block(Type one)   54016002\n",
       "3         2AVB2     2 degree atrioventricular block(Type two)   28189009\n",
       "4          3AVB               3 degree atrioventricular block   27885002\n",
       "..          ...                                           ...        ...\n",
       "58          SVT                  Supraventricular Tachycardia  426761007\n",
       "59           AT                            Atrial Tachycardia  713422000\n",
       "60        AVNRT  Atrioventricular  Node Reentrant Tachycardia  233896004\n",
       "61         AVRT        Atrioventricular Reentrant Tachycardia  233897008\n",
       "62        SAAWR       Sinus Atrium to Atrial Wandering Rhythm  195101003\n",
       "\n",
       "[63 rows x 3 columns]"
      ]
     },
     "execution_count": 19,
     "metadata": {},
     "output_type": "execute_result"
    }
   ],
   "source": [
    "disease_codes_list\n",
    "#snomed_ct is the disease code\n",
    "# acronym is the name of the disease"
   ]
  },
  {
   "cell_type": "markdown",
   "metadata": {},
   "source": []
  },
  {
   "cell_type": "code",
   "execution_count": 17,
   "metadata": {},
   "outputs": [
    {
     "name": "stderr",
     "output_type": "stream",
     "text": [
      "Processing disease codes:   0%|          | 0/63 [00:00<?, ?it/s]"
     ]
    },
    {
     "name": "stdout",
     "output_type": "stream",
     "text": [
      "270492004\n"
     ]
    },
    {
     "name": "stderr",
     "output_type": "stream",
     "text": [
      "Processing disease codes:   2%|▏         | 1/63 [01:03<1:05:16, 63.16s/it]"
     ]
    },
    {
     "name": "stdout",
     "output_type": "stream",
     "text": [
      "1140\n",
      "195042002\n"
     ]
    },
    {
     "name": "stderr",
     "output_type": "stream",
     "text": [
      "Processing disease codes:   3%|▎         | 2/63 [01:51<55:35, 54.68s/it]  "
     ]
    },
    {
     "name": "stdout",
     "output_type": "stream",
     "text": [
      "66\n",
      "54016002\n"
     ]
    },
    {
     "name": "stderr",
     "output_type": "stream",
     "text": [
      "Processing disease codes:   5%|▍         | 3/63 [02:40<51:59, 51.99s/it]"
     ]
    },
    {
     "name": "stdout",
     "output_type": "stream",
     "text": [
      "31\n",
      "28189009\n"
     ]
    },
    {
     "name": "stderr",
     "output_type": "stream",
     "text": [
      "Processing disease codes:   6%|▋         | 4/63 [03:29<49:45, 50.59s/it]"
     ]
    },
    {
     "name": "stdout",
     "output_type": "stream",
     "text": [
      "0\n",
      "27885002\n"
     ]
    },
    {
     "name": "stderr",
     "output_type": "stream",
     "text": [
      "Processing disease codes:   8%|▊         | 5/63 [04:17<48:10, 49.84s/it]"
     ]
    },
    {
     "name": "stdout",
     "output_type": "stream",
     "text": [
      "76\n",
      "251173003\n"
     ]
    },
    {
     "name": "stderr",
     "output_type": "stream",
     "text": [
      "Processing disease codes:  10%|▉         | 6/63 [05:05<46:51, 49.33s/it]"
     ]
    },
    {
     "name": "stdout",
     "output_type": "stream",
     "text": [
      "3\n",
      "39732003\n"
     ]
    },
    {
     "name": "stderr",
     "output_type": "stream",
     "text": [
      "Processing disease codes:  11%|█         | 7/63 [05:54<45:43, 48.99s/it]"
     ]
    },
    {
     "name": "stdout",
     "output_type": "stream",
     "text": [
      "1545\n",
      "284470004\n"
     ]
    },
    {
     "name": "stderr",
     "output_type": "stream",
     "text": [
      "Processing disease codes:  13%|█▎        | 8/63 [06:42<44:36, 48.66s/it]"
     ]
    },
    {
     "name": "stdout",
     "output_type": "stream",
     "text": [
      "1312\n",
      "164917005\n"
     ]
    },
    {
     "name": "stderr",
     "output_type": "stream",
     "text": [
      "Processing disease codes:  14%|█▍        | 9/63 [07:31<43:49, 48.70s/it]"
     ]
    },
    {
     "name": "stdout",
     "output_type": "stream",
     "text": [
      "1063\n",
      "47665007\n"
     ]
    },
    {
     "name": "stderr",
     "output_type": "stream",
     "text": [
      "Processing disease codes:  16%|█▌        | 10/63 [08:19<42:53, 48.55s/it]"
     ]
    },
    {
     "name": "stdout",
     "output_type": "stream",
     "text": [
      "853\n",
      "233917008\n"
     ]
    },
    {
     "name": "stderr",
     "output_type": "stream",
     "text": [
      "Processing disease codes:  17%|█▋        | 11/63 [09:08<42:08, 48.62s/it]"
     ]
    },
    {
     "name": "stdout",
     "output_type": "stream",
     "text": [
      "244\n",
      "251199005\n"
     ]
    },
    {
     "name": "stderr",
     "output_type": "stream",
     "text": [
      "Processing disease codes:  19%|█▉        | 12/63 [09:56<41:14, 48.53s/it]"
     ]
    },
    {
     "name": "stdout",
     "output_type": "stream",
     "text": [
      "162\n",
      "251198002\n"
     ]
    },
    {
     "name": "stderr",
     "output_type": "stream",
     "text": [
      "Processing disease codes:  21%|██        | 13/63 [10:44<40:19, 48.40s/it]"
     ]
    },
    {
     "name": "stdout",
     "output_type": "stream",
     "text": [
      "76\n",
      "428417006\n"
     ]
    },
    {
     "name": "stderr",
     "output_type": "stream",
     "text": [
      "Processing disease codes:  22%|██▏       | 14/63 [11:31<39:18, 48.14s/it]"
     ]
    },
    {
     "name": "stdout",
     "output_type": "stream",
     "text": [
      "366\n",
      "164942001\n"
     ]
    },
    {
     "name": "stderr",
     "output_type": "stream",
     "text": [
      "Processing disease codes:  24%|██▍       | 15/63 [12:19<38:25, 48.04s/it]"
     ]
    },
    {
     "name": "stdout",
     "output_type": "stream",
     "text": [
      "3\n",
      "698252002\n"
     ]
    },
    {
     "name": "stderr",
     "output_type": "stream",
     "text": [
      "Processing disease codes:  25%|██▌       | 16/63 [13:07<37:29, 47.86s/it]"
     ]
    },
    {
     "name": "stdout",
     "output_type": "stream",
     "text": [
      "771\n",
      "698252002\n"
     ]
    },
    {
     "name": "stderr",
     "output_type": "stream",
     "text": [
      "Processing disease codes:  27%|██▋       | 17/63 [13:55<36:53, 48.12s/it]"
     ]
    },
    {
     "name": "stdout",
     "output_type": "stream",
     "text": [
      "771\n",
      "426995002\n"
     ]
    },
    {
     "name": "stderr",
     "output_type": "stream",
     "text": [
      "Processing disease codes:  29%|██▊       | 18/63 [14:45<36:18, 48.40s/it]"
     ]
    },
    {
     "name": "stdout",
     "output_type": "stream",
     "text": [
      "75\n",
      "251164006\n"
     ]
    },
    {
     "name": "stderr",
     "output_type": "stream",
     "text": [
      "Processing disease codes:  30%|███       | 19/63 [15:34<35:37, 48.59s/it]"
     ]
    },
    {
     "name": "stdout",
     "output_type": "stream",
     "text": [
      "11\n",
      "164909002\n"
     ]
    },
    {
     "name": "stderr",
     "output_type": "stream",
     "text": [
      "Processing disease codes:  32%|███▏      | 20/63 [16:22<34:47, 48.56s/it]"
     ]
    },
    {
     "name": "stdout",
     "output_type": "stream",
     "text": [
      "240\n",
      "164909002\n"
     ]
    },
    {
     "name": "stderr",
     "output_type": "stream",
     "text": [
      "Processing disease codes:  33%|███▎      | 21/63 [17:11<33:59, 48.57s/it]"
     ]
    },
    {
     "name": "stdout",
     "output_type": "stream",
     "text": [
      "240\n",
      "164909002\n"
     ]
    },
    {
     "name": "stderr",
     "output_type": "stream",
     "text": [
      "Processing disease codes:  35%|███▍      | 22/63 [17:59<33:06, 48.46s/it]"
     ]
    },
    {
     "name": "stdout",
     "output_type": "stream",
     "text": [
      "240\n",
      "164873001\n"
     ]
    },
    {
     "name": "stderr",
     "output_type": "stream",
     "text": [
      "Processing disease codes:  37%|███▋      | 23/63 [18:47<32:18, 48.45s/it]"
     ]
    },
    {
     "name": "stdout",
     "output_type": "stream",
     "text": [
      "647\n",
      "251146004\n"
     ]
    },
    {
     "name": "stderr",
     "output_type": "stream",
     "text": [
      "Processing disease codes:  38%|███▊      | 24/63 [19:36<31:27, 48.41s/it]"
     ]
    },
    {
     "name": "stdout",
     "output_type": "stream",
     "text": [
      "1043\n",
      "251148003\n"
     ]
    },
    {
     "name": "stderr",
     "output_type": "stream",
     "text": [
      "Processing disease codes:  40%|███▉      | 25/63 [20:24<30:36, 48.34s/it]"
     ]
    },
    {
     "name": "stdout",
     "output_type": "stream",
     "text": [
      "0\n",
      "251147008\n"
     ]
    },
    {
     "name": "stderr",
     "output_type": "stream",
     "text": [
      "Processing disease codes:  41%|████▏     | 26/63 [21:12<29:51, 48.43s/it]"
     ]
    },
    {
     "name": "stdout",
     "output_type": "stream",
     "text": [
      "0\n",
      "164865005\n"
     ]
    },
    {
     "name": "stderr",
     "output_type": "stream",
     "text": [
      "Processing disease codes:  43%|████▎     | 27/63 [22:01<29:01, 48.37s/it]"
     ]
    },
    {
     "name": "stdout",
     "output_type": "stream",
     "text": [
      "123\n",
      "164865005\n"
     ]
    },
    {
     "name": "stderr",
     "output_type": "stream",
     "text": [
      "Processing disease codes:  44%|████▍     | 28/63 [22:49<28:15, 48.43s/it]"
     ]
    },
    {
     "name": "stdout",
     "output_type": "stream",
     "text": [
      "123\n",
      "164865005\n"
     ]
    },
    {
     "name": "stderr",
     "output_type": "stream",
     "text": [
      "Processing disease codes:  46%|████▌     | 29/63 [23:37<27:20, 48.24s/it]"
     ]
    },
    {
     "name": "stdout",
     "output_type": "stream",
     "text": [
      "123\n",
      "164865005\n"
     ]
    },
    {
     "name": "stderr",
     "output_type": "stream",
     "text": [
      "Processing disease codes:  48%|████▊     | 30/63 [24:25<26:32, 48.26s/it]"
     ]
    },
    {
     "name": "stdout",
     "output_type": "stream",
     "text": [
      "123\n",
      "164865005\n"
     ]
    },
    {
     "name": "stderr",
     "output_type": "stream",
     "text": [
      "Processing disease codes:  49%|████▉     | 31/63 [25:13<25:38, 48.08s/it]"
     ]
    },
    {
     "name": "stdout",
     "output_type": "stream",
     "text": [
      "123\n",
      "164947007\n"
     ]
    },
    {
     "name": "stderr",
     "output_type": "stream",
     "text": [
      "Processing disease codes:  51%|█████     | 32/63 [26:01<24:49, 48.04s/it]"
     ]
    },
    {
     "name": "stdout",
     "output_type": "stream",
     "text": [
      "52\n",
      "164912004\n"
     ]
    },
    {
     "name": "stderr",
     "output_type": "stream",
     "text": [
      "Processing disease codes:  52%|█████▏    | 33/63 [26:49<24:00, 48.02s/it]"
     ]
    },
    {
     "name": "stdout",
     "output_type": "stream",
     "text": [
      "142\n",
      "111975006\n"
     ]
    },
    {
     "name": "stderr",
     "output_type": "stream",
     "text": [
      "Processing disease codes:  54%|█████▍    | 34/63 [27:38<23:19, 48.24s/it]"
     ]
    },
    {
     "name": "stdout",
     "output_type": "stream",
     "text": [
      "394\n",
      "446358003\n"
     ]
    },
    {
     "name": "stderr",
     "output_type": "stream",
     "text": [
      "Processing disease codes:  56%|█████▌    | 35/63 [28:26<22:30, 48.23s/it]"
     ]
    },
    {
     "name": "stdout",
     "output_type": "stream",
     "text": [
      "36\n",
      "59118001\n"
     ]
    },
    {
     "name": "stderr",
     "output_type": "stream",
     "text": [
      "Processing disease codes:  57%|█████▋    | 36/63 [29:14<21:41, 48.20s/it]"
     ]
    },
    {
     "name": "stdout",
     "output_type": "stream",
     "text": [
      "649\n",
      "89792004\n"
     ]
    },
    {
     "name": "stderr",
     "output_type": "stream",
     "text": [
      "Processing disease codes:  59%|█████▊    | 37/63 [30:02<20:55, 48.27s/it]"
     ]
    },
    {
     "name": "stdout",
     "output_type": "stream",
     "text": [
      "110\n",
      "429622005\n"
     ]
    },
    {
     "name": "stderr",
     "output_type": "stream",
     "text": [
      "Processing disease codes:  60%|██████    | 38/63 [30:51<20:11, 48.45s/it]"
     ]
    },
    {
     "name": "stdout",
     "output_type": "stream",
     "text": [
      "1668\n",
      "164930006\n"
     ]
    },
    {
     "name": "stderr",
     "output_type": "stream",
     "text": [
      "Processing disease codes:  62%|██████▏   | 39/63 [31:40<19:21, 48.40s/it]"
     ]
    },
    {
     "name": "stdout",
     "output_type": "stream",
     "text": [
      "801\n",
      "428750005\n"
     ]
    },
    {
     "name": "stderr",
     "output_type": "stream",
     "text": [
      "Processing disease codes:  63%|██████▎   | 40/63 [32:28<18:34, 48.45s/it]"
     ]
    },
    {
     "name": "stdout",
     "output_type": "stream",
     "text": [
      "1158\n",
      "164931005\n"
     ]
    },
    {
     "name": "stderr",
     "output_type": "stream",
     "text": [
      "Processing disease codes:  65%|██████▌   | 41/63 [33:16<17:43, 48.35s/it]"
     ]
    },
    {
     "name": "stdout",
     "output_type": "stream",
     "text": [
      "176\n",
      "164934002\n"
     ]
    },
    {
     "name": "stderr",
     "output_type": "stream",
     "text": [
      "Processing disease codes:  67%|██████▋   | 42/63 [34:06<17:02, 48.68s/it]"
     ]
    },
    {
     "name": "stdout",
     "output_type": "stream",
     "text": [
      "7043\n",
      "59931005\n"
     ]
    },
    {
     "name": "stderr",
     "output_type": "stream",
     "text": [
      "Processing disease codes:  68%|██████▊   | 43/63 [34:54<16:13, 48.66s/it]"
     ]
    },
    {
     "name": "stdout",
     "output_type": "stream",
     "text": [
      "2877\n",
      "164937009\n"
     ]
    },
    {
     "name": "stderr",
     "output_type": "stream",
     "text": [
      "Processing disease codes:  70%|██████▉   | 44/63 [35:43<15:23, 48.59s/it]"
     ]
    },
    {
     "name": "stdout",
     "output_type": "stream",
     "text": [
      "136\n",
      "11157007\n"
     ]
    },
    {
     "name": "stderr",
     "output_type": "stream",
     "text": [
      "Processing disease codes:  71%|███████▏  | 45/63 [36:31<14:33, 48.54s/it]"
     ]
    },
    {
     "name": "stdout",
     "output_type": "stream",
     "text": [
      "3\n",
      "75532003\n"
     ]
    },
    {
     "name": "stderr",
     "output_type": "stream",
     "text": [
      "Processing disease codes:  73%|███████▎  | 46/63 [37:20<13:44, 48.50s/it]"
     ]
    },
    {
     "name": "stdout",
     "output_type": "stream",
     "text": [
      "56\n",
      "13640000\n"
     ]
    },
    {
     "name": "stderr",
     "output_type": "stream",
     "text": [
      "Processing disease codes:  75%|███████▍  | 47/63 [38:08<12:54, 48.38s/it]"
     ]
    },
    {
     "name": "stdout",
     "output_type": "stream",
     "text": [
      "116\n",
      "17338001\n"
     ]
    },
    {
     "name": "stderr",
     "output_type": "stream",
     "text": [
      "Processing disease codes:  76%|███████▌  | 48/63 [38:56<12:06, 48.44s/it]"
     ]
    },
    {
     "name": "stdout",
     "output_type": "stream",
     "text": [
      "294\n",
      "195060002\n"
     ]
    },
    {
     "name": "stderr",
     "output_type": "stream",
     "text": [
      "Processing disease codes:  78%|███████▊  | 49/63 [39:44<11:15, 48.27s/it]"
     ]
    },
    {
     "name": "stdout",
     "output_type": "stream",
     "text": [
      "12\n",
      "251180001\n"
     ]
    },
    {
     "name": "stderr",
     "output_type": "stream",
     "text": [
      "Processing disease codes:  79%|███████▉  | 50/63 [40:33<10:28, 48.35s/it]"
     ]
    },
    {
     "name": "stdout",
     "output_type": "stream",
     "text": [
      "8\n",
      "195101003\n"
     ]
    },
    {
     "name": "stderr",
     "output_type": "stream",
     "text": [
      "Processing disease codes:  81%|████████  | 51/63 [41:21<09:39, 48.31s/it]"
     ]
    },
    {
     "name": "stdout",
     "output_type": "stream",
     "text": [
      "2\n",
      "74390002\n"
     ]
    },
    {
     "name": "stderr",
     "output_type": "stream",
     "text": [
      "Processing disease codes:  83%|████████▎ | 52/63 [42:09<08:52, 48.41s/it]"
     ]
    },
    {
     "name": "stdout",
     "output_type": "stream",
     "text": [
      "72\n",
      "426177001\n"
     ]
    },
    {
     "name": "stderr",
     "output_type": "stream",
     "text": [
      "Processing disease codes:  84%|████████▍ | 53/63 [43:08<08:33, 51.38s/it]"
     ]
    },
    {
     "name": "stdout",
     "output_type": "stream",
     "text": [
      "16559\n",
      "426783006\n"
     ]
    },
    {
     "name": "stderr",
     "output_type": "stream",
     "text": [
      "Processing disease codes:  86%|████████▌ | 54/63 [43:58<07:38, 50.91s/it]"
     ]
    },
    {
     "name": "stdout",
     "output_type": "stream",
     "text": [
      "8125\n",
      "164889003\n"
     ]
    },
    {
     "name": "stderr",
     "output_type": "stream",
     "text": [
      "Processing disease codes:  87%|████████▋ | 55/63 [44:46<06:41, 50.15s/it]"
     ]
    },
    {
     "name": "stdout",
     "output_type": "stream",
     "text": [
      "1780\n",
      "427084000\n"
     ]
    },
    {
     "name": "stderr",
     "output_type": "stream",
     "text": [
      "Processing disease codes:  89%|████████▉ | 56/63 [45:35<05:48, 49.77s/it]"
     ]
    },
    {
     "name": "stdout",
     "output_type": "stream",
     "text": [
      "7254\n",
      "164890007\n"
     ]
    },
    {
     "name": "stderr",
     "output_type": "stream",
     "text": [
      "Processing disease codes:  90%|█████████ | 57/63 [46:24<04:56, 49.43s/it]"
     ]
    },
    {
     "name": "stdout",
     "output_type": "stream",
     "text": [
      "8060\n",
      "427393009\n"
     ]
    },
    {
     "name": "stderr",
     "output_type": "stream",
     "text": [
      "Processing disease codes:  92%|█████████▏| 58/63 [47:14<04:08, 49.66s/it]"
     ]
    },
    {
     "name": "stdout",
     "output_type": "stream",
     "text": [
      "2550\n",
      "426761007\n"
     ]
    },
    {
     "name": "stderr",
     "output_type": "stream",
     "text": [
      "Processing disease codes:  94%|█████████▎| 59/63 [48:06<03:21, 50.48s/it]"
     ]
    },
    {
     "name": "stdout",
     "output_type": "stream",
     "text": [
      "724\n",
      "713422000\n"
     ]
    },
    {
     "name": "stderr",
     "output_type": "stream",
     "text": [
      "Processing disease codes:  95%|█████████▌| 60/63 [48:56<02:31, 50.41s/it]"
     ]
    },
    {
     "name": "stdout",
     "output_type": "stream",
     "text": [
      "297\n",
      "233896004\n"
     ]
    },
    {
     "name": "stderr",
     "output_type": "stream",
     "text": [
      "Processing disease codes:  97%|█████████▋| 61/63 [49:48<01:41, 50.77s/it]"
     ]
    },
    {
     "name": "stdout",
     "output_type": "stream",
     "text": [
      "0\n",
      "233897008\n"
     ]
    },
    {
     "name": "stderr",
     "output_type": "stream",
     "text": [
      "Processing disease codes:  98%|█████████▊| 62/63 [50:36<00:49, 49.94s/it]"
     ]
    },
    {
     "name": "stdout",
     "output_type": "stream",
     "text": [
      "26\n",
      "195101003\n"
     ]
    },
    {
     "name": "stderr",
     "output_type": "stream",
     "text": [
      "Processing disease codes: 100%|██████████| 63/63 [51:24<00:00, 48.96s/it]"
     ]
    },
    {
     "name": "stdout",
     "output_type": "stream",
     "text": [
      "2\n"
     ]
    },
    {
     "name": "stderr",
     "output_type": "stream",
     "text": [
      "\n"
     ]
    }
   ],
   "source": [
    "from tqdm import tqdm\n",
    "\n",
    "disease_name = disease_codes_list.get('Acronym Name')\n",
    "disease_code = disease_codes_list.get('Snomed_CT')\n",
    "disease_list = []  # IDK what this is for\n",
    "code_list_len = []\n",
    "\n",
    "for code in tqdm(disease_code, desc=\"Processing disease codes\"):\n",
    "    print(code)\n",
    "    cc = disease_categorization(code)\n",
    "    print(len(cc))\n",
    "    disease_list.append(cc)  # list of records for each disease code\n",
    "    code_list_len.append(len(cc))  # how many records are there for each disease code"
   ]
  },
  {
   "cell_type": "code",
   "execution_count": 18,
   "metadata": {},
   "outputs": [
    {
     "data": {
      "text/plain": [
       "[1140,\n",
       " 66,\n",
       " 31,\n",
       " 0,\n",
       " 76,\n",
       " 3,\n",
       " 1545,\n",
       " 1312,\n",
       " 1063,\n",
       " 853,\n",
       " 244,\n",
       " 162,\n",
       " 76,\n",
       " 366,\n",
       " 3,\n",
       " 771,\n",
       " 771,\n",
       " 75,\n",
       " 11,\n",
       " 240,\n",
       " 240,\n",
       " 240,\n",
       " 647,\n",
       " 1043,\n",
       " 0,\n",
       " 0,\n",
       " 123,\n",
       " 123,\n",
       " 123,\n",
       " 123,\n",
       " 123,\n",
       " 52,\n",
       " 142,\n",
       " 394,\n",
       " 36,\n",
       " 649,\n",
       " 110,\n",
       " 1668,\n",
       " 801,\n",
       " 1158,\n",
       " 176,\n",
       " 7043,\n",
       " 2877,\n",
       " 136,\n",
       " 3,\n",
       " 56,\n",
       " 116,\n",
       " 294,\n",
       " 12,\n",
       " 8,\n",
       " 2,\n",
       " 72,\n",
       " 16559,\n",
       " 8125,\n",
       " 1780,\n",
       " 7254,\n",
       " 8060,\n",
       " 2550,\n",
       " 724,\n",
       " 297,\n",
       " 0,\n",
       " 26,\n",
       " 2]"
      ]
     },
     "execution_count": 18,
     "metadata": {},
     "output_type": "execute_result"
    }
   ],
   "source": [
    "code_list_len"
   ]
  },
  {
   "cell_type": "code",
   "execution_count": 19,
   "metadata": {},
   "outputs": [
    {
     "name": "stdout",
     "output_type": "stream",
     "text": [
      "7043\n",
      "TWC\n",
      "164934002 \n",
      "\n",
      "16559\n",
      "SB\n",
      "426177001 \n",
      "\n",
      "8125\n",
      "SR\n",
      "426783006 \n",
      "\n",
      "7254\n",
      "ST\n",
      "427084000 \n",
      "\n",
      "8060\n",
      "AF\n",
      "164890007 \n",
      "\n"
     ]
    }
   ],
   "source": [
    "for items in range(len(code_list_len)):\n",
    "    if code_list_len[items] >= 5000:\n",
    "        print(code_list_len[items])\n",
    "        print(disease_name[items])\n",
    "        print(disease_code[items],\"\\n\")"
   ]
  },
  {
   "cell_type": "markdown",
   "metadata": {},
   "source": [
    "# data save"
   ]
  },
  {
   "cell_type": "code",
   "execution_count": 20,
   "metadata": {},
   "outputs": [],
   "source": [
    "SB_code = 426177001\n",
    "SR_code = 426783006\n",
    "ST_code = 427084000"
   ]
  },
  {
   "cell_type": "code",
   "execution_count": 21,
   "metadata": {},
   "outputs": [
    {
     "name": "stdout",
     "output_type": "stream",
     "text": [
      "1\n",
      "3\n",
      "2\n",
      "done done\n"
     ]
    }
   ],
   "source": [
    "SB_code = 426177001\n",
    "SR_code = 426783006\n",
    "ST_code = 427084000\n",
    "import random\n",
    "\n",
    "disease_SB = disease_categorization(SB_code)\n",
    "disease_SB_cut = disease_SB[0:5000]\n",
    "disease_SB_cut_random=random.sample(disease_SB,5000)\n",
    "data = asarray(disease_SB_cut)\n",
    "data_random = asarray(disease_SB_cut_random)\n",
    "print(1)\n",
    "save('disease_SB.npy', data)\n",
    "print(3)\n",
    "save('disease_SB_random.npy', data_random)\n",
    "print(2)\n",
    "del disease_SB_cut,disease_SB_cut_random,data,data_random\n",
    "\n",
    "disease_SR = disease_categorization(SR_code)\n",
    "disease_SR_cut = disease_SR[0:5000]\n",
    "disease_SR_cut_random=random.sample(disease_SR,5000)\n",
    "data = asarray(disease_SR_cut)\n",
    "data_random = asarray(disease_SR_cut_random)\n",
    "save('disease_SR.npy', data)\n",
    "save('disease_SR_random.npy', data_random)\n",
    "del disease_SR_cut,disease_SR_cut_random,data,data_random\n",
    "\n",
    "\n",
    "disease_ST = disease_categorization(ST_code)\n",
    "disease_ST_cut = disease_ST[0:5000]\n",
    "disease_ST_cut_random=random.sample(disease_ST,5000)\n",
    "data = asarray(disease_ST_cut)\n",
    "data_random = asarray(disease_ST_cut_random)\n",
    "save('disease_ST.npy', data)\n",
    "save('disease_ST_random.npy', data_random)\n",
    "del disease_ST_cut,disease_ST_cut_random,data,data_random\n",
    "\n",
    "\n",
    "\n",
    "\n",
    "\n",
    "\n",
    "print(\"done done\")"
   ]
  },
  {
   "cell_type": "code",
   "execution_count": 2,
   "metadata": {},
   "outputs": [
    {
     "data": {
      "text/plain": [
       "' u can use code_list_len directly by uncommenting '"
      ]
     },
     "execution_count": 2,
     "metadata": {},
     "output_type": "execute_result"
    }
   ],
   "source": [
    "\"\"\" u can use code_list_len directly by uncommenting \"\"\"\n",
    "#code_list_len=[1140,\n",
    "#  66,\n",
    "#  31,\n",
    "#  0,\n",
    "#  76,\n",
    "#  3,\n",
    "#  1545,\n",
    "#  1312,\n",
    "#  1063,\n",
    "#  853,\n",
    "#  244,\n",
    "#  162,\n",
    "#  76,\n",
    "#  366,\n",
    "#  3,\n",
    "#  771,\n",
    "#  771,\n",
    "#  75,\n",
    "#  11,\n",
    "#  240,\n",
    "#  240,\n",
    "#  240,\n",
    "#  647,\n",
    "#  1043,\n",
    "#  0,\n",
    "#  0,\n",
    "#  123,\n",
    "#  123,\n",
    "#  123,\n",
    "#  123,\n",
    "#  123,\n",
    "#  52,\n",
    "#  142,\n",
    "#  394,\n",
    "#  36,\n",
    "#  649,\n",
    "#  110,\n",
    "#  1668,\n",
    "#  801,\n",
    "#  1158,\n",
    "#  176,\n",
    "#  7043,\n",
    "#  2877,\n",
    "#  136,\n",
    "#  3,\n",
    "#  56,\n",
    "#  116,\n",
    "#  294,\n",
    "#  12,\n",
    "#  8,\n",
    "#  2,\n",
    "#  72,\n",
    "#  16559,\n",
    "#  8125,\n",
    "#  1780,\n",
    "#  7254,\n",
    "#  8060,\n",
    "#  2550,\n",
    "#  724,\n",
    "#  297,\n",
    "#  0,\n",
    "#  26,\n",
    "#  2]"
   ]
  }
 ],
 "metadata": {
  "kernelspec": {
   "display_name": "Python 3",
   "language": "python",
   "name": "python3"
  },
  "language_info": {
   "codemirror_mode": {
    "name": "ipython",
    "version": 3
   },
   "file_extension": ".py",
   "mimetype": "text/x-python",
   "name": "python",
   "nbconvert_exporter": "python",
   "pygments_lexer": "ipython3",
   "version": "3.10.12"
  }
 },
 "nbformat": 4,
 "nbformat_minor": 2
}
