{
 "cells": [
  {
   "cell_type": "code",
   "execution_count": 1,
   "metadata": {},
   "outputs": [],
   "source": [
    "import pandas as pd\n",
    "from scipy.io import loadmat\n",
    "import wfdb\n",
    "import numpy as np\n",
    "import os\n",
    "\n",
    "from numpy import asarray\n",
    "from numpy import save"
   ]
  },
  {
   "cell_type": "code",
   "execution_count": 2,
   "metadata": {},
   "outputs": [],
   "source": [
    "import requests\n",
    "import zipfile\n",
    "from pathlib import Path\n"
   ]
  },
  {
   "cell_type": "markdown",
   "metadata": {},
   "source": [
    "### download data"
   ]
  },
  {
   "cell_type": "code",
   "execution_count": 3,
   "metadata": {},
   "outputs": [
    {
     "data": {
      "text/plain": [
       "'data_path = Path(\"data\")\\nimage_path = data_path / \"12_lead_ECG_images\"\\nif image_path.is_dir():\\n    print(f\"{image_path} directory exists.\")\\nelse:\\n    print(f\"Did not find {image_path} directory, creating one...\")\\n    image_path.mkdir(parents=True, exist_ok=True)\\n'"
      ]
     },
     "execution_count": 3,
     "metadata": {},
     "output_type": "execute_result"
    }
   ],
   "source": [
    "\"\"\"data_path = Path(\"data\")\n",
    "image_path = data_path / \"12_lead_ECG_images\"\n",
    "if image_path.is_dir():\n",
    "    print(f\"{image_path} directory exists.\")\n",
    "else:\n",
    "    print(f\"Did not find {image_path} directory, creating one...\")\n",
    "    image_path.mkdir(parents=True, exist_ok=True)\n",
    "\"\"\""
   ]
  },
  {
   "cell_type": "code",
   "execution_count": 4,
   "metadata": {},
   "outputs": [
    {
     "data": {
      "text/plain": [
       "'import requests\\nfrom tqdm import tqdm\\n\\nresponse = requests.get(\"https://physionet.org/static/published-projects/ecg-arrhythmia/a-large-scale-12-lead-electrocardiogram-database-for-arrhythmia-study-1.0.0.zip\", stream=True)\\n\\n# Total size in bytes.\\ntotal_size = int(response.headers.get(\\'content-length\\', 0))\\nblock_size = 1024 #1 Kibibyte\\n\\nt=tqdm(total=total_size, unit=\\'iB\\', unit_scale=True)\\n\\nwith open(data_path / \"12_lead_ECG_images.zip\", \"wb\") as f:\\n    for data in response.iter_content(block_size):\\n        t.update(len(data))\\n        f.write(data)\\nt.close()\\n\\nif total_size != 0 and t.n != total_size:\\n    print(\"ERROR, something went wrong\")'"
      ]
     },
     "execution_count": 4,
     "metadata": {},
     "output_type": "execute_result"
    }
   ],
   "source": [
    "# for downloading the data\n",
    "\"\"\"import requests\n",
    "from tqdm import tqdm\n",
    "\n",
    "response = requests.get(\"https://physionet.org/static/published-projects/ecg-arrhythmia/a-large-scale-12-lead-electrocardiogram-database-for-arrhythmia-study-1.0.0.zip\", stream=True)\n",
    "\n",
    "# Total size in bytes.\n",
    "total_size = int(response.headers.get('content-length', 0))\n",
    "block_size = 1024 #1 Kibibyte\n",
    "\n",
    "t=tqdm(total=total_size, unit='iB', unit_scale=True)\n",
    "\n",
    "with open(data_path / \"12_lead_ECG_images.zip\", \"wb\") as f:\n",
    "    for data in response.iter_content(block_size):\n",
    "        t.update(len(data))\n",
    "        f.write(data)\n",
    "t.close()\n",
    "\n",
    "if total_size != 0 and t.n != total_size:\n",
    "    print(\"ERROR, something went wrong\")\"\"\""
   ]
  },
  {
   "cell_type": "markdown",
   "metadata": {},
   "source": [
    "### annalysing data"
   ]
  },
  {
   "cell_type": "code",
   "execution_count": 5,
   "metadata": {},
   "outputs": [],
   "source": [
    "path= \"data/a-large-scale-12-lead-electrocardiogram-database-for-arrhythmia-study-1.0.0/WFDBRecords\""
   ]
  },
  {
   "cell_type": "code",
   "execution_count": 6,
   "metadata": {},
   "outputs": [
    {
     "data": {
      "text/plain": [
       "'/home/karansingh/Documents/summer-term/KARAN_ECG/data_prep'"
      ]
     },
     "execution_count": 6,
     "metadata": {},
     "output_type": "execute_result"
    }
   ],
   "source": [
    "os.getcwd()"
   ]
  },
  {
   "cell_type": "code",
   "execution_count": 7,
   "metadata": {},
   "outputs": [
    {
     "data": {
      "text/plain": [
       "['45',\n",
       " '14',\n",
       " '41',\n",
       " '31',\n",
       " '40',\n",
       " '28',\n",
       " '26',\n",
       " '37',\n",
       " '33',\n",
       " '12',\n",
       " '13',\n",
       " '35',\n",
       " '20',\n",
       " '25',\n",
       " '27',\n",
       " '30',\n",
       " '06',\n",
       " '01',\n",
       " '44',\n",
       " '42',\n",
       " '43',\n",
       " '17',\n",
       " '03',\n",
       " '16',\n",
       " '10',\n",
       " '29',\n",
       " '02',\n",
       " '46',\n",
       " '38',\n",
       " '23',\n",
       " '34',\n",
       " '39',\n",
       " '11',\n",
       " '15',\n",
       " '09',\n",
       " '24',\n",
       " '21',\n",
       " '36',\n",
       " '04',\n",
       " '22',\n",
       " '08',\n",
       " '32',\n",
       " '07',\n",
       " '18',\n",
       " '19',\n",
       " '05']"
      ]
     },
     "execution_count": 7,
     "metadata": {},
     "output_type": "execute_result"
    }
   ],
   "source": [
    "path_1_list = os.listdir(path)\n",
    "path_1_list"
   ]
  },
  {
   "cell_type": "code",
   "execution_count": 8,
   "metadata": {},
   "outputs": [
    {
     "data": {
      "text/plain": [
       "(array([[-0.059, -0.039,  0.02 , ...,  0.   ,  0.01 , -0.059],\n",
       "        [-0.059, -0.039,  0.02 , ...,  0.   ,  0.01 , -0.059],\n",
       "        [-0.059, -0.039,  0.02 , ...,  0.   ,  0.01 , -0.059],\n",
       "        ...,\n",
       "        [ 0.415,  0.244, -0.171, ...,  0.156,  0.327,  0.01 ],\n",
       "        [ 0.415,  0.249, -0.166, ...,  0.176,  0.327,  0.005],\n",
       "        [ 0.439,  0.259, -0.181, ...,  0.171,  0.332, -0.005]]),\n",
       " {'fs': 500,\n",
       "  'sig_len': 5000,\n",
       "  'n_sig': 12,\n",
       "  'base_date': None,\n",
       "  'base_time': None,\n",
       "  'units': ['mV',\n",
       "   'mV',\n",
       "   'mV',\n",
       "   'mV',\n",
       "   'mV',\n",
       "   'mV',\n",
       "   'mV',\n",
       "   'mV',\n",
       "   'mV',\n",
       "   'mV',\n",
       "   'mV',\n",
       "   'mV'],\n",
       "  'sig_name': ['I',\n",
       "   'II',\n",
       "   'III',\n",
       "   'aVR',\n",
       "   'aVL',\n",
       "   'aVF',\n",
       "   'V1',\n",
       "   'V2',\n",
       "   'V3',\n",
       "   'V4',\n",
       "   'V5',\n",
       "   'V6'],\n",
       "  'comments': ['Age: 61',\n",
       "   'Sex: Male',\n",
       "   'Dx: 426177001,59118001',\n",
       "   'Rx: Unknown',\n",
       "   'Hx: Unknown',\n",
       "   'Sx: Unknown']})"
      ]
     },
     "execution_count": 8,
     "metadata": {},
     "output_type": "execute_result"
    }
   ],
   "source": [
    "# what we are going to do in disease_categorisation fxn\n",
    "data = wfdb.rdsamp(\"data/a-large-scale-12-lead-electrocardiogram-database-for-arrhythmia-study-1.0.0/WFDBRecords/01/010/JS00018\")# \n",
    "data"
   ]
  },
  {
   "cell_type": "code",
   "execution_count": 9,
   "metadata": {},
   "outputs": [
    {
     "data": {
      "text/plain": [
       "['Age: 61',\n",
       " 'Sex: Male',\n",
       " 'Dx: 426177001,59118001',\n",
       " 'Rx: Unknown',\n",
       " 'Hx: Unknown',\n",
       " 'Sx: Unknown']"
      ]
     },
     "execution_count": 9,
     "metadata": {},
     "output_type": "execute_result"
    }
   ],
   "source": [
    "data[1]['comments']"
   ]
  },
  {
   "cell_type": "code",
   "execution_count": 10,
   "metadata": {},
   "outputs": [
    {
     "data": {
      "text/plain": [
       "'Dx: 426177001,59118001'"
      ]
     },
     "execution_count": 10,
     "metadata": {},
     "output_type": "execute_result"
    }
   ],
   "source": [
    "data[1]['comments'][2]"
   ]
  },
  {
   "cell_type": "code",
   "execution_count": 11,
   "metadata": {},
   "outputs": [
    {
     "data": {
      "text/plain": [
       "'426177001,59118001'"
      ]
     },
     "execution_count": 11,
     "metadata": {},
     "output_type": "execute_result"
    }
   ],
   "source": [
    "data[1]['comments'][2].split()[1]"
   ]
  },
  {
   "cell_type": "code",
   "execution_count": 12,
   "metadata": {},
   "outputs": [
    {
     "data": {
      "text/plain": [
       "['426177001', '59118001']"
      ]
     },
     "execution_count": 12,
     "metadata": {},
     "output_type": "execute_result"
    }
   ],
   "source": [
    "data[1]['comments'][2].split()[1].split(',')#disease_codes(data) output"
   ]
  },
  {
   "cell_type": "code",
   "execution_count": 13,
   "metadata": {},
   "outputs": [
    {
     "data": {
      "text/plain": [
       "(5000, 12)"
      ]
     },
     "execution_count": 13,
     "metadata": {},
     "output_type": "execute_result"
    }
   ],
   "source": [
    "data[0].shape #### every ecg has 12 leads and 5000 points"
   ]
  },
  {
   "cell_type": "markdown",
   "metadata": {},
   "source": [
    "## function defines"
   ]
  },
  {
   "cell_type": "code",
   "execution_count": 15,
   "metadata": {},
   "outputs": [],
   "source": [
    "# list1 = [\"code1\", \"code2\", \"code3\", \"code4\"]\n",
    "# list2 = [\"code2\", \"code4\", \"code5\"]\n",
    "\n",
    "# result = check_codes_in_list(list1, list2)\n",
    "# print(result)  # Output: [1, 1, 0]"
   ]
  },
  {
   "cell_type": "code",
   "execution_count": 22,
   "metadata": {},
   "outputs": [],
   "source": [
    "def disease_codes(data):\n",
    "    disease_codes = data[1]['comments'][2].split()[1].split(',')\n",
    "    return disease_codes\n",
    "\n",
    "def check_codes_in_list(list1, list2):\n",
    "    return [1 if code in list1 else 0 for code in list2]\n",
    "\n",
    "def disease_categorization(code:list):\n",
    "                           #path_1_list:list,path : str):\n",
    "    # code to list of strings\n",
    "    code= [str(element) for element in code]\n",
    "    print(code)\n",
    "    \"\"\"ot >> lists of all the records with the given disease codes\"\"\"\n",
    "    disease_list = []\n",
    "    list111=[]\n",
    "    list011=[]\n",
    "    list001=[]\n",
    "    list110=[]\n",
    "    list101=[]\n",
    "    list010=[]\n",
    "    list100=[]\n",
    "    for i in range(len(path_1_list)):\n",
    "        path_1 = path_1_list[i]#path_1 is the folder name inside the WFDBRecords\n",
    "        relative_path_1 = path+'/'+path_1\n",
    "        path_2_list = os.listdir(relative_path_1)#list of folder in the path_1\n",
    "\n",
    "\n",
    "        for j in range(len(path_2_list)):# checking each folder in the path_1\n",
    "            path_2 = path_2_list[j]\n",
    "\n",
    "\n",
    "            path_to_dir = relative_path_1 + '/' + path_2 + '/'\n",
    "\n",
    "            records = open(path_to_dir+'RECORDS','r').read().split()#WFDBRecords/path1/path2/RECORDS\n",
    "            # reocords is a list of all the records in the path2 folder\n",
    "\n",
    "            for k in range(len(records)):\n",
    "                \"\"\" uncomment the commented paart to see which fie is currupted\"\"\"\n",
    "                # print(path_1_list[i],path_2_list[j],records[k])\n",
    "                # print(path_to_dir+'RECORDS')\n",
    "                data = wfdb.rdsamp(path_to_dir+records[k])# explained above\n",
    "                disease_codes_ = disease_codes(data)# return the desease codes of the record AS SHOWN ABOVE\n",
    "                \n",
    "                outfea=check_codes_in_list(disease_codes_,code)\n",
    "                # print(outfea)\n",
    "                \n",
    "                if outfea==[1,1,1]:\n",
    "                    list111.append(data[0])\n",
    "                elif outfea==[0,1,1]:\n",
    "                    list011.append(data[0])\n",
    "                elif outfea==[0,0,1]:\n",
    "                    list001.append(data[0])\n",
    "                elif outfea==[1,1,0]:\n",
    "                    list110.append(data[0])\n",
    "                elif outfea==[1,0,1]:\n",
    "                    list101.append(data[0])\n",
    "                elif outfea==[0,1,0]:\n",
    "                    list010.append(data[0])\n",
    "                elif outfea==[1,0,0]:\n",
    "                    list100.append(data[0])\n",
    "                else:\n",
    "                    pass\n",
    "    \n",
    "    return list111,list011,list001,list110,list101,list010,list100\n",
    "\n"
   ]
  },
  {
   "cell_type": "code",
   "execution_count": 17,
   "metadata": {},
   "outputs": [],
   "source": [
    "path_to_disease_codes = 'data/a-large-scale-12-lead-electrocardiogram-database-for-arrhythmia-study-1.0.0/ConditionNames_SNOMED-CT.csv'\n",
    "# it is a csv file containing the disease codes and their names\n",
    "disease_codes_list = pd.DataFrame(pd.read_csv(path_to_disease_codes))"
   ]
  },
  {
   "cell_type": "code",
   "execution_count": 18,
   "metadata": {},
   "outputs": [
    {
     "data": {
      "text/html": [
       "<div>\n",
       "<style scoped>\n",
       "    .dataframe tbody tr th:only-of-type {\n",
       "        vertical-align: middle;\n",
       "    }\n",
       "\n",
       "    .dataframe tbody tr th {\n",
       "        vertical-align: top;\n",
       "    }\n",
       "\n",
       "    .dataframe thead th {\n",
       "        text-align: right;\n",
       "    }\n",
       "</style>\n",
       "<table border=\"1\" class=\"dataframe\">\n",
       "  <thead>\n",
       "    <tr style=\"text-align: right;\">\n",
       "      <th></th>\n",
       "      <th>Acronym Name</th>\n",
       "      <th>Full Name</th>\n",
       "      <th>Snomed_CT</th>\n",
       "    </tr>\n",
       "  </thead>\n",
       "  <tbody>\n",
       "    <tr>\n",
       "      <th>0</th>\n",
       "      <td>1AVB</td>\n",
       "      <td>1 degree atrioventricular block</td>\n",
       "      <td>270492004</td>\n",
       "    </tr>\n",
       "    <tr>\n",
       "      <th>1</th>\n",
       "      <td>2AVB</td>\n",
       "      <td>2 degree atrioventricular block</td>\n",
       "      <td>195042002</td>\n",
       "    </tr>\n",
       "    <tr>\n",
       "      <th>2</th>\n",
       "      <td>2AVB1</td>\n",
       "      <td>2 degree atrioventricular block(Type one)</td>\n",
       "      <td>54016002</td>\n",
       "    </tr>\n",
       "    <tr>\n",
       "      <th>3</th>\n",
       "      <td>2AVB2</td>\n",
       "      <td>2 degree atrioventricular block(Type two)</td>\n",
       "      <td>28189009</td>\n",
       "    </tr>\n",
       "    <tr>\n",
       "      <th>4</th>\n",
       "      <td>3AVB</td>\n",
       "      <td>3 degree atrioventricular block</td>\n",
       "      <td>27885002</td>\n",
       "    </tr>\n",
       "    <tr>\n",
       "      <th>...</th>\n",
       "      <td>...</td>\n",
       "      <td>...</td>\n",
       "      <td>...</td>\n",
       "    </tr>\n",
       "    <tr>\n",
       "      <th>58</th>\n",
       "      <td>SVT</td>\n",
       "      <td>Supraventricular Tachycardia</td>\n",
       "      <td>426761007</td>\n",
       "    </tr>\n",
       "    <tr>\n",
       "      <th>59</th>\n",
       "      <td>AT</td>\n",
       "      <td>Atrial Tachycardia</td>\n",
       "      <td>713422000</td>\n",
       "    </tr>\n",
       "    <tr>\n",
       "      <th>60</th>\n",
       "      <td>AVNRT</td>\n",
       "      <td>Atrioventricular  Node Reentrant Tachycardia</td>\n",
       "      <td>233896004</td>\n",
       "    </tr>\n",
       "    <tr>\n",
       "      <th>61</th>\n",
       "      <td>AVRT</td>\n",
       "      <td>Atrioventricular Reentrant Tachycardia</td>\n",
       "      <td>233897008</td>\n",
       "    </tr>\n",
       "    <tr>\n",
       "      <th>62</th>\n",
       "      <td>SAAWR</td>\n",
       "      <td>Sinus Atrium to Atrial Wandering Rhythm</td>\n",
       "      <td>195101003</td>\n",
       "    </tr>\n",
       "  </tbody>\n",
       "</table>\n",
       "<p>63 rows × 3 columns</p>\n",
       "</div>"
      ],
      "text/plain": [
       "   Acronym Name                                     Full Name  Snomed_CT\n",
       "0          1AVB               1 degree atrioventricular block  270492004\n",
       "1          2AVB               2 degree atrioventricular block  195042002\n",
       "2         2AVB1     2 degree atrioventricular block(Type one)   54016002\n",
       "3         2AVB2     2 degree atrioventricular block(Type two)   28189009\n",
       "4          3AVB               3 degree atrioventricular block   27885002\n",
       "..          ...                                           ...        ...\n",
       "58          SVT                  Supraventricular Tachycardia  426761007\n",
       "59           AT                            Atrial Tachycardia  713422000\n",
       "60        AVNRT  Atrioventricular  Node Reentrant Tachycardia  233896004\n",
       "61         AVRT        Atrioventricular Reentrant Tachycardia  233897008\n",
       "62        SAAWR       Sinus Atrium to Atrial Wandering Rhythm  195101003\n",
       "\n",
       "[63 rows x 3 columns]"
      ]
     },
     "execution_count": 18,
     "metadata": {},
     "output_type": "execute_result"
    }
   ],
   "source": [
    "disease_codes_list\n",
    "#snomed_ct is the disease code\n",
    "# acronym is the name of the disease"
   ]
  },
  {
   "cell_type": "markdown",
   "metadata": {},
   "source": [
    "### rough\n"
   ]
  },
  {
   "cell_type": "code",
   "execution_count": 19,
   "metadata": {},
   "outputs": [
    {
     "name": "stdout",
     "output_type": "stream",
     "text": [
      "[1, 1, 0]\n"
     ]
    }
   ],
   "source": [
    "# # list1 = [\"code1\", \"code2\", \"code3\", \"code4\"]\n",
    "# list2 = [\"code2\", \"code4\", \"code5\"]\n",
    "\n",
    "# result = check_codes_in_list(list1, list2)\n",
    "# print(result)  # Output: [1, 1, 0]"
   ]
  },
  {
   "cell_type": "code",
   "execution_count": 20,
   "metadata": {},
   "outputs": [
    {
     "ename": "NameError",
     "evalue": "name 'code_list_len' is not defined",
     "output_type": "error",
     "traceback": [
      "\u001b[0;31m---------------------------------------------------------------------------\u001b[0m",
      "\u001b[0;31mNameError\u001b[0m                                 Traceback (most recent call last)",
      "Cell \u001b[0;32mIn[20], line 1\u001b[0m\n\u001b[0;32m----> 1\u001b[0m \u001b[43mcode_list_len\u001b[49m\n",
      "\u001b[0;31mNameError\u001b[0m: name 'code_list_len' is not defined"
     ]
    }
   ],
   "source": [
    "# code_list_len"
   ]
  },
  {
   "cell_type": "code",
   "execution_count": null,
   "metadata": {},
   "outputs": [
    {
     "name": "stdout",
     "output_type": "stream",
     "text": [
      "7043\n",
      "TWC\n",
      "164934002 \n",
      "\n",
      "16559\n",
      "SB\n",
      "426177001 \n",
      "\n",
      "8125\n",
      "SR\n",
      "426783006 \n",
      "\n",
      "7254\n",
      "ST\n",
      "427084000 \n",
      "\n",
      "8060\n",
      "AF\n",
      "164890007 \n",
      "\n"
     ]
    }
   ],
   "source": [
    "# for items in range(len(code_list_len)):\n",
    "#     if code_list_len[items] >= 5000:\n",
    "#         print(code_list_len[items])\n",
    "#         print(disease_name[items])\n",
    "#         print(disease_code[items],\"\\n\")"
   ]
  },
  {
   "cell_type": "markdown",
   "metadata": {},
   "source": [
    "# data save"
   ]
  },
  {
   "cell_type": "code",
   "execution_count": null,
   "metadata": {},
   "outputs": [],
   "source": []
  },
  {
   "cell_type": "code",
   "execution_count": 24,
   "metadata": {},
   "outputs": [
    {
     "name": "stdout",
     "output_type": "stream",
     "text": [
      "['426177001', '426783006', '427084000']\n"
     ]
    }
   ],
   "source": [
    "SB_code = 426177001\n",
    "SR_code = 426783006\n",
    "ST_code = 427084000\n",
    "\n",
    "list111,list011,list001,list110,list101,list010,list100 = disease_categorization([SB_code,SR_code,ST_code])\n",
    "\n"
   ]
  },
  {
   "cell_type": "code",
   "execution_count": 25,
   "metadata": {},
   "outputs": [
    {
     "name": "stdout",
     "output_type": "stream",
     "text": [
      "len of list111 is 0\n",
      " len of list011 is 0\n",
      " len of list001 is 7254\n",
      " len of list110 is 6\n",
      " len of list101 is 0\n",
      " len of list010 is 8119\n",
      " len of list100 is 16553\n",
      "\n"
     ]
    }
   ],
   "source": [
    "print(f'len of list111 is {len(list111)}\\n len of list011 is {len(list011)}\\n len of list001 is {len(list001)}\\n len of list110 is {len(list110)}\\n len of list101 is {len(list101)}\\n len of list010 is {len(list010)}\\n len of list100 is {len(list100)}\\n')"
   ]
  },
  {
   "cell_type": "code",
   "execution_count": 26,
   "metadata": {},
   "outputs": [
    {
     "name": "stdout",
     "output_type": "stream",
     "text": [
      "Data saved successfully\n"
     ]
    }
   ],
   "source": [
    "# save the data\n",
    "save('data/list111.npy', list111)\n",
    "save('data/list011.npy', list011)\n",
    "save('data/ST.npy', list001[0:5000])\n",
    "save('data/list110.npy', list110)\n",
    "save('data/list101.npy', list101)\n",
    "save('data/SR.npy', list010[:5000])\n",
    "save('data/SB.npy', list100[:5000])\n",
    "\n",
    "print(\"Data saved successfully\")"
   ]
  },
  {
   "cell_type": "code",
   "execution_count": null,
   "metadata": {},
   "outputs": [
    {
     "name": "stdout",
     "output_type": "stream",
     "text": [
      "1\n",
      "3\n",
      "2\n",
      "done done\n"
     ]
    }
   ],
   "source": [
    "# SB_code = 426177001\n",
    "# SR_code = 426783006\n",
    "# ST_code = 427084000\n",
    "# import random\n",
    "\n",
    "# disease_SB = disease_categorization(SB_code)\n",
    "# disease_SB_cut = disease_SB[0:5000]\n",
    "# disease_SB_cut_random=random.sample(disease_SB,5000)\n",
    "# data = asarray(disease_SB_cut)\n",
    "# data_random = asarray(disease_SB_cut_random)\n",
    "# print(1)\n",
    "# save('disease_SB.npy', data)\n",
    "# print(3)\n",
    "# save('disease_SB_random.npy', data_random)\n",
    "# print(2)\n",
    "# del disease_SB_cut,disease_SB_cut_random,data,data_random\n",
    "\n",
    "# disease_SR = disease_categorization(SR_code)\n",
    "# disease_SR_cut = disease_SR[0:5000]\n",
    "# disease_SR_cut_random=random.sample(disease_SR,5000)\n",
    "# data = asarray(disease_SR_cut)\n",
    "# data_random = asarray(disease_SR_cut_random)\n",
    "# save('disease_SR.npy', data)\n",
    "# save('disease_SR_random.npy', data_random)\n",
    "# del disease_SR_cut,disease_SR_cut_random,data,data_random\n",
    "\n",
    "\n",
    "# disease_ST = disease_categorization(ST_code)\n",
    "# disease_ST_cut = disease_ST[0:5000]\n",
    "# disease_ST_cut_random=random.sample(disease_ST,5000)\n",
    "# data = asarray(disease_ST_cut)\n",
    "# data_random = asarray(disease_ST_cut_random)\n",
    "# save('disease_ST.npy', data)\n",
    "# save('disease_ST_random.npy', data_random)\n",
    "# del disease_ST_cut,disease_ST_cut_random,data,data_random\n",
    "\n",
    "\n",
    "\n",
    "\n",
    "\n",
    "\n",
    "print(\"done done\")"
   ]
  },
  {
   "cell_type": "code",
   "execution_count": null,
   "metadata": {},
   "outputs": [
    {
     "data": {
      "text/plain": [
       "' u can use code_list_len directly by uncommenting '"
      ]
     },
     "execution_count": 2,
     "metadata": {},
     "output_type": "execute_result"
    }
   ],
   "source": [
    "\"\"\" u can use code_list_len directly by uncommenting \"\"\"\n",
    "#code_list_len=[1140,\n",
    "#  66,\n",
    "#  31,\n",
    "#  0,\n",
    "#  76,\n",
    "#  3,\n",
    "#  1545,\n",
    "#  1312,\n",
    "#  1063,\n",
    "#  853,\n",
    "#  244,\n",
    "#  162,\n",
    "#  76,\n",
    "#  366,\n",
    "#  3,\n",
    "#  771,\n",
    "#  771,\n",
    "#  75,\n",
    "#  11,\n",
    "#  240,\n",
    "#  240,\n",
    "#  240,\n",
    "#  647,\n",
    "#  1043,\n",
    "#  0,\n",
    "#  0,\n",
    "#  123,\n",
    "#  123,\n",
    "#  123,\n",
    "#  123,\n",
    "#  123,\n",
    "#  52,\n",
    "#  142,\n",
    "#  394,\n",
    "#  36,\n",
    "#  649,\n",
    "#  110,\n",
    "#  1668,\n",
    "#  801,\n",
    "#  1158,\n",
    "#  176,\n",
    "#  7043,\n",
    "#  2877,\n",
    "#  136,\n",
    "#  3,\n",
    "#  56,\n",
    "#  116,\n",
    "#  294,\n",
    "#  12,\n",
    "#  8,\n",
    "#  2,\n",
    "#  72,\n",
    "#  16559,\n",
    "#  8125,\n",
    "#  1780,\n",
    "#  7254,\n",
    "#  8060,\n",
    "#  2550,\n",
    "#  724,\n",
    "#  297,\n",
    "#  0,\n",
    "#  26,\n",
    "#  2]"
   ]
  }
 ],
 "metadata": {
  "kernelspec": {
   "display_name": "Python 3",
   "language": "python",
   "name": "python3"
  },
  "language_info": {
   "codemirror_mode": {
    "name": "ipython",
    "version": 3
   },
   "file_extension": ".py",
   "mimetype": "text/x-python",
   "name": "python",
   "nbconvert_exporter": "python",
   "pygments_lexer": "ipython3",
   "version": "3.10.12"
  }
 },
 "nbformat": 4,
 "nbformat_minor": 2
}
