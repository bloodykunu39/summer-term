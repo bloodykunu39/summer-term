{
 "cells": [
  {
   "cell_type": "code",
   "execution_count": 1,
   "metadata": {},
   "outputs": [],
   "source": [
    "import pandas as pd\n",
    "from scipy.io import loadmat\n",
    "import wfdb\n",
    "import numpy as np\n",
    "import os\n",
    "\n",
    "from numpy import asarray\n",
    "from numpy import save"
   ]
  },
  {
   "cell_type": "code",
   "execution_count": 2,
   "metadata": {},
   "outputs": [],
   "source": [
    "import requests\n",
    "import zipfile\n",
    "from pathlib import Path\n"
   ]
  },
  {
   "cell_type": "markdown",
   "metadata": {},
   "source": [
    "### download data"
   ]
  },
  {
   "cell_type": "code",
   "execution_count": 3,
   "metadata": {},
   "outputs": [
    {
     "data": {
      "text/plain": [
       "'data_path = Path(\"data\")\\nimage_path = data_path / \"12_lead_ECG_images\"\\nif image_path.is_dir():\\n    print(f\"{image_path} directory exists.\")\\nelse:\\n    print(f\"Did not find {image_path} directory, creating one...\")\\n    image_path.mkdir(parents=True, exist_ok=True)\\n'"
      ]
     },
     "execution_count": 3,
     "metadata": {},
     "output_type": "execute_result"
    }
   ],
   "source": [
    "\"\"\"data_path = Path(\"data\")\n",
    "image_path = data_path / \"12_lead_ECG_images\"\n",
    "if image_path.is_dir():\n",
    "    print(f\"{image_path} directory exists.\")\n",
    "else:\n",
    "    print(f\"Did not find {image_path} directory, creating one...\")\n",
    "    image_path.mkdir(parents=True, exist_ok=True)\n",
    "\"\"\""
   ]
  },
  {
   "cell_type": "code",
   "execution_count": 4,
   "metadata": {},
   "outputs": [
    {
     "data": {
      "text/plain": [
       "'import requests\\nfrom tqdm import tqdm\\n\\nresponse = requests.get(\"https://physionet.org/static/published-projects/ecg-arrhythmia/a-large-scale-12-lead-electrocardiogram-database-for-arrhythmia-study-1.0.0.zip\", stream=True)\\n\\n# Total size in bytes.\\ntotal_size = int(response.headers.get(\\'content-length\\', 0))\\nblock_size = 1024 #1 Kibibyte\\n\\nt=tqdm(total=total_size, unit=\\'iB\\', unit_scale=True)\\n\\nwith open(data_path / \"12_lead_ECG_images.zip\", \"wb\") as f:\\n    for data in response.iter_content(block_size):\\n        t.update(len(data))\\n        f.write(data)\\nt.close()\\n\\nif total_size != 0 and t.n != total_size:\\n    print(\"ERROR, something went wrong\")'"
      ]
     },
     "execution_count": 4,
     "metadata": {},
     "output_type": "execute_result"
    }
   ],
   "source": [
    "# for downloading the data\n",
    "\"\"\"import requests\n",
    "from tqdm import tqdm\n",
    "\n",
    "response = requests.get(\"https://physionet.org/static/published-projects/ecg-arrhythmia/a-large-scale-12-lead-electrocardiogram-database-for-arrhythmia-study-1.0.0.zip\", stream=True)\n",
    "\n",
    "# Total size in bytes.\n",
    "total_size = int(response.headers.get('content-length', 0))\n",
    "block_size = 1024 #1 Kibibyte\n",
    "\n",
    "t=tqdm(total=total_size, unit='iB', unit_scale=True)\n",
    "\n",
    "with open(data_path / \"12_lead_ECG_images.zip\", \"wb\") as f:\n",
    "    for data in response.iter_content(block_size):\n",
    "        t.update(len(data))\n",
    "        f.write(data)\n",
    "t.close()\n",
    "\n",
    "if total_size != 0 and t.n != total_size:\n",
    "    print(\"ERROR, something went wrong\")\"\"\""
   ]
  },
  {
   "cell_type": "markdown",
   "metadata": {},
   "source": [
    "### annalysing data"
   ]
  },
  {
   "cell_type": "code",
   "execution_count": 5,
   "metadata": {},
   "outputs": [],
   "source": [
    "path= \"data/a-large-scale-12-lead-electrocardiogram-database-for-arrhythmia-study-1.0.0/WFDBRecords\""
   ]
  },
  {
   "cell_type": "code",
   "execution_count": 6,
   "metadata": {},
   "outputs": [
    {
     "data": {
      "text/plain": [
       "'/home/karansingh/Documents/summer-term/KARAN_ECG/data_prep'"
      ]
     },
     "execution_count": 6,
     "metadata": {},
     "output_type": "execute_result"
    }
   ],
   "source": [
    "os.getcwd()"
   ]
  },
  {
   "cell_type": "code",
   "execution_count": 7,
   "metadata": {},
   "outputs": [
    {
     "data": {
      "text/plain": [
       "['22',\n",
       " '17',\n",
       " '10',\n",
       " '31',\n",
       " '11',\n",
       " '12',\n",
       " '05',\n",
       " '25',\n",
       " '19',\n",
       " '36',\n",
       " '40',\n",
       " '18',\n",
       " '20',\n",
       " '32',\n",
       " '01',\n",
       " '41',\n",
       " '35',\n",
       " '28',\n",
       " '27',\n",
       " '46',\n",
       " '21',\n",
       " '03',\n",
       " '02',\n",
       " '04',\n",
       " '34',\n",
       " '45',\n",
       " '09',\n",
       " '06',\n",
       " '39',\n",
       " '24',\n",
       " '07',\n",
       " '42',\n",
       " '15',\n",
       " '14',\n",
       " '30',\n",
       " '26',\n",
       " '33',\n",
       " '44',\n",
       " '43',\n",
       " '37',\n",
       " '13',\n",
       " '23',\n",
       " '16',\n",
       " '29',\n",
       " '38',\n",
       " '08']"
      ]
     },
     "execution_count": 7,
     "metadata": {},
     "output_type": "execute_result"
    }
   ],
   "source": [
    "path_1_list = os.listdir(path)\n",
    "path_1_list"
   ]
  },
  {
   "cell_type": "code",
   "execution_count": 8,
   "metadata": {},
   "outputs": [
    {
     "data": {
      "text/plain": [
       "(array([[-0.059, -0.039,  0.02 , ...,  0.   ,  0.01 , -0.059],\n",
       "        [-0.059, -0.039,  0.02 , ...,  0.   ,  0.01 , -0.059],\n",
       "        [-0.059, -0.039,  0.02 , ...,  0.   ,  0.01 , -0.059],\n",
       "        ...,\n",
       "        [ 0.415,  0.244, -0.171, ...,  0.156,  0.327,  0.01 ],\n",
       "        [ 0.415,  0.249, -0.166, ...,  0.176,  0.327,  0.005],\n",
       "        [ 0.439,  0.259, -0.181, ...,  0.171,  0.332, -0.005]]),\n",
       " {'fs': 500,\n",
       "  'sig_len': 5000,\n",
       "  'n_sig': 12,\n",
       "  'base_date': None,\n",
       "  'base_time': None,\n",
       "  'units': ['mV',\n",
       "   'mV',\n",
       "   'mV',\n",
       "   'mV',\n",
       "   'mV',\n",
       "   'mV',\n",
       "   'mV',\n",
       "   'mV',\n",
       "   'mV',\n",
       "   'mV',\n",
       "   'mV',\n",
       "   'mV'],\n",
       "  'sig_name': ['I',\n",
       "   'II',\n",
       "   'III',\n",
       "   'aVR',\n",
       "   'aVL',\n",
       "   'aVF',\n",
       "   'V1',\n",
       "   'V2',\n",
       "   'V3',\n",
       "   'V4',\n",
       "   'V5',\n",
       "   'V6'],\n",
       "  'comments': ['Age: 61',\n",
       "   'Sex: Male',\n",
       "   'Dx: 426177001,59118001',\n",
       "   'Rx: Unknown',\n",
       "   'Hx: Unknown',\n",
       "   'Sx: Unknown']})"
      ]
     },
     "execution_count": 8,
     "metadata": {},
     "output_type": "execute_result"
    }
   ],
   "source": [
    "# what we are going to do in disease_categorisation fxn\n",
    "data = wfdb.rdsamp(\"data/a-large-scale-12-lead-electrocardiogram-database-for-arrhythmia-study-1.0.0/WFDBRecords/01/010/JS00018\")# \n",
    "data"
   ]
  },
  {
   "cell_type": "code",
   "execution_count": 9,
   "metadata": {},
   "outputs": [
    {
     "data": {
      "text/plain": [
       "['Age: 61',\n",
       " 'Sex: Male',\n",
       " 'Dx: 426177001,59118001',\n",
       " 'Rx: Unknown',\n",
       " 'Hx: Unknown',\n",
       " 'Sx: Unknown']"
      ]
     },
     "execution_count": 9,
     "metadata": {},
     "output_type": "execute_result"
    }
   ],
   "source": [
    "data[1]['comments']"
   ]
  },
  {
   "cell_type": "code",
   "execution_count": 10,
   "metadata": {},
   "outputs": [
    {
     "data": {
      "text/plain": [
       "'Dx: 426177001,59118001'"
      ]
     },
     "execution_count": 10,
     "metadata": {},
     "output_type": "execute_result"
    }
   ],
   "source": [
    "data[1]['comments'][2]"
   ]
  },
  {
   "cell_type": "code",
   "execution_count": 11,
   "metadata": {},
   "outputs": [
    {
     "data": {
      "text/plain": [
       "'426177001,59118001'"
      ]
     },
     "execution_count": 11,
     "metadata": {},
     "output_type": "execute_result"
    }
   ],
   "source": [
    "data[1]['comments'][2].split()[1]"
   ]
  },
  {
   "cell_type": "code",
   "execution_count": 12,
   "metadata": {},
   "outputs": [
    {
     "data": {
      "text/plain": [
       "['426177001', '59118001']"
      ]
     },
     "execution_count": 12,
     "metadata": {},
     "output_type": "execute_result"
    }
   ],
   "source": [
    "data[1]['comments'][2].split()[1].split(',')#disease_codes(data) output"
   ]
  },
  {
   "cell_type": "code",
   "execution_count": 13,
   "metadata": {},
   "outputs": [
    {
     "data": {
      "text/plain": [
       "(5000, 12)"
      ]
     },
     "execution_count": 13,
     "metadata": {},
     "output_type": "execute_result"
    }
   ],
   "source": [
    "data[0].shape #### every ecg has 12 leads and 5000 points"
   ]
  },
  {
   "cell_type": "markdown",
   "metadata": {},
   "source": [
    "## function defines"
   ]
  },
  {
   "cell_type": "code",
   "execution_count": 27,
   "metadata": {},
   "outputs": [],
   "source": [
    "def disease_codes(data):\n",
    "    disease_codes = data[1]['comments'][2].split()[1].split(',')\n",
    "    return disease_codes\n",
    "\n",
    "def disease_categorization(code):\n",
    "                           #path_1_list:list,path : str):\n",
    "    \"\"\"we have some disease codes named code and we have to check in file eg: WFDBRecords/01/010/JS00018 file\n",
    "    if data[1]['comments'][2].split()[1].split(',') contain the code then we have to append the data[0] to the list\"\"\"\n",
    "    disease_list = []\n",
    "    for i in range(len(path_1_list)):\n",
    "        path_1 = path_1_list[i]#path_1 is the folder name inside the WFDBRecords\n",
    "        relative_path_1 = path+'/'+path_1\n",
    "        path_2_list = os.listdir(relative_path_1)#list of folder in the path_1\n",
    "\n",
    "\n",
    "        for j in range(len(path_2_list)):# checking each folder in the path_1\n",
    "            path_2 = path_2_list[j]\n",
    "\n",
    "\n",
    "            path_to_dir = relative_path_1 + '/' + path_2 + '/'\n",
    "\n",
    "            records = open(path_to_dir+'RECORDS','r').read().split()#WFDBRecords/path1/path2/RECORDS\n",
    "            # reocords is a list of all the records in the path2 folder\n",
    "\n",
    "            for k in range(len(records)):\n",
    "                \"\"\" uncomment the commented paart to see which fie is currupted\"\"\"\n",
    "                # print(path_1_list[i],path_2_list[j],records[k])\n",
    "                # print(path_to_dir+'RECORDS')\n",
    "                data = wfdb.rdsamp(path_to_dir+records[k])# explained above\n",
    "                disease_codes_ = disease_codes(data)# return the desease codes of the record AS SHOWN ABOVE\n",
    "\n",
    "                for l in range(len(disease_codes_)):\n",
    "                    if disease_codes_[l] == str(code):# if the code is in the disease codes of the record\n",
    "\n",
    "                        disease_list.append(data[0])\n",
    "                \n",
    "\n",
    "    \n",
    "    return disease_list\n",
    "\n",
    "def disease_codes(data):\n",
    "    disease_codes = data[1]['comments'][2].split()[1].split(',')\n",
    "    return disease_codes\n",
    "\n",
    "def unique_disease_categorization(code):\n",
    "                           #path_1_list:list,path : str):\n",
    "    \"\"\"we have some disease codes named code and we have to check in file eg: WFDBRecords/01/010/JS00018 file\n",
    "    if data[1]['comments'][2].split()[1].split(',') contain the code then we have to append the data[0] to the list\"\"\"\n",
    "    disease_list = []\n",
    "    for i in range(len(path_1_list)):\n",
    "        path_1 = path_1_list[i]#path_1 is the folder name inside the WFDBRecords\n",
    "        relative_path_1 = path+'/'+path_1\n",
    "        path_2_list = os.listdir(relative_path_1)#list of folder in the path_1\n",
    "\n",
    "\n",
    "        for j in range(len(path_2_list)):# checking each folder in the path_1\n",
    "            path_2 = path_2_list[j]\n",
    "\n",
    "\n",
    "            path_to_dir = relative_path_1 + '/' + path_2 + '/'\n",
    "\n",
    "            records = open(path_to_dir+'RECORDS','r').read().split()#WFDBRecords/path1/path2/RECORDS\n",
    "            # reocords is a list of all the records in the path2 folder\n",
    "\n",
    "            for k in range(len(records)):\n",
    "                \"\"\" uncomment the commented paart to see which fie is currupted\"\"\"\n",
    "                # print(path_1_list[i],path_2_list[j],records[k])\n",
    "                # print(path_to_dir+'RECORDS')\n",
    "                data = wfdb.rdsamp(path_to_dir+records[k])# explained above\n",
    "                disease_codes_ = disease_codes(data)# return the desease codes of the record AS SHOWN ABOVE\n",
    "\n",
    "                if len(disease_codes_) == 1: # for records with only one disease code\n",
    "                    if disease_codes_[0] == str(code):# if the code is in the disease_codes_ then append the data[0] to the list\n",
    "                        disease_list.append(data[0])\n",
    "    return disease_list\n",
    "\n",
    "\n"
   ]
  },
  {
   "cell_type": "code",
   "execution_count": 15,
   "metadata": {},
   "outputs": [],
   "source": [
    "path_to_disease_codes = 'data/a-large-scale-12-lead-electrocardiogram-database-for-arrhythmia-study-1.0.0/ConditionNames_SNOMED-CT.csv'\n",
    "# it is a csv file containing the disease codes and their names\n",
    "disease_codes_list = pd.DataFrame(pd.read_csv(path_to_disease_codes))"
   ]
  },
  {
   "cell_type": "code",
   "execution_count": 16,
   "metadata": {},
   "outputs": [
    {
     "data": {
      "text/html": [
       "<div>\n",
       "<style scoped>\n",
       "    .dataframe tbody tr th:only-of-type {\n",
       "        vertical-align: middle;\n",
       "    }\n",
       "\n",
       "    .dataframe tbody tr th {\n",
       "        vertical-align: top;\n",
       "    }\n",
       "\n",
       "    .dataframe thead th {\n",
       "        text-align: right;\n",
       "    }\n",
       "</style>\n",
       "<table border=\"1\" class=\"dataframe\">\n",
       "  <thead>\n",
       "    <tr style=\"text-align: right;\">\n",
       "      <th></th>\n",
       "      <th>Acronym Name</th>\n",
       "      <th>Full Name</th>\n",
       "      <th>Snomed_CT</th>\n",
       "    </tr>\n",
       "  </thead>\n",
       "  <tbody>\n",
       "    <tr>\n",
       "      <th>0</th>\n",
       "      <td>1AVB</td>\n",
       "      <td>1 degree atrioventricular block</td>\n",
       "      <td>270492004</td>\n",
       "    </tr>\n",
       "    <tr>\n",
       "      <th>1</th>\n",
       "      <td>2AVB</td>\n",
       "      <td>2 degree atrioventricular block</td>\n",
       "      <td>195042002</td>\n",
       "    </tr>\n",
       "    <tr>\n",
       "      <th>2</th>\n",
       "      <td>2AVB1</td>\n",
       "      <td>2 degree atrioventricular block(Type one)</td>\n",
       "      <td>54016002</td>\n",
       "    </tr>\n",
       "    <tr>\n",
       "      <th>3</th>\n",
       "      <td>2AVB2</td>\n",
       "      <td>2 degree atrioventricular block(Type two)</td>\n",
       "      <td>28189009</td>\n",
       "    </tr>\n",
       "    <tr>\n",
       "      <th>4</th>\n",
       "      <td>3AVB</td>\n",
       "      <td>3 degree atrioventricular block</td>\n",
       "      <td>27885002</td>\n",
       "    </tr>\n",
       "    <tr>\n",
       "      <th>...</th>\n",
       "      <td>...</td>\n",
       "      <td>...</td>\n",
       "      <td>...</td>\n",
       "    </tr>\n",
       "    <tr>\n",
       "      <th>58</th>\n",
       "      <td>SVT</td>\n",
       "      <td>Supraventricular Tachycardia</td>\n",
       "      <td>426761007</td>\n",
       "    </tr>\n",
       "    <tr>\n",
       "      <th>59</th>\n",
       "      <td>AT</td>\n",
       "      <td>Atrial Tachycardia</td>\n",
       "      <td>713422000</td>\n",
       "    </tr>\n",
       "    <tr>\n",
       "      <th>60</th>\n",
       "      <td>AVNRT</td>\n",
       "      <td>Atrioventricular  Node Reentrant Tachycardia</td>\n",
       "      <td>233896004</td>\n",
       "    </tr>\n",
       "    <tr>\n",
       "      <th>61</th>\n",
       "      <td>AVRT</td>\n",
       "      <td>Atrioventricular Reentrant Tachycardia</td>\n",
       "      <td>233897008</td>\n",
       "    </tr>\n",
       "    <tr>\n",
       "      <th>62</th>\n",
       "      <td>SAAWR</td>\n",
       "      <td>Sinus Atrium to Atrial Wandering Rhythm</td>\n",
       "      <td>195101003</td>\n",
       "    </tr>\n",
       "  </tbody>\n",
       "</table>\n",
       "<p>63 rows × 3 columns</p>\n",
       "</div>"
      ],
      "text/plain": [
       "   Acronym Name                                     Full Name  Snomed_CT\n",
       "0          1AVB               1 degree atrioventricular block  270492004\n",
       "1          2AVB               2 degree atrioventricular block  195042002\n",
       "2         2AVB1     2 degree atrioventricular block(Type one)   54016002\n",
       "3         2AVB2     2 degree atrioventricular block(Type two)   28189009\n",
       "4          3AVB               3 degree atrioventricular block   27885002\n",
       "..          ...                                           ...        ...\n",
       "58          SVT                  Supraventricular Tachycardia  426761007\n",
       "59           AT                            Atrial Tachycardia  713422000\n",
       "60        AVNRT  Atrioventricular  Node Reentrant Tachycardia  233896004\n",
       "61         AVRT        Atrioventricular Reentrant Tachycardia  233897008\n",
       "62        SAAWR       Sinus Atrium to Atrial Wandering Rhythm  195101003\n",
       "\n",
       "[63 rows x 3 columns]"
      ]
     },
     "execution_count": 16,
     "metadata": {},
     "output_type": "execute_result"
    }
   ],
   "source": [
    "disease_codes_list\n",
    "#snomed_ct is the disease code\n",
    "# acronym is the name of the disease"
   ]
  },
  {
   "cell_type": "markdown",
   "metadata": {},
   "source": []
  },
  {
   "cell_type": "code",
   "execution_count": 17,
   "metadata": {},
   "outputs": [
    {
     "name": "stderr",
     "output_type": "stream",
     "text": [
      "Processing disease codes:   0%|          | 0/63 [00:00<?, ?it/s]"
     ]
    },
    {
     "name": "stdout",
     "output_type": "stream",
     "text": [
      "270492004\n"
     ]
    },
    {
     "name": "stderr",
     "output_type": "stream",
     "text": [
      "Processing disease codes:   0%|          | 0/63 [00:18<?, ?it/s]\n"
     ]
    },
    {
     "ename": "KeyboardInterrupt",
     "evalue": "",
     "output_type": "error",
     "traceback": [
      "\u001b[0;31m---------------------------------------------------------------------------\u001b[0m",
      "\u001b[0;31mKeyboardInterrupt\u001b[0m                         Traceback (most recent call last)",
      "Cell \u001b[0;32mIn[17], line 10\u001b[0m\n\u001b[1;32m      8\u001b[0m \u001b[38;5;28;01mfor\u001b[39;00m code \u001b[38;5;129;01min\u001b[39;00m tqdm(disease_code, desc\u001b[38;5;241m=\u001b[39m\u001b[38;5;124m\"\u001b[39m\u001b[38;5;124mProcessing disease codes\u001b[39m\u001b[38;5;124m\"\u001b[39m):\n\u001b[1;32m      9\u001b[0m     \u001b[38;5;28mprint\u001b[39m(code)\n\u001b[0;32m---> 10\u001b[0m     cc \u001b[38;5;241m=\u001b[39m \u001b[43mdisease_categorization\u001b[49m\u001b[43m(\u001b[49m\u001b[43mcode\u001b[49m\u001b[43m)\u001b[49m\n\u001b[1;32m     11\u001b[0m     \u001b[38;5;28mprint\u001b[39m(\u001b[38;5;28mlen\u001b[39m(cc))\n\u001b[1;32m     12\u001b[0m     \u001b[38;5;66;03m# disease_list.append(cc)  # list of records for each disease code\u001b[39;00m\n",
      "Cell \u001b[0;32mIn[14], line 29\u001b[0m, in \u001b[0;36mdisease_categorization\u001b[0;34m(code)\u001b[0m\n\u001b[1;32m     26\u001b[0m \u001b[38;5;250m\u001b[39m\u001b[38;5;124;03m\"\"\" uncomment the commented paart to see which fie is currupted\"\"\"\u001b[39;00m\n\u001b[1;32m     27\u001b[0m \u001b[38;5;66;03m# print(path_1_list[i],path_2_list[j],records[k])\u001b[39;00m\n\u001b[1;32m     28\u001b[0m \u001b[38;5;66;03m# print(path_to_dir+'RECORDS')\u001b[39;00m\n\u001b[0;32m---> 29\u001b[0m data \u001b[38;5;241m=\u001b[39m \u001b[43mwfdb\u001b[49m\u001b[38;5;241;43m.\u001b[39;49m\u001b[43mrdsamp\u001b[49m\u001b[43m(\u001b[49m\u001b[43mpath_to_dir\u001b[49m\u001b[38;5;241;43m+\u001b[39;49m\u001b[43mrecords\u001b[49m\u001b[43m[\u001b[49m\u001b[43mk\u001b[49m\u001b[43m]\u001b[49m\u001b[43m)\u001b[49m\u001b[38;5;66;03m# explained above\u001b[39;00m\n\u001b[1;32m     30\u001b[0m disease_codes_ \u001b[38;5;241m=\u001b[39m disease_codes(data)\u001b[38;5;66;03m# return the desease codes of the record AS SHOWN ABOVE\u001b[39;00m\n\u001b[1;32m     32\u001b[0m \u001b[38;5;28;01mif\u001b[39;00m \u001b[38;5;28mlen\u001b[39m(disease_codes_) \u001b[38;5;241m==\u001b[39m \u001b[38;5;241m1\u001b[39m: \u001b[38;5;66;03m# for records with only one disease code\u001b[39;00m\n",
      "File \u001b[0;32m~/.local/lib/python3.10/site-packages/wfdb/io/record.py:2317\u001b[0m, in \u001b[0;36mrdsamp\u001b[0;34m(record_name, sampfrom, sampto, channels, pn_dir, channel_names, warn_empty, return_res)\u001b[0m\n\u001b[1;32m   2312\u001b[0m     dir_list \u001b[38;5;241m=\u001b[39m pn_dir\u001b[38;5;241m.\u001b[39msplit(\u001b[38;5;124m\"\u001b[39m\u001b[38;5;124m/\u001b[39m\u001b[38;5;124m\"\u001b[39m)\n\u001b[1;32m   2313\u001b[0m     pn_dir \u001b[38;5;241m=\u001b[39m posixpath\u001b[38;5;241m.\u001b[39mjoin(\n\u001b[1;32m   2314\u001b[0m         dir_list[\u001b[38;5;241m0\u001b[39m], download\u001b[38;5;241m.\u001b[39mget_version(dir_list[\u001b[38;5;241m0\u001b[39m]), \u001b[38;5;241m*\u001b[39mdir_list[\u001b[38;5;241m1\u001b[39m:]\n\u001b[1;32m   2315\u001b[0m     )\n\u001b[0;32m-> 2317\u001b[0m record \u001b[38;5;241m=\u001b[39m \u001b[43mrdrecord\u001b[49m\u001b[43m(\u001b[49m\n\u001b[1;32m   2318\u001b[0m \u001b[43m    \u001b[49m\u001b[43mrecord_name\u001b[49m\u001b[38;5;241;43m=\u001b[39;49m\u001b[43mrecord_name\u001b[49m\u001b[43m,\u001b[49m\n\u001b[1;32m   2319\u001b[0m \u001b[43m    \u001b[49m\u001b[43msampfrom\u001b[49m\u001b[38;5;241;43m=\u001b[39;49m\u001b[43msampfrom\u001b[49m\u001b[43m,\u001b[49m\n\u001b[1;32m   2320\u001b[0m \u001b[43m    \u001b[49m\u001b[43msampto\u001b[49m\u001b[38;5;241;43m=\u001b[39;49m\u001b[43msampto\u001b[49m\u001b[43m,\u001b[49m\n\u001b[1;32m   2321\u001b[0m \u001b[43m    \u001b[49m\u001b[43mchannels\u001b[49m\u001b[38;5;241;43m=\u001b[39;49m\u001b[43mchannels\u001b[49m\u001b[43m,\u001b[49m\n\u001b[1;32m   2322\u001b[0m \u001b[43m    \u001b[49m\u001b[43mphysical\u001b[49m\u001b[38;5;241;43m=\u001b[39;49m\u001b[38;5;28;43;01mTrue\u001b[39;49;00m\u001b[43m,\u001b[49m\n\u001b[1;32m   2323\u001b[0m \u001b[43m    \u001b[49m\u001b[43mpn_dir\u001b[49m\u001b[38;5;241;43m=\u001b[39;49m\u001b[43mpn_dir\u001b[49m\u001b[43m,\u001b[49m\n\u001b[1;32m   2324\u001b[0m \u001b[43m    \u001b[49m\u001b[43mm2s\u001b[49m\u001b[38;5;241;43m=\u001b[39;49m\u001b[38;5;28;43;01mTrue\u001b[39;49;00m\u001b[43m,\u001b[49m\n\u001b[1;32m   2325\u001b[0m \u001b[43m    \u001b[49m\u001b[43mreturn_res\u001b[49m\u001b[38;5;241;43m=\u001b[39;49m\u001b[43mreturn_res\u001b[49m\u001b[43m,\u001b[49m\n\u001b[1;32m   2326\u001b[0m \u001b[43m    \u001b[49m\u001b[43mchannel_names\u001b[49m\u001b[38;5;241;43m=\u001b[39;49m\u001b[43mchannel_names\u001b[49m\u001b[43m,\u001b[49m\n\u001b[1;32m   2327\u001b[0m \u001b[43m    \u001b[49m\u001b[43mwarn_empty\u001b[49m\u001b[38;5;241;43m=\u001b[39;49m\u001b[43mwarn_empty\u001b[49m\u001b[43m,\u001b[49m\n\u001b[1;32m   2328\u001b[0m \u001b[43m\u001b[49m\u001b[43m)\u001b[49m\n\u001b[1;32m   2330\u001b[0m signals \u001b[38;5;241m=\u001b[39m record\u001b[38;5;241m.\u001b[39mp_signal\n\u001b[1;32m   2331\u001b[0m fields \u001b[38;5;241m=\u001b[39m {}\n",
      "File \u001b[0;32m~/.local/lib/python3.10/site-packages/wfdb/io/record.py:2029\u001b[0m, in \u001b[0;36mrdrecord\u001b[0;34m(record_name, sampfrom, sampto, channels, physical, pn_dir, m2s, smooth_frames, ignore_skew, return_res, force_channels, channel_names, warn_empty)\u001b[0m\n\u001b[1;32m   2024\u001b[0m     dir_list \u001b[38;5;241m=\u001b[39m pn_dir\u001b[38;5;241m.\u001b[39msplit(\u001b[38;5;124m\"\u001b[39m\u001b[38;5;124m/\u001b[39m\u001b[38;5;124m\"\u001b[39m)\n\u001b[1;32m   2025\u001b[0m     pn_dir \u001b[38;5;241m=\u001b[39m posixpath\u001b[38;5;241m.\u001b[39mjoin(\n\u001b[1;32m   2026\u001b[0m         dir_list[\u001b[38;5;241m0\u001b[39m], download\u001b[38;5;241m.\u001b[39mget_version(dir_list[\u001b[38;5;241m0\u001b[39m]), \u001b[38;5;241m*\u001b[39mdir_list[\u001b[38;5;241m1\u001b[39m:]\n\u001b[1;32m   2027\u001b[0m     )\n\u001b[0;32m-> 2029\u001b[0m record \u001b[38;5;241m=\u001b[39m \u001b[43mrdheader\u001b[49m\u001b[43m(\u001b[49m\u001b[43mrecord_name\u001b[49m\u001b[43m,\u001b[49m\u001b[43m \u001b[49m\u001b[43mpn_dir\u001b[49m\u001b[38;5;241;43m=\u001b[39;49m\u001b[43mpn_dir\u001b[49m\u001b[43m,\u001b[49m\u001b[43m \u001b[49m\u001b[43mrd_segments\u001b[49m\u001b[38;5;241;43m=\u001b[39;49m\u001b[38;5;28;43;01mFalse\u001b[39;49;00m\u001b[43m)\u001b[49m\n\u001b[1;32m   2031\u001b[0m \u001b[38;5;66;03m# Set defaults for sampto and channels input variables\u001b[39;00m\n\u001b[1;32m   2032\u001b[0m \u001b[38;5;28;01mif\u001b[39;00m sampto \u001b[38;5;129;01mis\u001b[39;00m \u001b[38;5;28;01mNone\u001b[39;00m:\n\u001b[1;32m   2033\u001b[0m     \u001b[38;5;66;03m# If the header does not contain the signal length, figure it\u001b[39;00m\n\u001b[1;32m   2034\u001b[0m     \u001b[38;5;66;03m# out from the first dat file. This is only possible for single\u001b[39;00m\n\u001b[1;32m   2035\u001b[0m     \u001b[38;5;66;03m# segment records. If there are no signals, sig_len is 0.\u001b[39;00m\n",
      "File \u001b[0;32m~/.local/lib/python3.10/site-packages/wfdb/io/record.py:1863\u001b[0m, in \u001b[0;36mrdheader\u001b[0;34m(record_name, pn_dir, rd_segments)\u001b[0m\n\u001b[1;32m   1860\u001b[0m \u001b[38;5;66;03m# There are signals\u001b[39;00m\n\u001b[1;32m   1861\u001b[0m \u001b[38;5;28;01mif\u001b[39;00m \u001b[38;5;28mlen\u001b[39m(header_lines) \u001b[38;5;241m>\u001b[39m \u001b[38;5;241m1\u001b[39m:\n\u001b[1;32m   1862\u001b[0m     \u001b[38;5;66;03m# Read the fields from the signal lines\u001b[39;00m\n\u001b[0;32m-> 1863\u001b[0m     signal_fields \u001b[38;5;241m=\u001b[39m \u001b[43m_header\u001b[49m\u001b[38;5;241;43m.\u001b[39;49m\u001b[43m_parse_signal_lines\u001b[49m\u001b[43m(\u001b[49m\u001b[43mheader_lines\u001b[49m\u001b[43m[\u001b[49m\u001b[38;5;241;43m1\u001b[39;49m\u001b[43m:\u001b[49m\u001b[43m]\u001b[49m\u001b[43m)\u001b[49m\n\u001b[1;32m   1864\u001b[0m     \u001b[38;5;66;03m# Set the object's signal fields\u001b[39;00m\n\u001b[1;32m   1865\u001b[0m     \u001b[38;5;28;01mfor\u001b[39;00m field \u001b[38;5;129;01min\u001b[39;00m signal_fields:\n",
      "File \u001b[0;32m~/.local/lib/python3.10/site-packages/wfdb/io/_header.py:1133\u001b[0m, in \u001b[0;36m_parse_signal_lines\u001b[0;34m(signal_lines)\u001b[0m\n\u001b[1;32m   1131\u001b[0m \u001b[38;5;28;01mif\u001b[39;00m SIGNAL_SPECS\u001b[38;5;241m.\u001b[39mloc[field, \u001b[38;5;124m\"\u001b[39m\u001b[38;5;124mallowed_types\u001b[39m\u001b[38;5;124m\"\u001b[39m] \u001b[38;5;129;01mis\u001b[39;00m int_types:\n\u001b[1;32m   1132\u001b[0m     signal_fields[field][ch] \u001b[38;5;241m=\u001b[39m \u001b[38;5;28mint\u001b[39m(signal_fields[field][ch])\n\u001b[0;32m-> 1133\u001b[0m \u001b[38;5;28;01melif\u001b[39;00m \u001b[43mSIGNAL_SPECS\u001b[49m\u001b[38;5;241;43m.\u001b[39;49m\u001b[43mloc\u001b[49m\u001b[43m[\u001b[49m\u001b[43mfield\u001b[49m\u001b[43m,\u001b[49m\u001b[43m \u001b[49m\u001b[38;5;124;43m\"\u001b[39;49m\u001b[38;5;124;43mallowed_types\u001b[39;49m\u001b[38;5;124;43m\"\u001b[39;49m\u001b[43m]\u001b[49m \u001b[38;5;129;01mis\u001b[39;00m float_types:\n\u001b[1;32m   1134\u001b[0m     signal_fields[field][ch] \u001b[38;5;241m=\u001b[39m \u001b[38;5;28mfloat\u001b[39m(signal_fields[field][ch])\n\u001b[1;32m   1135\u001b[0m     \u001b[38;5;66;03m# Special case: adc_gain of 0 means 200\u001b[39;00m\n",
      "File \u001b[0;32m~/.local/lib/python3.10/site-packages/pandas/core/indexing.py:1182\u001b[0m, in \u001b[0;36m_LocationIndexer.__getitem__\u001b[0;34m(self, key)\u001b[0m\n\u001b[1;32m   1180\u001b[0m key \u001b[38;5;241m=\u001b[39m \u001b[38;5;28mtuple\u001b[39m(\u001b[38;5;28mlist\u001b[39m(x) \u001b[38;5;28;01mif\u001b[39;00m is_iterator(x) \u001b[38;5;28;01melse\u001b[39;00m x \u001b[38;5;28;01mfor\u001b[39;00m x \u001b[38;5;129;01min\u001b[39;00m key)\n\u001b[1;32m   1181\u001b[0m key \u001b[38;5;241m=\u001b[39m \u001b[38;5;28mtuple\u001b[39m(com\u001b[38;5;241m.\u001b[39mapply_if_callable(x, \u001b[38;5;28mself\u001b[39m\u001b[38;5;241m.\u001b[39mobj) \u001b[38;5;28;01mfor\u001b[39;00m x \u001b[38;5;129;01min\u001b[39;00m key)\n\u001b[0;32m-> 1182\u001b[0m \u001b[38;5;28;01mif\u001b[39;00m \u001b[38;5;28;43mself\u001b[39;49m\u001b[38;5;241;43m.\u001b[39;49m\u001b[43m_is_scalar_access\u001b[49m\u001b[43m(\u001b[49m\u001b[43mkey\u001b[49m\u001b[43m)\u001b[49m:\n\u001b[1;32m   1183\u001b[0m     \u001b[38;5;28;01mreturn\u001b[39;00m \u001b[38;5;28mself\u001b[39m\u001b[38;5;241m.\u001b[39mobj\u001b[38;5;241m.\u001b[39m_get_value(\u001b[38;5;241m*\u001b[39mkey, takeable\u001b[38;5;241m=\u001b[39m\u001b[38;5;28mself\u001b[39m\u001b[38;5;241m.\u001b[39m_takeable)\n\u001b[1;32m   1184\u001b[0m \u001b[38;5;28;01mreturn\u001b[39;00m \u001b[38;5;28mself\u001b[39m\u001b[38;5;241m.\u001b[39m_getitem_tuple(key)\n",
      "File \u001b[0;32m~/.local/lib/python3.10/site-packages/pandas/core/indexing.py:1269\u001b[0m, in \u001b[0;36m_LocIndexer._is_scalar_access\u001b[0;34m(self, key)\u001b[0m\n\u001b[1;32m   1266\u001b[0m     \u001b[38;5;28;01mreturn\u001b[39;00m \u001b[38;5;28;01mFalse\u001b[39;00m\n\u001b[1;32m   1268\u001b[0m ax \u001b[38;5;241m=\u001b[39m \u001b[38;5;28mself\u001b[39m\u001b[38;5;241m.\u001b[39mobj\u001b[38;5;241m.\u001b[39maxes[i]\n\u001b[0;32m-> 1269\u001b[0m \u001b[38;5;28;01mif\u001b[39;00m \u001b[38;5;28;43misinstance\u001b[39;49m\u001b[43m(\u001b[49m\u001b[43max\u001b[49m\u001b[43m,\u001b[49m\u001b[43m \u001b[49m\u001b[43mMultiIndex\u001b[49m\u001b[43m)\u001b[49m:\n\u001b[1;32m   1270\u001b[0m     \u001b[38;5;28;01mreturn\u001b[39;00m \u001b[38;5;28;01mFalse\u001b[39;00m\n\u001b[1;32m   1272\u001b[0m \u001b[38;5;28;01mif\u001b[39;00m \u001b[38;5;28misinstance\u001b[39m(k, \u001b[38;5;28mstr\u001b[39m) \u001b[38;5;129;01mand\u001b[39;00m ax\u001b[38;5;241m.\u001b[39m_supports_partial_string_indexing:\n\u001b[1;32m   1273\u001b[0m     \u001b[38;5;66;03m# partial string indexing, df.loc['2000', 'A']\u001b[39;00m\n\u001b[1;32m   1274\u001b[0m     \u001b[38;5;66;03m# should not be considered scalar\u001b[39;00m\n",
      "\u001b[0;31mKeyboardInterrupt\u001b[0m: "
     ]
    }
   ],
   "source": [
    "from tqdm import tqdm\n",
    "\n",
    "disease_name = disease_codes_list.get('Acronym Name')\n",
    "disease_code = disease_codes_list.get('Snomed_CT')\n",
    "disease_list = []  # IDK what this is for\n",
    "code_list_len = []\n",
    "\n",
    "for code in tqdm(disease_code, desc=\"Processing disease codes\"):\n",
    "    print(code)\n",
    "    cc = unique_disease_categorization(code)\n",
    "    print(len(cc))\n",
    "    # disease_list.append(cc)  # list of records for each disease code\n",
    "    code_list_len.append(len(cc))  # how many records are there for each disease code"
   ]
  },
  {
   "cell_type": "code",
   "execution_count": null,
   "metadata": {},
   "outputs": [
    {
     "data": {
      "text/plain": [
       "[1140,\n",
       " 66,\n",
       " 31,\n",
       " 0,\n",
       " 76,\n",
       " 3,\n",
       " 1545,\n",
       " 1312,\n",
       " 1063,\n",
       " 853,\n",
       " 244,\n",
       " 162,\n",
       " 76,\n",
       " 366,\n",
       " 3,\n",
       " 771,\n",
       " 771,\n",
       " 75,\n",
       " 11,\n",
       " 240,\n",
       " 240,\n",
       " 240,\n",
       " 647,\n",
       " 1043,\n",
       " 0,\n",
       " 0,\n",
       " 123,\n",
       " 123,\n",
       " 123,\n",
       " 123,\n",
       " 123,\n",
       " 52,\n",
       " 142,\n",
       " 394,\n",
       " 36,\n",
       " 649,\n",
       " 110,\n",
       " 1668,\n",
       " 801,\n",
       " 1158,\n",
       " 176,\n",
       " 7043,\n",
       " 2877,\n",
       " 136,\n",
       " 3,\n",
       " 56,\n",
       " 116,\n",
       " 294,\n",
       " 12,\n",
       " 8,\n",
       " 2,\n",
       " 72,\n",
       " 16559,\n",
       " 8125,\n",
       " 1780,\n",
       " 7254,\n",
       " 8060,\n",
       " 2550,\n",
       " 724,\n",
       " 297,\n",
       " 0,\n",
       " 26,\n",
       " 2]"
      ]
     },
     "execution_count": 18,
     "metadata": {},
     "output_type": "execute_result"
    }
   ],
   "source": [
    "code_list_len"
   ]
  },
  {
   "cell_type": "code",
   "execution_count": null,
   "metadata": {},
   "outputs": [
    {
     "name": "stdout",
     "output_type": "stream",
     "text": [
      "7043\n",
      "TWC\n",
      "164934002 \n",
      "\n",
      "16559\n",
      "SB\n",
      "426177001 \n",
      "\n",
      "8125\n",
      "SR\n",
      "426783006 \n",
      "\n",
      "7254\n",
      "ST\n",
      "427084000 \n",
      "\n",
      "8060\n",
      "AF\n",
      "164890007 \n",
      "\n"
     ]
    }
   ],
   "source": [
    "for items in range(len(code_list_len)):\n",
    "    if code_list_len[items] >= 5000:\n",
    "        print(code_list_len[items])\n",
    "        print(disease_name[items])\n",
    "        print(disease_code[items],\"\\n\")"
   ]
  },
  {
   "cell_type": "markdown",
   "metadata": {},
   "source": [
    "# data save"
   ]
  },
  {
   "cell_type": "code",
   "execution_count": 24,
   "metadata": {},
   "outputs": [],
   "source": [
    "SB_code = 426177001\n",
    "SR_code = 426783006\n",
    "ST_code = 427084000\n",
    "AF_code = 164890007\n",
    "TWC_code = 164934002"
   ]
  },
  {
   "cell_type": "code",
   "execution_count": null,
   "metadata": {},
   "outputs": [
    {
     "name": "stdout",
     "output_type": "stream",
     "text": [
      "len of disease_AF: 8060\n",
      "len of disease_TWC: 7043\n",
      "len of only disease_AF: 1483\n",
      "len of only disease_TWC: 0\n"
     ]
    }
   ],
   "source": [
    "# disease_AF= disease_categorization(AF_code)\n",
    "# print(f\"len of disease_AF: {len(disease_AF)}\")\n",
    "# disease_TWC = disease_categorization(TWC_code)\n",
    "# print(f\"len of disease_TWC: {len(disease_TWC)}\")\n",
    "\n",
    "# disease_AF= unique_disease_categorization(AF_code)\n",
    "# print(f\"len of only disease_AF: {len(disease_AF)}\")\n",
    "# disease_TWC = unique_disease_categorization(TWC_code)\n",
    "# print(f\"len of only disease_TWC: {len(disease_TWC)}\")\n",
    "\n"
   ]
  },
  {
   "cell_type": "code",
   "execution_count": 33,
   "metadata": {},
   "outputs": [
    {
     "name": "stdout",
     "output_type": "stream",
     "text": [
      "len of only disease_SR: 5908\n",
      "len of only disease_SB: 8909\n",
      "len of only disease_ST: 3223\n"
     ]
    }
   ],
   "source": [
    "disease_SR = unique_disease_categorization(SR_code)\n",
    "print(f\"len of only disease_SR: {len(disease_SR)}\")\n",
    "disease_SB = unique_disease_categorization(SB_code)\n",
    "print(f\"len of only disease_SB: {len(disease_SB)}\")\n",
    "disease_ST = unique_disease_categorization(ST_code)\n",
    "print(f\"len of only disease_ST: {len(disease_ST)}\")"
   ]
  },
  {
   "cell_type": "code",
   "execution_count": 34,
   "metadata": {},
   "outputs": [
    {
     "name": "stdout",
     "output_type": "stream",
     "text": [
      "8909\n",
      "1\n",
      "3\n",
      "2\n",
      "5908\n",
      "done done\n"
     ]
    }
   ],
   "source": [
    "SB_code = 426177001\n",
    "SR_code = 426783006\n",
    "ST_code = 427084000\n",
    "import random\n",
    "\n",
    "print(len(disease_SB))\n",
    "disease_SB_cut = disease_SB[0:5000]\n",
    "disease_SB_cut_random=random.sample(disease_SB,5000)\n",
    "data = asarray(disease_SB_cut)\n",
    "data_random = asarray(disease_SB_cut_random)\n",
    "print(1)\n",
    "save('unq_disease_SB.npy', data)\n",
    "print(3)\n",
    "save('unq_disease_SB_random.npy', data_random)\n",
    "print(2)\n",
    "del disease_SB_cut,disease_SB_cut_random,data,data_random,disease_SB\n",
    "\n",
    "\n",
    "print(len(disease_SR))\n",
    "disease_SR_cut = disease_SR[0:5000]\n",
    "disease_SR_cut_random=random.sample(disease_SR,5000)\n",
    "data = asarray(disease_SR_cut)\n",
    "data_random = asarray(disease_SR_cut_random)\n",
    "save('unq_disease_SR.npy', data)\n",
    "save('unq_disease_SR_random.npy', data_random)\n",
    "del disease_SR_cut,disease_SR_cut_random,data,data_random,disease_SR\n",
    "\n",
    "\n",
    "disease_ST_cut = disease_ST[0:3000]\n",
    "disease_ST_cut_random=random.sample(disease_ST,3000)\n",
    "data = asarray(disease_ST_cut)\n",
    "data_random = asarray(disease_ST_cut_random)\n",
    "save('unq_disease_ST.npy', data)\n",
    "save('unq_disease_ST_random.npy', data_random)\n",
    "del disease_ST_cut,disease_ST_cut_random,data,data_random,disease_ST\n",
    "\n",
    "\n",
    "\n",
    "\n",
    "\n",
    "\n",
    "print(\"done done\")"
   ]
  },
  {
   "cell_type": "code",
   "execution_count": 35,
   "metadata": {},
   "outputs": [
    {
     "data": {
      "text/plain": [
       "' u can use code_list_len directly by uncommenting '"
      ]
     },
     "execution_count": 35,
     "metadata": {},
     "output_type": "execute_result"
    }
   ],
   "source": [
    "\"\"\" u can use code_list_len directly by uncommenting \"\"\"\n",
    "#code_list_len=[1140,\n",
    "#  66,\n",
    "#  31,\n",
    "#  0,\n",
    "#  76,\n",
    "#  3,\n",
    "#  1545,\n",
    "#  1312,\n",
    "#  1063,\n",
    "#  853,\n",
    "#  244,\n",
    "#  162,\n",
    "#  76,\n",
    "#  366,\n",
    "#  3,\n",
    "#  771,\n",
    "#  771,\n",
    "#  75,\n",
    "#  11,\n",
    "#  240,\n",
    "#  240,\n",
    "#  240,\n",
    "#  647,\n",
    "#  1043,\n",
    "#  0,\n",
    "#  0,\n",
    "#  123,\n",
    "#  123,\n",
    "#  123,\n",
    "#  123,\n",
    "#  123,\n",
    "#  52,\n",
    "#  142,\n",
    "#  394,\n",
    "#  36,\n",
    "#  649,\n",
    "#  110,\n",
    "#  1668,\n",
    "#  801,\n",
    "#  1158,\n",
    "#  176,\n",
    "#  7043,\n",
    "#  2877,\n",
    "#  136,\n",
    "#  3,\n",
    "#  56,\n",
    "#  116,\n",
    "#  294,\n",
    "#  12,\n",
    "#  8,\n",
    "#  2,\n",
    "#  72,\n",
    "#  16559,\n",
    "#  8125,\n",
    "#  1780,\n",
    "#  7254,\n",
    "#  8060,\n",
    "#  2550,\n",
    "#  724,\n",
    "#  297,\n",
    "#  0,\n",
    "#  26,\n",
    "#  2]"
   ]
  }
 ],
 "metadata": {
  "kernelspec": {
   "display_name": "Python 3",
   "language": "python",
   "name": "python3"
  },
  "language_info": {
   "codemirror_mode": {
    "name": "ipython",
    "version": 3
   },
   "file_extension": ".py",
   "mimetype": "text/x-python",
   "name": "python",
   "nbconvert_exporter": "python",
   "pygments_lexer": "ipython3",
   "version": "3.10.12"
  }
 },
 "nbformat": 4,
 "nbformat_minor": 2
}
