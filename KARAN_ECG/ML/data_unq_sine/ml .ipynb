{
 "cells": [
  {
   "cell_type": "code",
   "execution_count": 1,
   "metadata": {},
   "outputs": [],
   "source": [
    "import torch\n",
    "import torch.nn as nn\n",
    "import torch.nn.functional as F\n",
    "\n",
    "\n",
    "import pandas as pd\n",
    "import matplotlib.pyplot as plt\n",
    "# %matplotlib inline\n",
    "import numpy as np"
   ]
  },
  {
   "cell_type": "code",
   "execution_count": 2,
   "metadata": {},
   "outputs": [],
   "source": [
    "## wait for 2 hours\n",
    "import time\n",
    "\n",
    "time.sleep(8500)\n",
    "\n"
   ]
  },
  {
   "cell_type": "markdown",
   "metadata": {},
   "source": [
    "## data read\n"
   ]
  },
  {
   "cell_type": "code",
   "execution_count": 3,
   "metadata": {},
   "outputs": [],
   "source": [
    "\n",
    "\n",
    "in_f = 10000\n",
    "\n",
    "\n",
    "\n",
    "data_ST_list = []\n",
    "for i in range(10):\n",
    "    cc = np.loadtxt('disease_ST_svd_'+str(i)+'.txt')\n",
    "    data_ST_list.append(cc)\n",
    "\n",
    "\n",
    "data_ST_list = np.array(data_ST_list)\n",
    "data_ST = np.resize(data_ST_list,(5000,10000))\n",
    "\n",
    "data_ST_ = []\n",
    "for i in range(data_ST.shape[0]):\n",
    "    data_ST_.append(data_ST[i][0:in_f])\n",
    "\n",
    "data_ST_ = np.array(data_ST_)\n",
    "\n",
    "\n",
    "del data_ST, data_ST_list\n",
    "\n",
    "\n",
    "\n",
    "\n",
    "\n",
    "data_SB_list = []\n",
    "for i in range(10):\n",
    "    cc = np.loadtxt('disease_SB_svd_'+str(i)+'.txt')\n",
    "    data_SB_list.append(cc)\n",
    "\n",
    "\n",
    "data_SB_list = np.array(data_SB_list)\n",
    "data_SB = np.resize(data_SB_list,(5000,10000))\n",
    "\n",
    "data_SB_ = []\n",
    "for i in range(data_SB.shape[0]):\n",
    "    data_SB_.append(data_SB[i][0:in_f])\n",
    "\n",
    "data_SB_ = np.array(data_SB)\n",
    "\n",
    "\n",
    "del data_SB, data_SB_list\n",
    "\n",
    "\n",
    "\n",
    "\n",
    "data_SR_list = []\n",
    "for i in range(10):\n",
    "    cc = np.loadtxt('disease_SR_svd_'+str(i)+'.txt')\n",
    "    data_SR_list.append(cc)\n",
    "\n",
    "\n",
    "data_SR_list = np.array(data_SR_list)\n",
    "data_SR = np.resize(data_SR_list,(5000,10000))\n",
    "\n",
    "data_SR_ = []\n",
    "for i in range(data_SR.shape[0]):\n",
    "    data_SR_.append(data_SR[i][0:in_f])\n",
    "\n",
    "data_SR_ = np.array(data_SR_)\n",
    "\n",
    "\n",
    "del data_SR, data_SR_list\n",
    "\n",
    "\n",
    "\n"
   ]
  },
  {
   "cell_type": "code",
   "execution_count": 4,
   "metadata": {},
   "outputs": [],
   "source": [
    "data_all= np.concatenate((data_ST_,data_SB_,data_SR_),axis=0)"
   ]
  },
  {
   "cell_type": "code",
   "execution_count": 5,
   "metadata": {},
   "outputs": [
    {
     "data": {
      "text/plain": [
       "10000"
      ]
     },
     "execution_count": 5,
     "metadata": {},
     "output_type": "execute_result"
    }
   ],
   "source": [
    "len(data_all[0])\n"
   ]
  },
  {
   "cell_type": "code",
   "execution_count": 6,
   "metadata": {},
   "outputs": [],
   "source": [
    "# from sklearn.decomposition import PCA\n",
    "\n",
    "# pca = PCA(n_components=250)  # reduce to 100 features\n",
    "# data_all = pca.fit_transform(data_all)"
   ]
  },
  {
   "cell_type": "markdown",
   "metadata": {},
   "source": [
    "###  old data merge"
   ]
  },
  {
   "cell_type": "code",
   "execution_count": 7,
   "metadata": {},
   "outputs": [],
   "source": [
    "# data_ST_train = []\n",
    "# data_SR_train = []\n",
    "# data_SB_train = []\n",
    "\n",
    "# for i in range(2500):\n",
    "#     data_SB_train.append(data_SB_[i])\n",
    "#     data_SR_train.append(data_SR_[i])\n",
    "#     data_ST_train.append(data_ST_[i])\n",
    "\n",
    "\n",
    "\n",
    "# data_ST_test = []\n",
    "# data_SR_test = []\n",
    "# data_SB_test = []\n",
    "\n",
    "# for i in range(3000,4000):\n",
    "#     data_SB_test.append(data_SB_[i])\n",
    "#     data_SR_test.append(data_SR_[i])\n",
    "#     data_ST_test.append(data_ST_[i])\n",
    "\n",
    "\n",
    "# data_train = data_SB_train + data_SR_train + data_ST_train\n",
    "# data_test = data_SB_test + data_SR_test + data_ST_test\n",
    "\n",
    "\n",
    "# del data_SB_train, data_SR_train, data_ST_train\n",
    "# del data_SB_test, data_SR_test, data_ST_test\n",
    "\n",
    "\n",
    "\n"
   ]
  },
  {
   "cell_type": "code",
   "execution_count": 8,
   "metadata": {},
   "outputs": [],
   "source": [
    "# label_train = []\n",
    "# for i in range(2500):\n",
    "#     label_train.append(0)\n",
    "\n",
    "# for i in range(2500):\n",
    "#     label_train.append(1)\n",
    "\n",
    "# for i in range(2500):\n",
    "#     label_train.append(2)\n",
    "\n",
    "# label_train = np.array(label_train)\n",
    "\n",
    "# label_test = []\n",
    "# for i in range(1000):\n",
    "#     label_test.append(0)\n",
    "\n",
    "# for i in range(1000):\n",
    "#     label_test.append(1)\n",
    "\n",
    "# for i in range(1000):\n",
    "#     label_test.append(2)\n",
    "\n",
    "# label_test = np.array(label_test)\n"
   ]
  },
  {
   "cell_type": "markdown",
   "metadata": {},
   "source": [
    "### random merge"
   ]
  },
  {
   "cell_type": "code",
   "execution_count": 9,
   "metadata": {},
   "outputs": [],
   "source": [
    "# list of 5000 0s then 5000 1s then 5000 2s\n",
    "label = []\n",
    "for j in range(3):\n",
    "    for i in range(5000):\n",
    "        label.append(j)\n"
   ]
  },
  {
   "cell_type": "code",
   "execution_count": 10,
   "metadata": {},
   "outputs": [
    {
     "data": {
      "text/plain": [
       "15000"
      ]
     },
     "execution_count": 10,
     "metadata": {},
     "output_type": "execute_result"
    }
   ],
   "source": [
    "len(label)"
   ]
  },
  {
   "cell_type": "code",
   "execution_count": 11,
   "metadata": {},
   "outputs": [],
   "source": [
    "from sklearn.model_selection import train_test_split\n",
    "data_train, data_test, label_train, label_test = train_test_split(data_all, label, test_size=0.2, random_state=42)"
   ]
  },
  {
   "cell_type": "code",
   "execution_count": 12,
   "metadata": {},
   "outputs": [],
   "source": [
    "data_train = torch.FloatTensor(data_train)\n",
    "label_train = torch.LongTensor(label_train)\n",
    "\n",
    "data_test = torch.FloatTensor(data_test)\n",
    "label_test = torch.LongTensor(label_test)"
   ]
  },
  {
   "cell_type": "code",
   "execution_count": 13,
   "metadata": {},
   "outputs": [],
   "source": [
    "class Model(nn.Module):\n",
    "  def __init__(self, in_features= 10000 , h1= 2000  , h2= 500,\n",
    "                h3 = 200 , h4 = 50, h5 = 10,\n",
    "                    out_features=3):\n",
    "    super().__init__()\n",
    "    self.fc1 = nn.Linear(in_features, h1)\n",
    "    self.fc2 = nn.Linear(h1, h2)\n",
    "    self.fc3 = nn.Linear(h2, h3)\n",
    "    self.fc4 = nn.Linear(h3, h4)\n",
    "    self.fc5 = nn.Linear(h4, h5)\n",
    "\n",
    "\n",
    "    self.out = nn.Linear(h5, out_features)\n",
    "\n",
    "  def forward(self, x):\n",
    "    x = F.relu(self.fc1(x))\n",
    "    x = F.relu(self.fc2(x))\n",
    "    x = F.relu(self.fc3(x))\n",
    "    x = F.relu(self.fc4(x))\n",
    "    x = F.relu(self.fc5(x))\n",
    "\n",
    "\n",
    "    x = self.out(x)\n",
    "\n",
    "    return x\n",
    "\n",
    "\n",
    "torch.manual_seed(42)\n",
    "model = Model()\n",
    "\n",
    "def restart():\n",
    "    torch.manual_seed(42)\n",
    "    model = Model()\n",
    "    return model\n"
   ]
  },
  {
   "cell_type": "code",
   "execution_count": 14,
   "metadata": {},
   "outputs": [],
   "source": [
    "# accuracy\n",
    "def accuracy(y_pred, y_test):\n",
    "  correct = 0\n",
    "  for i in range(len(y_pred)):\n",
    "    if y_pred[i] == y_test[i]:\n",
    "      correct += 1\n",
    "  return correct / len(y_pred)"
   ]
  },
  {
   "cell_type": "code",
   "execution_count": 15,
   "metadata": {},
   "outputs": [
    {
     "name": "stderr",
     "output_type": "stream",
     "text": [
      "/home/karansingh/.local/lib/python3.10/site-packages/torch/cuda/__init__.py:619: UserWarning: Can't initialize NVML\n",
      "  warnings.warn(\"Can't initialize NVML\")\n"
     ]
    },
    {
     "name": "stdout",
     "output_type": "stream",
     "text": [
      "Epoch: 0 and train loss: 1.122922420501709 | validation loss : 1.1173334121704102\n",
      "Epoch: 0 Accuracy Train: 0.33025 | Accuracy Test: 0.3456666666666667\n",
      "Epoch: 100 and train loss: 0.15466557443141937 | validation loss : 0.37376177310943604\n",
      "Epoch: 100 Accuracy Train: 0.9475833333333333 | Accuracy Test: 0.8933333333333333\n",
      "Epoch: 200 and train loss: 0.005152175202965736 | validation loss : 0.8270718455314636\n",
      "Epoch: 200 Accuracy Train: 0.9978333333333333 | Accuracy Test: 0.928\n",
      "Epoch: 300 and train loss: 0.0032232366502285004 | validation loss : 0.9542532563209534\n",
      "Epoch: 300 Accuracy Train: 0.99825 | Accuracy Test: 0.9276666666666666\n",
      "Epoch: 400 and train loss: 0.003049904480576515 | validation loss : 1.766603708267212\n",
      "Epoch: 400 Accuracy Train: 0.99825 | Accuracy Test: 0.9273333333333333\n",
      "Epoch: 500 and train loss: 0.0030489948112517595 | validation loss : 1.9580925703048706\n",
      "Epoch: 500 Accuracy Train: 0.99825 | Accuracy Test: 0.927\n",
      "Epoch: 600 and train loss: 0.0030486618634313345 | validation loss : 2.068545341491699\n",
      "Epoch: 600 Accuracy Train: 0.99825 | Accuracy Test: 0.9273333333333333\n",
      "Epoch: 700 and train loss: 0.0030485002789646387 | validation loss : 2.1528303623199463\n",
      "Epoch: 700 Accuracy Train: 0.99825 | Accuracy Test: 0.9266666666666666\n",
      "Epoch: 800 and train loss: 0.003053287509828806 | validation loss : 2.2255067825317383\n",
      "Epoch: 800 Accuracy Train: 0.99825 | Accuracy Test: 0.9263333333333333\n",
      "Epoch: 900 and train loss: 0.0030482823494821787 | validation loss : 2.2913076877593994\n",
      "Epoch: 900 Accuracy Train: 0.99825 | Accuracy Test: 0.9263333333333333\n"
     ]
    }
   ],
   "source": [
    "model=restart()\n",
    "\n",
    "criterion = nn.CrossEntropyLoss()\n",
    "optimizer = torch.optim.Adam(model.parameters(), lr=0.01\n",
    "                             )\n",
    "\n",
    "epochs = 1000\n",
    "# epochs = 100\n",
    "losses = []\n",
    "validation_losses = []\n",
    "for i in range(epochs):\n",
    "  \n",
    "  y_pred = model.forward(data_train) \n",
    "\n",
    "  loss = criterion(y_pred, label_train) \n",
    "\n",
    "  # Evaluate Model on Test Data Set (validate model on test set)\n",
    "  with torch.no_grad():  # Basically turn off back propogation\n",
    "    y_eval = model.forward(data_test) # X_test are features from our test set, y_eval will be predictions\n",
    "    validation_loss = criterion(y_eval, label_test) # Find the loss or error\n",
    "    validation_losses.append(validation_loss.detach().numpy().item())\n",
    "\n",
    "\n",
    "\n",
    "  losses.append(loss.detach().numpy().item())\n",
    "\n",
    "  if i % 100 == 0:\n",
    "    print(f'Epoch: {i} and train loss: {loss} | validation loss : {validation_loss}')\n",
    "    acc= accuracy(y_eval.argmax(1), label_test)\n",
    "    acc_train = accuracy(y_pred.argmax(1), label_train)\n",
    "    print(f'Epoch: {i} Accuracy Train: {acc_train} | Accuracy Test: {acc}')\n",
    "\n",
    "  optimizer.zero_grad()\n",
    "  loss.backward()\n",
    "  optimizer.step()\n",
    "\n",
    "\n",
    "\n"
   ]
  },
  {
   "cell_type": "code",
   "execution_count": 16,
   "metadata": {},
   "outputs": [],
   "source": [
    "losses = np.array(losses)\n",
    "np.savetxt('loss_model_.txt', losses)"
   ]
  },
  {
   "cell_type": "code",
   "execution_count": 17,
   "metadata": {},
   "outputs": [
    {
     "data": {
      "image/png": "[encoded data removed]",
      "text/plain": [
       "<Figure size 640x480 with 1 Axes>"
      ]
     },
     "metadata": {},
     "output_type": "display_data"
    }
   ],
   "source": [
    "plt.plot(range(len(losses)), losses)\n",
    "plt.ylabel(\"Training loss/error\")\n",
    "plt.xlabel('Epoch')\n",
    "plt.savefig('training_loss.png')"
   ]
  },
  {
   "cell_type": "code",
   "execution_count": 18,
   "metadata": {},
   "outputs": [
    {
     "data": {
      "image/png": "[encoded data removed]",
      "text/plain": [
       "<Figure size 640x480 with 1 Axes>"
      ]
     },
     "metadata": {},
     "output_type": "display_data"
    }
   ],
   "source": [
    "plt.plot(range(len(validation_losses)), validation_losses)\n",
    "plt.ylabel(\"Validation loss/error\")\n",
    "plt.xlabel('Epoch')\n",
    "\n",
    "\n",
    "\n",
    "plt.savefig('validation_loss.png')\n",
    "\n",
    "\n"
   ]
  },
  {
   "cell_type": "code",
   "execution_count": null,
   "metadata": {},
   "outputs": [],
   "source": []
  }
 ],
 "metadata": {
  "kernelspec": {
   "display_name": "Python 3 (ipykernel)",
   "language": "python",
   "name": "python3"
  },
  "language_info": {
   "codemirror_mode": {
    "name": "ipython",
    "version": 3
   },
   "file_extension": ".py",
   "mimetype": "text/x-python",
   "name": "python",
   "nbconvert_exporter": "python",
   "pygments_lexer": "ipython3",
   "version": "3.10.12"
  }
 },
 "nbformat": 4,
 "nbformat_minor": 4
}
