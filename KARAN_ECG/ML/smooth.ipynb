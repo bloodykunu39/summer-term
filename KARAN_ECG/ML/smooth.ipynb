{
 "cells": [
  {
   "cell_type": "code",
   "execution_count": 1,
   "metadata": {},
   "outputs": [],
   "source": [
    "from sklearn.preprocessing import StandardScaler\n",
    "\n",
    "import numpy as np\n",
    "from numpy import load\n",
    "import scipy\n",
    "import matplotlib.pyplot as plt\n",
    "from scipy.special import legendre\n",
    "from numpy.linalg import svd\n",
    "\n",
    "from time import time\n",
    "\n"
   ]
  },
  {
   "cell_type": "code",
   "execution_count": 2,
   "metadata": {},
   "outputs": [],
   "source": [
    "from joblib import Parallel, delayed"
   ]
  },
  {
   "cell_type": "code",
   "execution_count": 3,
   "metadata": {},
   "outputs": [
    {
     "data": {
      "text/plain": [
       "(array([[0., 0., 0., ..., 0., 0., 0.],\n",
       "        [0., 0., 0., ..., 0., 0., 0.],\n",
       "        [0., 0., 0., ..., 0., 0., 0.],\n",
       "        ...,\n",
       "        [0., 0., 0., ..., 0., 0., 0.],\n",
       "        [0., 0., 0., ..., 0., 0., 0.],\n",
       "        [0., 0., 0., ..., 0., 0., 0.]]),\n",
       " array([[-1.        ],\n",
       "        [-0.99959992],\n",
       "        [-0.99919984],\n",
       "        ...,\n",
       "        [ 0.99919984],\n",
       "        [ 0.99959992],\n",
       "        [ 1.        ]]))"
      ]
     },
     "execution_count": 3,
     "metadata": {},
     "output_type": "execute_result"
    }
   ],
   "source": [
    "sum=np.zeros((5000,5000))\n",
    "x = np.linspace(-1,1,5000)\n",
    "# modefify x to 2d array\n",
    "x = x[:,np.newaxis]\n",
    "sum,x"
   ]
  },
  {
   "cell_type": "code",
   "execution_count": 4,
   "metadata": {},
   "outputs": [
    {
     "data": {
      "text/plain": [
       "40.83299482885549"
      ]
     },
     "execution_count": 4,
     "metadata": {},
     "output_type": "execute_result"
    }
   ],
   "source": [
    "np.linalg.norm(x,'fro')"
   ]
  },
  {
   "attachments": {
    "image.png": {
     "image/png": "[encoded data removed]"
    }
   },
   "cell_type": "markdown",
   "metadata": {},
   "source": [
    "![image.png](attachment:image.png)"
   ]
  },
  {
   "cell_type": "code",
   "execution_count": 5,
   "metadata": {},
   "outputs": [
    {
     "data": {
      "text/plain": [
       "array([ 1. ,  5.5, 13. ])"
      ]
     },
     "execution_count": 5,
     "metadata": {},
     "output_type": "execute_result"
    }
   ],
   "source": [
    "legendre(2)([1,2,3])"
   ]
  },
  {
   "cell_type": "code",
   "execution_count": 6,
   "metadata": {},
   "outputs": [
    {
     "data": {
      "text/plain": [
       "array([[ 4. , 22. , 52. ],\n",
       "       [ 5. , 27.5, 65. ],\n",
       "       [ 6. , 33. , 78. ]])"
      ]
     },
     "execution_count": 6,
     "metadata": {},
     "output_type": "execute_result"
    }
   ],
   "source": [
    "np.outer([4,5,6],legendre(2)([1,2,3]))"
   ]
  },
  {
   "cell_type": "code",
   "execution_count": 7,
   "metadata": {},
   "outputs": [],
   "source": [
    "#DEF FUNCTION INPUT SHOULD BE ONLY INT GIVE SQUARE\n",
    "\n",
    "def superposition(data: np.ndarray):# it will create \n",
    "    scale=StandardScaler()\n",
    "    \n",
    "    scaled = scale.fit_transform(data  )\n",
    "    sum=np.zeros((5000,5000))\n",
    "    x = np.linspace(-1,1,5000)\n",
    "    for i in range(data.shape[1]):\n",
    "        sum=sum+np.outer(data[:,i],#data is in shaPE OF 5000xDATA.shape[1] AN SHAPE[1] MEANS THE NUMBER OF COLUMNS\n",
    "                         legendre(i+1)(x)#legendre polinomial of order i+1 apllied to x p_n applies to matrix x\n",
    "                         )#outer product of the i-th column of the data matrix and the i-th legendre polynomial\n",
    "        \n",
    "    \n",
    "    return sum\n",
    "\n",
    "def singularvaluedecomposition(data):\n",
    "    data_sup = superposition(data)\n",
    "    a, data_svd, b = svd(data_sup)\n",
    "\n",
    "    return data_svd\n",
    "\n",
    "def normalize_matrix(matrix):\n",
    "    matrix_norm = np.linalg.norm(matrix, 'fro')#frobenius norm is the square root of the sum of the absolute squares of its elements\n",
    "                                                # works for 2d arrays\n",
    "    if np.isnan(matrix_norm):# is NAN not a number \n",
    "        #it will return a matrix of zeros of the same shape as the input matrix\n",
    "        return np.zeros_like(matrix)\n",
    "    else:\n",
    "        normalized_matrix = matrix / matrix_norm\n",
    "        return normalized_matrix\n",
    "    \n",
    "def coarse_grain(data,f):\n",
    "    img = superposition(data)#superposition of the data\n",
    "\n",
    "    s1=np.zeros((int(img.shape[0]/f)#shape[0] is the number of rows\n",
    "                 ,int(img.shape[1]/f))#shape[1] is the number of columns\n",
    "                 ) # Coarse grained image'\n",
    "\n",
    "    for i in range(s1.shape[0]):\n",
    "        for j in range(s1.shape[1]):\n",
    "            s1[i,j]=np.mean(img[i*f:i*f+f,j*f:j*f+f]) \n",
    "\n",
    "    return s1"
   ]
  },
  {
   "cell_type": "code",
   "execution_count": 8,
   "metadata": {},
   "outputs": [
    {
     "data": {
      "text/plain": [
       "'/home/karansingh/Documents/summer-term/KARAN_ECG'"
      ]
     },
     "execution_count": 8,
     "metadata": {},
     "output_type": "execute_result"
    }
   ],
   "source": [
    "import os\n",
    "os.getcwd()\n",
    "# go one directory back\n",
    "os.chdir(\"..\")\n",
    "os.getcwd()"
   ]
  },
  {
   "cell_type": "code",
   "execution_count": 9,
   "metadata": {},
   "outputs": [],
   "source": [
    "data = load('data_prep/disease_SR_random.npy')\n",
    "cc = coarse_grain(data[0],50)\n"
   ]
  },
  {
   "cell_type": "code",
   "execution_count": 10,
   "metadata": {},
   "outputs": [
    {
     "data": {
      "text/plain": [
       "((5000, 5000, 12), (100, 100), (5000, 12))"
      ]
     },
     "execution_count": 10,
     "metadata": {},
     "output_type": "execute_result"
    }
   ],
   "source": [
    "###### back\n",
    "data.shape,cc.shape,data[0].shape"
   ]
  },
  {
   "cell_type": "code",
   "execution_count": 11,
   "metadata": {},
   "outputs": [],
   "source": [
    "np.savetxt('junk.txt',cc)"
   ]
  },
  {
   "cell_type": "code",
   "execution_count": 12,
   "metadata": {},
   "outputs": [
    {
     "name": "stdout",
     "output_type": "stream",
     "text": [
      "166.8276011943817\n",
      "165.2117419242859\n",
      "165.487300157547\n",
      "164.90554475784302\n",
      "162.18966555595398\n",
      "162.0149085521698\n",
      "162.34888863563538\n",
      "162.1267523765564\n",
      "161.98145294189453\n",
      "162.34905529022217\n"
     ]
    }
   ],
   "source": [
    "############################################################\n",
    "    \n",
    "#### SR_data\n",
    "\n",
    "data = load('data_prep/disease_SR_random.npy')\n",
    "\n",
    "split_number = 10\n",
    "if len(data)%split_number == 0:\n",
    "    data_split = np.array_split(data,split_number)\n",
    "\n",
    "\n",
    "\n",
    "\n",
    "for i in range(split_number):\n",
    "    cc = data_split[i]\n",
    "\n",
    "    norm_matrix = []\n",
    "    for j in range(len(cc)):\n",
    "        norm_matrix.append(normalize_matrix(cc[j]))\n",
    "\n",
    "        \n",
    "\n",
    "    cc = norm_matrix\n",
    "\n",
    "    start = time()\n",
    "    results = Parallel(n_jobs = 10)(delayed(coarse_grain)(x,50) for x in cc)\n",
    "    end = time()\n",
    "\n",
    "    print(end- start)\n",
    "\n",
    "    results = np.array(results)\n",
    "    cc = []\n",
    "    for j in range(results.shape[0]):\n",
    "        cc.append(results[j].ravel())\n",
    "\n",
    "    np.savetxt('disease_SR_svd' + '_'+str(i) + '.txt',cc)\n"
   ]
  },
  {
   "cell_type": "code",
   "execution_count": 13,
   "metadata": {},
   "outputs": [
    {
     "name": "stdout",
     "output_type": "stream",
     "text": [
      "164.19348549842834\n",
      "164.998272895813\n",
      "163.7981357574463\n",
      "162.11219215393066\n",
      "162.18179750442505\n",
      "162.71906399726868\n",
      "162.61480617523193\n",
      "162.41529607772827\n",
      "162.1506667137146\n",
      "162.03329586982727\n"
     ]
    }
   ],
   "source": [
    "############################################################\n",
    "    \n",
    "#### SB data\n",
    "    \n",
    "data = load('data_prep/disease_SB_random.npy')\n",
    "\n",
    "split_number = 10\n",
    "if len(data)%split_number == 0:\n",
    "    data_split = np.array_split(data,split_number)\n",
    "\n",
    "\n",
    "\n",
    "\n",
    "for i in range(split_number):\n",
    "    cc = data_split[i]\n",
    "\n",
    "    norm_matrix = []\n",
    "    for j in range(len(cc)):\n",
    "        norm_matrix.append(normalize_matrix(cc[j]))\n",
    "\n",
    "    cc = norm_matrix\n",
    "\n",
    "    start = time()\n",
    "    results = Parallel(n_jobs = 10)(delayed(coarse_grain)(x,50) for x in cc)\n",
    "    end = time()\n",
    "\n",
    "    print(end- start)\n",
    "    results = np.array(results)\n",
    "    cc = []\n",
    "    for j in range(results.shape[0]):\n",
    "        cc.append(results[j].ravel())\n",
    "    np.savetxt('disease_SB_svd' + '_'+str(i) + '.txt',cc)\n",
    "\n"
   ]
  },
  {
   "cell_type": "code",
   "execution_count": 14,
   "metadata": {},
   "outputs": [
    {
     "name": "stdout",
     "output_type": "stream",
     "text": [
      "164.06529355049133\n",
      "164.80181407928467\n",
      "166.62160086631775\n",
      "167.945170879364\n",
      "167.5277419090271\n",
      "167.81350469589233\n",
      "166.7825539112091\n",
      "165.3011507987976\n",
      "163.4963254928589\n",
      "163.39806008338928\n"
     ]
    }
   ],
   "source": [
    "############################################################\n",
    "    \n",
    "#### ST data\n",
    "    \n",
    "data = load('data_prep/disease_ST_random.npy')\n",
    "\n",
    "split_number = 10\n",
    "if len(data)%split_number == 0:\n",
    "    data_split = np.array_split(data,split_number)\n",
    "\n",
    "\n",
    "\n",
    "\n",
    "for i in range(split_number):\n",
    "    cc = data_split[i]\n",
    "\n",
    "    norm_matrix = []\n",
    "    for j in range(len(cc)):\n",
    "        norm_matrix.append(normalize_matrix(cc[j]))\n",
    "\n",
    "    cc = norm_matrix\n",
    "    \n",
    "    start = time()\n",
    "    results = Parallel(n_jobs = 10)(delayed(coarse_grain)(x,50) for x in cc)\n",
    "    end = time()\n",
    "\n",
    "    print(end- start)\n",
    "\n",
    "    results = np.array(results)\n",
    "    cc = []\n",
    "    for j in range(results.shape[0]):\n",
    "        cc.append(results[j].ravel())\n",
    "    np.savetxt('disease_ST_svd' + '_'+str(i) + '.txt',cc)"
   ]
  }
 ],
 "metadata": {
  "kernelspec": {
   "display_name": "Python 3",
   "language": "python",
   "name": "python3"
  },
  "language_info": {
   "codemirror_mode": {
    "name": "ipython",
    "version": 3
   },
   "file_extension": ".py",
   "mimetype": "text/x-python",
   "name": "python",
   "nbconvert_exporter": "python",
   "pygments_lexer": "ipython3",
   "version": "3.10.12"
  }
 },
 "nbformat": 4,
 "nbformat_minor": 2
}
