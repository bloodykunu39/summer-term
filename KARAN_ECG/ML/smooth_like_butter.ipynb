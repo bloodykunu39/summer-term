{
 "cells": [
  {
   "cell_type": "code",
   "execution_count": 2,
   "metadata": {},
   "outputs": [],
   "source": [
    "from sklearn.preprocessing import StandardScaler\n",
    "\n",
    "import numpy as np\n",
    "from numpy import load\n",
    "import scipy\n",
    "import matplotlib.pyplot as plt\n",
    "from scipy.special import legendre\n",
    "from numpy.linalg import svd\n",
    "\n",
    "from time import time\n",
    "\n"
   ]
  },
  {
   "cell_type": "code",
   "execution_count": 3,
   "metadata": {},
   "outputs": [],
   "source": [
    "from joblib import Parallel, delayed"
   ]
  },
  {
   "cell_type": "code",
   "execution_count": 4,
   "metadata": {},
   "outputs": [],
   "source": [
    "def superposition(data):\n",
    "    scale=StandardScaler()\n",
    "    \n",
    "\n",
    "    scaled = scale.fit_transform(data)\n",
    "    sum=np.zeros((5000,5000))\n",
    "    x = np.linspace(-1,1,5000)\n",
    "    for i in range(data.shape[1]):\n",
    "        sum=sum+np.outer(data[:,i],legendre(i+1)(x))\n",
    "    \n",
    "    return sum\n",
    "\n",
    "def singularvaluedecomposition(data):\n",
    "    data_sup = superposition(data)\n",
    "    a, data_svd, b = svd(data_sup)\n",
    "\n",
    "    return data_svd\n",
    "\n",
    "def normalize_matrix(matrix):\n",
    "    matrix_norm = np.linalg.norm(matrix, 'fro')\n",
    "\n",
    "    if np.isnan(matrix_norm):\n",
    "        return np.zeros_like(matrix)\n",
    "    else:\n",
    "        normalized_matrix = matrix / matrix_norm\n",
    "        return normalized_matrix\n",
    "    \n",
    "def coarse_grain(data,f):\n",
    "    img = superposition(data)\n",
    "    s1=np.zeros((int(img.shape[0]/f),int(img.shape[1]/f))) # Coarse grained image\n",
    "    for i in range(s1.shape[0]):\n",
    "     ############################################################\n",
    "    \n",
    "#### SB data\n",
    "    \n",
    "data = load('disease_ST.npy')\n",
    "\n",
    "split_number = 10\n",
    "if len(data)%split_number == 0:\n",
    "    data_split = np.array_split(data,split_number)\n",
    "\n",
    "\n",
    "\n",
    "\n",
    "for i in range(split_number):\n",
    "    cc = data_split[i]\n",
    "\n",
    "    norm_matrix = []\n",
    "    for j in range(len(cc)):\n",
    "        norm_matrix.append(normalize_matrix(cc[j]))\n",
    "\n",
    "    cc = norm_matrix\n",
    "    \n",
    "    start = time()\n",
    "    results = Parallel(n_jobs = 10)(delayed(coarse_grain)(x,50) for x in cc)\n",
    "    end = time()\n",
    "\n",
    "    print(end- start)\n",
    "\n",
    "    results = np.array(results)\n",
    "    cc = []\n",
    "    for j in range(results.shape[0]):\n",
    "        cc.append(results[j].ravel())\n",
    "    np.savetxt('disease_ST_svd' + '_'+str(i) + '.txt',cc)   for j in range(s1.shape[1]):\n",
    "            s1[i,j]=np.mean(img[i*f:i*f+f,j*f:j*f+f]) \n",
    "\n",
    "    return s1\n"
   ]
  },
  {
   "cell_type": "code",
   "execution_count": 6,
   "metadata": {},
   "outputs": [
    {
     "data": {
      "text/plain": [
       "'/home/karansingh/Documents/summer-term/KARAN_ECG'"
      ]
     },
     "execution_count": 6,
     "metadata": {},
     "output_type": "execute_result"
    }
   ],
   "source": [
    "import os\n",
    "os.getcwd()\n",
    "# go one directory back\n",
    "os.chdir(\"..\")\n",
    "os.getcwd()"
   ]
  },
  {
   "cell_type": "code",
   "execution_count": 8,
   "metadata": {},
   "outputs": [],
   "source": [
    "data = load('data_prep/disease_SR.npy')\n",
    "cc = coarse_grain(data[0],50)"
   ]
  },
  {
   "cell_type": "code",
   "execution_count": 9,
   "metadata": {},
   "outputs": [],
   "source": [
    "np.savetxt('junk.txt',cc)"
   ]
  },
  {
   "cell_type": "code",
   "execution_count": 12,
   "metadata": {},
   "outputs": [
    {
     "name": "stdout",
     "output_type": "stream",
     "text": [
      "165.12286114692688\n",
      "164.15911483764648\n",
      "160.88558673858643\n",
      "160.5459430217743\n",
      "160.55044555664062\n",
      "160.7904975414276\n",
      "160.44094038009644\n",
      "160.7474524974823\n",
      "160.54934191703796\n",
      "160.43897604942322\n"
     ]
    }
   ],
   "source": [
    "############################################################\n",
    "    \n",
    "#### SR data\n",
    "\n",
    "data = load('data_prep/disease_SR.npy')\n",
    "\n",
    "split_number = 10\n",
    "if len(data)%split_number == 0:\n",
    "    data_split = np.array_split(data,split_number)\n",
    "\n",
    "\n",
    "\n",
    "\n",
    "for i in range(split_number):\n",
    "    cc = data_split[i]\n",
    "\n",
    "    norm_matrix = []\n",
    "    for j in range(len(cc)):\n",
    "        norm_matrix.append(normalize_matrix(cc[j]))\n",
    "\n",
    "        \n",
    "\n",
    "    cc = norm_matrix\n",
    "\n",
    "    start = time()\n",
    "    results = Parallel(n_jobs = 10)(delayed(coarse_grain)(x,50) for x in cc)\n",
    "    end = time()\n",
    "\n",
    "    print(end- start)\n",
    "\n",
    "    results = np.array(results)\n",
    "    cc = []\n",
    "    for j in range(results.shape[0]):\n",
    "        cc.append(results[j].ravel())\n",
    "\n",
    "    np.savetxt('disease_SR_svd' + '_'+str(i) + '.txt',cc)\n"
   ]
  },
  {
   "cell_type": "code",
   "execution_count": 13,
   "metadata": {},
   "outputs": [
    {
     "name": "stdout",
     "output_type": "stream",
     "text": [
      "160.6299183368683\n",
      "160.5920124053955\n",
      "160.68267560005188\n",
      "160.46131348609924\n",
      "160.9263732433319\n",
      "160.35768723487854\n",
      "160.51931929588318\n",
      "160.4817190170288\n",
      "160.3933265209198\n",
      "160.49089121818542\n"
     ]
    }
   ],
   "source": [
    "############################################################\n",
    "    \n",
    "#### SB data\n",
    "    \n",
    "data = load('data_prep/disease_SB.npy')\n",
    "\n",
    "split_number = 10\n",
    "if len(data)%split_number == 0:\n",
    "    data_split = np.array_split(data,split_number)\n",
    "\n",
    "\n",
    "\n",
    "\n",
    "for i in range(split_number):\n",
    "    cc = data_split[i]\n",
    "\n",
    "    norm_matrix = []\n",
    "    for j in range(len(cc)):\n",
    "        norm_matrix.append(normalize_matrix(cc[j]))\n",
    "\n",
    "    cc = norm_matrix\n",
    "\n",
    "    start = time()\n",
    "    results = Parallel(n_jobs = 10)(delayed(coarse_grain)(x,50) for x in cc)\n",
    "    end = time()\n",
    "\n",
    "    print(end- start)\n",
    "    results = np.array(results)\n",
    "    cc = []\n",
    "    for j in range(results.shape[0]):\n",
    "        cc.append(results[j].ravel())\n",
    "    np.savetxt('disease_SB_svd' + '_'+str(i) + '.txt',cc)\n",
    "\n"
   ]
  },
  {
   "cell_type": "code",
   "execution_count": 14,
   "metadata": {},
   "outputs": [
    {
     "name": "stdout",
     "output_type": "stream",
     "text": [
      "160.45792770385742\n",
      "160.48773622512817\n",
      "162.50323152542114\n",
      "165.31025528907776\n",
      "164.3264696598053\n",
      "164.8017385005951\n",
      "165.75325512886047\n",
      "165.86100888252258\n",
      "165.0409872531891\n",
      "164.43712520599365\n"
     ]
    }
   ],
   "source": [
    "############################################################\n",
    "    \n",
    "#### SB data\n",
    "    \n",
    "data = load('data_prep/disease_ST.npy')\n",
    "\n",
    "split_number = 10\n",
    "if len(data)%split_number == 0:\n",
    "    data_split = np.array_split(data,split_number)\n",
    "\n",
    "\n",
    "\n",
    "\n",
    "for i in range(split_number):\n",
    "    cc = data_split[i]\n",
    "\n",
    "    norm_matrix = []\n",
    "    for j in range(len(cc)):\n",
    "        norm_matrix.append(normalize_matrix(cc[j]))\n",
    "\n",
    "    cc = norm_matrix\n",
    "    \n",
    "    start = time()\n",
    "    results = Parallel(n_jobs = 10)(delayed(coarse_grain)(x,50) for x in cc)\n",
    "    end = time()\n",
    "\n",
    "    print(end- start)\n",
    "\n",
    "    results = np.array(results)\n",
    "    cc = []\n",
    "    for j in range(results.shape[0]):\n",
    "        cc.append(results[j].ravel())\n",
    "    np.savetxt('disease_ST_svd' + '_'+str(i) + '.txt',cc)"
   ]
  }
 ],
 "metadata": {
  "kernelspec": {
   "display_name": "Python 3",
   "language": "python",
   "name": "python3"
  },
  "language_info": {
   "codemirror_mode": {
    "name": "ipython",
    "version": 3
   },
   "file_extension": ".py",
   "mimetype": "text/x-python",
   "name": "python",
   "nbconvert_exporter": "python",
   "pygments_lexer": "ipython3",
   "version": "3.10.12"
  }
 },
 "nbformat": 4,
 "nbformat_minor": 2
}
