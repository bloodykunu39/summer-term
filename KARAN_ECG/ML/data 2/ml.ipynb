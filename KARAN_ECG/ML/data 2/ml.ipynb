{
 "cells": [
  {
   "cell_type": "code",
   "execution_count": 2,
   "metadata": {},
   "outputs": [
    {
     "name": "stdout",
     "output_type": "stream",
     "text": [
      "len data_train:  7500  len data_sb_train:  2500  len data_sr_train:  2500  len data_st_train:  2500\n",
      "len data_test:  3000  len data_sb_test:  1000  len data_sr_test:  1000  len data_st_test:  1000\n"
     ]
    }
   ],
   "source": [
    "import torch\n",
    "import torch.nn as nn\n",
    "import torch.nn.functional as F\n",
    "\n",
    "\n",
    "import pandas as pd\n",
    "import matplotlib.pyplot as plt\n",
    "# %matplotlib inline\n",
    "import numpy as np\n",
    "\n",
    "in_f = 10000\n",
    "\n",
    "\n",
    "\n",
    "data_ST_list = []\n",
    "for i in range(10):\n",
    "    cc = np.loadtxt('disease_ST_svd_'+str(i)+'.txt')\n",
    "    data_ST_list.append(cc)\n",
    "\n",
    "\n",
    "data_ST_list = np.array(data_ST_list)\n",
    "data_ST = np.resize(data_ST_list,(5000,100,100))\n",
    "\n",
    "data_ST_ = []\n",
    "for i in range(data_ST.shape[0]):\n",
    "    data_ST_.append(data_ST[i][0:in_f])\n",
    "\n",
    "data_ST_ = np.array(data_ST_)\n",
    "\n",
    "\n",
    "del data_ST, data_ST_list\n",
    "\n",
    "\n",
    "\n",
    "\n",
    "\n",
    "data_SB_list = []\n",
    "for i in range(10):\n",
    "    cc = np.loadtxt('disease_SB_svd_'+str(i)+'.txt')\n",
    "    data_SB_list.append(cc)\n",
    "\n",
    "\n",
    "data_SB_list = np.array(data_SB_list)\n",
    "data_SB = np.resize(data_SB_list,(5000,10000))\n",
    "\n",
    "data_SB_ = []\n",
    "for i in range(data_SB.shape[0]):\n",
    "    data_SB_.append(data_SB[i][0:in_f])\n",
    "\n",
    "data_SB_ = np.array(data_SB_)\n",
    "\n",
    "\n",
    "del data_SB, data_SB_list\n",
    "\n",
    "\n",
    "\n",
    "\n",
    "data_SR_list = []\n",
    "for i in range(10):\n",
    "    cc = np.loadtxt('disease_SR_svd_'+str(i)+'.txt')\n",
    "    data_SR_list.append(cc)\n",
    "\n",
    "\n",
    "data_SR_list = np.array(data_SR_list)\n",
    "data_SR = np.resize(data_SR_list,(5000,10000))\n",
    "\n",
    "data_SR_ = []\n",
    "for i in range(data_SR.shape[0]):\n",
    "    data_SR_.append(data_SR[i][0:in_f])\n",
    "\n",
    "data_SR_ = np.array(data_SR_)\n",
    "\n",
    "\n",
    "del data_SR, data_SR_list\n",
    "\n",
    "\n",
    "\n",
    "data_ST_train = []\n",
    "data_SR_train = []\n",
    "data_SB_train = []\n",
    "\n",
    "for i in range(2500):\n",
    "    data_SB_train.append(data_SB_[i])\n",
    "    data_SR_train.append(data_SR_[i])\n",
    "    data_ST_train.append(data_ST_[i])\n",
    "\n",
    "\n",
    "\n",
    "data_ST_test = []\n",
    "data_SR_test = []\n",
    "data_SB_test = []\n",
    "\n",
    "for i in range(3000,4000):\n",
    "    data_SB_test.append(data_SB_[i])\n",
    "    data_SR_test.append(data_SR_[i])\n",
    "    data_ST_test.append(data_ST_[i])\n",
    "\n",
    "\n",
    "data_train = data_SB_train + data_SR_train + data_ST_train\n",
    "data_test = data_SB_test + data_SR_test + data_ST_test\n",
    "\n",
    "print(\"len data_train: \", len(data_train),\" len data_sb_train: \", len(data_SB_train), \" len data_sr_train: \", len(data_SR_train), \" len data_st_train: \", len(data_ST_train))\n",
    "print(\"len data_test: \", len(data_test),\" len data_sb_test: \", len(data_SB_test), \" len data_sr_test: \", len(data_SR_test), \" len data_st_test: \", len(data_ST_test))\n",
    "del data_SB_train, data_SR_train, data_ST_train\n",
    "del data_SB_test, data_SR_test, data_ST_test\n",
    "\n",
    "\n",
    "\n",
    "label_train = []\n",
    "for i in range(2500):\n",
    "    label_train.append(0)\n",
    "\n",
    "for i in range(2500):\n",
    "    label_train.append(1)\n",
    "\n",
    "for i in range(2500):\n",
    "    label_train.append(2)\n",
    "\n",
    "label_train = np.array(label_train)\n",
    "\n",
    "label_test = []\n",
    "for i in range(1000):\n",
    "    label_test.append(0)\n",
    "\n",
    "for i in range(1000):\n",
    "    label_test.append(1)\n",
    "\n",
    "for i in range(1000):\n",
    "    label_test.append(2)\n",
    "\n",
    "label_test = torch.tensor(label_test)\n",
    "\n",
    "\n",
    "\n"
   ]
  },
  {
   "cell_type": "code",
   "execution_count": null,
   "metadata": {},
   "outputs": [
    {
     "name": "stderr",
     "output_type": "stream",
     "text": [
      "/tmp/ipykernel_8198/775766362.py:1: UserWarning: Creating a tensor from a list of numpy.ndarrays is extremely slow. Please consider converting the list to a single numpy.ndarray with numpy.array() before converting to a tensor. (Triggered internally at ../torch/csrc/utils/tensor_new.cpp:274.)\n",
      "  data_train = torch.FloatTensor(data_train)\n"
     ]
    }
   ],
   "source": [
    "data_train = torch.FloatTensor(data_train)\n",
    "label_train = torch.LongTensor(label_train)\n",
    "\n",
    "data_test = torch.FloatTensor(data_test)"
   ]
  },
  {
   "cell_type": "code",
   "execution_count": null,
   "metadata": {},
   "outputs": [],
   "source": [
    "class Model(nn.Module):\n",
    "  def __init__(self, in_features= 10000 , h1= 128  , h2= 64 ,\n",
    "                h3 = 64 , h4 = 32, h5 = 16,\n",
    "                    out_features=3):\n",
    "    super().__init__()\n",
    "    self.fc1 = nn.Linear(in_features, h1)\n",
    "    self.fc2 = nn.Linear(h1, h2)\n",
    "    self.fc3 = nn.Linear(h2, h3)\n",
    "    self.fc4 = nn.Linear(h3, h4)\n",
    "    self.fc5 = nn.Linear(h4, h5)\n",
    "\n",
    "\n",
    "    self.out = nn.Linear(h5, out_features)\n",
    "\n",
    "  def forward(self, x):\n",
    "    x = F.relu(self.fc1(x))\n",
    "    x = F.relu(self.fc2(x))\n",
    "    x = F.relu(self.fc3(x))\n",
    "    x = F.relu(self.fc4(x))\n",
    "    x = F.relu(self.fc5(x))\n",
    "\n",
    "\n",
    "    x = self.out(x)\n",
    "\n",
    "    return x\n",
    "\n",
    "\n",
    "torch.manual_seed(42)\n",
    "model = Model()\n"
   ]
  },
  {
   "cell_type": "code",
   "execution_count": null,
   "metadata": {},
   "outputs": [
    {
     "name": "stdout",
     "output_type": "stream",
     "text": [
      "Epoch: 0 and loss: 1.120119571685791 validation loss : 1.1199500560760498\n",
      "Epoch: 100 and loss: 1.0799051523208618 validation loss : 1.0818134546279907\n",
      "Epoch: 200 and loss: 0.4994482100009918 validation loss : 0.6852468252182007\n",
      "Epoch: 300 and loss: 0.26994550228118896 validation loss : 0.6597504615783691\n",
      "Epoch: 400 and loss: 0.19579766690731049 validation loss : 0.6246020793914795\n",
      "Epoch: 500 and loss: 0.010376955382525921 validation loss : 1.0937873125076294\n",
      "Epoch: 600 and loss: 0.007201590109616518 validation loss : 1.282024621963501\n",
      "Epoch: 700 and loss: 0.006406035274267197 validation loss : 1.3847734928131104\n",
      "Epoch: 800 and loss: 0.006001691333949566 validation loss : 1.4549423456192017\n",
      "Epoch: 900 and loss: 0.0057247416116297245 validation loss : 1.5093941688537598\n"
     ]
    }
   ],
   "source": [
    "\n",
    "\n",
    "criterion = nn.CrossEntropyLoss()\n",
    "optimizer = torch.optim.SGD(model.parameters(), lr=0.1)\n",
    "\n",
    "epochs = 1000\n",
    "# epochs = 100\n",
    "losses = []\n",
    "validation_losses = []\n",
    "for i in range(epochs):\n",
    "    y_pred = model.forward(data_train) \n",
    "\n",
    "    loss = criterion(y_pred, label_train) \n",
    "\n",
    "    # Evaluate Model on Test Data Set (validate model on test set)\n",
    "    with torch.no_grad():  # Basically turn off back propogation\n",
    "        y_eval = model.forward(data_test) # X_test are features from our test set, y_eval will be predictions\n",
    "        validation_loss = criterion(y_eval, label_test) # Find the loss or error\n",
    "        validation_losses.append(validation_loss.detach().numpy().item())\n",
    "\n",
    "\n",
    "\n",
    "    losses.append(loss.detach().numpy().item())\n",
    "\n",
    "    if i % 100 == 0:\n",
    "        print(f'Epoch: {i} and loss: {loss} validation loss : {validation_loss}')\n",
    "\n",
    "    optimizer.zero_grad()\n",
    "    loss.backward()\n",
    "    optimizer.step()\n",
    "\n",
    "\n",
    "\n"
   ]
  },
  {
   "cell_type": "code",
   "execution_count": null,
   "metadata": {},
   "outputs": [
    {
     "data": {
      "text/plain": [
       "torch.float32"
      ]
     },
     "execution_count": 5,
     "metadata": {},
     "output_type": "execute_result"
    }
   ],
   "source": [
    "y_eval.dtype"
   ]
  },
  {
   "cell_type": "code",
   "execution_count": null,
   "metadata": {},
   "outputs": [],
   "source": [
    "losses = np.array(losses)\n",
    "np.savetxt('loss_model_.txt', losses)"
   ]
  },
  {
   "cell_type": "code",
   "execution_count": null,
   "metadata": {},
   "outputs": [
    {
     "data": {
      "image/png": "[encoded data removed]",
      "text/plain": [
       "<Figure size 640x480 with 1 Axes>"
      ]
     },
     "metadata": {},
     "output_type": "display_data"
    }
   ],
   "source": [
    "plt.plot(range(epochs), losses)\n",
    "plt.ylabel(\"Training loss/error\")\n",
    "plt.xlabel('Epoch')\n",
    "plt.savefig('training_loss.png')"
   ]
  },
  {
   "cell_type": "code",
   "execution_count": null,
   "metadata": {},
   "outputs": [
    {
     "data": {
      "image/png": "[encoded data removed]",
      "text/plain": [
       "<Figure size 640x480 with 1 Axes>"
      ]
     },
     "metadata": {},
     "output_type": "display_data"
    }
   ],
   "source": [
    "plt.plot(range(epochs), validation_losses)\n",
    "plt.ylabel(\"Validation loss/error\")\n",
    "plt.xlabel('Epoch')\n",
    "\n",
    "\n",
    "\n",
    "plt.savefig('validation_loss.png')"
   ]
  }
 ],
 "metadata": {
  "kernelspec": {
   "display_name": "Python 3",
   "language": "python",
   "name": "python3"
  },
  "language_info": {
   "codemirror_mode": {
    "name": "ipython",
    "version": 3
   },
   "file_extension": ".py",
   "mimetype": "text/x-python",
   "name": "python",
   "nbconvert_exporter": "python",
   "pygments_lexer": "ipython3",
   "version": "3.10.12"
  }
 },
 "nbformat": 4,
 "nbformat_minor": 2
}
