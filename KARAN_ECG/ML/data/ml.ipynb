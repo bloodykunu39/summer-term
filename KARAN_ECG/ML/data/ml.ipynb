{
 "cells": [
  {
   "cell_type": "code",
   "execution_count": 1,
   "metadata": {},
   "outputs": [],
   "source": [
    "# temp=np.loadtxt('disease_ST_svd_1.txt')\n",
    "# temp[0].shape"
   ]
  },
  {
   "cell_type": "code",
   "execution_count": 18,
   "metadata": {},
   "outputs": [
    {
     "data": {
      "text/plain": [
       "-0.02029328412019309"
      ]
     },
     "execution_count": 18,
     "metadata": {},
     "output_type": "execute_result"
    }
   ],
   "source": [
    "data_ST_list = []\n",
    "for i in range(10):\n",
    "    cc = np.loadtxt('disease_ST_svd_'+str(i)+'.txt')\n",
    "    data_ST_list.append(cc)\n",
    "\n",
    "\n",
    "data_ST_list = np.array(data_ST_list)\n",
    "\n",
    "data_ST_list.shape"
   ]
  },
  {
   "cell_type": "code",
   "execution_count": 19,
   "metadata": {},
   "outputs": [
    {
     "data": {
      "text/plain": [
       "(10, 500, 10000)"
      ]
     },
     "execution_count": 19,
     "metadata": {},
     "output_type": "execute_result"
    }
   ],
   "source": [
    "data_ST_list.shape"
   ]
  },
  {
   "cell_type": "code",
   "execution_count": 3,
   "metadata": {},
   "outputs": [],
   "source": [
    "# np.max(data_ST)"
   ]
  },
  {
   "cell_type": "code",
   "execution_count": 4,
   "metadata": {},
   "outputs": [],
   "source": [
    "import torch\n",
    "import torch.nn as nn\n",
    "import torch.nn.functional as F\n",
    "\n",
    "\n",
    "import pandas as pd\n",
    "import matplotlib.pyplot as plt\n",
    "# %matplotlib inline\n",
    "import numpy as np\n",
    "\n",
    "in_f = 10000\n",
    "\n",
    "\n",
    "\n",
    "data_ST_list = []\n",
    "for i in range(10):\n",
    "    cc = np.loadtxt('disease_ST_svd_'+str(i)+'.txt')\n",
    "    data_ST_list.append(cc)\n",
    "\n",
    "\n",
    "data_ST_list = np.array(data_ST_list)\n",
    "\n",
    "data_ST = np.resize(data_ST_list,(5000,10000))\n",
    "\n",
    "data_ST_ = []\n",
    "for i in range(data_ST.shape[0]):#5000\n",
    "    data_ST_.append(data_ST[i][0:in_f])\n",
    "\n",
    "data_ST_ = np.array(data_ST_) # create a list of 5000 samples with 10000 features\n",
    "\n",
    "\n",
    "del data_ST, data_ST_list\n",
    "\n",
    "\n",
    "\n",
    "\n",
    "\n",
    "data_SB_list = []\n",
    "for i in range(10):\n",
    "    cc = np.loadtxt('disease_SB_svd_'+str(i)+'.txt')\n",
    "    data_SB_list.append(cc)\n",
    "\n",
    "\n",
    "data_SB_list = np.array(data_SB_list)\n",
    "data_SB = np.resize(data_SB_list,(5000,10000))\n",
    "\n",
    "data_SB_ = []\n",
    "for i in range(data_SB.shape[0]):\n",
    "    data_SB_.append(data_SB[i][0:in_f])\n",
    "\n",
    "data_SB_ = np.array(data_SB_) # for SB desease\n",
    "\n",
    "\n",
    "del data_SB, data_SB_list\n",
    "\n",
    "\n",
    "\n",
    "\n",
    "data_SR_list = []\n",
    "for i in range(10):\n",
    "    cc = np.loadtxt('disease_SR_svd_'+str(i)+'.txt')\n",
    "    data_SR_list.append(cc)\n",
    "\n",
    "\n",
    "data_SR_list = np.array(data_SR_list)\n",
    "data_SR = np.resize(data_SR_list,(5000,10000))\n",
    "\n",
    "data_SR_ = []\n",
    "for i in range(data_SR.shape[0]):\n",
    "    data_SR_.append(data_SR[i][0:in_f])\n",
    "\n",
    "data_SR_ = np.array(data_SR_)\n",
    "\n",
    "\n",
    "del data_SR, data_SR_list\n",
    "\n",
    "\n",
    "\n",
    "data_ST_train = []\n",
    "data_SR_train = []\n",
    "data_SB_train = []\n",
    "\n",
    "for i in range(4000):# i change it 3000>>>4000\n",
    "    data_SB_train.append(data_SB_[i])\n",
    "    data_SR_train.append(data_SR_[i])\n",
    "    data_ST_train.append(data_ST_[i])\n",
    "\n",
    "\n",
    "\n",
    "data_ST_test = []\n",
    "data_SR_test = []\n",
    "data_SB_test = []\n",
    "\n",
    "for i in range(4000,5000): # i change it 3000--4000>>>4000--5000\n",
    "    data_SB_test.append(data_SB_[i])\n",
    "    data_SR_test.append(data_SR_[i])\n",
    "    data_ST_test.append(data_ST_[i])\n",
    "\n",
    "\n",
    "data_train = data_SB_train + data_SR_train + data_ST_train\n",
    "data_test = data_SB_test + data_SR_test + data_ST_test\n",
    "\n",
    "\n",
    "del data_SB_train, data_SR_train, data_ST_train\n",
    "del data_SB_test, data_SR_test, data_ST_test\n",
    "\n",
    "\n",
    "\n",
    "label_train = []\n",
    "for i in range(4000):\n",
    "    label_train.append(0)\n",
    "\n",
    "for i in range(4000):\n",
    "    label_train.append(1)\n",
    "\n",
    "for i in range(4000):\n",
    "    label_train.append(2)\n",
    "\n",
    "label_train = np.array(label_train)\n",
    "\n",
    "label_test = []\n",
    "for i in range(1000):\n",
    "    label_test.append(0)\n",
    "\n",
    "for i in range(1000):\n",
    "    label_test.append(1)\n",
    "\n",
    "for i in range(1000):\n",
    "    label_test.append(2)\n",
    "\n",
    "label_test = np.array(label_test)\n",
    "\n",
    "\n",
    "\n"
   ]
  },
  {
   "cell_type": "code",
   "execution_count": 5,
   "metadata": {},
   "outputs": [
    {
     "name": "stderr",
     "output_type": "stream",
     "text": [
      "/tmp/ipykernel_19042/1119287424.py:1: UserWarning: Creating a tensor from a list of numpy.ndarrays is extremely slow. Please consider converting the list to a single numpy.ndarray with numpy.array() before converting to a tensor. (Triggered internally at ../torch/csrc/utils/tensor_new.cpp:274.)\n",
      "  data_train = torch.FloatTensor(data_train)\n"
     ]
    },
    {
     "data": {
      "text/plain": [
       "(torch.float32,\n",
       " torch.int64,\n",
       " torch.float32,\n",
       " torch.int64,\n",
       " torch.Size([12000, 10000]),\n",
       " torch.Size([12000]),\n",
       " torch.Size([3000, 10000]),\n",
       " torch.Size([3000]))"
      ]
     },
     "execution_count": 5,
     "metadata": {},
     "output_type": "execute_result"
    }
   ],
   "source": [
    "data_train = torch.FloatTensor(data_train)\n",
    "label_train = torch.LongTensor(label_train)\n",
    "\n",
    "data_test = torch.FloatTensor(data_test)\n",
    "label_test = torch.LongTensor(label_test)\n",
    "data_train.dtype, label_train.dtype, data_test.dtype, label_test.dtype, data_train.shape, label_train.shape, data_test.shape, label_test.shape\n"
   ]
  },
  {
   "cell_type": "code",
   "execution_count": 6,
   "metadata": {},
   "outputs": [
    {
     "data": {
      "text/plain": [
       "(torch.float32,\n",
       " torch.int64,\n",
       " torch.float32,\n",
       " torch.int64,\n",
       " torch.Size([12000, 10000]),\n",
       " torch.Size([12000]),\n",
       " torch.Size([3000, 10000]),\n",
       " torch.Size([3000]))"
      ]
     },
     "execution_count": 6,
     "metadata": {},
     "output_type": "execute_result"
    }
   ],
   "source": [
    "data_train = (data_train - data_train.min()) / (data_train.max() - data_train.min()) \n",
    "data_test = (data_test - data_test.min()) / (data_test.max() - data_test.min())\n",
    "\n",
    "data_train.dtype, label_train.dtype, data_test.dtype, label_test.dtype, data_train.shape, label_train.shape, data_test.shape, label_test.shape\n"
   ]
  },
  {
   "cell_type": "code",
   "execution_count": 7,
   "metadata": {},
   "outputs": [
    {
     "data": {
      "text/plain": [
       "torch.int64"
      ]
     },
     "execution_count": 7,
     "metadata": {},
     "output_type": "execute_result"
    }
   ],
   "source": [
    "label_train.dtype"
   ]
  },
  {
   "cell_type": "code",
   "execution_count": 16,
   "metadata": {},
   "outputs": [],
   "source": [
    "class Model(nn.Module):\n",
    "  # def __init__(self, in_features= 10000 , h1= 6  , h2= 64 ,\n",
    "  #               h3 = 64 , h4 = 32, h5 = 16,\n",
    "  #                   out_features=3): \n",
    "  def __init__(self, in_features= 10000 , h1= 10  , h2= 5 ,\n",
    "                h3 = 20 , h4 = 10, h5 = 5,\n",
    "                    out_features=3):\n",
    "    super().__init__()\n",
    "    self.fc1 = nn.Linear(in_features, h1)\n",
    "    self.fc2 = nn.Linear(h1, h2)\n",
    "    self.fc3 = nn.Linear(h2, h3)\n",
    "    self.fc4 = nn.Linear(h3, h4)\n",
    "    self.fc5 = nn.Linear(h1, h5)\n",
    "\n",
    "\n",
    "    self.out = nn.Linear(h5, out_features)\n",
    "\n",
    "  def forward(self, x):\n",
    "    x = (self.fc1(x))\n",
    "    # x = F.relu(self.fc2(x))\n",
    "    # x = F.relu(self.fc3(x))\n",
    "    # x = F.relu(self.fc4(x))\n",
    "    x = (self.fc5(x))\n",
    "\n",
    "\n",
    "    x = self.out(x)\n",
    "\n",
    "    return x\n",
    "\n",
    "\n",
    "class ECGModel(nn.Module):\n",
    "    def __init__(self):\n",
    "        super(ECGModel, self).__init__()\n",
    "        self.fc1 = nn.Linear(10000, 512)\n",
    "        self.fc2 = nn.Linear(512, 256)\n",
    "        self.fc3 = nn.Linear(256, 128)\n",
    "        self.fc4 = nn.Linear(128, 64)\n",
    "        self.fc5 = nn.Linear(64, 3)  # Output layer with 3 classes\n",
    "\n",
    "    def forward(self, x):\n",
    "        x = (self.fc1(x))\n",
    "        x = (self.fc2(x))\n",
    "        x = (self.fc3(x))\n",
    "        x = (self.fc4(x))\n",
    "        x = self.fc5(x)\n",
    "        return x\n",
    "torch.manual_seed(42)\n",
    "device = torch.device(\"cuda\" if torch.cuda.is_available() else \"cpu\")\n",
    "\n",
    "model = Model().to(device)\n"
   ]
  },
  {
   "cell_type": "code",
   "execution_count": null,
   "metadata": {},
   "outputs": [],
   "source": []
  },
  {
   "cell_type": "code",
   "execution_count": 17,
   "metadata": {},
   "outputs": [
    {
     "name": "stdout",
     "output_type": "stream",
     "text": [
      "Epoch: 0 and loss: 1.111598014831543 validation loss : 1.1097654104232788\n",
      "Epoch: 100 and loss: 1.0986108779907227 validation loss : 1.0988075733184814\n",
      "Epoch: 200 and loss: 1.0985515117645264 validation loss : 1.098808765411377\n",
      "Epoch: 300 and loss: 1.0984745025634766 validation loss : 1.0988004207611084\n",
      "Epoch: 400 and loss: 1.0983803272247314 validation loss : 1.0987904071807861\n",
      "Epoch: 500 and loss: 1.0982697010040283 validation loss : 1.0987799167633057\n",
      "Epoch: 600 and loss: 1.098142147064209 validation loss : 1.0987685918807983\n",
      "Epoch: 700 and loss: 1.097995638847351 validation loss : 1.0987566709518433\n",
      "Epoch: 800 and loss: 1.0978267192840576 validation loss : 1.09874427318573\n",
      "Epoch: 900 and loss: 1.0976307392120361 validation loss : 1.0987316370010376\n"
     ]
    }
   ],
   "source": [
    "\n",
    "\n",
    "criterion = nn.CrossEntropyLoss()\n",
    "optimizer = torch.optim.Adam(params=model.parameters(), lr=0.0001)\n",
    "\n",
    "epochs = 1000\n",
    "# epochs = 100\n",
    "losses = []\n",
    "validation_losses = []\n",
    "for i in range(epochs):\n",
    "  \n",
    "  y_pred = model.forward(data_train.to(device))\n",
    "\n",
    "  loss = criterion(y_pred, label_train.to(device)).to('cpu')\n",
    "\n",
    "  # Evaluate Model on Test Data Set (validate model on test set)\n",
    "  with torch.no_grad():  # Basically turn off back propogation\n",
    "    y_eval = model.forward(data_test.to(device)) # X_test are features from our test set, y_eval will be predictions\n",
    "    validation_loss = criterion(y_eval, label_test.to(device)).to('cpu') # Find the loss or error\n",
    "    validation_losses.append(validation_loss.detach().numpy().item())\n",
    "\n",
    "\n",
    "\n",
    "  losses.append(loss.detach().numpy().item())\n",
    "\n",
    "  if i % 100 == 0:\n",
    "    print(f'Epoch: {i} and loss: {loss} validation loss : {validation_loss}')\n",
    "\n",
    "  optimizer.zero_grad()\n",
    "  loss.backward()\n",
    "  optimizer.step()\n",
    "\n",
    "\n",
    "\n"
   ]
  },
  {
   "cell_type": "code",
   "execution_count": 10,
   "metadata": {},
   "outputs": [
    {
     "data": {
      "text/plain": [
       "tensor(0.)"
      ]
     },
     "execution_count": 10,
     "metadata": {},
     "output_type": "execute_result"
    }
   ],
   "source": [
    "torch.min(data_test)"
   ]
  },
  {
   "cell_type": "code",
   "execution_count": 11,
   "metadata": {},
   "outputs": [],
   "source": [
    "losses = np.array(losses)\n",
    "np.savetxt('loss_model_.txt', losses)"
   ]
  },
  {
   "cell_type": "code",
   "execution_count": 12,
   "metadata": {},
   "outputs": [
    {
     "data": {
      "image/png": "[encoded data removed]",
      "text/plain": [
       "<Figure size 640x480 with 1 Axes>"
      ]
     },
     "metadata": {},
     "output_type": "display_data"
    }
   ],
   "source": [
    "plt.plot(range(len(losses)), losses)\n",
    "plt.ylabel(\"Training loss/error\")\n",
    "plt.xlabel('Epoch')\n",
    "plt.savefig('training_loss.png')"
   ]
  },
  {
   "cell_type": "code",
   "execution_count": 13,
   "metadata": {},
   "outputs": [
    {
     "data": {
      "text/plain": [
       "tensor(1.0986)"
      ]
     },
     "execution_count": 13,
     "metadata": {},
     "output_type": "execute_result"
    }
   ],
   "source": [
    "validation_loss"
   ]
  },
  {
   "cell_type": "code",
   "execution_count": 14,
   "metadata": {},
   "outputs": [
    {
     "data": {
      "image/png": "[encoded data removed]",
      "text/plain": [
       "<Figure size 640x480 with 1 Axes>"
      ]
     },
     "metadata": {},
     "output_type": "display_data"
    }
   ],
   "source": [
    "plt.plot(range(len(validation_losses)), validation_losses)\n",
    "plt.ylabel(\"Validation loss/error\")\n",
    "plt.xlabel('Epoch')\n",
    "\n",
    "\n",
    "\n",
    "plt.savefig('validation_loss.png')\n",
    "\n",
    "\n"
   ]
  },
  {
   "cell_type": "code",
   "execution_count": null,
   "metadata": {},
   "outputs": [],
   "source": []
  }
 ],
 "metadata": {
  "kernelspec": {
   "display_name": "Python 3 (ipykernel)",
   "language": "python",
   "name": "python3"
  },
  "language_info": {
   "codemirror_mode": {
    "name": "ipython",
    "version": 3
   },
   "file_extension": ".py",
   "mimetype": "text/x-python",
   "name": "python",
   "nbconvert_exporter": "python",
   "pygments_lexer": "ipython3",
   "version": "3.10.12"
  }
 },
 "nbformat": 4,
 "nbformat_minor": 4
}
