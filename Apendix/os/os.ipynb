{
 "cells": [
  {
   "cell_type": "code",
   "execution_count": 1,
   "metadata": {},
   "outputs": [],
   "source": [
    "import os\n"
   ]
  },
  {
   "cell_type": "code",
   "execution_count": 2,
   "metadata": {},
   "outputs": [],
   "source": [
    "# create a folder 100 days of code\n",
    "os.makedirs(\"100_days_of_code\", exist_ok=True)\n"
   ]
  },
  {
   "cell_type": "code",
   "execution_count": 3,
   "metadata": {},
   "outputs": [],
   "source": [
    "for i in range(1, 101):\n",
    "    # create a folder for each day\n",
    "    os.makedirs(f\"100_days_of_code/day_{i}\", exist_ok=True)\n",
    "    # create a file for each day\n",
    "    with open(f\"100_days_of_code/day_{i}/day_{i}.py\", \"w\") as file:\n",
    "        file.write(\"pickachu = 'pika pika'\\n\")\n",
    "        file.write(f\"# Day {i}\\n\")\n",
    "    \"\"\" file = open(f\"100_days_of_code/day_{i}/day_{i}.py\", \"w\")\n",
    "         will create a file and write to it\n",
    "         if file already exists, it will overwrite it\n",
    "         \n",
    "    \"\"\""
   ]
  },
  {
   "cell_type": "code",
   "execution_count": 4,
   "metadata": {},
   "outputs": [],
   "source": [
    "# rename all folder day_x to dinank_x\n",
    "for i in range(1, 101):\n",
    "    os.rename(f\"100_days_of_code/day_{i}\", f\"100_days_of_code/dinank_{i}\")\n",
    "    # first destination, second source\n",
    "    \"\"\" rename show error if destination already exists\"\"\""
   ]
  },
  {
   "cell_type": "code",
   "execution_count": 5,
   "metadata": {},
   "outputs": [
    {
     "name": "stdout",
     "output_type": "stream",
     "text": [
      "dinank_28\n",
      "dinank_8\n",
      "dinank_35\n",
      "dinank_67\n",
      "dinank_29\n"
     ]
    }
   ],
   "source": [
    "# oslist\n",
    "folder_list = os.listdir(\"100_days_of_code\")\n",
    "for i in range(0, 5):\n",
    "    print(folder_list[i])"
   ]
  },
  {
   "cell_type": "markdown",
   "metadata": {},
   "source": [
    "## gt directory"
   ]
  },
  {
   "cell_type": "code",
   "execution_count": 6,
   "metadata": {},
   "outputs": [
    {
     "data": {
      "text/plain": [
       "'/home/karansingh/Documents/summer-term/Apendix/os'"
      ]
     },
     "execution_count": 6,
     "metadata": {},
     "output_type": "execute_result"
    }
   ],
   "source": [
    "os.getcwd()"
   ]
  },
  {
   "cell_type": "markdown",
   "metadata": {},
   "source": [
    "## change directory"
   ]
  },
  {
   "cell_type": "code",
   "execution_count": 7,
   "metadata": {},
   "outputs": [],
   "source": [
    "os.chdir(\"100_days_of_code\")"
   ]
  },
  {
   "cell_type": "code",
   "execution_count": 8,
   "metadata": {},
   "outputs": [
    {
     "data": {
      "text/plain": [
       "'/home/karansingh/Documents/summer-term/Apendix/os/100_days_of_code'"
      ]
     },
     "execution_count": 8,
     "metadata": {},
     "output_type": "execute_result"
    }
   ],
   "source": [
    "os.getcwd()\n"
   ]
  },
  {
   "cell_type": "markdown",
   "metadata": {},
   "source": [
    "## REMOVING DELETING\n"
   ]
  },
  {
   "cell_type": "code",
   "execution_count": 9,
   "metadata": {},
   "outputs": [],
   "source": [
    "os.remove(\"dinank_100/day_100.py\")\n",
    "\"\"\"\n",
    "can only remove files, not folders\"\"\""
   ]
  },
  {
   "cell_type": "code",
   "execution_count": 10,
   "metadata": {},
   "outputs": [],
   "source": [
    "os.rmdir(\"dinank_100\")\n",
    "\"\"\" can only remove empty folders\"\"\""
   ]
  }
 ],
 "metadata": {
  "kernelspec": {
   "display_name": "Python 3",
   "language": "python",
   "name": "python3"
  },
  "language_info": {
   "codemirror_mode": {
    "name": "ipython",
    "version": 3
   },
   "file_extension": ".py",
   "mimetype": "text/x-python",
   "name": "python",
   "nbconvert_exporter": "python",
   "pygments_lexer": "ipython3",
   "version": "3.10.12"
  }
 },
 "nbformat": 4,
 "nbformat_minor": 2
}
