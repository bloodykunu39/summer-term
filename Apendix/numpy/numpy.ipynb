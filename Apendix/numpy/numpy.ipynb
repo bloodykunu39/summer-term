{
 "cells": [
  {
   "cell_type": "markdown",
   "metadata": {},
   "source": [
    "To introduce NumPy, we can provide a brief description in the markdown cell. Here's the content for the new cell:\n",
    "\n",
    "```markdown\n",
    "NumPy is a powerful Python library for numerical computing. It provides support for large, multi-dimensional arrays and matrices, along with a collection of mathematical functions to operate on these arrays efficiently. NumPy is widely used in scientific computing, data analysis, and machine learning tasks.\n",
    "\n",
    "Key features of NumPy include:\n",
    "- Efficient array operations: NumPy arrays are faster and more memory-efficient than Python lists, making them ideal for handling large datasets.\n",
    "- Broadcasting: NumPy allows for element-wise operations between arrays of different shapes, automatically broadcasting the smaller array to match the shape of the larger array.\n",
    "- Linear algebra operations: NumPy provides a comprehensive set of functions for performing linear algebra operations, such as matrix multiplication, eigenvalue decomposition, and solving linear equations.\n",
    "- Integration with other libraries: NumPy seamlessly integrates with other scientific computing libraries in Python, such as SciPy, Pandas, and Matplotlib.\n",
    "\n",
    "To use NumPy in your Python code, you need to import the library using the following statement:\n",
    "```\n"
   ]
  },
  {
   "cell_type": "code",
   "execution_count": 1,
   "metadata": {},
   "outputs": [],
   "source": [
    "import numpy as np\n",
    "#we have imported numpy as np"
   ]
  },
  {
   "cell_type": "code",
   "execution_count": 2,
   "metadata": {},
   "outputs": [
    {
     "name": "stdout",
     "output_type": "stream",
     "text": [
      "[10 20 30 40 50]\n"
     ]
    }
   ],
   "source": [
    "np1=np.array([10,20,30,40,50])#all element are of same type\n",
    "print(np1)"
   ]
  },
  {
   "cell_type": "code",
   "execution_count": 3,
   "metadata": {},
   "outputs": [
    {
     "data": {
      "text/plain": [
       "(5,)"
      ]
     },
     "execution_count": 3,
     "metadata": {},
     "output_type": "execute_result"
    }
   ],
   "source": [
    "np1.shape#shape of array"
   ]
  },
  {
   "cell_type": "code",
   "execution_count": 4,
   "metadata": {},
   "outputs": [
    {
     "data": {
      "text/plain": [
       "array([10, 20, 30, 40, 50])"
      ]
     },
     "execution_count": 4,
     "metadata": {},
     "output_type": "execute_result"
    }
   ],
   "source": [
    "np2=np.arange(10, 51, 10)  # it will create an array from 10 to 50 with a step of 10\n",
    "np2"
   ]
  },
  {
   "cell_type": "code",
   "execution_count": 5,
   "metadata": {},
   "outputs": [
    {
     "data": {
      "text/plain": [
       "array([0., 0., 0., 0., 0.])"
      ]
     },
     "execution_count": 5,
     "metadata": {},
     "output_type": "execute_result"
    }
   ],
   "source": [
    "np3=np.zeros(5) #it will create an array of 5 elements with all elements as 0\n",
    "np3"
   ]
  },
  {
   "cell_type": "code",
   "execution_count": 6,
   "metadata": {},
   "outputs": [
    {
     "data": {
      "text/plain": [
       "array([1., 1., 1., 1., 1.])"
      ]
     },
     "execution_count": 6,
     "metadata": {},
     "output_type": "execute_result"
    }
   ],
   "source": [
    "np4=np.ones(5) #it will create an array of 5 elements with all elements as 1\n",
    "np4"
   ]
  },
  {
   "cell_type": "code",
   "execution_count": 7,
   "metadata": {},
   "outputs": [
    {
     "data": {
      "text/plain": [
       "array([10., 20., 30., 40., 50.])"
      ]
     },
     "execution_count": 7,
     "metadata": {},
     "output_type": "execute_result"
    }
   ],
   "source": [
    "np5=np.linspace(10,50,5) #it will create an array of 5 elements from 10 to 50\n",
    "np5"
   ]
  },
  {
   "cell_type": "code",
   "execution_count": 8,
   "metadata": {},
   "outputs": [
    {
     "data": {
      "text/plain": [
       "array([[0., 0., 0.],\n",
       "       [0., 0., 0.]])"
      ]
     },
     "execution_count": 8,
     "metadata": {},
     "output_type": "execute_result"
    }
   ],
   "source": [
    "#multidimensional\n",
    "np6=np.zeros((2,3)) #it will create a 2x3 matrix with all elements as 0\n",
    "np6"
   ]
  },
  {
   "cell_type": "code",
   "execution_count": 9,
   "metadata": {},
   "outputs": [
    {
     "data": {
      "text/plain": [
       "array([[5, 5, 5],\n",
       "       [5, 5, 5]])"
      ]
     },
     "execution_count": 9,
     "metadata": {},
     "output_type": "execute_result"
    }
   ],
   "source": [
    "np7=np.full((2,3),5) #it will create a 2x3 matrix with all elements as 5\n",
    "np7"
   ]
  },
  {
   "cell_type": "code",
   "execution_count": 10,
   "metadata": {},
   "outputs": [
    {
     "data": {
      "text/plain": [
       "array([[1, 2, 3],\n",
       "       [4, 5, 6],\n",
       "       [7, 8, 9]])"
      ]
     },
     "execution_count": 10,
     "metadata": {},
     "output_type": "execute_result"
    }
   ],
   "source": [
    "lst=[[1,2,3],[4,5,6],[7,8,9]]\n",
    "np8=np.array(lst) #it will create a 2D array from list\n",
    "np8"
   ]
  },
  {
   "cell_type": "markdown",
   "metadata": {},
   "source": [
    "## slicing"
   ]
  },
  {
   "cell_type": "code",
   "execution_count": 11,
   "metadata": {},
   "outputs": [
    {
     "data": {
      "text/plain": [
       "array([10, 20, 30])"
      ]
     },
     "execution_count": 11,
     "metadata": {},
     "output_type": "execute_result"
    }
   ],
   "source": [
    "np1[0:3] #it will return elements from 0 to 2"
   ]
  },
  {
   "cell_type": "code",
   "execution_count": 12,
   "metadata": {},
   "outputs": [
    {
     "data": {
      "text/plain": [
       "array([10, 30, 50])"
      ]
     },
     "execution_count": 12,
     "metadata": {},
     "output_type": "execute_result"
    }
   ],
   "source": [
    "#steps\n",
    "np1[0:5:2] #it will return elements from 0 to 4 with step of 2"
   ]
  },
  {
   "cell_type": "code",
   "execution_count": 13,
   "metadata": {},
   "outputs": [
    {
     "data": {
      "text/plain": [
       "array([[1, 2],\n",
       "       [4, 5]])"
      ]
     },
     "execution_count": 13,
     "metadata": {},
     "output_type": "execute_result"
    }
   ],
   "source": [
    "#2d array slicing\n",
    "np8[0:2,0:2] #first input is for rows and second input is for columns\n"
   ]
  },
  {
   "cell_type": "code",
   "execution_count": 14,
   "metadata": {},
   "outputs": [
    {
     "name": "stdout",
     "output_type": "stream",
     "text": [
      "[[1 2 3]\n",
      " [4 5 6]\n",
      " [7 8 9]]\n"
     ]
    },
    {
     "data": {
      "text/plain": [
       "5"
      ]
     },
     "execution_count": 14,
     "metadata": {},
     "output_type": "execute_result"
    }
   ],
   "source": [
    "#pulling out an element from 2d array\n",
    "print(np8)\n",
    "np8[1,1] #it will return 5"
   ]
  },
  {
   "cell_type": "markdown",
   "metadata": {},
   "source": [
    "# universal fuction in numpy"
   ]
  },
  {
   "cell_type": "code",
   "execution_count": 15,
   "metadata": {},
   "outputs": [
    {
     "name": "stdout",
     "output_type": "stream",
     "text": [
      "np1 is  [10 20 30 40 50]\n"
     ]
    },
    {
     "data": {
      "text/plain": [
       "array([3.16227766, 4.47213595, 5.47722558, 6.32455532, 7.07106781])"
      ]
     },
     "execution_count": 15,
     "metadata": {},
     "output_type": "execute_result"
    }
   ],
   "source": [
    "sqrtnp1=np.sqrt(np1) #it will return square root of each element\n",
    "print(\"np1 is \",np1)\n",
    "sqrtnp1"
   ]
  },
  {
   "cell_type": "code",
   "execution_count": 16,
   "metadata": {},
   "outputs": [
    {
     "data": {
      "text/plain": [
       "array([10, 20, 30, 40, 50])"
      ]
     },
     "execution_count": 16,
     "metadata": {},
     "output_type": "execute_result"
    }
   ],
   "source": [
    "absnp1=np.abs(np1) #it will return absolute value of each element\n",
    "absnp1"
   ]
  },
  {
   "cell_type": "code",
   "execution_count": 17,
   "metadata": {},
   "outputs": [
    {
     "data": {
      "text/plain": [
       "10"
      ]
     },
     "execution_count": 17,
     "metadata": {},
     "output_type": "execute_result"
    }
   ],
   "source": [
    "#min max\n",
    "np1.min()"
   ]
  },
  {
   "cell_type": "code",
   "execution_count": 18,
   "metadata": {},
   "outputs": [
    {
     "data": {
      "text/plain": [
       "50"
      ]
     },
     "execution_count": 18,
     "metadata": {},
     "output_type": "execute_result"
    }
   ],
   "source": [
    "np1.max()"
   ]
  },
  {
   "cell_type": "code",
   "execution_count": 19,
   "metadata": {},
   "outputs": [
    {
     "name": "stdout",
     "output_type": "stream",
     "text": [
      "[[-1 -1  1]\n",
      " [ 1 -1  1]\n",
      " [ 1  0  1]]\n"
     ]
    }
   ],
   "source": [
    "#positive negative array multidimensional and zero included\n",
    "np8=np.array([[-1,-2,3],[4,-5,6],[7,0,9]])\n",
    "print(np.sign(np8))#it will return 1 for positive, -1 for negative and 0 for 0"
   ]
  },
  {
   "cell_type": "code",
   "execution_count": 20,
   "metadata": {},
   "outputs": [
    {
     "data": {
      "text/plain": [
       "array([[-0.84147098, -0.90929743,  0.14112001],\n",
       "       [-0.7568025 ,  0.95892427, -0.2794155 ],\n",
       "       [ 0.6569866 ,  0.        ,  0.41211849]])"
      ]
     },
     "execution_count": 20,
     "metadata": {},
     "output_type": "execute_result"
    }
   ],
   "source": [
    "#mathmatical functions\n",
    "np.sin(np8) #it will return sin of each element"
   ]
  },
  {
   "cell_type": "code",
   "execution_count": 21,
   "metadata": {},
   "outputs": [
    {
     "name": "stderr",
     "output_type": "stream",
     "text": [
      "C:\\Users\\karan\\AppData\\Local\\Temp\\ipykernel_25880\\240894305.py:2: RuntimeWarning: divide by zero encountered in log\n",
      "  np.log(np8) #it will return log of each element\n",
      "C:\\Users\\karan\\AppData\\Local\\Temp\\ipykernel_25880\\240894305.py:2: RuntimeWarning: invalid value encountered in log\n",
      "  np.log(np8) #it will return log of each element\n"
     ]
    },
    {
     "data": {
      "text/plain": [
       "array([[       nan,        nan, 1.09861229],\n",
       "       [1.38629436,        nan, 1.79175947],\n",
       "       [1.94591015,       -inf, 2.19722458]])"
      ]
     },
     "execution_count": 21,
     "metadata": {},
     "output_type": "execute_result"
    }
   ],
   "source": [
    "#log\n",
    "np.log(np8) #it will return log of each element\n",
    "#nan means not a number"
   ]
  },
  {
   "cell_type": "markdown",
   "metadata": {},
   "source": [
    "# copy vs view"
   ]
  },
  {
   "cell_type": "code",
   "execution_count": 22,
   "metadata": {},
   "outputs": [
    {
     "name": "stdout",
     "output_type": "stream",
     "text": [
      "orignal np8 [[-1 -2  3]\n",
      " [ 4 -5  6]\n",
      " [ 7  0  9]]\n",
      "view of np8 [[-1 -2  3]\n",
      " [ 4 -5  6]\n",
      " [ 7  0  9]]\n",
      "orignal np8 [[100  -2   3]\n",
      " [  4  -5   6]\n",
      " [  7   0   9]]\n",
      "view of np8 [[100  -2   3]\n",
      " [  4  -5   6]\n",
      " [  7   0   9]]\n"
     ]
    }
   ],
   "source": [
    "np10=np8.view() #it will create a view of np8\n",
    "#view is a shallow copy\n",
    "#change in view will change the original array and vice versa\n",
    "print(f'orignal np8',np8)\n",
    "print(f'view of np8',np10)\n",
    "np10[0,0]=100\n",
    "print(f'orignal np8',np8)\n",
    "print(f'view of np8',np10)\n"
   ]
  },
  {
   "cell_type": "code",
   "execution_count": 23,
   "metadata": {},
   "outputs": [
    {
     "name": "stdout",
     "output_type": "stream",
     "text": [
      "orignal np8 [[100  -2   3]\n",
      " [  4  -5   6]\n",
      " [  7   0   9]]\n",
      "copy of np8 [[100  -2   3]\n",
      " [  4  -5   6]\n",
      " [  7   0   9]]\n",
      "orignal np8 [[100  -2   3]\n",
      " [  4  -5   6]\n",
      " [  7   0   9]]\n",
      "copy of np8 [[1000   -2    3]\n",
      " [   4   -5    6]\n",
      " [   7    0    9]]\n"
     ]
    }
   ],
   "source": [
    "#copy\n",
    "np11=np8.copy() #it will create a deep copy\n",
    "#change in copy will not change the original array and vice versa\n",
    "print(f'orignal np8',np8)\n",
    "print(f'copy of np8',np11)\n",
    "np11[0,0]=1000#changing copy not changing original\n",
    "print(f'orignal np8',np8)\n",
    "print(f'copy of np8',np11)"
   ]
  },
  {
   "cell_type": "markdown",
   "metadata": {},
   "source": [
    "# shape and reshape"
   ]
  },
  {
   "cell_type": "code",
   "execution_count": 24,
   "metadata": {},
   "outputs": [
    {
     "name": "stdout",
     "output_type": "stream",
     "text": [
      "[10 20 30 40 50]\n",
      "(5,)\n"
     ]
    }
   ],
   "source": [
    "#create 1d numpy array and get shape\n",
    "np1=np.array([10,20,30,40,50])\n",
    "print(np1)\n",
    "print(np1.shape)"
   ]
  },
  {
   "cell_type": "code",
   "execution_count": 25,
   "metadata": {},
   "outputs": [
    {
     "name": "stdout",
     "output_type": "stream",
     "text": [
      "[[10 20 30]\n",
      " [40 50 60]]\n",
      "(2, 3)\n"
     ]
    }
   ],
   "source": [
    "#2d numpy array\n",
    "np2=np.array([[10,20,30],[40,50,60]])\n",
    "print(np2)\n",
    "print(np2.shape)"
   ]
  },
  {
   "cell_type": "code",
   "execution_count": null,
   "metadata": {},
   "outputs": [],
   "source": []
  },
  {
   "cell_type": "code",
   "execution_count": 26,
   "metadata": {},
   "outputs": [
    {
     "name": "stdout",
     "output_type": "stream",
     "text": [
      "[[[ 10  20  30]\n",
      "  [ 40  50  60]]\n",
      "\n",
      " [[ 70  80  90]\n",
      "  [100 110 120]]]\n",
      "(2, 2, 3)\n"
     ]
    }
   ],
   "source": [
    "#3d numpy array\n",
    "np3=np.array([[[10,20,30],[40,50,60]],[[70,80,90],[100,110,120]]])\n",
    "print(np3)\n",
    "print(np3.shape)#first is for most outer bracket, second is for middle bracket and third is for inner bracket"
   ]
  },
  {
   "cell_type": "code",
   "execution_count": 27,
   "metadata": {},
   "outputs": [
    {
     "name": "stdout",
     "output_type": "stream",
     "text": [
      "[ 1  2  3  4  5  6  7  8  9 10]\n",
      "[ 1  2  3  4  5  6  7  8  9 10]\n"
     ]
    }
   ],
   "source": [
    "#reshape\n",
    "np1=np.arange(1,11)\n",
    "print(np1)#it will create an array from 1 to 10\n",
    "np2=np1.reshape(2,5)#it will reshape the array to 2x5 in manner of row wise\n",
    "print(np1)"
   ]
  },
  {
   "cell_type": "code",
   "execution_count": 28,
   "metadata": {},
   "outputs": [
    {
     "name": "stdout",
     "output_type": "stream",
     "text": [
      "[ 1  2  3  4  5  6  7  8  9 10 11 12]\n",
      "[[[ 1  2  3]\n",
      "  [ 4  5  6]]\n",
      "\n",
      " [[ 7  8  9]\n",
      "  [10 11 12]]]\n"
     ]
    }
   ],
   "source": [
    "np1=np.arange(1,13)\n",
    "print(np1)#it will create an array from 1 to 12\n",
    "np3=np1.reshape(2,2,3)#it will reshape the array to 2x2x3 in manner of row wise\n",
    "print(np3)\n"
   ]
  },
  {
   "cell_type": "code",
   "execution_count": 29,
   "metadata": {},
   "outputs": [
    {
     "name": "stdout",
     "output_type": "stream",
     "text": [
      "[ 1  2  3  4  5  6  7  8  9 10 11 12]\n"
     ]
    },
    {
     "data": {
      "text/plain": [
       "array([ 1,  2,  3,  4,  5,  6,  7,  8,  9, 10, 11, 12])"
      ]
     },
     "execution_count": 29,
     "metadata": {},
     "output_type": "execute_result"
    }
   ],
   "source": [
    "#revert back to 1d array\n",
    "np4=np3.reshape(-1) #12 can also be used in place of -1 but if we put -2 it will give error\n",
    "print(np4)\n",
    "np5=np3.reshape(-2)#no error will be there it will be same as -1\n",
    "np5"
   ]
  },
  {
   "cell_type": "markdown",
   "metadata": {},
   "source": [
    "# Iterate"
   ]
  },
  {
   "cell_type": "code",
   "execution_count": 30,
   "metadata": {},
   "outputs": [
    {
     "name": "stdout",
     "output_type": "stream",
     "text": [
      "10\n",
      "20\n",
      "30\n",
      "40\n",
      "50\n"
     ]
    }
   ],
   "source": [
    "#iterating through numpy array\n",
    "np1=np.array([10,20,30,40,50])\n",
    "for i in np1:\n",
    "    print(i)"
   ]
  },
  {
   "cell_type": "code",
   "execution_count": 31,
   "metadata": {},
   "outputs": [
    {
     "name": "stdout",
     "output_type": "stream",
     "text": [
      "[10 20 30]\n",
      "[40 50 60]\n"
     ]
    }
   ],
   "source": [
    "np2=np.array([[10,20,30],[40,50,60]])\n",
    "for i in np.array(np2):\n",
    "    print(i)#it will print each row"
   ]
  },
  {
   "cell_type": "code",
   "execution_count": 32,
   "metadata": {},
   "outputs": [
    {
     "name": "stdout",
     "output_type": "stream",
     "text": [
      "10\n",
      "20\n",
      "30\n",
      "40\n",
      "50\n",
      "60\n"
     ]
    }
   ],
   "source": [
    "for i in np.array(np2):\n",
    "    for j in i:\n",
    "        print(j)#it will print each element"
   ]
  },
  {
   "cell_type": "markdown",
   "metadata": {},
   "source": [
    "# sorting\n",
    "We use NumPy sorting instead of built-in sorting for several reasons:\n",
    "\n",
    "1. Performance: NumPy sorting algorithms are highly optimized and can handle large arrays efficiently. They are implemented in C, which makes them faster than the built-in sorting functions in Python.\n",
    "\n",
    "2. Multidimensional sorting: NumPy provides functions to sort arrays along specific axes or dimensions. This is particularly useful when working with multidimensional arrays, as it allows us to sort the data based on specific criteria for each dimension.\n",
    "\n",
    "3. In-place sorting: NumPy sorting functions can sort the array in-place, meaning that the original array is modified directly without creating a new sorted array. This can be more memory-efficient and faster for large arrays.\n",
    "\n",
    "4. Custom sorting criteria: NumPy sorting functions allow us to specify custom sorting criteria using the `key` parameter. This allows us to sort the array based on specific elements or attributes of the array elements.\n",
    "\n",
    "Overall, NumPy sorting provides more flexibility, performance, and functionality compared to the built-in sorting functions in Python.\n"
   ]
  },
  {
   "cell_type": "code",
   "execution_count": 33,
   "metadata": {},
   "outputs": [
    {
     "data": {
      "text/plain": [
       "array([10, 20, 30, 40, 50])"
      ]
     },
     "execution_count": 33,
     "metadata": {},
     "output_type": "execute_result"
    }
   ],
   "source": [
    "#sorting\n",
    "np1=np.array([50,30,40,10,20])\n",
    "np.sort(np1)#it will sort the array\n"
   ]
  },
  {
   "cell_type": "code",
   "execution_count": 34,
   "metadata": {},
   "outputs": [
    {
     "name": "stdout",
     "output_type": "stream",
     "text": [
      "['apple' 'banana' 'cherry']\n"
     ]
    }
   ],
   "source": [
    "#alphabetical sorting\n",
    "np1=np.array(['banana','apple','cherry'])#it will sort the array in manner of alphabetical order like apple, banana, cherry in dictionary\n",
    "np1=np.sort(np1)\n",
    "print(np1)"
   ]
  },
  {
   "cell_type": "code",
   "execution_count": 35,
   "metadata": {},
   "outputs": [
    {
     "name": "stdout",
     "output_type": "stream",
     "text": [
      "[False  True  True]\n"
     ]
    }
   ],
   "source": [
    "#boolean sorting\n",
    "np1=np.array([True,False,True])\n",
    "np1=np.sort(np1)    #it will sort the array in manner of false, true\n",
    "print(np1)"
   ]
  },
  {
   "cell_type": "code",
   "execution_count": 36,
   "metadata": {},
   "outputs": [
    {
     "name": "stdout",
     "output_type": "stream",
     "text": [
      "[50 30 40 10 20]\n",
      "[10 20 30 40 50]\n"
     ]
    }
   ],
   "source": [
    "#sorting is copy not view\n",
    "np1=np.array([50,30,40,10,20])\n",
    "np2=np.sort(np1)\n",
    "print(np1)\n",
    "print(np2)"
   ]
  },
  {
   "cell_type": "code",
   "execution_count": 37,
   "metadata": {},
   "outputs": [
    {
     "name": "stdout",
     "output_type": "stream",
     "text": [
      "[[50 30 40]\n",
      " [10 20 60]]\n",
      "[[30 40 50]\n",
      " [10 20 60]]\n"
     ]
    }
   ],
   "source": [
    "#multi dimensional sorting\n",
    "np1=np.array([[50,30,40],[10,20,60]])\n",
    "np2=np.sort(np1)\n",
    "print(np1)\n",
    "print(np2)\n"
   ]
  },
  {
   "cell_type": "markdown",
   "metadata": {},
   "source": [
    "# searching"
   ]
  },
  {
   "cell_type": "code",
   "execution_count": 38,
   "metadata": {},
   "outputs": [
    {
     "name": "stdout",
     "output_type": "stream",
     "text": [
      "(array([2, 5], dtype=int64),)\n",
      "[2 5]\n",
      "[30 30]\n"
     ]
    }
   ],
   "source": [
    "#searching in numpy array\n",
    "np1=np.array([10,20,30,40,50,30])\n",
    "x=np.where(np1==30)#it will return the index of 30\n",
    "print(x)#x is tuple\n",
    "print(x[0])#it will return the index of 30\n",
    "print(np1[x[0]])#it will return the value at index of 30\n"
   ]
  },
  {
   "cell_type": "code",
   "execution_count": 39,
   "metadata": {},
   "outputs": [
    {
     "name": "stdout",
     "output_type": "stream",
     "text": [
      "(array([0, 2, 3, 4, 5], dtype=int64),)\n",
      "[0 2 3 4 5]\n",
      "[10 30 40 50 30]\n"
     ]
    }
   ],
   "source": [
    " # even odd\n",
    "np1=np.array([10,25,30,40,50,30])\n",
    "x=np.where(np1%2==0)#it will return the index of even numbers\n",
    "print(x)#x is tuple\n",
    "print(x[0])#it will return the index of even numbers    \n",
    "print(np1[x[0]])#it will return the value at index of even numbers"
   ]
  },
  {
   "cell_type": "markdown",
   "metadata": {},
   "source": [
    "# filtring nupy array"
   ]
  },
  {
   "cell_type": "code",
   "execution_count": 40,
   "metadata": {},
   "outputs": [
    {
     "name": "stdout",
     "output_type": "stream",
     "text": [
      "[ True False  True  True False  True]\n",
      "[10 30 40 30]\n"
     ]
    }
   ],
   "source": [
    "# filter numpy array with boolean index list\n",
    "np1=np.array([10,25,30,40,50,30])\n",
    "filter=np.array([True,False,True,True,False,True])# true if for which we want to keep the element\n",
    "#why we use true fasle array because we can use it for any condition\n",
    "print(filter)\n",
    "newarr=np1[filter]#it will return the elements for which filter is true\n",
    "print(newarr)"
   ]
  },
  {
   "cell_type": "code",
   "execution_count": 41,
   "metadata": {},
   "outputs": [
    {
     "name": "stdout",
     "output_type": "stream",
     "text": [
      "[10 30 40 50 30]\n"
     ]
    }
   ],
   "source": [
    "np1=np.array([10,25,30,40,50,30])\n",
    "filter=[]\n",
    "for i in np1:#it will return true if element is even\n",
    "    if i%2==0:\n",
    "        filter.append(True)\n",
    "    else:\n",
    "        filter.append(False)    \n",
    "#filter=[True if i%2==0 else False for i in np1]\n",
    "print(np1[filter])\n"
   ]
  }
 ],
 "metadata": {
  "kernelspec": {
   "display_name": "Python 3",
   "language": "python",
   "name": "python3"
  },
  "language_info": {
   "codemirror_mode": {
    "name": "ipython",
    "version": 3
   },
   "file_extension": ".py",
   "mimetype": "text/x-python",
   "name": "python",
   "nbconvert_exporter": "python",
   "pygments_lexer": "ipython3",
   "version": "3.12.2"
  }
 },
 "nbformat": 4,
 "nbformat_minor": 2
}
