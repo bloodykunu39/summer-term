{
 "cells": [
  {
   "cell_type": "markdown",
   "metadata": {},
   "source": [
    "# class and objects\n"
   ]
  },
  {
   "cell_type": "code",
   "execution_count": 1,
   "metadata": {},
   "outputs": [],
   "source": [
    "# class for name and phone number\n",
    "class Contact:\n",
    "    collage_name = \"IISc\" #class attribute\n",
    "    name=\"annonymys\"#class attribute\n",
    "    def __init__(self, name, phone_number):#constructor\n",
    "        self.name = name#instance attribute > get higher priority than class attribute\n",
    "        self.phone_number = phone_number\n",
    "    #methods\n",
    "    def greeting(self):# method are same as function but it is defined inside the class\n",
    "        return \"Hello, welcome \" + self.name\n"
   ]
  },
  {
   "cell_type": "code",
   "execution_count": 2,
   "metadata": {},
   "outputs": [
    {
     "name": "stdout",
     "output_type": "stream",
     "text": [
      "Karan\n",
      "8191820165\n",
      "IISc\n",
      "Karan Singh\n",
      "IISc bangluru\n"
     ]
    },
    {
     "data": {
      "text/plain": [
       "'Hello, welcome Karan Singh'"
      ]
     },
     "execution_count": 2,
     "metadata": {},
     "output_type": "execute_result"
    }
   ],
   "source": [
    "karan = Contact(\"Karan\", \"8191820165\")\n",
    "print(karan.name)\n",
    "print(karan.phone_number)\n",
    "print(karan.collage_name)\n",
    "karan.name = \"Karan Singh\"# we can change the instance attribute\n",
    "print(karan.name)\n",
    "karan.collage_name = \"IISc bangluru\" # we can change the class attribute\n",
    "print(karan.collage_name)\n",
    "karan.greeting() # calling the method\n"
   ]
  },
  {
   "cell_type": "markdown",
   "metadata": {},
   "source": [
    "## static methods\n"
   ]
  },
  {
   "cell_type": "code",
   "execution_count": 3,
   "metadata": {},
   "outputs": [],
   "source": [
    "# static method\n",
    "# static method are the method which are not depend on the instance or class attribute\n",
    "class Math:\n",
    "    @staticmethod#decorator\n",
    "    def add(x, y):\n",
    "        return x + y\n",
    "    @staticmethod\n",
    "    def sub(x, y):\n",
    "        return x - y\n",
    "    @staticmethod\n",
    "    def mul(x, y):\n",
    "        return x * y\n",
    "    @staticmethod\n",
    "    def div(x, y):\n",
    "        return x / y"
   ]
  },
  {
   "cell_type": "code",
   "execution_count": 4,
   "metadata": {},
   "outputs": [
    {
     "name": "stdout",
     "output_type": "stream",
     "text": [
      "5\n"
     ]
    }
   ],
   "source": [
    "calculator = Math()\n",
    "print(calculator.add(2, 3))"
   ]
  }
 ],
 "metadata": {
  "kernelspec": {
   "display_name": "Python 3",
   "language": "python",
   "name": "python3"
  },
  "language_info": {
   "codemirror_mode": {
    "name": "ipython",
    "version": 3
   },
   "file_extension": ".py",
   "mimetype": "text/x-python",
   "name": "python",
   "nbconvert_exporter": "python",
   "pygments_lexer": "ipython3",
   "version": "3.10.12"
  }
 },
 "nbformat": 4,
 "nbformat_minor": 2
}
