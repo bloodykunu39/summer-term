{
 "cells": [
  {
   "cell_type": "markdown",
   "metadata": {},
   "source": [
    "## pandas\n",
    "Pandas is a powerful open-source data manipulation and analysis library for Python. It provides easy-to-use data structures and data analysis tools, making it a popular choice for data scientists and analysts.\n",
    "\n",
    "With Pandas, you can easily load, manipulate, and analyze structured data. It offers a variety of data structures, such as Series (1-dimensional labeled array) and DataFrame (2-dimensional labeled data structure), which allow you to efficiently handle and analyze data.\n",
    "\n",
    "Some key features of Pandas include:\n",
    "- Data alignment and handling missing data\n",
    "- Data filtering, selection, and transformation\n",
    "- Grouping and aggregation of data\n",
    "- Merging, joining, and reshaping datasets\n",
    "- Time series analysis and handling datetime data\n",
    "- Data visualization and plotting\n",
    "\n",
    "Pandas integrates well with other libraries in the Python ecosystem, such as NumPy, Matplotlib, and scikit-learn, making it a versatile tool for data analysis and manipulation.\n",
    "\n",
    "To get started with Pandas, you can import it using the following code:\n",
    "```python\n",
    "import pandas as pd\n",
    "```\n",
    "\n",
    "\n"
   ]
  },
  {
   "cell_type": "code",
   "execution_count": 1,
   "metadata": {},
   "outputs": [],
   "source": [
    "import pandas as pd\n",
    "import numpy as np\n"
   ]
  },
  {
   "cell_type": "code",
   "execution_count": 2,
   "metadata": {},
   "outputs": [
    {
     "name": "stdout",
     "output_type": "stream",
     "text": [
      "0    [1, 2, 3]\n",
      "1    [4, 5, 6]\n",
      "2    [7, 8, 9]\n",
      "dtype: object\n"
     ]
    }
   ],
   "source": [
    "lst=[[1,2,3],[4,5,6],[7,8,9]]\n",
    "series=pd.Series(lst)\n",
    "print(series)"
   ]
  },
  {
   "cell_type": "code",
   "execution_count": 3,
   "metadata": {},
   "outputs": [
    {
     "name": "stdout",
     "output_type": "stream",
     "text": [
      "a    [1, 2, 3]\n",
      "b    [4, 5, 6]\n",
      "c    [7, 8, 9]\n",
      "dtype: object\n"
     ]
    }
   ],
   "source": [
    "series2=pd.Series(lst,index=['a','b','c'])#index is used to give the index of the series instead of 0,1,2 we can give a,b,c\n",
    "print(series2)"
   ]
  },
  {
   "cell_type": "code",
   "execution_count": 4,
   "metadata": {},
   "outputs": [
    {
     "name": "stdout",
     "output_type": "stream",
     "text": [
      "BMW     100\n",
      "Audi    200\n",
      "Benz    300\n",
      "dtype: int64\n",
      "        0\n",
      "BMW   100\n",
      "Audi  200\n",
      "Benz  300\n"
     ]
    }
   ],
   "source": [
    "#dictionary\n",
    "cars={'BMW':100,'Audi':200,'Benz':300}\n",
    "series3=pd.Series(cars)\n",
    "print(series3)\n",
    "df=pd.DataFrame(series3)\n",
    "print(df)\n"
   ]
  },
  {
   "cell_type": "markdown",
   "metadata": {},
   "source": [
    "# dataframe"
   ]
  },
  {
   "cell_type": "code",
   "execution_count": 5,
   "metadata": {},
   "outputs": [
    {
     "name": "stdout",
     "output_type": "stream",
     "text": [
      "{'name': ['karan', 'arjun', 'ram'], 'age': [20, 21, 22], 'city': ['delhi', 'mumbai', 'pune']}\n",
      "    name  age    city\n",
      "0  karan   20   delhi\n",
      "1  arjun   21  mumbai\n",
      "2    ram   22    pune\n"
     ]
    }
   ],
   "source": [
    "dict1={\"name\":['karan','arjun','ram'],\n",
    "       'age':[20,21,22],\n",
    "       'city':['delhi','mumbai','pune']}\n",
    "df=pd.DataFrame(dict1)\n",
    "print(dict1)\n",
    "print(df)"
   ]
  },
  {
   "cell_type": "code",
   "execution_count": 6,
   "metadata": {},
   "outputs": [],
   "source": [
    "import numpy.random as npr\n",
    "my_data=npr.rand(3,4)#3 rows and 4 columns of random numbers\n",
    "my_row=['A','B','C']\n",
    "my_col=['W','X','Y','Z']\n"
   ]
  },
  {
   "cell_type": "code",
   "execution_count": 7,
   "metadata": {},
   "outputs": [
    {
     "name": "stdout",
     "output_type": "stream",
     "text": [
      "          W         X         Y         Z\n",
      "A  0.817168  0.269376  0.760426  0.557767\n",
      "B  0.027462  0.846940  0.424000  0.287968\n",
      "C  0.674891  0.417205  0.137942  0.728080\n"
     ]
    }
   ],
   "source": [
    "#create dataframe\n",
    "df=pd.DataFrame(data=my_data,index=my_row,columns=my_col)\n",
    "print(df)"
   ]
  },
  {
   "cell_type": "code",
   "execution_count": 8,
   "metadata": {},
   "outputs": [
    {
     "name": "stdout",
     "output_type": "stream",
     "text": [
      "   Temperature(K)  T1(s)  T2(s)    Tavg      ∆T  η(mPas)\n",
      "0             301  0.120  0.120  0.1200  0.0000   0.0026\n",
      "1             303  0.136  0.148  0.1420  0.0060   0.0031\n",
      "2             308  0.150  0.152  0.1510  0.0010   0.0033\n",
      "3             313  0.160  0.165  0.1625  0.0025   0.0035\n",
      "4             323  0.216  0.224  0.2200  0.0040   0.0048\n",
      "5             333  0.235  0.236  0.2355  0.0005   0.0051\n",
      "6             343  0.254  0.260  0.2570  0.0030   0.0056\n"
     ]
    }
   ],
   "source": [
    "#import csv File\n",
    "my_df2=pd.read_csv(r'C:\\Users\\karan\\OneDrive - Indian Institute of Science\\Desktop\\summer term\\pandas\\datacsv.csv')\n",
    "print(my_df2)"
   ]
  },
  {
   "cell_type": "code",
   "execution_count": 9,
   "metadata": {},
   "outputs": [
    {
     "name": "stdout",
     "output_type": "stream",
     "text": [
      "0    301\n",
      "1    303\n",
      "2    308\n",
      "3    313\n",
      "4    323\n",
      "5    333\n",
      "6    343\n",
      "Name: Temperature(K), dtype: int64\n",
      "   Temperature(K)  T1(s)\n",
      "0             301  0.120\n",
      "1             303  0.136\n",
      "2             308  0.150\n",
      "3             313  0.160\n",
      "4             323  0.216\n",
      "5             333  0.235\n",
      "6             343  0.254\n"
     ]
    }
   ],
   "source": [
    "#pulling out the data\n",
    "print(my_df2['Temperature(K)'])\n",
    "print(my_df2[['Temperature(K)','T1(s)']])"
   ]
  },
  {
   "cell_type": "code",
   "execution_count": 10,
   "metadata": {},
   "outputs": [
    {
     "name": "stdout",
     "output_type": "stream",
     "text": [
      "Temperature(K)    303.0000\n",
      "T1(s)               0.1360\n",
      "T2(s)               0.1480\n",
      "Tavg                0.1420\n",
      "∆T                  0.0060\n",
      "η(mPas)             0.0031\n",
      "Name: 1, dtype: float64\n",
      "   Temperature(K)  T1(s)  T2(s)    Tavg      ∆T  η(mPas)\n",
      "1             303  0.136  0.148  0.1420  0.0060   0.0031\n",
      "2             308  0.150  0.152  0.1510  0.0010   0.0033\n",
      "3             313  0.160  0.165  0.1625  0.0025   0.0035\n"
     ]
    }
   ],
   "source": [
    "#pulling rows\n",
    "print(my_df2.loc[1])#loc is used to pull out the row and 1 is the index of the row\n",
    "print(my_df2.loc[1:3])#pulls out the rows from 1 to 3"
   ]
  },
  {
   "cell_type": "code",
   "execution_count": 11,
   "metadata": {},
   "outputs": [
    {
     "name": "stdout",
     "output_type": "stream",
     "text": [
      "<class 'pandas.core.frame.DataFrame'>\n",
      "RangeIndex: 7 entries, 0 to 6\n",
      "Data columns (total 6 columns):\n",
      " #   Column          Non-Null Count  Dtype  \n",
      "---  ------          --------------  -----  \n",
      " 0   Temperature(K)  7 non-null      int64  \n",
      " 1   T1(s)           7 non-null      float64\n",
      " 2   T2(s)           7 non-null      float64\n",
      " 3   Tavg            7 non-null      float64\n",
      " 4   ∆T              7 non-null      float64\n",
      " 5   η(mPas)         7 non-null      float64\n",
      "dtypes: float64(5), int64(1)\n",
      "memory usage: 468.0 bytes\n",
      "None\n"
     ]
    }
   ],
   "source": [
    "#info\n",
    "print(my_df2.info())"
   ]
  },
  {
   "cell_type": "code",
   "execution_count": 12,
   "metadata": {},
   "outputs": [
    {
     "name": "stdout",
     "output_type": "stream",
     "text": [
      "(7, 6)\n"
     ]
    }
   ],
   "source": [
    "#shape\n",
    "print(my_df2.shape)#gives the shape of the dataframe"
   ]
  },
  {
   "cell_type": "code",
   "execution_count": 13,
   "metadata": {},
   "outputs": [
    {
     "name": "stdout",
     "output_type": "stream",
     "text": [
      "2\n"
     ]
    }
   ],
   "source": [
    "#dimension\n",
    "print(my_df2.ndim)#gives the dimension of the dataframe"
   ]
  },
  {
   "cell_type": "code",
   "execution_count": 14,
   "metadata": {},
   "outputs": [
    {
     "name": "stdout",
     "output_type": "stream",
     "text": [
      "       Temperature(K)     T1(s)     T2(s)      Tavg        ∆T   η(mPas)\n",
      "count        7.000000  7.000000  7.000000  7.000000  7.000000  7.000000\n",
      "mean       317.714286  0.181571  0.186429  0.184000  0.002429  0.004000\n",
      "std         15.882005  0.052624  0.052940  0.052739  0.002130  0.001149\n",
      "min        301.000000  0.120000  0.120000  0.120000  0.000000  0.002600\n",
      "25%        305.500000  0.143000  0.150000  0.146500  0.000750  0.003200\n",
      "50%        313.000000  0.160000  0.165000  0.162500  0.002500  0.003500\n",
      "75%        328.000000  0.225500  0.230000  0.227750  0.003500  0.004950\n",
      "max        343.000000  0.254000  0.260000  0.257000  0.006000  0.005600\n"
     ]
    }
   ],
   "source": [
    "#stats\n",
    "print(my_df2.describe())#gives the statistics of the dataframe\n"
   ]
  },
  {
   "cell_type": "code",
   "execution_count": 15,
   "metadata": {},
   "outputs": [
    {
     "name": "stdout",
     "output_type": "stream",
     "text": [
      "count      7.000000\n",
      "mean     317.714286\n",
      "std       15.882005\n",
      "min      301.000000\n",
      "25%      305.500000\n",
      "50%      313.000000\n",
      "75%      328.000000\n",
      "max      343.000000\n",
      "Name: Temperature(K), dtype: float64\n"
     ]
    }
   ],
   "source": [
    "# describe specific column\n",
    "print(my_df2['Temperature(K)'].describe())"
   ]
  },
  {
   "cell_type": "code",
   "execution_count": 16,
   "metadata": {},
   "outputs": [
    {
     "name": "stdout",
     "output_type": "stream",
     "text": [
      "    name  age     city\n",
      "0  karan   20    delhi\n",
      "1  arjun   21  kolkata\n",
      "2  arjun   19   mumbai\n",
      "3    ram   22     pune\n",
      "count         4\n",
      "unique        3\n",
      "top       arjun\n",
      "freq          2\n",
      "Name: name, dtype: object\n"
     ]
    }
   ],
   "source": [
    "# describe specific column\n",
    "dict1={\"name\":['karan','arjun','arjun','ram'],\n",
    "       'age':[20,21,19,22],\n",
    "       'city':['delhi','kolkata','mumbai','pune']}\n",
    "df=pd.DataFrame(dict1)\n",
    "print(df)\n",
    "print(df['name'].describe())"
   ]
  },
  {
   "cell_type": "code",
   "execution_count": 17,
   "metadata": {},
   "outputs": [
    {
     "name": "stdout",
     "output_type": "stream",
     "text": [
      "    name  age     city\n",
      "1  arjun   21  kolkata\n",
      "3    ram   22     pune\n"
     ]
    }
   ],
   "source": [
    "#selecting rows\n",
    "print(df[df['age']>20])\n"
   ]
  },
  {
   "cell_type": "code",
   "execution_count": 18,
   "metadata": {},
   "outputs": [
    {
     "name": "stdout",
     "output_type": "stream",
     "text": [
      "    name     city\n",
      "0  karan    delhi\n",
      "1  arjun  kolkata\n",
      "2  arjun   mumbai\n",
      "3    ram     pune\n"
     ]
    }
   ],
   "source": [
    "#selecting specific columns\n",
    "print(df[['name','city']])"
   ]
  },
  {
   "cell_type": "code",
   "execution_count": 19,
   "metadata": {},
   "outputs": [
    {
     "name": "stdout",
     "output_type": "stream",
     "text": [
      "20\n"
     ]
    }
   ],
   "source": [
    "print(df.iloc[0,1])#iloc is used to pull out the data from the dataframe using the index of the row and column"
   ]
  },
  {
   "cell_type": "code",
   "execution_count": 20,
   "metadata": {},
   "outputs": [
    {
     "name": "stdout",
     "output_type": "stream",
     "text": [
      "    name  age\n",
      "0  karan   20\n",
      "1  arjun   21\n"
     ]
    }
   ],
   "source": [
    "print(df.iloc[0:2,0:2])#pulls out the data from 0 to 2 rows and 0 to 2 columns"
   ]
  },
  {
   "cell_type": "code",
   "execution_count": 21,
   "metadata": {},
   "outputs": [
    {
     "name": "stdout",
     "output_type": "stream",
     "text": [
      "0    20\n",
      "1    21\n",
      "2    19\n",
      "3    22\n",
      "Name: age, dtype: int64\n"
     ]
    }
   ],
   "source": [
    "#by dot notation\n",
    "print(df.age)"
   ]
  },
  {
   "cell_type": "markdown",
   "metadata": {},
   "source": [
    "# count"
   ]
  },
  {
   "cell_type": "code",
   "execution_count": 25,
   "metadata": {},
   "outputs": [
    {
     "name": "stdout",
     "output_type": "stream",
     "text": [
      "                    Breed              Color        DogName  OwnerZip\n",
      "0                COCKAPOO              BROWN        CHARLEY     15236\n",
      "1            GER SHEPHERD        BLACK/BROWN         TACODA     15238\n",
      "2           BELG MALINOIS            BRINDLE           EICH     15238\n",
      "3                   MIXED        BLACK/BROWN          ARROW     15104\n",
      "4     AM PIT BULL TERRIER        WHITE/BROWN         OAKLEY     15139\n",
      "...                   ...                ...            ...       ...\n",
      "2665         GOLDENDOODLE              BROWN        WINSLOW     15044\n",
      "2666    YORKSHIRE TERRIER        BLACK/BROWN  ROCKY KALAKOS     15220\n",
      "2667              LAB MIX  WHITE/BLACK/BROWN          ELLIE     15220\n",
      "2668         GOLDENDOODLE              WHITE       CLARENCE     15143\n",
      "2669    SHETLAND SHEEPDOG              BLACK        GRIFFIN     15136\n",
      "\n",
      "[2670 rows x 4 columns]\n"
     ]
    }
   ],
   "source": [
    " dog_df=pd.read_csv('dog_data.csv')\n",
    "print(dog_df)   "
   ]
  }
 ],
 "metadata": {
  "kernelspec": {
   "display_name": "Python 3",
   "language": "python",
   "name": "python3"
  },
  "language_info": {
   "codemirror_mode": {
    "name": "ipython",
    "version": 3
   },
   "file_extension": ".py",
   "mimetype": "text/x-python",
   "name": "python",
   "nbconvert_exporter": "python",
   "pygments_lexer": "ipython3",
   "version": "3.12.2"
  }
 },
 "nbformat": 4,
 "nbformat_minor": 2
}
