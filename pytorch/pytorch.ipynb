{
 "cells": [
  {
   "cell_type": "markdown",
   "metadata": {},
   "source": [
    "# beginning of pytorch"
   ]
  },
  {
   "cell_type": "markdown",
   "metadata": {},
   "source": [
    "Machine Learning (ML) and Deep Learning (DL) are both subfields of Artificial Intelligence (AI) that involve training models to make predictions or perform tasks based on data. However, there are some key differences between ML and DL:\n",
    "\n",
    "1. **Representation of Data**: In ML, data is typically represented using handcrafted features that are extracted from the raw data. These features are then used as input to the ML model. In DL, the model learns to automatically extract features from the raw data, eliminating the need for manual feature engineering.\n",
    "\n",
    "2. **Model Complexity**: ML models are usually simpler and have fewer parameters compared to DL models. DL models, on the other hand, are more complex and have a larger number of parameters. This allows DL models to learn more intricate patterns and relationships in the data.\n",
    "\n",
    "3. **Training Data Size**: ML models can perform well with smaller training datasets. DL models, on the other hand, typically require larger amounts of training data to generalize effectively. DL models thrive on big data and can benefit from large-scale datasets.\n",
    "\n",
    "4. **Computational Requirements**: DL models are computationally more intensive compared to ML models. DL models often require specialized hardware, such as Graphics Processing Units (GPUs), to train efficiently. ML models can be trained on standard hardware.\n",
    "\n",
    "5. **Domain Expertise**: ML models often require domain expertise to engineer relevant features and select appropriate algorithms. DL models, on the other hand, can automatically learn features from the data, reducing the need for extensive domain knowledge.\n",
    "\n",
    "6. **Interpretability**: ML models are generally more interpretable compared to DL models. ML models often provide insights into the importance of different features and how they contribute to the predictions. DL models, due to their complexity, are often considered as \"black boxes\" and provide less interpretability.\n",
    "\n",
    "It's important to note that ML and DL are not mutually exclusive, and DL is a subset of ML. DL techniques, such as deep neural networks, have shown remarkable success in various domains, including computer vision, natural language processing, and speech recognition. However, ML techniques still have their place in scenarios where interpretability, smaller datasets, or limited computational resources are important considerations.\n"
   ]
  },
  {
   "cell_type": "code",
   "execution_count": 1,
   "metadata": {},
   "outputs": [],
   "source": [
    "import torch\n",
    "import torch.nn as nn\n",
    "import torch.nn.functional as F\n",
    "import pandas as pd\n",
    "import numpy as np\n",
    "import matplotlib.pyplot as plt\n",
    "from sklearn.model_selection import train_test_split\n",
    "from sklearn.preprocessing import StandardScaler\n",
    "from sklearn.metrics import mean_squared_error\n",
    "from sklearn.metrics import r2_score\n",
    "from sklearn.metrics import mean_absolute_error\n",
    "from sklearn.metrics import mean_squared_log_error\n",
    "from sklearn.metrics import explained_variance_score\n",
    "from sklearn.metrics import max_error"
   ]
  },
  {
   "cell_type": "code",
   "execution_count": 2,
   "metadata": {},
   "outputs": [
    {
     "data": {
      "text/plain": [
       "1"
      ]
     },
     "execution_count": 2,
     "metadata": {},
     "output_type": "execute_result"
    }
   ],
   "source": [
    "# vector\n",
    "vec=torch.tensor([1.0,2.0,3.0,4.0,5.0])\n",
    "vec.ndim"
   ]
  },
  {
   "cell_type": "code",
   "execution_count": 3,
   "metadata": {},
   "outputs": [
    {
     "name": "stdout",
     "output_type": "stream",
     "text": [
      "tensor([[1., 2., 3.],\n",
      "        [4., 5., 6.]])\n"
     ]
    },
    {
     "data": {
      "text/plain": [
       "2"
      ]
     },
     "execution_count": 3,
     "metadata": {},
     "output_type": "execute_result"
    }
   ],
   "source": [
    "#create matrix\n",
    "mat=torch.tensor([[1.0,2.0,3.0],[4.0,5.0,6.0]])\n",
    "print(mat)\n",
    "mat.ndim"
   ]
  },
  {
   "cell_type": "code",
   "execution_count": 4,
   "metadata": {},
   "outputs": [
    {
     "name": "stdout",
     "output_type": "stream",
     "text": [
      "tensor([[[1, 2],\n",
      "         [3, 4]],\n",
      "\n",
      "        [[5, 6],\n",
      "         [7, 8]]])\n"
     ]
    },
    {
     "data": {
      "text/plain": [
       "3"
      ]
     },
     "execution_count": 4,
     "metadata": {},
     "output_type": "execute_result"
    }
   ],
   "source": [
    "#3d tensor\n",
    "tens=torch.tensor([[[1,2],[3,4]],[[5,6],[7,8]]])\n",
    "print(tens)\n",
    "tens.ndim"
   ]
  },
  {
   "cell_type": "code",
   "execution_count": 5,
   "metadata": {},
   "outputs": [
    {
     "data": {
      "text/plain": [
       "torch.int64"
      ]
     },
     "execution_count": 5,
     "metadata": {},
     "output_type": "execute_result"
    }
   ],
   "source": [
    "tens.dtype"
   ]
  },
  {
   "cell_type": "code",
   "execution_count": 6,
   "metadata": {},
   "outputs": [
    {
     "name": "stdout",
     "output_type": "stream",
     "text": [
      "tensor([[[[ 1.,  2.],\n",
      "          [ 3.,  4.]],\n",
      "\n",
      "         [[ 5.,  6.],\n",
      "          [ 7.,  8.]]],\n",
      "\n",
      "\n",
      "        [[[ 9., 10.],\n",
      "          [11., 12.]],\n",
      "\n",
      "         [[13., 14.],\n",
      "          [15., 16.]]]])\n"
     ]
    },
    {
     "data": {
      "text/plain": [
       "3"
      ]
     },
     "execution_count": 6,
     "metadata": {},
     "output_type": "execute_result"
    }
   ],
   "source": [
    "#4d tensor\n",
    "tens4d=torch.tensor([[[[1.0,2.0],[3.0,4.0]],[[5.0,6.0],[7.0,8.0]]],[[[9.0,10.0],[11.0,12.0]],[[13.0,14.0],[15.0,16.0]]]])\n",
    "print(tens4d)\n",
    "tens.ndim"
   ]
  },
  {
   "cell_type": "markdown",
   "metadata": {},
   "source": [
    "### random tensor\n"
   ]
  },
  {
   "cell_type": "code",
   "execution_count": 7,
   "metadata": {},
   "outputs": [
    {
     "data": {
      "text/plain": [
       "tensor([[[0.1574, 0.9544],\n",
       "         [0.3970, 0.1125],\n",
       "         [0.2756, 0.2344]],\n",
       "\n",
       "        [[0.9017, 0.7422],\n",
       "         [0.0969, 0.0459],\n",
       "         [0.4107, 0.1161]],\n",
       "\n",
       "        [[0.2818, 0.4314],\n",
       "         [0.3311, 0.9573],\n",
       "         [0.5381, 0.0315]]])"
      ]
     },
     "execution_count": 7,
     "metadata": {},
     "output_type": "execute_result"
    }
   ],
   "source": [
    "\n",
    "rand3dtensor=torch.rand(3,3,2)#create a random 3d tensor\n",
    "rand3dtensor"
   ]
  },
  {
   "cell_type": "code",
   "execution_count": 8,
   "metadata": {},
   "outputs": [
    {
     "data": {
      "text/plain": [
       "torch.Size([3, 3, 2])"
      ]
     },
     "execution_count": 8,
     "metadata": {},
     "output_type": "execute_result"
    }
   ],
   "source": [
    "rand3dtensor.shape"
   ]
  },
  {
   "cell_type": "code",
   "execution_count": 9,
   "metadata": {},
   "outputs": [
    {
     "data": {
      "text/plain": [
       "tensor([[[[[2.4617e-02, 8.6939e-01, 8.7256e-01, 8.2013e-01, 6.9382e-01,\n",
       "            3.9905e-02],\n",
       "           [2.0381e-01, 1.2868e-01, 5.6793e-01, 9.9261e-01, 5.3406e-02,\n",
       "            6.3921e-01],\n",
       "           [1.2477e-02, 1.1038e-01, 9.6383e-01, 2.9878e-01, 4.7035e-01,\n",
       "            2.5712e-01],\n",
       "           [3.4386e-01, 9.8746e-01, 8.2203e-01, 8.1283e-01, 5.7959e-01,\n",
       "            4.2113e-01],\n",
       "           [5.3648e-01, 9.9873e-01, 2.0106e-02, 7.6898e-01, 6.4259e-02,\n",
       "            2.9768e-01]],\n",
       "\n",
       "          [[7.5617e-01, 4.1196e-01, 7.1015e-01, 7.0698e-01, 3.7130e-01,\n",
       "            6.1179e-01],\n",
       "           [4.6016e-01, 1.9229e-01, 2.3473e-01, 4.9677e-01, 5.1179e-01,\n",
       "            7.7094e-01],\n",
       "           [2.2715e-01, 7.2326e-01, 7.6062e-01, 2.3951e-02, 4.8855e-01,\n",
       "            3.4508e-01],\n",
       "           [1.5345e-01, 9.6069e-01, 9.0106e-01, 9.4545e-01, 4.8890e-01,\n",
       "            8.9674e-01],\n",
       "           [4.6829e-01, 6.8184e-01, 1.7359e-01, 5.1243e-03, 2.7508e-01,\n",
       "            7.3421e-01]],\n",
       "\n",
       "          [[6.7140e-01, 2.1459e-01, 4.1400e-01, 8.3583e-01, 6.7453e-01,\n",
       "            6.3373e-01],\n",
       "           [5.1820e-01, 1.3634e-01, 6.2918e-01, 7.7831e-01, 8.7475e-01,\n",
       "            1.9237e-01],\n",
       "           [7.5058e-01, 7.0626e-02, 5.3891e-02, 1.5854e-01, 1.2055e-01,\n",
       "            2.0268e-02],\n",
       "           [1.9124e-01, 9.3609e-01, 9.5657e-01, 7.9800e-01, 5.9804e-01,\n",
       "            1.7583e-01],\n",
       "           [8.5912e-01, 8.1464e-01, 5.0070e-01, 1.8431e-01, 5.4199e-01,\n",
       "            4.3255e-02]],\n",
       "\n",
       "          [[7.8302e-02, 4.0051e-02, 9.4176e-01, 1.9007e-01, 2.0991e-01,\n",
       "            2.2894e-01],\n",
       "           [8.3964e-01, 5.9736e-01, 9.3067e-01, 6.8077e-01, 6.6384e-01,\n",
       "            1.0563e-02],\n",
       "           [5.6160e-01, 8.7664e-01, 6.9008e-01, 2.7163e-01, 8.2548e-01,\n",
       "            3.8180e-02],\n",
       "           [7.7938e-01, 1.0211e-01, 8.4125e-01, 5.6997e-01, 2.0193e-01,\n",
       "            1.9609e-02],\n",
       "           [5.2006e-01, 5.0279e-01, 5.7916e-01, 1.1514e-01, 6.5464e-01,\n",
       "            8.2648e-01]]],\n",
       "\n",
       "\n",
       "         [[[1.8407e-01, 8.3120e-01, 3.5916e-01, 2.7385e-01, 8.6376e-01,\n",
       "            7.3925e-01],\n",
       "           [6.4472e-01, 9.0237e-01, 8.5558e-01, 8.5757e-01, 6.6395e-01,\n",
       "            4.1050e-01],\n",
       "           [4.7947e-01, 8.2525e-01, 7.9002e-01, 6.8287e-01, 9.5195e-02,\n",
       "            1.5364e-01],\n",
       "           [2.4092e-01, 9.1412e-01, 8.5717e-01, 7.4689e-01, 8.0790e-01,\n",
       "            9.6593e-01],\n",
       "           [3.0897e-01, 5.7240e-01, 4.0325e-01, 4.1044e-01, 6.4494e-01,\n",
       "            3.7795e-02]],\n",
       "\n",
       "          [[1.5285e-01, 3.3035e-01, 5.5252e-01, 4.5972e-01, 5.5929e-01,\n",
       "            4.6582e-01],\n",
       "           [8.9344e-01, 6.5665e-01, 7.2229e-01, 9.0700e-01, 4.7883e-01,\n",
       "            6.3541e-01],\n",
       "           [5.6952e-01, 6.7971e-01, 4.7325e-01, 1.4126e-01, 9.3494e-01,\n",
       "            2.9804e-01],\n",
       "           [7.3147e-01, 2.5392e-01, 5.8039e-01, 7.5070e-01, 6.5895e-01,\n",
       "            4.6281e-01],\n",
       "           [7.4885e-02, 9.1030e-01, 4.8137e-01, 3.1829e-01, 1.6973e-01,\n",
       "            5.7049e-01]],\n",
       "\n",
       "          [[4.1303e-01, 2.3974e-01, 3.6286e-01, 4.4671e-02, 8.4460e-01,\n",
       "            2.4539e-01],\n",
       "           [3.4373e-01, 3.1863e-01, 1.5121e-01, 4.1240e-01, 6.7040e-01,\n",
       "            9.6955e-01],\n",
       "           [2.5936e-01, 3.3334e-01, 1.2915e-03, 9.7095e-01, 9.8054e-01,\n",
       "            3.7927e-01],\n",
       "           [2.2659e-01, 4.9795e-01, 6.7086e-01, 7.9919e-01, 5.1267e-01,\n",
       "            1.0091e-01],\n",
       "           [2.7409e-01, 3.4626e-01, 4.1634e-01, 2.5866e-01, 2.8955e-01,\n",
       "            7.3160e-01]],\n",
       "\n",
       "          [[1.0590e-01, 9.9579e-01, 4.5964e-01, 6.8943e-01, 9.3840e-01,\n",
       "            3.3527e-01],\n",
       "           [2.4849e-01, 2.2960e-01, 8.5651e-01, 6.1134e-01, 2.4516e-01,\n",
       "            8.5116e-01],\n",
       "           [4.8176e-01, 1.2189e-01, 1.9245e-01, 4.7780e-01, 9.9179e-01,\n",
       "            5.0536e-01],\n",
       "           [5.6711e-01, 4.2245e-01, 9.6504e-01, 4.2190e-01, 3.6100e-03,\n",
       "            8.4909e-01],\n",
       "           [5.3641e-02, 3.9502e-01, 4.2387e-01, 7.5041e-02, 1.4926e-01,\n",
       "            9.7702e-01]]],\n",
       "\n",
       "\n",
       "         [[[5.0962e-01, 2.0498e-02, 4.9292e-01, 2.1137e-01, 1.6289e-01,\n",
       "            3.3169e-01],\n",
       "           [7.5727e-01, 1.0716e-01, 5.0641e-01, 7.9618e-01, 4.1537e-02,\n",
       "            1.7497e-01],\n",
       "           [9.9148e-01, 2.2836e-01, 8.2071e-01, 4.1372e-01, 9.8967e-01,\n",
       "            9.3538e-01],\n",
       "           [5.7217e-01, 7.0852e-01, 3.7107e-01, 2.8158e-01, 3.6143e-01,\n",
       "            5.2391e-01],\n",
       "           [3.8203e-01, 5.6780e-01, 8.0630e-01, 7.4457e-01, 2.8096e-01,\n",
       "            6.0535e-01]],\n",
       "\n",
       "          [[3.4538e-01, 5.7514e-01, 9.2020e-01, 1.5618e-01, 6.2860e-01,\n",
       "            1.5180e-01],\n",
       "           [9.4019e-01, 8.2024e-01, 4.1662e-01, 7.7452e-02, 5.8093e-01,\n",
       "            1.4647e-01],\n",
       "           [3.7516e-01, 3.9698e-02, 2.3333e-01, 5.6207e-01, 8.4268e-01,\n",
       "            5.0914e-01],\n",
       "           [5.5973e-01, 1.2742e-01, 8.3238e-01, 2.7486e-01, 7.8029e-01,\n",
       "            7.1646e-01],\n",
       "           [1.0315e-02, 7.1801e-02, 3.9612e-01, 4.9367e-01, 1.2550e-01,\n",
       "            2.9160e-01]],\n",
       "\n",
       "          [[4.5915e-01, 4.8097e-01, 8.0015e-01, 3.4998e-01, 9.7346e-01,\n",
       "            8.4853e-01],\n",
       "           [5.3600e-01, 9.5596e-01, 2.5581e-01, 3.5772e-02, 1.5482e-01,\n",
       "            8.0572e-02],\n",
       "           [2.2448e-01, 2.6881e-01, 2.6884e-01, 5.2350e-01, 6.3847e-01,\n",
       "            1.8626e-01],\n",
       "           [8.5005e-01, 4.6878e-01, 1.7293e-01, 3.9039e-01, 9.0530e-01,\n",
       "            2.9718e-01],\n",
       "           [8.1276e-01, 5.3779e-01, 3.9898e-01, 8.9544e-01, 3.7529e-01,\n",
       "            9.0524e-01]],\n",
       "\n",
       "          [[2.4828e-01, 7.7070e-01, 7.3771e-01, 2.6030e-01, 3.7855e-01,\n",
       "            4.5192e-01],\n",
       "           [9.3999e-01, 2.1613e-04, 6.2356e-01, 2.1428e-01, 4.2593e-02,\n",
       "            1.4898e-01],\n",
       "           [4.4891e-01, 3.6283e-01, 2.4716e-01, 7.4132e-01, 7.2504e-02,\n",
       "            9.2093e-02],\n",
       "           [5.2762e-01, 9.7359e-01, 3.4498e-01, 5.8497e-01, 9.6609e-01,\n",
       "            5.0660e-01],\n",
       "           [8.4221e-01, 9.4782e-01, 6.2900e-02, 5.3727e-01, 3.9687e-01,\n",
       "            3.0118e-01]]]],\n",
       "\n",
       "\n",
       "\n",
       "        [[[[8.4965e-01, 6.2562e-02, 3.9185e-02, 5.3104e-01, 9.8264e-01,\n",
       "            7.7055e-01],\n",
       "           [5.9531e-01, 9.7147e-01, 6.7314e-01, 3.4281e-02, 5.5637e-01,\n",
       "            9.4255e-01],\n",
       "           [8.5274e-02, 6.9487e-01, 6.8182e-01, 6.7163e-01, 8.7269e-01,\n",
       "            7.1695e-01],\n",
       "           [3.8514e-01, 4.4847e-01, 7.4953e-01, 6.3158e-01, 5.8630e-02,\n",
       "            8.2313e-01],\n",
       "           [7.1101e-03, 9.4740e-01, 1.7945e-02, 4.5511e-01, 2.1649e-01,\n",
       "            4.2229e-01]],\n",
       "\n",
       "          [[6.8881e-02, 9.3801e-01, 4.5050e-01, 2.5994e-01, 6.3875e-01,\n",
       "            6.4761e-01],\n",
       "           [2.6429e-01, 1.1995e-01, 2.9320e-01, 9.5881e-01, 3.9737e-02,\n",
       "            7.4741e-01],\n",
       "           [3.9802e-02, 7.2399e-02, 9.0527e-01, 5.3903e-01, 2.9040e-01,\n",
       "            9.1697e-01],\n",
       "           [4.3972e-01, 8.7580e-01, 3.7434e-01, 6.3758e-01, 1.6843e-01,\n",
       "            7.7412e-01],\n",
       "           [5.8894e-01, 2.9567e-01, 7.9932e-01, 1.6512e-01, 8.5847e-01,\n",
       "            4.8592e-01]],\n",
       "\n",
       "          [[5.4670e-01, 3.3399e-01, 1.9238e-01, 5.1653e-01, 3.1567e-02,\n",
       "            7.5898e-01],\n",
       "           [8.3361e-01, 2.9878e-01, 2.9768e-01, 7.6439e-01, 2.5323e-01,\n",
       "            8.5708e-01],\n",
       "           [6.7891e-01, 1.0937e-01, 3.4527e-01, 5.3822e-01, 7.2415e-01,\n",
       "            6.6596e-01],\n",
       "           [3.3678e-01, 4.3580e-01, 8.0331e-01, 4.8051e-01, 4.0165e-01,\n",
       "            2.9397e-01],\n",
       "           [7.0766e-01, 9.5105e-01, 1.1013e-01, 3.0027e-01, 2.9386e-01,\n",
       "            6.8067e-01]],\n",
       "\n",
       "          [[5.7797e-01, 1.8740e-01, 9.3924e-01, 8.9917e-01, 2.7435e-01,\n",
       "            8.8801e-01],\n",
       "           [4.8559e-01, 4.2764e-01, 1.2510e-01, 8.8090e-01, 3.4016e-01,\n",
       "            1.8916e-01],\n",
       "           [7.3424e-01, 1.7829e-01, 8.5847e-01, 9.7049e-01, 9.4601e-01,\n",
       "            8.3360e-01],\n",
       "           [6.2563e-01, 5.8744e-02, 1.4324e-01, 9.9677e-01, 8.0185e-01,\n",
       "            3.0244e-01],\n",
       "           [3.5297e-01, 1.4723e-01, 5.4696e-01, 6.9861e-02, 2.4477e-01,\n",
       "            7.4755e-01]]],\n",
       "\n",
       "\n",
       "         [[[9.1514e-01, 5.3683e-01, 7.2101e-01, 2.9673e-01, 9.8111e-01,\n",
       "            9.3338e-01],\n",
       "           [5.2520e-01, 1.4798e-01, 8.8811e-01, 2.8493e-01, 2.7192e-02,\n",
       "            2.4135e-01],\n",
       "           [3.3415e-01, 3.3964e-03, 5.6387e-01, 7.5963e-01, 6.7781e-01,\n",
       "            4.2850e-01],\n",
       "           [1.2835e-01, 8.7507e-01, 3.3081e-01, 7.7062e-01, 9.4425e-01,\n",
       "            6.5877e-01],\n",
       "           [5.5454e-01, 7.7731e-01, 8.5975e-01, 5.5855e-01, 1.4282e-01,\n",
       "            1.8869e-01]],\n",
       "\n",
       "          [[3.7303e-01, 8.7556e-01, 7.3930e-01, 1.0985e-01, 4.8197e-01,\n",
       "            9.3214e-01],\n",
       "           [4.4572e-01, 4.0800e-01, 2.4122e-01, 3.9775e-01, 2.9526e-01,\n",
       "            2.5452e-01],\n",
       "           [6.1285e-01, 6.4415e-02, 2.4546e-01, 8.7740e-01, 3.8439e-01,\n",
       "            9.3747e-01],\n",
       "           [6.4411e-01, 7.7950e-01, 4.4408e-01, 9.0509e-01, 4.6720e-01,\n",
       "            1.7472e-01],\n",
       "           [5.0554e-01, 8.8477e-01, 7.5937e-01, 8.0699e-01, 1.0365e-04,\n",
       "            7.0022e-01]],\n",
       "\n",
       "          [[8.1432e-01, 8.4545e-01, 9.4715e-01, 5.8216e-01, 3.1361e-02,\n",
       "            7.9502e-01],\n",
       "           [6.0724e-01, 4.3522e-01, 8.4004e-01, 9.9758e-01, 5.1031e-01,\n",
       "            7.0944e-01],\n",
       "           [6.7660e-01, 1.7006e-01, 6.5963e-01, 8.8402e-01, 8.0703e-01,\n",
       "            5.1524e-01],\n",
       "           [1.8084e-01, 5.5251e-01, 4.5262e-01, 4.4933e-01, 7.6880e-01,\n",
       "            6.7418e-01],\n",
       "           [1.2739e-02, 6.1694e-01, 7.9033e-01, 9.5012e-01, 1.6593e-01,\n",
       "            3.7132e-01]],\n",
       "\n",
       "          [[6.9078e-01, 9.9394e-01, 1.5430e-01, 5.4200e-01, 1.6606e-01,\n",
       "            8.4456e-01],\n",
       "           [1.1653e-02, 5.8082e-01, 4.6448e-02, 1.2005e-01, 8.0134e-01,\n",
       "            2.9393e-01],\n",
       "           [4.0587e-01, 2.5204e-01, 2.6245e-01, 5.0452e-01, 9.0345e-01,\n",
       "            3.3216e-01],\n",
       "           [3.8343e-02, 9.4270e-01, 9.1679e-01, 9.3751e-01, 1.0412e-01,\n",
       "            6.9695e-02],\n",
       "           [3.1124e-01, 6.4079e-01, 5.9414e-01, 3.7689e-02, 4.5005e-01,\n",
       "            8.4493e-01]]],\n",
       "\n",
       "\n",
       "         [[[8.1787e-01, 1.9323e-01, 8.4815e-01, 2.3669e-01, 7.7779e-01,\n",
       "            1.8593e-01],\n",
       "           [8.1026e-01, 6.3725e-01, 6.1039e-01, 7.6261e-01, 7.5361e-01,\n",
       "            8.4213e-01],\n",
       "           [2.7172e-01, 7.6052e-01, 6.8915e-03, 1.5871e-01, 4.7461e-01,\n",
       "            9.8539e-01],\n",
       "           [5.3405e-01, 2.0825e-01, 2.0067e-01, 4.6541e-01, 3.8206e-01,\n",
       "            9.6140e-01],\n",
       "           [2.0493e-01, 4.5883e-01, 5.4661e-01, 1.9793e-01, 6.1765e-01,\n",
       "            6.6296e-01]],\n",
       "\n",
       "          [[1.3278e-02, 8.6174e-01, 4.2212e-01, 8.8154e-01, 6.1780e-01,\n",
       "            1.5900e-01],\n",
       "           [9.3650e-01, 5.3195e-01, 9.2705e-01, 3.1127e-01, 4.0203e-01,\n",
       "            1.5155e-01],\n",
       "           [7.4387e-01, 8.2790e-01, 8.0209e-01, 8.3835e-01, 8.4388e-01,\n",
       "            3.1557e-01],\n",
       "           [1.4359e-02, 4.4809e-01, 9.3153e-01, 1.1881e-02, 7.7828e-01,\n",
       "            3.8426e-01],\n",
       "           [9.1067e-01, 4.8828e-01, 4.8421e-01, 4.3345e-01, 2.3349e-01,\n",
       "            9.4968e-01]],\n",
       "\n",
       "          [[8.2690e-01, 1.4310e-01, 4.3424e-01, 9.0804e-01, 8.0029e-01,\n",
       "            3.4566e-02],\n",
       "           [4.3964e-01, 4.7174e-01, 2.1914e-01, 3.3988e-01, 3.8029e-02,\n",
       "            5.2429e-01],\n",
       "           [5.2853e-01, 5.6210e-01, 9.9560e-01, 8.4359e-01, 4.9568e-01,\n",
       "            9.4078e-01],\n",
       "           [9.1689e-01, 2.5153e-01, 1.0422e-01, 9.3623e-01, 2.7642e-01,\n",
       "            3.6867e-01],\n",
       "           [2.3437e-01, 9.5110e-01, 5.1226e-01, 3.2019e-01, 2.8219e-01,\n",
       "            5.1494e-01]],\n",
       "\n",
       "          [[4.4592e-02, 8.9673e-01, 7.1591e-01, 9.4088e-01, 2.1786e-01,\n",
       "            7.8036e-02],\n",
       "           [5.6724e-01, 4.6554e-03, 9.6973e-01, 6.2691e-01, 7.5544e-01,\n",
       "            1.9383e-01],\n",
       "           [2.4017e-01, 3.3399e-01, 7.0170e-01, 4.0588e-01, 8.4223e-01,\n",
       "            5.2672e-01],\n",
       "           [5.9259e-01, 1.1196e-01, 3.1356e-01, 9.9723e-01, 3.4516e-01,\n",
       "            3.6283e-01],\n",
       "           [7.1163e-01, 1.7181e-01, 7.6588e-01, 8.9290e-01, 3.4538e-01,\n",
       "            1.2884e-01]]]]])"
      ]
     },
     "execution_count": 9,
     "metadata": {},
     "output_type": "execute_result"
    }
   ],
   "source": [
    "#5d random tensor\n",
    "rand5dtensor=torch.rand(2,3,4,5,6)\n",
    "rand5dtensor"
   ]
  },
  {
   "cell_type": "code",
   "execution_count": 10,
   "metadata": {},
   "outputs": [
    {
     "data": {
      "text/plain": [
       "tensor([[[0., 0., 0.],\n",
       "         [0., 0., 0.],\n",
       "         [0., 0., 0.]],\n",
       "\n",
       "        [[0., 0., 0.],\n",
       "         [0., 0., 0.],\n",
       "         [0., 0., 0.]],\n",
       "\n",
       "        [[0., 0., 0.],\n",
       "         [0., 0., 0.],\n",
       "         [0., 0., 0.]]])"
      ]
     },
     "execution_count": 10,
     "metadata": {},
     "output_type": "execute_result"
    }
   ],
   "source": [
    "#zero tensor\n",
    "zero_tensor=torch.zeros(3,3,3)\n",
    "zero_tensor"
   ]
  },
  {
   "cell_type": "markdown",
   "metadata": {},
   "source": [
    "### data types"
   ]
  },
  {
   "cell_type": "code",
   "execution_count": 11,
   "metadata": {},
   "outputs": [
    {
     "data": {
      "text/plain": [
       "torch.float32"
      ]
     },
     "execution_count": 11,
     "metadata": {},
     "output_type": "execute_result"
    }
   ],
   "source": [
    "zero_tensor.dtype"
   ]
  },
  {
   "cell_type": "code",
   "execution_count": 12,
   "metadata": {},
   "outputs": [
    {
     "data": {
      "text/plain": [
       "torch.float16"
      ]
     },
     "execution_count": 12,
     "metadata": {},
     "output_type": "execute_result"
    }
   ],
   "source": [
    "#float 16 tensor\n",
    "float16_tensor=torch.zeros(3,3,3,dtype=torch.float16)\n",
    "float16_tensor.dtype"
   ]
  },
  {
   "cell_type": "code",
   "execution_count": 13,
   "metadata": {},
   "outputs": [
    {
     "data": {
      "text/plain": [
       "torch.float64"
      ]
     },
     "execution_count": 13,
     "metadata": {},
     "output_type": "execute_result"
    }
   ],
   "source": [
    "#float 64 tensor\n",
    "float64_tensor=torch.zeros(3,3,3,dtype=torch.float64)\n",
    "float64_tensor.dtype"
   ]
  },
  {
   "cell_type": "code",
   "execution_count": 14,
   "metadata": {},
   "outputs": [
    {
     "data": {
      "text/plain": [
       "tensor([[[0., 0., 0.],\n",
       "         [0., 0., 0.],\n",
       "         [0., 0., 0.]],\n",
       "\n",
       "        [[0., 0., 0.],\n",
       "         [0., 0., 0.],\n",
       "         [0., 0., 0.]],\n",
       "\n",
       "        [[0., 0., 0.],\n",
       "         [0., 0., 0.],\n",
       "         [0., 0., 0.]]], dtype=torch.float64)"
      ]
     },
     "execution_count": 14,
     "metadata": {},
     "output_type": "execute_result"
    }
   ],
   "source": [
    "float16_tensor*float64_tensor"
   ]
  },
  {
   "cell_type": "code",
   "execution_count": 15,
   "metadata": {},
   "outputs": [
    {
     "data": {
      "text/plain": [
       "torch.int64"
      ]
     },
     "execution_count": 15,
     "metadata": {},
     "output_type": "execute_result"
    }
   ],
   "source": [
    "# int tensor\n",
    "int_tensor=torch.tensor([1,2,3,4,5])#default int tensor is int64\n",
    "int_tensor.dtype"
   ]
  },
  {
   "cell_type": "code",
   "execution_count": 16,
   "metadata": {},
   "outputs": [],
   "source": [
    "#32 bit int tensor\n",
    "int32_tensor=torch.tensor([1,2,3,4,5],dtype=torch.int32)#for 16 bit use torch.int16 and for 64 bit use torch.int64\n"
   ]
  },
  {
   "cell_type": "code",
   "execution_count": 17,
   "metadata": {},
   "outputs": [],
   "source": [
    "#def function to check dtype device and shape of tensor\n",
    "def describe_tensor(tensor):\n",
    "    print(f\"Shape of tensor: {tensor.shape}\")\n",
    "    print(f\"Datatype of tensor: {tensor.dtype}\")\n",
    "    print(f\"Device tensor is stored on: {tensor.device}\")\n"
   ]
  },
  {
   "cell_type": "code",
   "execution_count": 18,
   "metadata": {},
   "outputs": [
    {
     "name": "stdout",
     "output_type": "stream",
     "text": [
      "Shape of tensor: torch.Size([5])\n",
      "Datatype of tensor: torch.int32\n",
      "Device tensor is stored on: cpu\n"
     ]
    }
   ],
   "source": [
    "describe_tensor(int32_tensor)"
   ]
  },
  {
   "cell_type": "markdown",
   "metadata": {},
   "source": [
    "### tensor manipulating\n",
    "\n",
    "tensor opretions include:\n",
    "* airthmatic alzebra\n",
    "* matrix multipliction\n",
    "\n"
   ]
  },
  {
   "cell_type": "code",
   "execution_count": 19,
   "metadata": {},
   "outputs": [
    {
     "data": {
      "text/plain": [
       "tensor([11, 12, 13, 14, 15])"
      ]
     },
     "execution_count": 19,
     "metadata": {},
     "output_type": "execute_result"
    }
   ],
   "source": [
    "#addition\n",
    "int_tensor=torch.tensor([1,2,3,4,5])\n",
    "int_tensor+10"
   ]
  },
  {
   "cell_type": "code",
   "execution_count": 20,
   "metadata": {},
   "outputs": [
    {
     "data": {
      "text/plain": [
       "tensor([10, 20, 30, 40, 50])"
      ]
     },
     "execution_count": 20,
     "metadata": {},
     "output_type": "execute_result"
    }
   ],
   "source": [
    "#multiplication\n",
    "int_tensor*10"
   ]
  },
  {
   "cell_type": "code",
   "execution_count": 21,
   "metadata": {},
   "outputs": [
    {
     "data": {
      "text/plain": [
       "tensor([11, 12, 13, 14, 15])"
      ]
     },
     "execution_count": 21,
     "metadata": {},
     "output_type": "execute_result"
    }
   ],
   "source": [
    "#by pytorch inbuilt function\n",
    "torch.add(int_tensor,10)"
   ]
  },
  {
   "cell_type": "code",
   "execution_count": 22,
   "metadata": {},
   "outputs": [
    {
     "data": {
      "text/plain": [
       "tensor([10, 20, 30, 40, 50])"
      ]
     },
     "execution_count": 22,
     "metadata": {},
     "output_type": "execute_result"
    }
   ],
   "source": [
    "torch.mul(int_tensor,10)"
   ]
  },
  {
   "cell_type": "markdown",
   "metadata": {},
   "source": [
    "### matrix multiplication\n",
    "* matrix multiplication \n",
    "* elemental multiplication"
   ]
  },
  {
   "cell_type": "code",
   "execution_count": 23,
   "metadata": {},
   "outputs": [
    {
     "data": {
      "text/plain": [
       "tensor([ 10,  40,  90, 160, 250])"
      ]
     },
     "execution_count": 23,
     "metadata": {},
     "output_type": "execute_result"
    }
   ],
   "source": [
    "# element wise multiplication\n",
    "a=torch.tensor([1,2,3,4,5])\n",
    "b=torch.tensor([10,20,30,40,50])\n",
    "a*b"
   ]
  },
  {
   "cell_type": "code",
   "execution_count": 24,
   "metadata": {},
   "outputs": [
    {
     "name": "stdout",
     "output_type": "stream",
     "text": [
      "tensor([[1, 2, 3],\n",
      "        [4, 5, 6]]) * tensor([[10, 20, 30],\n",
      "        [40, 50, 60]])\n",
      "equals:tensor([[ 10,  40,  90],\n",
      "        [160, 250, 360]])\n"
     ]
    }
   ],
   "source": [
    "# element wise multiplication in 2d tensor\n",
    "a=torch.tensor([[1,2,3],[4,5,6]])\n",
    "b=torch.tensor([[10,20,30],[40,50,60]])\n",
    "print(a,'*',b,)\n",
    "print(f\"equals:{a*b}\")"
   ]
  },
  {
   "cell_type": "markdown",
   "metadata": {},
   "source": [
    "matrix multiplication"
   ]
  },
  {
   "cell_type": "code",
   "execution_count": 25,
   "metadata": {},
   "outputs": [
    {
     "data": {
      "text/plain": [
       "tensor([[220, 280],\n",
       "        [490, 640]])"
      ]
     },
     "execution_count": 25,
     "metadata": {},
     "output_type": "execute_result"
    }
   ],
   "source": [
    "#matrix multiplication\n",
    "a=torch.tensor([[1,2,3],[4,5,6]])#2x3\n",
    "b=torch.tensor([[10,20],[30,40],[50,60]])#3x2\n",
    "torch.matmul(a,b)"
   ]
  },
  {
   "cell_type": "markdown",
   "metadata": {},
   "source": [
    "## stat of tensor"
   ]
  },
  {
   "cell_type": "code",
   "execution_count": 26,
   "metadata": {},
   "outputs": [
    {
     "name": "stdout",
     "output_type": "stream",
     "text": [
      "Shape of tensor: torch.Size([2, 3])\n",
      "Datatype of tensor: torch.float32\n",
      "Device tensor is stored on: cpu\n",
      "Mean: 3.5\n",
      "Max: 6.0\n",
      "Min: 1.0\n",
      "Sum: 21.0\n",
      "Standard Deviation: 1.8708287477493286\n"
     ]
    }
   ],
   "source": [
    "# finding mean, max, min, sum, std 2d tensor\n",
    "def stat_tensor(tensor):\n",
    "    print(f\"Shape of tensor: {tensor.shape}\")\n",
    "    print(f\"Datatype of tensor: {tensor.dtype}\")\n",
    "    print(f\"Device tensor is stored on: {tensor.device}\")\n",
    "    print(f\"Mean: {tensor.mean()}\")# means works on float tensor\n",
    "    print(f\"Max: {tensor.max()}\")\n",
    "    print(f\"Min: {tensor.min()}\")\n",
    "    print(f\"Sum: {tensor.sum()}\")\n",
    "    print(f\"Standard Deviation: {tensor.std()}\")\n",
    "a=torch.tensor([[1.0,2.0,3.0],[4.0,5.0,6.0]])\n",
    "stat_tensor(a)"
   ]
  },
  {
   "cell_type": "code",
   "execution_count": null,
   "metadata": {},
   "outputs": [],
   "source": []
  }
 ],
 "metadata": {
  "kernelspec": {
   "display_name": "Python 3",
   "language": "python",
   "name": "python3"
  },
  "language_info": {
   "codemirror_mode": {
    "name": "ipython",
    "version": 3
   },
   "file_extension": ".py",
   "mimetype": "text/x-python",
   "name": "python",
   "nbconvert_exporter": "python",
   "pygments_lexer": "ipython3",
   "version": "3.10.12"
  }
 },
 "nbformat": 4,
 "nbformat_minor": 2
}
