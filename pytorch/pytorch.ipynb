{
 "cells": [
  {
   "cell_type": "markdown",
   "metadata": {},
   "source": [
    "# beginning of pytorch"
   ]
  },
  {
   "cell_type": "markdown",
   "metadata": {},
   "source": [
    "Machine Learning (ML) and Deep Learning (DL) are both subfields of Artificial Intelligence (AI) that involve training models to make predictions or perform tasks based on data. However, there are some key differences between ML and DL:\n",
    "\n",
    "1. **Representation of Data**: In ML, data is typically represented using handcrafted features that are extracted from the raw data. These features are then used as input to the ML model. In DL, the model learns to automatically extract features from the raw data, eliminating the need for manual feature engineering.\n",
    "\n",
    "2. **Model Complexity**: ML models are usually simpler and have fewer parameters compared to DL models. DL models, on the other hand, are more complex and have a larger number of parameters. This allows DL models to learn more intricate patterns and relationships in the data.\n",
    "\n",
    "3. **Training Data Size**: ML models can perform well with smaller training datasets. DL models, on the other hand, typically require larger amounts of training data to generalize effectively. DL models thrive on big data and can benefit from large-scale datasets.\n",
    "\n",
    "4. **Computational Requirements**: DL models are computationally more intensive compared to ML models. DL models often require specialized hardware, such as Graphics Processing Units (GPUs), to train efficiently. ML models can be trained on standard hardware.\n",
    "\n",
    "5. **Domain Expertise**: ML models often require domain expertise to engineer relevant features and select appropriate algorithms. DL models, on the other hand, can automatically learn features from the data, reducing the need for extensive domain knowledge.\n",
    "\n",
    "6. **Interpretability**: ML models are generally more interpretable compared to DL models. ML models often provide insights into the importance of different features and how they contribute to the predictions. DL models, due to their complexity, are often considered as \"black boxes\" and provide less interpretability.\n",
    "\n",
    "It's important to note that ML and DL are not mutually exclusive, and DL is a subset of ML. DL techniques, such as deep neural networks, have shown remarkable success in various domains, including computer vision, natural language processing, and speech recognition. However, ML techniques still have their place in scenarios where interpretability, smaller datasets, or limited computational resources are important considerations.\n"
   ]
  },
  {
   "cell_type": "code",
   "execution_count": 1,
   "metadata": {},
   "outputs": [],
   "source": [
    "import torch\n",
    "import torch.nn as nn\n",
    "import torch.nn.functional as F\n",
    "import pandas as pd\n",
    "import numpy as np\n",
    "import matplotlib.pyplot as plt\n",
    "from sklearn.model_selection import train_test_split\n",
    "from sklearn.preprocessing import StandardScaler\n",
    "from sklearn.metrics import mean_squared_error\n",
    "from sklearn.metrics import r2_score\n",
    "from sklearn.metrics import mean_absolute_error\n",
    "from sklearn.metrics import mean_squared_log_error\n",
    "from sklearn.metrics import explained_variance_score\n",
    "from sklearn.metrics import max_error"
   ]
  },
  {
   "cell_type": "code",
   "execution_count": 2,
   "metadata": {},
   "outputs": [
    {
     "data": {
      "text/plain": [
       "1"
      ]
     },
     "execution_count": 2,
     "metadata": {},
     "output_type": "execute_result"
    }
   ],
   "source": [
    "# vector\n",
    "vec=torch.tensor([1.0,2.0,3.0,4.0,5.0])\n",
    "vec.ndim"
   ]
  },
  {
   "cell_type": "code",
   "execution_count": 3,
   "metadata": {},
   "outputs": [
    {
     "name": "stdout",
     "output_type": "stream",
     "text": [
      "tensor([[1., 2., 3.],\n",
      "        [4., 5., 6.]])\n"
     ]
    },
    {
     "data": {
      "text/plain": [
       "2"
      ]
     },
     "execution_count": 3,
     "metadata": {},
     "output_type": "execute_result"
    }
   ],
   "source": [
    "#create matrix\n",
    "mat=torch.tensor([[1.0,2.0,3.0],[4.0,5.0,6.0]])\n",
    "print(mat)\n",
    "mat.ndim"
   ]
  },
  {
   "cell_type": "code",
   "execution_count": 4,
   "metadata": {},
   "outputs": [
    {
     "name": "stdout",
     "output_type": "stream",
     "text": [
      "tensor([[[1, 2],\n",
      "         [3, 4]],\n",
      "\n",
      "        [[5, 6],\n",
      "         [7, 8]]])\n"
     ]
    },
    {
     "data": {
      "text/plain": [
       "3"
      ]
     },
     "execution_count": 4,
     "metadata": {},
     "output_type": "execute_result"
    }
   ],
   "source": [
    "#3d tensor\n",
    "tens=torch.tensor([[[1,2],[3,4]],[[5,6],[7,8]]])\n",
    "print(tens)\n",
    "tens.ndim"
   ]
  },
  {
   "cell_type": "code",
   "execution_count": 5,
   "metadata": {},
   "outputs": [
    {
     "data": {
      "text/plain": [
       "torch.int64"
      ]
     },
     "execution_count": 5,
     "metadata": {},
     "output_type": "execute_result"
    }
   ],
   "source": [
    "tens.dtype"
   ]
  },
  {
   "cell_type": "code",
   "execution_count": 6,
   "metadata": {},
   "outputs": [
    {
     "name": "stdout",
     "output_type": "stream",
     "text": [
      "tensor([[[[ 1.,  2.],\n",
      "          [ 3.,  4.]],\n",
      "\n",
      "         [[ 5.,  6.],\n",
      "          [ 7.,  8.]]],\n",
      "\n",
      "\n",
      "        [[[ 9., 10.],\n",
      "          [11., 12.]],\n",
      "\n",
      "         [[13., 14.],\n",
      "          [15., 16.]]]])\n"
     ]
    },
    {
     "data": {
      "text/plain": [
       "3"
      ]
     },
     "execution_count": 6,
     "metadata": {},
     "output_type": "execute_result"
    }
   ],
   "source": [
    "#4d tensor\n",
    "tens4d=torch.tensor([[[[1.0,2.0],[3.0,4.0]],[[5.0,6.0],[7.0,8.0]]],[[[9.0,10.0],[11.0,12.0]],[[13.0,14.0],[15.0,16.0]]]])\n",
    "print(tens4d)\n",
    "tens.ndim"
   ]
  },
  {
   "cell_type": "markdown",
   "metadata": {},
   "source": [
    "### random tensor\n"
   ]
  },
  {
   "cell_type": "code",
   "execution_count": 7,
   "metadata": {},
   "outputs": [
    {
     "data": {
      "text/plain": [
       "tensor([[[0.7362, 0.9174],\n",
       "         [0.0676, 0.3767],\n",
       "         [0.0861, 0.8095]],\n",
       "\n",
       "        [[0.1876, 0.5572],\n",
       "         [0.1016, 0.6257],\n",
       "         [0.7070, 0.9599]],\n",
       "\n",
       "        [[0.8622, 0.2656],\n",
       "         [0.2286, 0.9786],\n",
       "         [0.6958, 0.1815]]])"
      ]
     },
     "execution_count": 7,
     "metadata": {},
     "output_type": "execute_result"
    }
   ],
   "source": [
    "\n",
    "rand3dtensor=torch.rand(3,3,2)#create a random 3d tensor\n",
    "rand3dtensor"
   ]
  },
  {
   "cell_type": "code",
   "execution_count": 8,
   "metadata": {},
   "outputs": [
    {
     "data": {
      "text/plain": [
       "torch.Size([3, 3, 2])"
      ]
     },
     "execution_count": 8,
     "metadata": {},
     "output_type": "execute_result"
    }
   ],
   "source": [
    "rand3dtensor.shape"
   ]
  },
  {
   "cell_type": "code",
   "execution_count": 9,
   "metadata": {},
   "outputs": [
    {
     "data": {
      "text/plain": [
       "tensor([[[[[0.2128, 0.7449, 0.6082, 0.7682, 0.5112, 0.4411],\n",
       "           [0.6366, 0.8029, 0.0181, 0.7239, 0.4278, 0.2853],\n",
       "           [0.6667, 0.8412, 0.9536, 0.6222, 0.1144, 0.4391],\n",
       "           [0.2000, 0.1049, 0.7600, 0.3418, 0.0668, 0.4243],\n",
       "           [0.3468, 0.3978, 0.4635, 0.6584, 0.2688, 0.5976]],\n",
       "\n",
       "          [[0.0112, 0.6479, 0.5623, 0.7474, 0.2504, 0.4492],\n",
       "           [0.4715, 0.5047, 0.2157, 0.5693, 0.8846, 0.6562],\n",
       "           [0.8912, 0.1114, 0.9125, 0.2027, 0.8829, 0.9963],\n",
       "           [0.4255, 0.5042, 0.8796, 0.4940, 0.7216, 0.1549],\n",
       "           [0.7479, 0.1490, 0.8199, 0.3040, 0.1268, 0.8575]],\n",
       "\n",
       "          [[0.1573, 0.8423, 0.4029, 0.2339, 0.8311, 0.7193],\n",
       "           [0.3123, 0.9384, 0.8501, 0.4808, 0.2568, 0.0573],\n",
       "           [0.1031, 0.8511, 0.1880, 0.1381, 0.7449, 0.9164],\n",
       "           [0.9277, 0.4679, 0.4941, 0.9739, 0.4181, 0.3760],\n",
       "           [0.8182, 0.4875, 0.4663, 0.4784, 0.5577, 0.5752]],\n",
       "\n",
       "          [[0.6590, 0.0465, 0.1648, 0.1286, 0.5121, 0.1509],\n",
       "           [0.4876, 0.3806, 0.4901, 0.8272, 0.9538, 0.8006],\n",
       "           [0.7482, 0.8547, 0.5186, 0.1389, 0.7535, 0.0564],\n",
       "           [0.9911, 0.6212, 0.2833, 0.5537, 0.2141, 0.8187],\n",
       "           [0.3811, 0.2024, 0.1736, 0.4772, 0.1797, 0.1688]]],\n",
       "\n",
       "\n",
       "         [[[0.4938, 0.6715, 0.6444, 0.7697, 0.4828, 0.2144],\n",
       "           [0.7199, 0.7889, 0.2885, 0.1185, 0.1825, 0.0270],\n",
       "           [0.0015, 0.3693, 0.4666, 0.5033, 0.0869, 0.8778],\n",
       "           [0.3228, 0.5007, 0.6209, 0.7348, 0.8145, 0.1437],\n",
       "           [0.8196, 0.1524, 0.7158, 0.3214, 0.8505, 0.7582]],\n",
       "\n",
       "          [[0.6034, 0.0024, 0.2776, 0.2757, 0.6647, 0.4710],\n",
       "           [0.0133, 0.9864, 0.4962, 0.0111, 0.9327, 0.6571],\n",
       "           [0.5101, 0.7580, 0.9192, 0.0389, 0.8282, 0.1758],\n",
       "           [0.6229, 0.9365, 0.1969, 0.1374, 0.0455, 0.9747],\n",
       "           [0.9196, 0.4532, 0.1278, 0.5012, 0.7631, 0.0347]],\n",
       "\n",
       "          [[0.2448, 0.3508, 0.7298, 0.5485, 0.9835, 0.8325],\n",
       "           [0.6871, 0.4090, 0.7290, 0.4818, 0.5410, 0.0662],\n",
       "           [0.4294, 0.3452, 0.9407, 0.3666, 0.4184, 0.3729],\n",
       "           [0.5449, 0.3056, 0.9530, 0.6528, 0.2751, 0.1847],\n",
       "           [0.8083, 0.7320, 0.3318, 0.0272, 0.9399, 0.2302]],\n",
       "\n",
       "          [[0.4862, 0.9195, 0.4415, 0.2443, 0.4137, 0.9864],\n",
       "           [0.8707, 0.8130, 0.5021, 0.9240, 0.4003, 0.5027],\n",
       "           [0.4198, 0.7302, 0.6457, 0.6886, 0.5145, 0.5427],\n",
       "           [0.9795, 0.5392, 0.0569, 0.9090, 0.6971, 0.7915],\n",
       "           [0.7332, 0.5090, 0.7283, 0.7180, 0.9852, 0.7917]]],\n",
       "\n",
       "\n",
       "         [[[0.3674, 0.0673, 0.5810, 0.6457, 0.6537, 0.3822],\n",
       "           [0.7145, 0.3706, 0.3769, 0.5126, 0.3883, 0.3916],\n",
       "           [0.2460, 0.6351, 0.6848, 0.6971, 0.7457, 0.2518],\n",
       "           [0.0308, 0.9196, 0.9720, 0.4834, 0.3490, 0.1129],\n",
       "           [0.8986, 0.8012, 0.6291, 0.1450, 0.5454, 0.2678]],\n",
       "\n",
       "          [[0.5614, 0.8943, 0.6492, 0.3552, 0.2219, 0.7894],\n",
       "           [0.7546, 0.8852, 0.0184, 0.4849, 0.9284, 0.1974],\n",
       "           [0.9455, 0.7039, 0.3803, 0.5379, 0.8986, 0.3607],\n",
       "           [0.2775, 0.9082, 0.6568, 0.8762, 0.8996, 0.8315],\n",
       "           [0.9993, 0.0827, 0.9461, 0.2575, 0.5128, 0.3591]],\n",
       "\n",
       "          [[0.6683, 0.8475, 0.4097, 0.7855, 0.5848, 0.3984],\n",
       "           [0.5919, 0.2279, 0.1416, 0.4942, 0.0639, 0.0261],\n",
       "           [0.7636, 0.6317, 0.6988, 0.2589, 0.5879, 0.2799],\n",
       "           [0.4615, 0.3117, 0.8253, 0.2354, 0.8401, 0.1076],\n",
       "           [0.7810, 0.5217, 0.3803, 0.9263, 0.9169, 0.7086]],\n",
       "\n",
       "          [[0.2876, 0.9248, 0.1455, 0.8508, 0.7740, 0.5568],\n",
       "           [0.2795, 0.6210, 0.4444, 0.3327, 0.7423, 0.4248],\n",
       "           [0.4331, 0.6612, 0.3096, 0.5873, 0.6894, 0.1803],\n",
       "           [0.0046, 0.2485, 0.9625, 0.9155, 0.6188, 0.3070],\n",
       "           [0.4533, 0.7468, 0.1891, 0.8128, 0.0761, 0.0923]]]],\n",
       "\n",
       "\n",
       "\n",
       "        [[[[0.2049, 0.2620, 0.6555, 0.1779, 0.6787, 0.7399],\n",
       "           [0.8675, 0.9277, 0.1335, 0.2723, 0.4649, 0.0491],\n",
       "           [0.6440, 0.7785, 0.2017, 0.5208, 0.5462, 0.1987],\n",
       "           [0.7489, 0.0365, 0.9911, 0.3238, 0.8941, 0.1332],\n",
       "           [0.1475, 0.3747, 0.8315, 0.1453, 0.5652, 0.4580]],\n",
       "\n",
       "          [[0.0114, 0.7862, 0.9733, 0.5735, 0.5742, 0.3433],\n",
       "           [0.1563, 0.2175, 0.8105, 0.8943, 0.8189, 0.2276],\n",
       "           [0.3733, 0.2930, 0.7717, 0.6532, 0.9135, 0.8882],\n",
       "           [0.0334, 0.9902, 0.1402, 0.7458, 0.3573, 0.3699],\n",
       "           [0.9087, 0.0314, 0.4664, 0.9665, 0.6566, 0.3625]],\n",
       "\n",
       "          [[0.0997, 0.3789, 0.4340, 0.5237, 0.8909, 0.6315],\n",
       "           [0.9358, 0.0466, 0.9218, 0.4762, 0.4612, 0.3733],\n",
       "           [0.2253, 0.3501, 0.1267, 0.6253, 0.7160, 0.0095],\n",
       "           [0.2624, 0.2767, 0.9296, 0.4136, 0.9504, 0.8743],\n",
       "           [0.4877, 0.9799, 0.2437, 0.3414, 0.7541, 0.8465]],\n",
       "\n",
       "          [[0.8886, 0.6466, 0.0103, 0.1891, 0.1236, 0.2413],\n",
       "           [0.1387, 0.7973, 0.2119, 0.2311, 0.1681, 0.1942],\n",
       "           [0.9024, 0.4589, 0.3386, 0.9497, 0.8284, 0.2880],\n",
       "           [0.9597, 0.3323, 0.0706, 0.5553, 0.8824, 0.6560],\n",
       "           [0.6138, 0.9534, 0.2930, 0.3975, 0.8317, 0.7537]]],\n",
       "\n",
       "\n",
       "         [[[0.4243, 0.9556, 0.8761, 0.2547, 0.8575, 0.7102],\n",
       "           [0.7273, 0.1228, 0.8673, 0.2542, 0.0342, 0.2023],\n",
       "           [0.6612, 0.0636, 0.0978, 0.6236, 0.3308, 0.8698],\n",
       "           [0.9562, 0.1132, 0.1553, 0.4900, 0.2548, 0.1530],\n",
       "           [0.4340, 0.8721, 0.4424, 0.9686, 0.9371, 0.6268]],\n",
       "\n",
       "          [[0.3583, 0.1202, 0.0468, 0.4330, 0.2462, 0.6824],\n",
       "           [0.7162, 0.9107, 0.2912, 0.1317, 0.2612, 0.6734],\n",
       "           [0.1313, 0.7275, 0.8188, 0.2470, 0.6727, 0.1313],\n",
       "           [0.8298, 0.0041, 0.8109, 0.8975, 0.0544, 0.7394],\n",
       "           [0.8278, 0.2707, 0.2942, 0.4385, 0.3783, 0.8867]],\n",
       "\n",
       "          [[0.5755, 0.9678, 0.0115, 0.8301, 0.0422, 0.5408],\n",
       "           [0.2503, 0.3317, 0.7232, 0.3402, 0.9367, 0.5201],\n",
       "           [0.8174, 0.9922, 0.2004, 0.1326, 0.0915, 0.1766],\n",
       "           [0.9924, 0.0841, 0.2080, 0.5791, 0.3523, 0.0031],\n",
       "           [0.8634, 0.3339, 0.8642, 0.2172, 0.8285, 0.2094]],\n",
       "\n",
       "          [[0.7041, 0.3667, 0.4202, 0.8703, 0.9180, 0.3103],\n",
       "           [0.0085, 0.3552, 0.7921, 0.6066, 0.8984, 0.8783],\n",
       "           [0.3050, 0.5204, 0.1697, 0.1086, 0.4574, 0.2223],\n",
       "           [0.8989, 0.6876, 0.2783, 0.1710, 0.2242, 0.3532],\n",
       "           [0.1743, 0.9697, 0.1676, 0.9161, 0.3211, 0.4496]]],\n",
       "\n",
       "\n",
       "         [[[0.4495, 0.8569, 0.4720, 0.3030, 0.4003, 0.1350],\n",
       "           [0.2485, 0.1426, 0.9442, 0.2953, 0.6678, 0.6906],\n",
       "           [0.1252, 0.4066, 0.5499, 0.7832, 0.4825, 0.1397],\n",
       "           [0.4988, 0.5519, 0.8577, 0.2870, 0.3016, 0.0494],\n",
       "           [0.7623, 0.8244, 0.9550, 0.4433, 0.1436, 0.9788]],\n",
       "\n",
       "          [[0.9329, 0.5686, 0.6131, 0.7448, 0.2683, 0.2914],\n",
       "           [0.3126, 0.9478, 0.8751, 0.7031, 0.3957, 0.6656],\n",
       "           [0.9477, 0.5397, 0.0326, 0.2583, 0.6842, 0.8921],\n",
       "           [0.2334, 0.0754, 0.3017, 0.2445, 0.7106, 0.6312],\n",
       "           [0.9333, 0.3066, 0.1464, 0.5983, 0.3458, 0.6160]],\n",
       "\n",
       "          [[0.4953, 0.9791, 0.1371, 0.3087, 0.2522, 0.5748],\n",
       "           [0.5602, 0.9168, 0.6250, 0.2961, 0.6480, 0.5140],\n",
       "           [0.0165, 0.0029, 0.9614, 0.2721, 0.8042, 0.5531],\n",
       "           [0.6428, 0.4537, 0.0936, 0.8881, 0.2269, 0.7588],\n",
       "           [0.2200, 0.0912, 0.0216, 0.9784, 0.7351, 0.3780]],\n",
       "\n",
       "          [[0.4087, 0.2200, 0.1988, 0.2875, 0.5715, 0.9290],\n",
       "           [0.0803, 0.7387, 0.7696, 0.5836, 0.0842, 0.0473],\n",
       "           [0.5973, 0.5792, 0.9701, 0.7025, 0.5199, 0.2218],\n",
       "           [0.8117, 0.5346, 0.5287, 0.2727, 0.6636, 0.7895],\n",
       "           [0.4272, 0.9999, 0.2215, 0.9590, 0.2597, 0.7375]]]]])"
      ]
     },
     "execution_count": 9,
     "metadata": {},
     "output_type": "execute_result"
    }
   ],
   "source": [
    "#5d random tensor\n",
    "rand5dtensor=torch.rand(2,3,4,5,6)\n",
    "rand5dtensor"
   ]
  },
  {
   "cell_type": "code",
   "execution_count": 10,
   "metadata": {},
   "outputs": [
    {
     "data": {
      "text/plain": [
       "tensor([[[0., 0., 0.],\n",
       "         [0., 0., 0.],\n",
       "         [0., 0., 0.]],\n",
       "\n",
       "        [[0., 0., 0.],\n",
       "         [0., 0., 0.],\n",
       "         [0., 0., 0.]],\n",
       "\n",
       "        [[0., 0., 0.],\n",
       "         [0., 0., 0.],\n",
       "         [0., 0., 0.]]])"
      ]
     },
     "execution_count": 10,
     "metadata": {},
     "output_type": "execute_result"
    }
   ],
   "source": [
    "#zero tensor\n",
    "zero_tensor=torch.zeros(3,3,3)\n",
    "zero_tensor"
   ]
  },
  {
   "cell_type": "markdown",
   "metadata": {},
   "source": [
    "### data types"
   ]
  },
  {
   "cell_type": "code",
   "execution_count": 11,
   "metadata": {},
   "outputs": [
    {
     "data": {
      "text/plain": [
       "torch.float32"
      ]
     },
     "execution_count": 11,
     "metadata": {},
     "output_type": "execute_result"
    }
   ],
   "source": [
    "zero_tensor.dtype"
   ]
  },
  {
   "cell_type": "code",
   "execution_count": 12,
   "metadata": {},
   "outputs": [
    {
     "data": {
      "text/plain": [
       "torch.float16"
      ]
     },
     "execution_count": 12,
     "metadata": {},
     "output_type": "execute_result"
    }
   ],
   "source": [
    "#float 16 tensor\n",
    "float16_tensor=torch.zeros(3,3,3,dtype=torch.float16)\n",
    "float16_tensor.dtype"
   ]
  },
  {
   "cell_type": "code",
   "execution_count": 13,
   "metadata": {},
   "outputs": [
    {
     "data": {
      "text/plain": [
       "torch.float64"
      ]
     },
     "execution_count": 13,
     "metadata": {},
     "output_type": "execute_result"
    }
   ],
   "source": [
    "#float 64 tensor\n",
    "float64_tensor=torch.zeros(3,3,3,dtype=torch.float64)\n",
    "float64_tensor.dtype"
   ]
  },
  {
   "cell_type": "code",
   "execution_count": 14,
   "metadata": {},
   "outputs": [
    {
     "data": {
      "text/plain": [
       "tensor([[[0., 0., 0.],\n",
       "         [0., 0., 0.],\n",
       "         [0., 0., 0.]],\n",
       "\n",
       "        [[0., 0., 0.],\n",
       "         [0., 0., 0.],\n",
       "         [0., 0., 0.]],\n",
       "\n",
       "        [[0., 0., 0.],\n",
       "         [0., 0., 0.],\n",
       "         [0., 0., 0.]]], dtype=torch.float64)"
      ]
     },
     "execution_count": 14,
     "metadata": {},
     "output_type": "execute_result"
    }
   ],
   "source": [
    "float16_tensor*float64_tensor"
   ]
  },
  {
   "cell_type": "code",
   "execution_count": 15,
   "metadata": {},
   "outputs": [
    {
     "data": {
      "text/plain": [
       "torch.int64"
      ]
     },
     "execution_count": 15,
     "metadata": {},
     "output_type": "execute_result"
    }
   ],
   "source": [
    "# int tensor\n",
    "int_tensor=torch.tensor([1,2,3,4,5])#default int tensor is int64\n",
    "int_tensor.dtype"
   ]
  },
  {
   "cell_type": "code",
   "execution_count": 16,
   "metadata": {},
   "outputs": [],
   "source": [
    "#32 bit int tensor\n",
    "int32_tensor=torch.tensor([1,2,3,4,5],dtype=torch.int32)#for 16 bit use torch.int16 and for 64 bit use torch.int64\n"
   ]
  },
  {
   "cell_type": "code",
   "execution_count": 17,
   "metadata": {},
   "outputs": [],
   "source": [
    "#def function to check dtype device and shape of tensor\n",
    "def describe_tensor(tensor):\n",
    "    print(f\"Shape of tensor: {tensor.shape}\")\n",
    "    print(f\"Datatype of tensor: {tensor.dtype}\")\n",
    "    print(f\"Device tensor is stored on: {tensor.device}\")\n"
   ]
  },
  {
   "cell_type": "code",
   "execution_count": 18,
   "metadata": {},
   "outputs": [
    {
     "name": "stdout",
     "output_type": "stream",
     "text": [
      "Shape of tensor: torch.Size([5])\n",
      "Datatype of tensor: torch.int32\n",
      "Device tensor is stored on: cpu\n"
     ]
    }
   ],
   "source": [
    "describe_tensor(int32_tensor)"
   ]
  },
  {
   "cell_type": "markdown",
   "metadata": {},
   "source": [
    "### tensor manipulating\n",
    "\n",
    "tensor opretions include:\n",
    "* airthmatic alzebra\n",
    "* matrix multipliction\n",
    "\n"
   ]
  },
  {
   "cell_type": "code",
   "execution_count": 19,
   "metadata": {},
   "outputs": [
    {
     "data": {
      "text/plain": [
       "tensor([11, 12, 13, 14, 15])"
      ]
     },
     "execution_count": 19,
     "metadata": {},
     "output_type": "execute_result"
    }
   ],
   "source": [
    "#addition\n",
    "int_tensor=torch.tensor([1,2,3,4,5])\n",
    "int_tensor+10"
   ]
  },
  {
   "cell_type": "code",
   "execution_count": 20,
   "metadata": {},
   "outputs": [
    {
     "data": {
      "text/plain": [
       "tensor([10, 20, 30, 40, 50])"
      ]
     },
     "execution_count": 20,
     "metadata": {},
     "output_type": "execute_result"
    }
   ],
   "source": [
    "#multiplication\n",
    "int_tensor*10"
   ]
  },
  {
   "cell_type": "code",
   "execution_count": 21,
   "metadata": {},
   "outputs": [
    {
     "data": {
      "text/plain": [
       "tensor([11, 12, 13, 14, 15])"
      ]
     },
     "execution_count": 21,
     "metadata": {},
     "output_type": "execute_result"
    }
   ],
   "source": [
    "#by pytorch inbuilt function\n",
    "torch.add(int_tensor,10)"
   ]
  },
  {
   "cell_type": "code",
   "execution_count": 22,
   "metadata": {},
   "outputs": [
    {
     "data": {
      "text/plain": [
       "tensor([10, 20, 30, 40, 50])"
      ]
     },
     "execution_count": 22,
     "metadata": {},
     "output_type": "execute_result"
    }
   ],
   "source": [
    "torch.mul(int_tensor,10)"
   ]
  },
  {
   "cell_type": "markdown",
   "metadata": {},
   "source": [
    "### matrix multiplication\n",
    "* matrix multiplication \n",
    "* elemental multiplication"
   ]
  },
  {
   "cell_type": "code",
   "execution_count": 23,
   "metadata": {},
   "outputs": [
    {
     "data": {
      "text/plain": [
       "tensor([ 10,  40,  90, 160, 250])"
      ]
     },
     "execution_count": 23,
     "metadata": {},
     "output_type": "execute_result"
    }
   ],
   "source": [
    "# element wise multiplication\n",
    "a=torch.tensor([1,2,3,4,5])\n",
    "b=torch.tensor([10,20,30,40,50])\n",
    "a*b"
   ]
  },
  {
   "cell_type": "code",
   "execution_count": 24,
   "metadata": {},
   "outputs": [
    {
     "name": "stdout",
     "output_type": "stream",
     "text": [
      "tensor([[1, 2, 3],\n",
      "        [4, 5, 6]]) * tensor([[10, 20, 30],\n",
      "        [40, 50, 60]])\n",
      "equals:tensor([[ 10,  40,  90],\n",
      "        [160, 250, 360]])\n"
     ]
    }
   ],
   "source": [
    "# element wise multiplication in 2d tensor\n",
    "a=torch.tensor([[1,2,3],[4,5,6]])\n",
    "b=torch.tensor([[10,20,30],[40,50,60]])\n",
    "print(a,'*',b,)\n",
    "print(f\"equals:{a*b}\")"
   ]
  },
  {
   "cell_type": "markdown",
   "metadata": {},
   "source": [
    "matrix multiplication"
   ]
  },
  {
   "cell_type": "code",
   "execution_count": 25,
   "metadata": {},
   "outputs": [
    {
     "data": {
      "text/plain": [
       "tensor([[220, 280],\n",
       "        [490, 640]])"
      ]
     },
     "execution_count": 25,
     "metadata": {},
     "output_type": "execute_result"
    }
   ],
   "source": [
    "#matrix multiplication\n",
    "a=torch.tensor([[1,2,3],[4,5,6]])#2x3\n",
    "b=torch.tensor([[10,20],[30,40],[50,60]])#3x2\n",
    "torch.matmul(a,b)"
   ]
  },
  {
   "cell_type": "markdown",
   "metadata": {},
   "source": [
    "## stat of tensor"
   ]
  },
  {
   "cell_type": "code",
   "execution_count": 26,
   "metadata": {},
   "outputs": [
    {
     "name": "stdout",
     "output_type": "stream",
     "text": [
      "Shape of tensor: torch.Size([2, 3])\n",
      "Datatype of tensor: torch.float32\n",
      "Device tensor is stored on: cpu\n",
      "Mean: 3.5\n",
      "Max: 6.0\n",
      "Min: 1.0\n",
      "Sum: 21.0\n",
      "Standard Deviation: 1.8708287477493286\n"
     ]
    }
   ],
   "source": [
    "# finding mean, max, min, sum, std 2d tensor\n",
    "def stat_tensor(tensor):\n",
    "    print(f\"Shape of tensor: {tensor.shape}\")\n",
    "    print(f\"Datatype of tensor: {tensor.dtype}\")\n",
    "    print(f\"Device tensor is stored on: {tensor.device}\")\n",
    "    print(f\"Mean: {tensor.mean()}\")# means works on float tensor\n",
    "    print(f\"Max: {tensor.max()}\")\n",
    "    print(f\"Min: {tensor.min()}\")\n",
    "    print(f\"Sum: {tensor.sum()}\")\n",
    "    print(f\"Standard Deviation: {tensor.std()}\")\n",
    "a=torch.tensor([[1.0,2.0,3.0],[4.0,5.0,6.0]])\n",
    "stat_tensor(a)"
   ]
  },
  {
   "cell_type": "code",
   "execution_count": 27,
   "metadata": {},
   "outputs": [
    {
     "name": "stdout",
     "output_type": "stream",
     "text": [
      "Shape of tensor: torch.Size([2, 3])\n",
      "Datatype of tensor: torch.float32\n",
      "Device tensor is stored on: cpu\n",
      "Max: 6.0\n",
      "Position of Max: 5\n",
      "Min: 1.0\n",
      "Position of Min: 0\n"
     ]
    }
   ],
   "source": [
    "# finding positional max and min\n",
    "def pos_max_min(tensor):\n",
    "    print(f\"Shape of tensor: {tensor.shape}\")\n",
    "    print(f\"Datatype of tensor: {tensor.dtype}\")\n",
    "    print(f\"Device tensor is stored on: {tensor.device}\")\n",
    "    print(f\"Max: {tensor.max()}\")\n",
    "    print(f\"Position of Max: {tensor.argmax()}\")\n",
    "    print(f\"Min: {tensor.min()}\")\n",
    "    print(f\"Position of Min: {tensor.argmin()}\")\n",
    "a=torch.tensor([[1.0,2.0,3.0],[4.0,5.0,6.0]])\n",
    "pos_max_min(a)"
   ]
  },
  {
   "cell_type": "markdown",
   "metadata": {},
   "source": [
    "## reshaping\n"
   ]
  },
  {
   "cell_type": "code",
   "execution_count": 28,
   "metadata": {},
   "outputs": [
    {
     "name": "stdout",
     "output_type": "stream",
     "text": [
      "reshaped to 3,2\n"
     ]
    },
    {
     "data": {
      "text/plain": [
       "tensor([[1, 2],\n",
       "        [3, 4],\n",
       "        [5, 6]])"
      ]
     },
     "execution_count": 28,
     "metadata": {},
     "output_type": "execute_result"
    }
   ],
   "source": [
    "# reshaping\n",
    "a=torch.tensor([[1,2,3],[4,5,6]])\n",
    "print(\"reshaped to 3,2\")\n",
    "z=a.reshape(3,2)\n",
    "z"
   ]
  },
  {
   "cell_type": "code",
   "execution_count": 29,
   "metadata": {},
   "outputs": [
    {
     "name": "stdout",
     "output_type": "stream",
     "text": [
      "viewed to 3,2\n"
     ]
    },
    {
     "data": {
      "text/plain": [
       "tensor([[1, 2],\n",
       "        [3, 4],\n",
       "        [5, 6]])"
      ]
     },
     "execution_count": 29,
     "metadata": {},
     "output_type": "execute_result"
    }
   ],
   "source": [
    "# view changes the shape of tensor\n",
    "a=torch.tensor([[1,2,3],[4,5,6]])\n",
    "print(\"viewed to 3,2\")\n",
    "view_a=a.view(3,2)\n",
    "view_a"
   ]
  },
  {
   "cell_type": "code",
   "execution_count": 30,
   "metadata": {},
   "outputs": [
    {
     "name": "stdout",
     "output_type": "stream",
     "text": [
      "initial a tensor tensor([[1, 2, 3],\n",
      "        [4, 5, 6]])\n",
      "chaning view_a will change a tensor([[100,   2,   3],\n",
      "        [  4,   5,   6]])\n"
     ]
    }
   ],
   "source": [
    "print(\"initial a tensor\",a)\n",
    "view_a[0,0]=100\n",
    "print(\"chaning view_a will change a\",a)"
   ]
  },
  {
   "cell_type": "code",
   "execution_count": 31,
   "metadata": {},
   "outputs": [
    {
     "data": {
      "text/plain": [
       "tensor([[1, 2, 3],\n",
       "        [4, 5, 6]])"
      ]
     },
     "execution_count": 31,
     "metadata": {},
     "output_type": "execute_result"
    }
   ],
   "source": [
    "# stacking tensors\n",
    "a=torch.tensor([1,2,3])\n",
    "b=torch.tensor([4,5,6])\n",
    "torch.stack((a,b),dim=0)#dimention 0 means stacking row wise"
   ]
  },
  {
   "cell_type": "code",
   "execution_count": 32,
   "metadata": {},
   "outputs": [
    {
     "data": {
      "text/plain": [
       "tensor([[1, 4],\n",
       "        [2, 5],\n",
       "        [3, 6]])"
      ]
     },
     "execution_count": 32,
     "metadata": {},
     "output_type": "execute_result"
    }
   ],
   "source": [
    "torch.stack((a,b),dim=1)#dimention 1 means stacking column wise"
   ]
  },
  {
   "cell_type": "code",
   "execution_count": 33,
   "metadata": {},
   "outputs": [
    {
     "data": {
      "text/plain": [
       "tensor([[[ 1,  2,  3],\n",
       "         [ 4,  5,  6]],\n",
       "\n",
       "        [[ 7,  8,  9],\n",
       "         [10, 11, 12]]])"
      ]
     },
     "execution_count": 33,
     "metadata": {},
     "output_type": "execute_result"
    }
   ],
   "source": [
    "#stacking 2d tensors to 3d tensor\n",
    "a=torch.tensor([[1,2,3],[4,5,6]])\n",
    "b=torch.tensor([[7,8,9],[10,11,12]])\n",
    "torch.stack((a,b),dim=0)"
   ]
  },
  {
   "cell_type": "code",
   "execution_count": 34,
   "metadata": {},
   "outputs": [
    {
     "name": "stdout",
     "output_type": "stream",
     "text": [
      "tensor([[[1, 2, 3],\n",
      "         [4, 5, 6]]]) torch.Size([1, 2, 3])\n"
     ]
    },
    {
     "data": {
      "text/plain": [
       "('squezed',\n",
       " tensor([[1, 2, 3],\n",
       "         [4, 5, 6]]),\n",
       " torch.Size([2, 3]))"
      ]
     },
     "execution_count": 34,
     "metadata": {},
     "output_type": "execute_result"
    }
   ],
   "source": [
    "#SQUEEZING AND UNSQUEEZING TENSORS\n",
    "a=torch.tensor([[[1,2,3],[4,5,6]]])\n",
    "print(a,a.shape)\n",
    "\"squezed\",a.squeeze(),a.squeeze().shape#removes the dimension of size 1"
   ]
  },
  {
   "cell_type": "code",
   "execution_count": 35,
   "metadata": {},
   "outputs": [
    {
     "name": "stdout",
     "output_type": "stream",
     "text": [
      "tensor([[1, 2, 3],\n",
      "        [4, 5, 6]]) torch.Size([2, 3])\n"
     ]
    },
    {
     "data": {
      "text/plain": [
       "('unsqueezed',\n",
       " tensor([[[1, 2, 3],\n",
       "          [4, 5, 6]]]),\n",
       " torch.Size([1, 2, 3]))"
      ]
     },
     "execution_count": 35,
     "metadata": {},
     "output_type": "execute_result"
    }
   ],
   "source": [
    "# torch unsquezzing\n",
    "a=torch.tensor([[1,2,3],[4,5,6]])\n",
    "print(a,a.shape)\n",
    "\"unsqueezed\",a.unsqueeze(dim=0),a.unsqueeze(dim=0).shape#adds a dimension of size 1 at the specified position"
   ]
  },
  {
   "cell_type": "code",
   "execution_count": 36,
   "metadata": {},
   "outputs": [
    {
     "name": "stdout",
     "output_type": "stream",
     "text": [
      "x_org shape torch.Size([2, 3, 4]) x_permute shape torch.Size([4, 2, 3])\n"
     ]
    }
   ],
   "source": [
    "# permute - rearranges the dimensions of tensor eg: 3d tensor to 2d tensor\n",
    "x_org=torch.rand(2,3,4)#3d tensor of size 224x224x3 indicating 224x224 image with 3 channels(hieght, width, channels)\n",
    "# we permute the tensor to 3x224x224\n",
    "x_permute=x_org.permute(2,0,1)#(2=channels, 0=height, 1=width)\n",
    "print(\"x_org shape\",x_org.shape,\"x_permute shape\",x_permute.shape)"
   ]
  },
  {
   "cell_type": "markdown",
   "metadata": {},
   "source": [
    "## indexing and slicing\n",
    "* same as numpy"
   ]
  },
  {
   "cell_type": "code",
   "execution_count": 37,
   "metadata": {},
   "outputs": [
    {
     "name": "stdout",
     "output_type": "stream",
     "text": [
      "tensor([[0, 1, 2],\n",
      "        [3, 4, 5]])\n",
      "tensor(5)\n",
      "tensor([[3, 4, 5]])\n"
     ]
    }
   ],
   "source": [
    "\n",
    "x=torch.arange(6).view(2,3)\n",
    "print(x)\n",
    "print(x[1,2])#indexing\n",
    "print(x[1:])#slicing"
   ]
  },
  {
   "cell_type": "markdown",
   "metadata": {},
   "source": [
    "## pytorch tensor & numpy array\n",
    "* data in numpy ,want in pytorch tensor -> `torch.from_numpy(ndarray)`\n",
    "* data in pytorch tensor ,want in numpy array -> `tensor.numpy()`"
   ]
  },
  {
   "cell_type": "code",
   "execution_count": 38,
   "metadata": {},
   "outputs": [
    {
     "data": {
      "text/plain": [
       "(tensor([1., 2., 3., 4., 5., 6., 7., 8., 9.]), torch.float32)"
      ]
     },
     "execution_count": 38,
     "metadata": {},
     "output_type": "execute_result"
    }
   ],
   "source": [
    "#numpy to tensor\n",
    "np_array=np.arange(1.0,10.0)\n",
    "tensor=torch.from_numpy(np_array).type(torch.float32)#tensor is copy of numpy array so changing tensor will not change numpy array\n",
    "tensor,tensor.dtype"
   ]
  },
  {
   "cell_type": "markdown",
   "metadata": {},
   "source": [
    "## reproduciblity\n",
    "As you learn more about neural networks and machine learning, you'll start to discover how much randomness plays a part.\n",
    "Well, pseudorandomness that is. Because after all, as they're designed, a computer is fundamentally deterministic (each step is predictable) so the randomness they create are simulated randomness (though there is debate on this too, but since I'm not a computer scientist, I'll let you find out more yourself).\n",
    "How does this relate to neural networks and deep learning then?\n",
    "We've discussed neural networks start with random numbers to describe patterns in data (these numbers are poor descriptions) and try to improve those random numbers using tensor operations (and a few other things we haven't discussed yet) to better describe patterns in data.\n",
    "In short:\n",
    "\n",
    "`start with random numbers -> tensor operations -> try to make better (again and again and again)`\n",
    "\n",
    "Although randomness is nice and powerful, sometimes you'd like there to be a little less randomness.\n",
    "Why?\n",
    "So you can perform repeatable experiments.\n",
    "For example, you create an algorithm capable of achieving X performance.\n",
    "And then your friend tries it out to verify you're not crazy.\n",
    "How could they do such a thing?\n",
    "That's where reproducibility comes in.\n",
    "In other words, can you get the same (or very similar) results on your computer running the same code as I get on mine?\n",
    "Let's see a brief example of reproducibility in PyTorch.\n",
    "We'll start by creating two random tensors, since they're random, you'd expect them to be different right?\n",
    "has context menu\n",
    "Compose\n",
    "Karan Singh is typing"
   ]
  },
  {
   "cell_type": "code",
   "execution_count": 39,
   "metadata": {},
   "outputs": [
    {
     "data": {
      "text/plain": [
       "tensor([[False, False, False],\n",
       "        [False, False, False],\n",
       "        [False, False, False]])"
      ]
     },
     "execution_count": 39,
     "metadata": {},
     "output_type": "execute_result"
    }
   ],
   "source": [
    "#reproducibility\n",
    "random_tensor_A=torch.rand(3,3)\n",
    "random_tensor_B=torch.rand(3,3)\n",
    "random_tensor_A==random_tensor_B"
   ]
  },
  {
   "cell_type": "code",
   "execution_count": 40,
   "metadata": {},
   "outputs": [
    {
     "name": "stdout",
     "output_type": "stream",
     "text": [
      "Random tensor c tensor([[0.8823, 0.9150, 0.3829],\n",
      "        [0.9593, 0.3904, 0.6009],\n",
      "        [0.2566, 0.7936, 0.9408]]) \n",
      "Random tensor d tensor([[0.8823, 0.9150, 0.3829],\n",
      "        [0.9593, 0.3904, 0.6009],\n",
      "        [0.2566, 0.7936, 0.9408]])\n"
     ]
    },
    {
     "data": {
      "text/plain": [
       "tensor([[True, True, True],\n",
       "        [True, True, True],\n",
       "        [True, True, True]])"
      ]
     },
     "execution_count": 40,
     "metadata": {},
     "output_type": "execute_result"
    }
   ],
   "source": [
    "#build some reproducible tensor\n",
    "random_seed=42\n",
    "torch.manual_seed(random_seed)#set seed for reproducibility\n",
    "##print(\"Random tensor A\")\n",
    "random_tensor_c=torch.rand(3,3)\n",
    "torch.manual_seed(random_seed)# we set the seed again to make sure the random tensor is reproducible\n",
    "random_tensor_d=torch.rand(3,3)\n",
    "print(\"Random tensor c\",random_tensor_c,\"\\nRandom tensor d\",random_tensor_d)\n",
    "random_tensor_c==random_tensor_d"
   ]
  },
  {
   "cell_type": "markdown",
   "metadata": {},
   "source": [
    "## gpu acessing"
   ]
  },
  {
   "cell_type": "code",
   "execution_count": 41,
   "metadata": {},
   "outputs": [
    {
     "data": {
      "text/plain": [
       "True"
      ]
     },
     "execution_count": 41,
     "metadata": {},
     "output_type": "execute_result"
    }
   ],
   "source": [
    "#check if cuda is available\n",
    "torch.cuda.is_available()\n"
   ]
  },
  {
   "cell_type": "code",
   "execution_count": 42,
   "metadata": {},
   "outputs": [],
   "source": [
    "# setup device agnostic code\n",
    "device='cuda' if torch.cuda.is_available() else 'cpu'"
   ]
  },
  {
   "cell_type": "code",
   "execution_count": 43,
   "metadata": {},
   "outputs": [
    {
     "data": {
      "text/plain": [
       "1"
      ]
     },
     "execution_count": 43,
     "metadata": {},
     "output_type": "execute_result"
    }
   ],
   "source": [
    "# no of gpu's available\n",
    "torch.cuda.device_count()"
   ]
  },
  {
   "cell_type": "markdown",
   "metadata": {},
   "source": [
    "### putting tensor on gpu "
   ]
  },
  {
   "cell_type": "code",
   "execution_count": 44,
   "metadata": {},
   "outputs": [
    {
     "data": {
      "text/plain": [
       "(device(type='cpu'), 'cuda')"
      ]
     },
     "execution_count": 44,
     "metadata": {},
     "output_type": "execute_result"
    }
   ],
   "source": [
    "tensor=torch.rand(3,3)\n",
    "tensor.device,device"
   ]
  },
  {
   "cell_type": "code",
   "execution_count": 48,
   "metadata": {},
   "outputs": [],
   "source": [
    "# move tensor to gpu\n",
    "tensor_on_gpu=tensor.to(device)"
   ]
  },
  {
   "cell_type": "code",
   "execution_count": 52,
   "metadata": {},
   "outputs": [
    {
     "name": "stdout",
     "output_type": "stream",
     "text": [
      "can't convert cuda:0 device type tensor to numpy. Use Tensor.cpu() to copy the tensor to host memory first.\n"
     ]
    }
   ],
   "source": [
    "# tensor on gpu cant tranform into numpy\n",
    "try:\n",
    "    tensor_on_gpu.numpy() \n",
    "except Exception as e:\n",
    "    print(e)"
   ]
  },
  {
   "cell_type": "code",
   "execution_count": 53,
   "metadata": {},
   "outputs": [
    {
     "data": {
      "text/plain": [
       "array([[0.13318592, 0.9345981 , 0.59357965],\n",
       "       [0.86940444, 0.5677153 , 0.74109405],\n",
       "       [0.4294045 , 0.8854429 , 0.57390445]], dtype=float32)"
      ]
     },
     "execution_count": 53,
     "metadata": {},
     "output_type": "execute_result"
    }
   ],
   "source": [
    "# GPU TENSOR YO NUMPY\n",
    "tensor_on_gpu.cpu().numpy()"
   ]
  },
  {
   "cell_type": "code",
   "execution_count": null,
   "metadata": {},
   "outputs": [],
   "source": []
  }
 ],
 "metadata": {
  "kernelspec": {
   "display_name": "Python 3",
   "language": "python",
   "name": "python3"
  },
  "language_info": {
   "codemirror_mode": {
    "name": "ipython",
    "version": 3
   },
   "file_extension": ".py",
   "mimetype": "text/x-python",
   "name": "python",
   "nbconvert_exporter": "python",
   "pygments_lexer": "ipython3",
   "version": "3.10.12"
  }
 },
 "nbformat": 4,
 "nbformat_minor": 2
}
