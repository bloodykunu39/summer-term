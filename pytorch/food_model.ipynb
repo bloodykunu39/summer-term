{
 "cells": [
  {
   "cell_type": "code",
   "execution_count": 4,
   "metadata": {},
   "outputs": [],
   "source": [
    "import torch\n",
    "import torch.nn as nn\n",
    "import torch.nn.functional as F\n",
    "import torch.optim as optim\n",
    "import numpy as np\n",
    "import random\n",
    "import time\n",
    "import pandas as pd\n",
    "import matplotlib.pyplot as plt\n",
    "import os"
   ]
  },
  {
   "cell_type": "markdown",
   "metadata": {},
   "source": [
    "### costom data load"
   ]
  },
  {
   "cell_type": "code",
   "execution_count": 11,
   "metadata": {},
   "outputs": [],
   "source": [
    "import requests\n",
    "import zipfile\n",
    "from pathlib import Path\n"
   ]
  },
  {
   "cell_type": "code",
   "execution_count": 14,
   "metadata": {},
   "outputs": [
    {
     "name": "stdout",
     "output_type": "stream",
     "text": [
      "data/pizza_stack_sushi directory exists.\n"
     ]
    }
   ],
   "source": [
    "\"\"\" we have created so i am skiping this part\"\"\"\n",
    "# data_path = Path(\"data\")\n",
    "# image_path = data_path / \"pizza_stack_sushi\"\n",
    "# if image_path.is_dir():\n",
    "#     print(f\"{image_path} directory exists.\")\n",
    "# else:\n",
    "#     print(f\"Did not find {image_path} directory, creating one...\")\n",
    "#     image_path.mkdir(parents=True, exist_ok=True)\n"
   ]
  },
  {
   "cell_type": "code",
   "execution_count": 20,
   "metadata": {},
   "outputs": [
    {
     "name": "stdout",
     "output_type": "stream",
     "text": [
      "Downloading the data...\n"
     ]
    }
   ],
   "source": [
    "# we have downloaded \n",
    "\"\"\"\"with open(data_path / \"pizza_stack_sushi.zip\", \"wb\") as f:# we will download the data zip file\n",
    "    r = requests.get(\"https://github.com/mrdbourke/pytorch-deep-learning/raw/0fa794be523a10b409a2061e43ae03c419d5ace7/data/pizza_steak_sushi.zip\")\n",
    "    # note URL should be the raw version of the file not the blob version\n",
    "    print(\"Downloading the data...\")\n",
    "    f.write(r.content)\"\"\""
   ]
  },
  {
   "cell_type": "code",
   "execution_count": 21,
   "metadata": {},
   "outputs": [
    {
     "name": "stdout",
     "output_type": "stream",
     "text": [
      "Data extracted.\n"
     ]
    }
   ],
   "source": [
    "# we have already downloaded the data and extracted it\n",
    "# so we can skip this step\n",
    "\n",
    "\"\"\"with zipfile.ZipFile(data_path / \"pizza_stack_sushi.zip\", \"r\") as zip_ref:\n",
    "    zip_ref.extractall(image_path)\n",
    "    print(\"Data extracted.\")\n",
    "    \"\"\""
   ]
  },
  {
   "cell_type": "code",
   "execution_count": null,
   "metadata": {},
   "outputs": [],
   "source": []
  }
 ],
 "metadata": {
  "kernelspec": {
   "display_name": "Python 3",
   "language": "python",
   "name": "python3"
  },
  "language_info": {
   "codemirror_mode": {
    "name": "ipython",
    "version": 3
   },
   "file_extension": ".py",
   "mimetype": "text/x-python",
   "name": "python",
   "nbconvert_exporter": "python",
   "pygments_lexer": "ipython3",
   "version": "3.10.12"
  }
 },
 "nbformat": 4,
 "nbformat_minor": 2
}
