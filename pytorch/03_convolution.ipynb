{
 "cells": [
  {
   "cell_type": "code",
   "execution_count": 1,
   "metadata": {},
   "outputs": [],
   "source": [
    "import torch\n",
    "import torch.nn as nn\n",
    "import torch.nn.functional as F\n",
    "import torch.optim as optim\n",
    "import numpy as np\n",
    "import pandas as pd\n",
    "import matplotlib.pyplot as plt\n",
    "from sklearn.model_selection import train_test_split\n",
    "device = torch.device(\"cuda\" if torch.cuda.is_available() else \"cpu\")"
   ]
  },
  {
   "cell_type": "markdown",
   "metadata": {},
   "source": [
    "## What we're going to cover\n",
    "\n",
    "We're going to apply the PyTorch Workflow we've been learning in the past couple of sections to computer vision.\n",
    "\n",
    "![a PyTorch workflow with a computer vision focus](https://raw.githubusercontent.com/mrdbourke/pytorch-deep-learning/main/images/03-pytorch-computer-vision-workflow.png)\n",
    "\n",
    "Specifically, we're going to cover:\n",
    "\n",
    "| **Topic** | **Contents** |\n",
    "| ----- | ----- |\n",
    "| **0. Computer vision libraries in PyTorch** | PyTorch has a bunch of built-in helpful computer vision libraries, let's check them out.  |\n",
    "| **1. Load data** | To practice computer vision, we'll start with some images of different pieces of clothing from [FashionMNIST](https://github.com/zalandoresearch/fashion-mnist). |\n",
    "| **2. Prepare data** | We've got some images, let's load them in with a [PyTorch `DataLoader`](https://pytorch.org/docs/stable/data.html) so we can use them with our training loop. |\n",
    "| **3. Model 0: Building a baseline model** | Here we'll create a multi-class classification model to learn patterns in the data, we'll also choose a **loss function**, **optimizer** and build a **training loop**. | \n",
    "| **4. Making predictions and evaluting model 0** | Let's make some predictions with our baseline model and evaluate them. |\n",
    "| **5. Setup device agnostic code for future models** | It's best practice to write device-agnostic code, so let's set it up. |\n",
    "| **6. Model 1: Adding non-linearity** | Experimenting is a large part of machine learning, let's try and improve upon our baseline model by adding non-linear layers. |\n",
    "| **7. Model 2: Convolutional Neural Network (CNN)** | Time to get computer vision specific and introduce the powerful convolutional neural network architecture. |\n",
    "| **8. Comparing our models** | We've built three different models, let's compare them. |\n",
    "| **9. Evaluating our best model** | Let's make some predictons on random images and evaluate our best model. |\n",
    "| **10. Making a confusion matrix** | A confusion matrix is a great way to evaluate a classification model, let's see how we can make one. |\n",
    "| **11. Saving and loading the best performing model** | Since we might want to use our model for later, let's save it and make sure it loads back in correctly. |"
   ]
  },
  {
   "cell_type": "markdown",
   "metadata": {},
   "source": []
  },
  {
   "cell_type": "markdown",
   "metadata": {},
   "source": [
    "## 0. Computer vision libraries in PyTorch\n",
    "\n",
    "Before we get started writing code, let's talk about some PyTorch computer vision libraries you should be aware of.\n",
    "\n",
    "| PyTorch module | What does it do? |\n",
    "| ----- | ----- |\n",
    "| [`torchvision`](https://pytorch.org/vision/stable/index.html) | Contains datasets, model architectures and image transformations often used for computer vision problems. |\n",
    "| [`torchvision.datasets`](https://pytorch.org/vision/stable/datasets.html) | Here you'll find many example computer vision datasets for a range of problems from image classification, object detection, image captioning, video classification and more. It also contains [a series of base classes for making custom datasets](https://pytorch.org/vision/stable/datasets.html#base-classes-for-custom-datasets). |\n",
    "| [`torchvision.models`](https://pytorch.org/vision/stable/models.html) | This module contains well-performing and commonly used computer vision model architectures implemented in PyTorch, you can use these with your own problems. | \n",
    "| [`torchvision.transforms`](https://pytorch.org/vision/stable/transforms.html) | Often images need to be transformed (turned into numbers/processed/augmented) before being used with a model, common image transformations are found here. | \n",
    "| [`torch.utils.data.Dataset`](https://pytorch.org/docs/stable/data.html#torch.utils.data.Dataset) | Base dataset class for PyTorch.  | \n",
    "| [`torch.utils.data.DataLoader`](https://pytorch.org/docs/stable/data.html#module-torch.utils.data) | Creates a Python iterable over a dataset (created with `torch.utils.data.Dataset`). |\n",
    "\n",
    "> **Note:** The `torch.utils.data.Dataset` and `torch.utils.data.DataLoader` classes aren't only for computer vision in PyTorch, they are capable of dealing with many different types of data.\n",
    "\n",
    "Now we've covered some of the most important PyTorch computer vision libraries, let's import the relevant dependencies.\n"
   ]
  },
  {
   "cell_type": "code",
   "execution_count": 2,
   "metadata": {},
   "outputs": [
    {
     "name": "stdout",
     "output_type": "stream",
     "text": [
      "2.3.0+cu121\n",
      "0.18.0+cu121\n"
     ]
    }
   ],
   "source": [
    "import torchvision\n",
    "import torchvision.transforms as transforms\n",
    "from torchvision import datasets\n",
    "from torchvision.transforms import ToTensor\n",
    "\n",
    "print(torch.__version__)\n",
    "print(torchvision.__version__)"
   ]
  },
  {
   "cell_type": "markdown",
   "metadata": {},
   "source": [
    "# GETTING DATA READY"
   ]
  },
  {
   "cell_type": "code",
   "execution_count": 3,
   "metadata": {},
   "outputs": [],
   "source": [
    "# Setup training data\n",
    "train_data = datasets.FashionMNIST(\n",
    "    root=\"data\", # where to download data to?\n",
    "    train=True, # get training data\n",
    "    download=True, # download data if it doesn't exist on disk\n",
    "    transform=ToTensor(), # images come as PIL format, we want to turn into Torch tensors\n",
    "    target_transform=None # you can transform labels as well\n",
    ")\n",
    "\n",
    "# Setup testing data\n",
    "test_data = datasets.FashionMNIST(\n",
    "    root=\"data\",\n",
    "    train=False, # get test data\n",
    "    download=True,\n",
    "    transform=ToTensor()\n",
    ")"
   ]
  },
  {
   "cell_type": "code",
   "execution_count": 4,
   "metadata": {},
   "outputs": [
    {
     "data": {
      "text/plain": [
       "('train data have',\n",
       " 60000,\n",
       " 10000,\n",
       " ['T-shirt/top',\n",
       "  'Trouser',\n",
       "  'Pullover',\n",
       "  'Dress',\n",
       "  'Coat',\n",
       "  'Sandal',\n",
       "  'Shirt',\n",
       "  'Sneaker',\n",
       "  'Bag',\n",
       "  'Ankle boot'])"
      ]
     },
     "execution_count": 4,
     "metadata": {},
     "output_type": "execute_result"
    }
   ],
   "source": [
    "class_names=train_data.classes\n",
    "\"train data have\",len(train_data), len(test_data),class_names"
   ]
  },
  {
   "cell_type": "code",
   "execution_count": 5,
   "metadata": {},
   "outputs": [
    {
     "data": {
      "text/plain": [
       "{'T-shirt/top': 0,\n",
       " 'Trouser': 1,\n",
       " 'Pullover': 2,\n",
       " 'Dress': 3,\n",
       " 'Coat': 4,\n",
       " 'Sandal': 5,\n",
       " 'Shirt': 6,\n",
       " 'Sneaker': 7,\n",
       " 'Bag': 8,\n",
       " 'Ankle boot': 9}"
      ]
     },
     "execution_count": 5,
     "metadata": {},
     "output_type": "execute_result"
    }
   ],
   "source": [
    "class_to_idx=train_data.class_to_idx# class to index mapping in training data\n",
    "class_to_idx"
   ]
  },
  {
   "cell_type": "code",
   "execution_count": 6,
   "metadata": {},
   "outputs": [
    {
     "data": {
      "text/plain": [
       "tensor([9, 0, 0,  ..., 3, 0, 5])"
      ]
     },
     "execution_count": 6,
     "metadata": {},
     "output_type": "execute_result"
    }
   ],
   "source": [
    "train_data.targets# labels of training data"
   ]
  },
  {
   "cell_type": "code",
   "execution_count": 7,
   "metadata": {},
   "outputs": [
    {
     "data": {
      "text/plain": [
       "(torch.Size([1, 28, 28]), 9)"
      ]
     },
     "execution_count": 7,
     "metadata": {},
     "output_type": "execute_result"
    }
   ],
   "source": [
    "#first image\n",
    "image,label=train_data[0]# it give image tensor and label\n",
    "image.shape,label#label 9 is ankle boot"
   ]
  },
  {
   "cell_type": "markdown",
   "metadata": {},
   "source": [
    "colour channel is 1 for greyscale"
   ]
  },
  {
   "cell_type": "markdown",
   "metadata": {},
   "source": [
    "## ploting image"
   ]
  },
  {
   "cell_type": "code",
   "execution_count": 8,
   "metadata": {},
   "outputs": [
    {
     "data": {
      "image/png": "[encoded data removed]",
      "text/plain": [
       "<Figure size 640x480 with 1 Axes>"
      ]
     },
     "metadata": {},
     "output_type": "display_data"
    }
   ],
   "source": [
    "#plotting image\n",
    "plt.imshow(image.squeeze(),cmap='gray')#squeeze is used to remove extra dimension\n",
    "#imshow req 28x28 image but we have 1x28x28 image so we need to remove extra dimension\n",
    "plt.title(class_names[label])\n",
    "plt.show()"
   ]
  },
  {
   "cell_type": "code",
   "execution_count": 9,
   "metadata": {},
   "outputs": [
    {
     "data": {
      "image/png": "[encoded data removed]",
      "text/plain": [
       "<Figure size 800x800 with 16 Axes>"
      ]
     },
     "metadata": {},
     "output_type": "display_data"
    }
   ],
   "source": [
    "# plot more images\n",
    "torch.manual_seed(42)\n",
    "figure = plt.figure(figsize=(8, 8))\n",
    "cols, rows = 4,4# 5 cols and 4 rows of images\n",
    "for i in range(1, cols * rows + 1):\n",
    "    sample_idx = torch.randint(len(train_data), size=(1,)).item()#size\n",
    "    img, label = train_data[sample_idx]\n",
    "    figure.add_subplot(rows, cols, i)\n",
    "    plt.title(class_names[label])\n",
    "    plt.axis(\"off\")\n",
    "    plt.imshow(img.squeeze(), cmap=\"gray\")\n",
    "plt.show()"
   ]
  },
  {
   "cell_type": "markdown",
   "metadata": {},
   "source": [
    "## dataloader\n",
    "\n",
    "`32` images batch sizee we need\n",
    "it will be more efficient"
   ]
  },
  {
   "cell_type": "code",
   "execution_count": 10,
   "metadata": {},
   "outputs": [
    {
     "data": {
      "text/plain": [
       "(<torch.utils.data.dataloader.DataLoader at 0x788b104d2b30>,\n",
       " <torch.utils.data.dataloader.DataLoader at 0x788b104d3ee0>)"
      ]
     },
     "execution_count": 10,
     "metadata": {},
     "output_type": "execute_result"
    }
   ],
   "source": [
    "## prepare data for training\n",
    "from torch.utils.data import DataLoader\n",
    "\n",
    "# Create batchsize hyperparameter\n",
    "BATCH_SIZE=32\n",
    "\n",
    "# datases into iterable \n",
    "train_dataloader = DataLoader(train_data,# we have 60000 images data\n",
    "                           batch_size=BATCH_SIZE, #devide into 32 batch size 60000/32=1875\n",
    "                           shuffle=True)# suffle data and then create batch\n",
    "\n",
    "test_dataloader = DataLoader(test_data,\n",
    "                            batch_size=BATCH_SIZE, \n",
    "                            shuffle=False)\n",
    "train_dataloader,test_dataloader"
   ]
  },
  {
   "cell_type": "markdown",
   "metadata": {},
   "source": [
    "we have craeted batches of 32"
   ]
  },
  {
   "cell_type": "code",
   "execution_count": 11,
   "metadata": {},
   "outputs": [
    {
     "name": "stdout",
     "output_type": "stream",
     "text": [
      "Number of training batches 1875 of size 32\n",
      "Number of testing batches 313 of size 32\n"
     ]
    }
   ],
   "source": [
    "print(\"Number of training batches\",len(train_dataloader),\"of size\",BATCH_SIZE)#training batches\n",
    "print(\"Number of testing batches\",len(test_dataloader),\"of size\",BATCH_SIZE)"
   ]
  },
  {
   "cell_type": "markdown",
   "metadata": {},
   "source": [
    "## checking dataloader\n"
   ]
  },
  {
   "cell_type": "code",
   "execution_count": 12,
   "metadata": {},
   "outputs": [
    {
     "data": {
      "text/plain": [
       "(torch.Size([32, 1, 28, 28]), torch.Size([32]))"
      ]
     },
     "execution_count": 12,
     "metadata": {},
     "output_type": "execute_result"
    }
   ],
   "source": [
    "train_features_batch, train_labels_batch = next(iter(train_dataloader))# get first batch\n",
    "train_features_batch.shape, train_labels_batch.shape"
   ]
  },
  {
   "cell_type": "code",
   "execution_count": 13,
   "metadata": {},
   "outputs": [
    {
     "name": "stdout",
     "output_type": "stream",
     "text": [
      "Image batch dimensions: torch.Size([32, 1, 28, 28])\n",
      "Image label dimensions: torch.Size([32])\n"
     ]
    },
    {
     "data": {
      "image/png": "[encoded data removed]",
      "text/plain": [
       "<Figure size 640x480 with 1 Axes>"
      ]
     },
     "metadata": {},
     "output_type": "display_data"
    }
   ],
   "source": [
    "# show a sample batch\n",
    "torch.manual_seed(42)\n",
    "random_idx = torch.randint(len(train_features_batch), size=(1,)).item()\n",
    "img, label = train_features_batch[random_idx], train_labels_batch[random_idx]\n",
    "plt.title(class_names[label.item()])\n",
    "plt.imshow(img.squeeze(), cmap=\"gray\")\n",
    "for images, labels in train_dataloader:\n",
    "    print(\"Image batch dimensions:\", images.shape)\n",
    "    print(\"Image label dimensions:\", labels.shape)\n",
    "    break"
   ]
  },
  {
   "cell_type": "markdown",
   "metadata": {},
   "source": [
    "# model 0: BASELINE MODEL\n"
   ]
  },
  {
   "cell_type": "markdown",
   "metadata": {},
   "source": [
    "## flaten layer"
   ]
  },
  {
   "cell_type": "code",
   "execution_count": 14,
   "metadata": {},
   "outputs": [
    {
     "name": "stdout",
     "output_type": "stream",
     "text": [
      "Original shape: torch.Size([1, 28, 28])\n",
      "Flattened shape: torch.Size([1, 784])\n"
     ]
    }
   ],
   "source": [
    "# create a flaten layer\n",
    "\"\"\" it create the flatten layer which will take 28x28 image and convert it into 784x1 image\"\"\"\n",
    "flatten_model = nn.Flatten()\n",
    "x=train_features_batch[0]# get first image of first batch\n",
    "print(\"Original shape:\", x.shape)\n",
    "x = flatten_model(x)\n",
    "print(\"Flattened shape:\", x.shape)"
   ]
  },
  {
   "cell_type": "markdown",
   "metadata": {},
   "source": [
    "## model"
   ]
  },
  {
   "cell_type": "code",
   "execution_count": 15,
   "metadata": {},
   "outputs": [],
   "source": [
    "class fashion_mnist_V0(nn.Module):\n",
    "    def __init__(self,\n",
    "                 input_shapes: int,\n",
    "                 hidden_units: int,\n",
    "                 output_units: int):\n",
    "        super().__init__()  # Correct usage of super()\n",
    "        self.layer_stack=nn.Sequential(\n",
    "            nn.Flatten(),# create 28x28 image to 784x1 image\n",
    "             nn.Linear(in_features=input_shapes, out_features=hidden_units), # in_features = number of features in a data sample (784 pixels)\n",
    "            nn.Linear(in_features=hidden_units, out_features=output_units)   \n",
    "        )\n",
    "    def forward(self,x):\n",
    "        x=self.layer_stack(x)\n",
    "        return x"
   ]
  },
  {
   "cell_type": "code",
   "execution_count": 16,
   "metadata": {},
   "outputs": [
    {
     "data": {
      "text/plain": [
       "fashion_mnist_V0(\n",
       "  (layer_stack): Sequential(\n",
       "    (0): Flatten(start_dim=1, end_dim=-1)\n",
       "    (1): Linear(in_features=784, out_features=10, bias=True)\n",
       "    (2): Linear(in_features=10, out_features=10, bias=True)\n",
       "  )\n",
       ")"
      ]
     },
     "execution_count": 16,
     "metadata": {},
     "output_type": "execute_result"
    }
   ],
   "source": [
    "torch.manual_seed(42)\n",
    "\n",
    "model_fashion_V0=fashion_mnist_V0(input_shapes=784,\n",
    "                                        hidden_units=10,\n",
    "                                        output_units=10)\n",
    "model_fashion_V0\n"
   ]
  },
  {
   "cell_type": "markdown",
   "metadata": {},
   "source": [
    "## optimizer and loss function"
   ]
  },
  {
   "cell_type": "code",
   "execution_count": 17,
   "metadata": {},
   "outputs": [],
   "source": [
    "# loss function\n",
    "loss_fn = nn.CrossEntropyLoss()\n",
    "\n",
    "# optimizer\n",
    "optimizer = torch.optim.SGD(params=model_fashion_V0.parameters(), lr=0.1)"
   ]
  },
  {
   "cell_type": "markdown",
   "metadata": {},
   "source": [
    "downloading helper function which we will need some fxn so we dont have to write again"
   ]
  },
  {
   "cell_type": "code",
   "execution_count": 18,
   "metadata": {},
   "outputs": [
    {
     "name": "stdout",
     "output_type": "stream",
     "text": [
      "helper_functions.py already exists, skipping download\n"
     ]
    }
   ],
   "source": [
    "import requests\n",
    "from pathlib import Path \n",
    "\n",
    "# Download helper functions from Learn PyTorch repo (if not already downloaded)\n",
    "if Path(\"helper_functions.py\").is_file():\n",
    "  print(\"helper_functions.py already exists, skipping download\")\n",
    "else:\n",
    "  print(\"Downloading helper_functions.py\")\n",
    "  # Note: you need the \"raw\" GitHub URL for this to work\n",
    "  request = requests.get(\"https://raw.githubusercontent.com/mrdbourke/pytorch-deep-learning/main/helper_functions.py\")\n",
    "  with open(\"helper_functions.py\", \"wb\") as f:\n",
    "    f.write(request.content)"
   ]
  },
  {
   "cell_type": "code",
   "execution_count": 19,
   "metadata": {},
   "outputs": [
    {
     "data": {
      "text/plain": [
       "<function helper_functions.accuracy_fn(y_true, y_pred)>"
      ]
     },
     "execution_count": 19,
     "metadata": {},
     "output_type": "execute_result"
    }
   ],
   "source": [
    "# Import helper functions from helper_functions.py\n",
    "import helper_functions as hf\n",
    "from helper_functions import accuracy_fn\n",
    "accuracy_fn"
   ]
  },
  {
   "cell_type": "markdown",
   "metadata": {},
   "source": [
    "### time performance"
   ]
  },
  {
   "cell_type": "code",
   "execution_count": 20,
   "metadata": {},
   "outputs": [
    {
     "name": "stdout",
     "output_type": "stream",
     "text": [
      "Training time: 7.387017831206322e-06 seconds on device cpu\n"
     ]
    }
   ],
   "source": [
    "from timeit import default_timer as timer\n",
    "def print_train_time(start: float, end: float, device: torch.device = None):\n",
    "    print(f\"Training time: {end - start}\", \"seconds\",\"on device\",device)\n",
    "start=timer()\n",
    "# Training loop or some code\n",
    "end=timer()\n",
    "print_train_time(start,end,device=\"cpu\")\n"
   ]
  },
  {
   "cell_type": "markdown",
   "metadata": {},
   "source": [
    "## training loop"
   ]
  },
  {
   "cell_type": "code",
   "execution_count": 21,
   "metadata": {},
   "outputs": [
    {
     "data": {
      "text/plain": [
       "<torch.utils.data.dataloader.DataLoader at 0x788b104d2b30>"
      ]
     },
     "execution_count": 21,
     "metadata": {},
     "output_type": "execute_result"
    }
   ],
   "source": [
    "train_dataloader"
   ]
  },
  {
   "cell_type": "code",
   "execution_count": 22,
   "metadata": {},
   "outputs": [
    {
     "name": "stderr",
     "output_type": "stream",
     "text": [
      "/home/karansingh/.local/lib/python3.10/site-packages/tqdm/auto.py:21: TqdmWarning: IProgress not found. Please update jupyter and ipywidgets. See https://ipywidgets.readthedocs.io/en/stable/user_install.html\n",
      "  from .autonotebook import tqdm as notebook_tqdm\n",
      "  0%|          | 0/3 [00:00<?, ?it/s]"
     ]
    },
    {
     "name": "stdout",
     "output_type": "stream",
     "text": [
      "Epoch 0\n",
      "-------------------------------\n",
      "Looked at 0/60000 samples\n",
      "Looked at 12800/60000 samples\n",
      "Looked at 25600/60000 samples\n",
      "Looked at 38400/60000 samples\n",
      "Looked at 51200/60000 samples\n"
     ]
    },
    {
     "name": "stderr",
     "output_type": "stream",
     "text": [
      " 33%|███▎      | 1/3 [00:05<00:11,  5.92s/it]"
     ]
    },
    {
     "name": "stdout",
     "output_type": "stream",
     "text": [
      "Epoch 0|Training loss: 0.5903892517089844 | Testing loss: 0.5095351154145341,| Testing accuracy: 82.03873801916933\n",
      "Epoch 1\n",
      "-------------------------------\n",
      "Looked at 0/60000 samples\n",
      "Looked at 12800/60000 samples\n",
      "Looked at 25600/60000 samples\n",
      "Looked at 38400/60000 samples\n",
      "Looked at 51200/60000 samples\n"
     ]
    },
    {
     "name": "stderr",
     "output_type": "stream",
     "text": [
      " 67%|██████▋   | 2/3 [00:11<00:05,  5.48s/it]"
     ]
    },
    {
     "name": "stdout",
     "output_type": "stream",
     "text": [
      "Epoch 1|Training loss: 0.4763319790363312 | Testing loss: 0.47988997228419816,| Testing accuracy: 83.19688498402556\n",
      "Epoch 2\n",
      "-------------------------------\n",
      "Looked at 0/60000 samples\n",
      "Looked at 12800/60000 samples\n",
      "Looked at 25600/60000 samples\n",
      "Looked at 38400/60000 samples\n",
      "Looked at 51200/60000 samples\n"
     ]
    },
    {
     "name": "stderr",
     "output_type": "stream",
     "text": [
      "100%|██████████| 3/3 [00:13<00:00,  4.55s/it]"
     ]
    },
    {
     "name": "stdout",
     "output_type": "stream",
     "text": [
      "Epoch 2|Training loss: 0.4550333023071289 | Testing loss: 0.4766388939687619,| Testing accuracy: 83.42651757188499\n",
      "Training time: 13.653668518003542 seconds on device cpu\n"
     ]
    },
    {
     "name": "stderr",
     "output_type": "stream",
     "text": [
      "\n"
     ]
    }
   ],
   "source": [
    "from tqdm.auto import tqdm\n",
    "#set seed and timer\n",
    "torch.manual_seed(42)\n",
    "start_time_on_cpu=timer()\n",
    "\n",
    "epochs=3\n",
    "\n",
    "for epoch in tqdm(range(epochs)):\n",
    "    print(f\"Epoch {epoch}\\n-------------------------------\")\n",
    "    train_loss=0\n",
    "    for batch, (X,y) in enumerate(train_dataloader):# enumerate give index of batch and data and data is tuple of image and label\n",
    "        # X=X.to(device)\n",
    "        # y=y.to(device)\n",
    "        model_fashion_V0.train()\n",
    "        y_pred=model_fashion_V0(X)\n",
    "\n",
    "        #loss of batch\n",
    "        loss=loss_fn(y_pred,y)\n",
    "        train_loss+=loss#adding all batch loss\n",
    "\n",
    "        #optimizer zero grad\n",
    "        optimizer.zero_grad()\n",
    "        \n",
    "        #loss backward\n",
    "        loss.backward()\n",
    "\n",
    "        #optimizer step\n",
    "        optimizer.step()\n",
    "        if batch % 400 == 0:\n",
    "            print(f\"Looked at {batch * len(X)}/{len(train_dataloader.dataset)} samples\")\n",
    "    train_loss/=len(train_dataloader)# average loss\n",
    "\n",
    "\n",
    "    #testing\n",
    "    test_loss,test_acc=0,0\n",
    "    model_fashion_V0.eval()\n",
    "    with torch.no_grad():\n",
    "        for X_test,y_test in test_dataloader:\n",
    "\n",
    "            #predicting test\n",
    "            y_pred=model_fashion_V0(X_test)\n",
    "            #loss of test\n",
    "            loss=loss_fn(y_pred,y_test)\n",
    "            test_loss+=loss.item()\n",
    "\n",
    "            test_acc+=accuracy_fn(y_test,y_pred= y_pred.argmax(dim=1))\n",
    "\n",
    "    test_loss/=len(test_dataloader) # for average loss\n",
    "    test_acc/=len(test_dataloader)# for average accuracy\n",
    "    print(f\"Epoch {epoch}|Training loss: {train_loss} | Testing loss: {test_loss},| Testing accuracy: {test_acc}\")\n",
    "end_time_on_cpu=timer()\n",
    "print_train_time(start_time_on_cpu,end_time_on_cpu,device=str(next(model_fashion_V0.parameters()).device))\n"
   ]
  },
  {
   "cell_type": "code",
   "execution_count": 23,
   "metadata": {},
   "outputs": [
    {
     "name": "stdout",
     "output_type": "stream",
     "text": [
      "Thu May 16 05:27:07 2024       \n",
      "+-----------------------------------------------------------------------------------------+\n",
      "| NVIDIA-SMI 550.54.15              Driver Version: 550.54.15      CUDA Version: 12.4     |\n",
      "|-----------------------------------------+------------------------+----------------------+\n",
      "| GPU  Name                 Persistence-M | Bus-Id          Disp.A | Volatile Uncorr. ECC |\n",
      "| Fan  Temp   Perf          Pwr:Usage/Cap |           Memory-Usage | GPU-Util  Compute M. |\n",
      "|                                         |                        |               MIG M. |\n",
      "|=========================================+========================+======================|\n",
      "|   0  NVIDIA GeForce GTX 1660 ...    Off |   00000000:01:00.0  On |                  N/A |\n",
      "|  0%   48C    P5             24W /  125W |     621MiB /   6144MiB |     33%      Default |\n",
      "|                                         |                        |                  N/A |\n",
      "+-----------------------------------------+------------------------+----------------------+\n",
      "                                                                                         \n",
      "+-----------------------------------------------------------------------------------------+\n",
      "| Processes:                                                                              |\n",
      "|  GPU   GI   CI        PID   Type   Process name                              GPU Memory |\n",
      "|        ID   ID                                                               Usage      |\n",
      "|=========================================================================================|\n",
      "|    0   N/A  N/A      2599      G   /usr/lib/xorg/Xorg                            151MiB |\n",
      "|    0   N/A  N/A      2760      G   /usr/bin/gnome-shell                           27MiB |\n",
      "|    0   N/A  N/A     11151      G   ...irefox/4209/usr/lib/firefox/firefox        122MiB |\n",
      "|    0   N/A  N/A     11956      G   /snap/whatsie/148/usr/bin/whatsie              16MiB |\n",
      "|    0   N/A  N/A     40088      G   ...erProcess --variations-seed-version        136MiB |\n",
      "|    0   N/A  N/A     60216      G   gnome-control-center                            1MiB |\n",
      "|    0   N/A  N/A    113441      C   /bin/python3                                  158MiB |\n",
      "+-----------------------------------------------------------------------------------------+\n"
     ]
    }
   ],
   "source": [
    "!nvidia-smi"
   ]
  },
  {
   "cell_type": "markdown",
   "metadata": {},
   "source": [
    "## prediction through our model"
   ]
  },
  {
   "cell_type": "code",
   "execution_count": 24,
   "metadata": {},
   "outputs": [],
   "source": [
    "def eval_model(model : torch.nn.modules,# model name\n",
    "               data_loader: torch.utils.data.DataLoader,# data loader\n",
    "               loss_fn: torch.nn.modules,# loss function\n",
    "               accuracy_fn,# accuracy function\n",
    "               device: torch.device=torch.device(\"cpu\")):\n",
    "    model.eval()\n",
    "    loss=0\n",
    "    acc=0\n",
    "    with torch.inference_mode():\n",
    "        for X,y in data_loader:\n",
    "            X=X.to(device)\n",
    "            y=y.to(device)\n",
    "            y_pred=model(X)\n",
    "            loss+=loss_fn(y_pred,y)\n",
    "            acc+=accuracy_fn(y# y_true\n",
    "                             ,y_pred.argmax(dim=1))\n",
    "        loss/=len(data_loader)\n",
    "        acc/=len(data_loader)\n",
    "    return {\"model name\":model.__class__.__name__,#loss in tensor so we need to convert into float,\n",
    "            \"loss\":loss.item(),\n",
    "            \"accuracy\":acc}\n"
   ]
  },
  {
   "cell_type": "code",
   "execution_count": 25,
   "metadata": {},
   "outputs": [
    {
     "data": {
      "text/plain": [
       "{'model name': 'fashion_mnist_V0',\n",
       " 'loss': 0.4766390025615692,\n",
       " 'accuracy': 83.42651757188499}"
      ]
     },
     "execution_count": 25,
     "metadata": {},
     "output_type": "execute_result"
    }
   ],
   "source": [
    "model_fashion_V0_results=eval_model(model=model_fashion_V0,\n",
    "                                    data_loader=test_dataloader,\n",
    "                                    loss_fn=loss_fn,\n",
    "                                    accuracy_fn=accuracy_fn)\n",
    "model_fashion_V0_results"
   ]
  },
  {
   "cell_type": "markdown",
   "metadata": {},
   "source": [
    "## running on gpu\n"
   ]
  },
  {
   "cell_type": "code",
   "execution_count": 26,
   "metadata": {},
   "outputs": [],
   "source": [
    "\n",
    "class fashion_mnist_V1(nn.Module):\n",
    "    def __init__(self,\n",
    "                 input_shapes: int,\n",
    "                 hidden_units: int,\n",
    "                 output_units: int):\n",
    "        super().__init__()  # Correct usage of super()\n",
    "        self.layer_stack=nn.Sequential(\n",
    "            nn.Flatten(),# create 28x28 image to 784x1 image\n",
    "             nn.Linear(in_features=input_shapes, out_features=hidden_units), # in_features = number of features in a data sample (784 pixels)\n",
    "            nn.Linear(in_features=hidden_units, out_features=output_units)   \n",
    "        )\n",
    "    def forward(self,x):\n",
    "        x=self.layer_stack(x)\n",
    "        return x\n",
    "torch.manual_seed(42)\n",
    "model_fashion_v1=fashion_mnist_V1(input_shapes=784,\n",
    "                                        hidden_units=10,\n",
    "                                        output_units=10).to(device)\n",
    "# loss function\n",
    "loss_fn = nn.CrossEntropyLoss()\n",
    "\n",
    "# optimizer\n",
    "optimizer_v2 = torch.optim.SGD(params=model_fashion_v1.parameters(), lr=0.1)\n"
   ]
  },
  {
   "cell_type": "markdown",
   "metadata": {},
   "source": [
    "gpu loop\n"
   ]
  },
  {
   "cell_type": "code",
   "execution_count": 27,
   "metadata": {},
   "outputs": [
    {
     "name": "stderr",
     "output_type": "stream",
     "text": [
      "  0%|          | 0/3 [00:00<?, ?it/s]"
     ]
    },
    {
     "name": "stdout",
     "output_type": "stream",
     "text": [
      "Epoch 0\n",
      "-------------------------------\n",
      "Looked at 0/60000 samples\n",
      "Looked at 12800/60000 samples\n",
      "Looked at 25600/60000 samples\n",
      "Looked at 38400/60000 samples\n",
      "Looked at 51200/60000 samples\n"
     ]
    },
    {
     "name": "stderr",
     "output_type": "stream",
     "text": [
      " 33%|███▎      | 1/3 [00:02<00:05,  2.70s/it]"
     ]
    },
    {
     "name": "stdout",
     "output_type": "stream",
     "text": [
      "Epoch 0|Training loss: 0.5903893113136292 | Testing loss: 0.5095350884686644,| Testing accuracy: 82.03873801916933\n",
      "Epoch 1\n",
      "-------------------------------\n",
      "Looked at 0/60000 samples\n",
      "Looked at 12800/60000 samples\n",
      "Looked at 25600/60000 samples\n",
      "Looked at 38400/60000 samples\n",
      "Looked at 51200/60000 samples\n"
     ]
    },
    {
     "name": "stderr",
     "output_type": "stream",
     "text": [
      " 67%|██████▋   | 2/3 [00:05<00:02,  2.63s/it]"
     ]
    },
    {
     "name": "stdout",
     "output_type": "stream",
     "text": [
      "Epoch 1|Training loss: 0.4763319492340088 | Testing loss: 0.4798899779971034,| Testing accuracy: 83.19688498402556\n",
      "Epoch 2\n",
      "-------------------------------\n",
      "Looked at 0/60000 samples\n",
      "Looked at 12800/60000 samples\n",
      "Looked at 25600/60000 samples\n",
      "Looked at 38400/60000 samples\n",
      "Looked at 51200/60000 samples\n"
     ]
    },
    {
     "name": "stderr",
     "output_type": "stream",
     "text": [
      "100%|██████████| 3/3 [00:07<00:00,  2.66s/it]"
     ]
    },
    {
     "name": "stdout",
     "output_type": "stream",
     "text": [
      "Epoch 2|Training loss: 0.4550333023071289 | Testing loss: 0.4766388906838414,| Testing accuracy: 83.42651757188499\n",
      "Training time: 7.981043763982598 seconds on device cuda:0\n"
     ]
    },
    {
     "name": "stderr",
     "output_type": "stream",
     "text": [
      "\n"
     ]
    }
   ],
   "source": [
    "from tqdm.auto import tqdm\n",
    "#set seed and timer\n",
    "torch.manual_seed(42)\n",
    "start_time_on_cpu=timer()\n",
    "\n",
    "epochs=3\n",
    "\n",
    "for epoch in tqdm(range(epochs)):\n",
    "    print(f\"Epoch {epoch}\\n-------------------------------\")\n",
    "    train_loss=0\n",
    "    for batch, (X,y) in enumerate(train_dataloader):# enumerate give index of batch and data and data is tuple of image and label\n",
    "        # X=X.to(device)\n",
    "        # y=y.to(device)\n",
    "        model_fashion_v1.train()\n",
    "        y_pred=model_fashion_v1(X.to(device))\n",
    "\n",
    "        #loss of batch\n",
    "        loss=loss_fn(y_pred,y.to(device))\n",
    "        train_loss+=loss#adding all batch loss\n",
    "\n",
    "        #optimizer zero grad\n",
    "        optimizer_v2.zero_grad()\n",
    "        \n",
    "        #loss backward\n",
    "        loss.backward()\n",
    "\n",
    "        #optimizer step\n",
    "        optimizer_v2.step()\n",
    "        if batch % 400 == 0:\n",
    "            print(f\"Looked at {batch * len(X)}/{len(train_dataloader.dataset)} samples\")\n",
    "    train_loss/=len(train_dataloader)# average loss\n",
    "\n",
    "\n",
    "    #testing\n",
    "    test_loss,test_acc=0,0\n",
    "    model_fashion_v1.eval()\n",
    "    with torch.inference_mode():\n",
    "        for X_test,y_test in test_dataloader:\n",
    "\n",
    "            #predicting test\n",
    "            y_pred=model_fashion_v1(X_test.to(device))\n",
    "            #loss of test\n",
    "            loss=loss_fn(y_pred,y_test.to(device))\n",
    "            test_loss+=loss.item()\n",
    "\n",
    "            test_acc+=accuracy_fn(y_test.to(device),y_pred= y_pred.argmax(dim=1))\n",
    "\n",
    "    test_loss/=len(test_dataloader) # for average loss\n",
    "    test_acc/=len(test_dataloader)# for average accuracy\n",
    "    print(f\"Epoch {epoch}|Training loss: {train_loss} | Testing loss: {test_loss},| Testing accuracy: {test_acc}\")\n",
    "end_time_on_cpu=timer()\n",
    "print_train_time(start_time_on_cpu,end_time_on_cpu,device=str(next(model_fashion_v1.parameters()).device))\n"
   ]
  },
  {
   "cell_type": "code",
   "execution_count": 28,
   "metadata": {},
   "outputs": [
    {
     "data": {
      "text/plain": [
       "device(type='cpu')"
      ]
     },
     "execution_count": 28,
     "metadata": {},
     "output_type": "execute_result"
    }
   ],
   "source": [
    "X_test.device"
   ]
  },
  {
   "cell_type": "markdown",
   "metadata": {},
   "source": [
    "### train step"
   ]
  },
  {
   "cell_type": "code",
   "execution_count": 29,
   "metadata": {},
   "outputs": [],
   "source": [
    "# def train_step\n",
    "def train_step(model: torch.nn.modules,\n",
    "               data_loader: torch.utils.data.DataLoader,\n",
    "               loss_fn: torch.nn.modules,\n",
    "               optimizer: torch.optim.Optimizer,\n",
    "               accuracy_fn,\n",
    "               device: torch.device = device):\n",
    "    model.train()\n",
    "    train_loss,train_acc=0,0\n",
    "    for X,y in data_loader:\n",
    "        X = X.to(device)\n",
    "        y = y.to(device)\n",
    "        y_pred=model(X)\n",
    "\n",
    "        #loss of batch\n",
    "        loss=loss_fn(y_pred,y)\n",
    "        train_loss += loss#adding all batch loss\n",
    "\n",
    "        #optimizer zero grad\n",
    "        optimizer.zero_grad()\n",
    "        \n",
    "        #loss backward\n",
    "        loss.backward()\n",
    "\n",
    "        #optimizer step\n",
    "        optimizer.step()\n",
    "        train_loss += loss.item()\n",
    "\n",
    "        train_acc+=accuracy_fn(y,y_pred= y_pred.argmax(dim=1))\n",
    "    train_loss/=len(data_loader)# average loss\n",
    "    train_acc/=len(data_loader)# average accuracy\n",
    "    return train_loss,train_acc"
   ]
  },
  {
   "cell_type": "markdown",
   "metadata": {},
   "source": [
    "### test step"
   ]
  },
  {
   "cell_type": "code",
   "execution_count": 30,
   "metadata": {},
   "outputs": [],
   "source": [
    "# test_step\n",
    "def test_step(model: torch.nn.modules,\n",
    "               data_loader: torch.utils.data.DataLoader,\n",
    "               loss_fn: torch.nn.modules,\n",
    "               accuracy_fn,\n",
    "               device: torch.device = device):\n",
    "    model.eval()\n",
    "    test_loss,test_acc=0,0\n",
    "    with torch.inference_mode():\n",
    "        for X,y in data_loader:\n",
    "            X = X.to(device)\n",
    "            y = y.to(device)\n",
    "            y_pred=model(X)\n",
    "            loss=loss_fn(y_pred,y)\n",
    "            test_loss+=loss.item()\n",
    "            acc=accuracy_fn(y,y_pred= y_pred.argmax(dim=1))\n",
    "            test_acc+=acc\n",
    "        test_loss/=len(data_loader)\n",
    "        test_acc/=len(data_loader)\n",
    "    return test_loss,test_acc"
   ]
  },
  {
   "cell_type": "code",
   "execution_count": 31,
   "metadata": {},
   "outputs": [
    {
     "name": "stderr",
     "output_type": "stream",
     "text": [
      "  0%|          | 0/3 [00:00<?, ?it/s]"
     ]
    },
    {
     "name": "stdout",
     "output_type": "stream",
     "text": [
      "Epoch 0\n",
      "-------------------------------\n"
     ]
    },
    {
     "name": "stderr",
     "output_type": "stream",
     "text": [
      " 33%|███▎      | 1/3 [00:02<00:05,  2.83s/it]"
     ]
    },
    {
     "name": "stdout",
     "output_type": "stream",
     "text": [
      "Epoch 0|Training loss: 0.8850244879722595 | Testing loss: 0.46305625512005805,| Testing accuracy: 83.74600638977635\n",
      "Epoch 1\n",
      "-------------------------------\n"
     ]
    },
    {
     "name": "stderr",
     "output_type": "stream",
     "text": [
      " 67%|██████▋   | 2/3 [00:05<00:02,  2.80s/it]"
     ]
    },
    {
     "name": "stdout",
     "output_type": "stream",
     "text": [
      "Epoch 1|Training loss: 0.8716315627098083 | Testing loss: 0.4686939125053418,| Testing accuracy: 83.2667731629393\n",
      "Epoch 2\n",
      "-------------------------------\n"
     ]
    },
    {
     "name": "stderr",
     "output_type": "stream",
     "text": [
      "100%|██████████| 3/3 [00:08<00:00,  2.85s/it]"
     ]
    },
    {
     "name": "stdout",
     "output_type": "stream",
     "text": [
      "Epoch 2|Training loss: 0.8582940101623535 | Testing loss: 0.45892010076929585,| Testing accuracy: 83.6361821086262\n",
      "Training time: 8.539345828001387 seconds on device cuda:0\n"
     ]
    },
    {
     "name": "stderr",
     "output_type": "stream",
     "text": [
      "\n"
     ]
    }
   ],
   "source": [
    "start_time_on_gpu=timer()\n",
    "epochs=3\n",
    "for epoch in tqdm(range(epochs)):\n",
    "    print(f\"Epoch {epoch}\\n-------------------------------\")\n",
    "    train_loss,train_acc=train_step(model=model_fashion_v1,\n",
    "                                    data_loader=train_dataloader,\n",
    "                                    loss_fn=loss_fn,\n",
    "                                    optimizer=optimizer_v2,\n",
    "                                    accuracy_fn=accuracy_fn,\n",
    "                                    device=device)\n",
    "    test_loss,test_acc=test_step(model=model_fashion_v1,\n",
    "                                 data_loader=test_dataloader,\n",
    "                                 loss_fn=loss_fn,\n",
    "                                 accuracy_fn=accuracy_fn,\n",
    "                                 device=device)\n",
    "    print(f\"Epoch {epoch}|Training loss: {train_loss} | Testing loss: {test_loss},| Testing accuracy: {test_acc}\")\n",
    "end_time_on_gpu=timer()\n",
    "print_train_time(start_time_on_gpu,end_time_on_gpu,device=str(next(model_fashion_v1.parameters()).device))"
   ]
  },
  {
   "cell_type": "code",
   "execution_count": 32,
   "metadata": {},
   "outputs": [
    {
     "data": {
      "text/plain": [
       "{'model name': 'fashion_mnist_V1',\n",
       " 'loss': 0.4589199721813202,\n",
       " 'accuracy': 83.6361821086262}"
      ]
     },
     "execution_count": 32,
     "metadata": {},
     "output_type": "execute_result"
    }
   ],
   "source": [
    "model_fashion_V1_results=eval_model(model=model_fashion_v1,\n",
    "                                    data_loader=test_dataloader,\n",
    "                                    loss_fn=loss_fn,\n",
    "                                    accuracy_fn=accuracy_fn,\n",
    "                                    device=device)\n",
    "model_fashion_V1_results"
   ]
  },
  {
   "cell_type": "markdown",
   "metadata": {},
   "source": [
    "# CNN model\n",
    "\n",
    "It follows the typical structure of a convolutional neural network:\n",
    "\n",
    "`Input layer -> [Convolutional layer -> activation layer -> pooling layer] -> Output layer`\n"
   ]
  },
  {
   "attachments": {
    "image-2.png": {
     "image/png": "[encoded data removed]"
    },
    "image.png": {
     "image/png": "[encoded data removed]"
    }
   },
   "cell_type": "markdown",
   "metadata": {},
   "source": [
    "![image.png](attachment:image.png)\n",
    "![image-2.png](attachment:image-2.png)\n",
    "\n",
    "`kernel `: kernel is matrix multiply with same pixel matrix\n",
    "\n",
    "` pading` : boundary\n",
    "\n",
    "` stride ` : how much kernal moves"
   ]
  },
  {
   "cell_type": "code",
   "execution_count": 33,
   "metadata": {},
   "outputs": [],
   "source": [
    "class fashion_mnist_CNN_V0(nn.Module):# 3rd model a CNN model\n",
    "    def __init__(self,\n",
    "                 input_channels: int,\n",
    "                 hidden_units: int,\n",
    "                 output_units: int):\n",
    "        super().__init__()  # Correct usage of super()\n",
    "        self.layer_stack=nn.Sequential(\n",
    "            nn.Conv2d(in_channels=input_channels,\n",
    "                       out_channels=hidden_units, \n",
    "                       kernel_size=3,\n",
    "                       stride=1,\n",
    "                       padding=1\n",
    "                       ),# 1st layer\n",
    "            # nn.MaxPool2d(kernel_size=2, stride=2),# 2nd layer\n",
    "            nn.ReLU(),\n",
    "            nn.Conv2d(in_channels=hidden_units, out_channels=hidden_units, kernel_size=3,stride=1,padding=1),# 3rd layer\n",
    "            nn.MaxPool2d(kernel_size=2, stride=2),# 4th layer\n",
    "        )\n",
    "        self.block_2 = nn.Sequential(\n",
    "            nn.Conv2d(hidden_units, hidden_units, 3, padding=1),\n",
    "            nn.ReLU(),\n",
    "            nn.Conv2d(hidden_units, hidden_units, 3, padding=1),\n",
    "            nn.ReLU(),\n",
    "            nn.MaxPool2d(2) )      \n",
    "        self.classifier = nn.Sequential(\n",
    "            nn.Flatten(),\n",
    "            nn.Linear(hidden_units*7*7, output_units)\n",
    "        )\n",
    "    def forward(self,x):\n",
    "        x=self.layer_stack(x)\n",
    "        x=self.block_2(x)\n",
    "        x=self.classifier(x)\n",
    "        return x"
   ]
  },
  {
   "cell_type": "code",
   "execution_count": 34,
   "metadata": {},
   "outputs": [
    {
     "data": {
      "text/plain": [
       "fashion_mnist_CNN_V0(\n",
       "  (layer_stack): Sequential(\n",
       "    (0): Conv2d(1, 10, kernel_size=(3, 3), stride=(1, 1), padding=(1, 1))\n",
       "    (1): ReLU()\n",
       "    (2): Conv2d(10, 10, kernel_size=(3, 3), stride=(1, 1), padding=(1, 1))\n",
       "    (3): MaxPool2d(kernel_size=2, stride=2, padding=0, dilation=1, ceil_mode=False)\n",
       "  )\n",
       "  (block_2): Sequential(\n",
       "    (0): Conv2d(10, 10, kernel_size=(3, 3), stride=(1, 1), padding=(1, 1))\n",
       "    (1): ReLU()\n",
       "    (2): Conv2d(10, 10, kernel_size=(3, 3), stride=(1, 1), padding=(1, 1))\n",
       "    (3): ReLU()\n",
       "    (4): MaxPool2d(kernel_size=2, stride=2, padding=0, dilation=1, ceil_mode=False)\n",
       "  )\n",
       "  (classifier): Sequential(\n",
       "    (0): Flatten(start_dim=1, end_dim=-1)\n",
       "    (1): Linear(in_features=490, out_features=10, bias=True)\n",
       "  )\n",
       ")"
      ]
     },
     "execution_count": 34,
     "metadata": {},
     "output_type": "execute_result"
    }
   ],
   "source": [
    "torch.manual_seed(42)\n",
    "model_fashion_CNN_0=fashion_mnist_CNN_V0(input_channels=1,# we have 1 channel image bcs we have gray scale image\n",
    "                                        hidden_units=10,\n",
    "                                        output_units=10).to(device)#we have 10 classes\n",
    "model_fashion_CNN_0"
   ]
  },
  {
   "cell_type": "markdown",
   "metadata": {},
   "source": [
    "## nn.conv2d"
   ]
  },
  {
   "cell_type": "code",
   "execution_count": 35,
   "metadata": {},
   "outputs": [
    {
     "data": {
      "text/plain": [
       "(torch.Size([1, 28, 28]), 9)"
      ]
     },
     "execution_count": 35,
     "metadata": {},
     "output_type": "execute_result"
    }
   ],
   "source": [
    "# random image\n",
    "image,label=train_data[0]\n",
    "image.shape,label"
   ]
  },
  {
   "cell_type": "code",
   "execution_count": 36,
   "metadata": {},
   "outputs": [
    {
     "data": {
      "text/plain": [
       "Conv2d(1, 10, kernel_size=(3, 3), stride=(1, 1), padding=(1, 1))"
      ]
     },
     "execution_count": 36,
     "metadata": {},
     "output_type": "execute_result"
    }
   ],
   "source": [
    "# create a single conv2d layer\n",
    "conv1_layer = nn.Conv2d(in_channels=1, out_channels=10, kernel_size=3, padding=1).to(device)\n",
    "conv1_layer\n"
   ]
  },
  {
   "cell_type": "code",
   "execution_count": 37,
   "metadata": {},
   "outputs": [
    {
     "data": {
      "text/plain": [
       "(torch.Size([10, 28, 28]),\n",
       " tensor([[ 0.2517,  0.2517,  0.2517,  0.2517,  0.2517,  0.2517,  0.2517,  0.2517,\n",
       "           0.2517,  0.2517,  0.2517,  0.2517,  0.2517,  0.2517,  0.2517,  0.2517,\n",
       "           0.2517,  0.2517,  0.2517,  0.2517,  0.2517,  0.2517,  0.2517,  0.2517,\n",
       "           0.2517,  0.2517,  0.2517,  0.2517],\n",
       "         [ 0.2517,  0.2517,  0.2517,  0.2517,  0.2517,  0.2517,  0.2517,  0.2517,\n",
       "           0.2517,  0.2517,  0.2517,  0.2517,  0.2517,  0.2517,  0.2517,  0.2517,\n",
       "           0.2517,  0.2517,  0.2517,  0.2517,  0.2517,  0.2517,  0.2517,  0.2517,\n",
       "           0.2517,  0.2517,  0.2517,  0.2517],\n",
       "         [ 0.2517,  0.2517,  0.2517,  0.2517,  0.2517,  0.2517,  0.2517,  0.2517,\n",
       "           0.2517,  0.2517,  0.2517,  0.2518,  0.2520,  0.2525,  0.2520,  0.2565,\n",
       "           0.2811,  0.3070,  0.2518,  0.2521,  0.2536,  0.2548,  0.2517,  0.2517,\n",
       "           0.2518,  0.2520,  0.2528,  0.2525],\n",
       "         [ 0.2517,  0.2517,  0.2517,  0.2517,  0.2517,  0.2517,  0.2517,  0.2517,\n",
       "           0.2517,  0.2517,  0.2517,  0.2508,  0.2530,  0.2535,  0.2504,  0.2489,\n",
       "           0.4089,  0.2814,  0.3121,  0.2890,  0.2525,  0.2472,  0.2521,  0.2534,\n",
       "           0.2541,  0.2542,  0.2511,  0.2514],\n",
       "         [ 0.2517,  0.2517,  0.2517,  0.2517,  0.2517,  0.2517,  0.2517,  0.2517,\n",
       "           0.2517,  0.2517,  0.2517,  0.2484,  0.2543,  0.2165,  0.1549,  0.2423,\n",
       "           0.2422,  0.1571,  0.3473,  0.3298,  0.3477,  0.2630,  0.2491,  0.2479,\n",
       "           0.2500,  0.2496,  0.2586,  0.2594],\n",
       "         [ 0.2517,  0.2517,  0.2517,  0.2517,  0.2517,  0.2517,  0.2517,  0.2517,\n",
       "           0.2517,  0.2517,  0.2517,  0.2444,  0.2531,  0.1245,  0.0625,  0.0679,\n",
       "          -0.0638, -0.0453,  0.0987,  0.1762,  0.2840,  0.3770,  0.3500,  0.3032,\n",
       "           0.2739,  0.3363,  0.3593,  0.2972],\n",
       "         [ 0.2517,  0.2517,  0.2517,  0.2517,  0.2517,  0.2517,  0.2517,  0.2517,\n",
       "           0.2517,  0.2517,  0.2518,  0.2495,  0.2507,  0.0655,  0.0598, -0.1123,\n",
       "          -0.2785, -0.1378, -0.1325, -0.0092,  0.0260,  0.1531,  0.2595,  0.2439,\n",
       "           0.2730,  0.2734,  0.2139,  0.3109],\n",
       "         [ 0.2517,  0.2517,  0.2517,  0.2517,  0.2517,  0.2517,  0.2517,  0.2517,\n",
       "           0.2518,  0.2520,  0.2518,  0.2532,  0.1842,  0.0659,  0.0846, -0.2645,\n",
       "          -0.3608, -0.2756, -0.1715, -0.0992, -0.0951, -0.0272,  0.0463,  0.0703,\n",
       "           0.0710, -0.0887,  0.1641,  0.1581],\n",
       "         [ 0.2517,  0.2517,  0.2517,  0.2517,  0.2517,  0.2517,  0.2517,  0.2517,\n",
       "           0.2507,  0.2512,  0.2496,  0.2506,  0.0194,  0.0414, -0.1876, -0.3791,\n",
       "          -0.3966, -0.3793, -0.3477, -0.2885, -0.2087, -0.1042, -0.0906, -0.0578,\n",
       "          -0.0998, -0.0906,  0.1397, -0.1343],\n",
       "         [ 0.2517,  0.2517,  0.2517,  0.2517,  0.2517,  0.2517,  0.2517,  0.2517,\n",
       "           0.2513,  0.2508,  0.2496,  0.2500, -0.0157, -0.0317, -0.3309, -0.4084,\n",
       "          -0.4079, -0.4257, -0.4275, -0.4303, -0.3920, -0.3613, -0.3115, -0.2303,\n",
       "          -0.2217, -0.1814, -0.0763, -0.0886],\n",
       "         [ 0.2517,  0.2517,  0.2517,  0.2517,  0.2517,  0.2517,  0.2517,  0.2517,\n",
       "           0.2518,  0.2521,  0.2533,  0.2542, -0.0140, -0.0030, -0.2937, -0.3872,\n",
       "          -0.3616, -0.3615, -0.4169, -0.3852, -0.3724, -0.3792, -0.3779, -0.3728,\n",
       "          -0.4213, -0.3459, -0.1277, -0.0308],\n",
       "         [ 0.2517,  0.2517,  0.2517,  0.2517,  0.2517,  0.2517,  0.2517,  0.2517,\n",
       "           0.2507,  0.2492,  0.2536,  0.2423, -0.0154,  0.0699, -0.3168, -0.3830,\n",
       "          -0.3252, -0.3051, -0.3426, -0.2592, -0.3698, -0.3531, -0.3550, -0.3814,\n",
       "          -0.3492, -0.3958, -0.2068, -0.0825],\n",
       "         [ 0.2517,  0.2517,  0.2517,  0.2517,  0.2517,  0.2517,  0.2517,  0.2517,\n",
       "           0.2514,  0.2449,  0.2548,  0.1357, -0.0289, -0.0808, -0.3841, -0.3630,\n",
       "          -0.3271, -0.3105, -0.2916, -0.2713, -0.3807, -0.3617, -0.3576, -0.3982,\n",
       "          -0.2478, -0.3973, -0.0595, -0.1387],\n",
       "         [ 0.2517,  0.2518,  0.2521,  0.2537,  0.2565,  0.2582,  0.2576,  0.2533,\n",
       "           0.2476,  0.2511,  0.2442,  0.1511, -0.0460, -0.0302, -0.4293, -0.3923,\n",
       "          -0.3939, -0.3672, -0.3545, -0.3599, -0.3685, -0.3800, -0.3576, -0.3982,\n",
       "          -0.3376, -0.2021,  0.0094, -0.0380],\n",
       "         [ 0.2518,  0.2515,  0.2504,  0.2463,  0.2428,  0.2461,  0.2446,  0.2494,\n",
       "           0.2512,  0.2689,  0.3359,  0.1548,  0.2259, -0.1869, -0.4281, -0.3972,\n",
       "          -0.4029, -0.4112, -0.4156, -0.3925, -0.3741, -0.3805, -0.3781, -0.4043,\n",
       "          -0.3998, -0.1411, -0.0924,  0.1653],\n",
       "         [ 0.2487,  0.2527,  0.2462,  0.2463,  0.2463,  0.2666,  0.2989,  0.3431,\n",
       "           0.3238,  0.3401,  0.2746,  0.0791, -0.0684, -0.4091, -0.3743, -0.3836,\n",
       "          -0.3842, -0.3774, -0.3560, -0.3665, -0.3776, -0.4199, -0.3971, -0.3595,\n",
       "          -0.3753, -0.2487, -0.0826,  0.1326],\n",
       "         [ 0.2515,  0.2688,  0.3447,  0.4344,  0.4363,  0.4002,  0.3607,  0.2427,\n",
       "           0.1738,  0.0407, -0.1489, -0.2838, -0.3790, -0.3817, -0.3975, -0.3304,\n",
       "          -0.3931, -0.3624, -0.3674, -0.2826, -0.3539, -0.3731, -0.3448, -0.4106,\n",
       "          -0.4330, -0.3661, -0.0722, -0.0136],\n",
       "         [ 0.1977,  0.1473,  0.2784,  0.1335,  0.0963,  0.0169, -0.0319, -0.1330,\n",
       "          -0.2155, -0.3283, -0.3903, -0.3580, -0.3113, -0.4219, -0.3826, -0.4100,\n",
       "          -0.3064, -0.3832, -0.4288, -0.4377, -0.4714, -0.3369, -0.3801, -0.4545,\n",
       "          -0.4358, -0.4172, -0.0795, -0.1371],\n",
       "         [ 0.0532,  0.1442, -0.1216, -0.3573, -0.3652, -0.3757, -0.3530, -0.3351,\n",
       "          -0.3170, -0.3008, -0.3550, -0.3716, -0.1789, -0.3469, -0.2350, -0.4603,\n",
       "          -0.5166, -0.4661, -0.4524, -0.4430, -0.3556, -0.3406, -0.3804, -0.3634,\n",
       "          -0.3612, -0.3932, -0.0938, -0.1420],\n",
       "         [-0.0019, -0.0372, -0.3884, -0.3813, -0.3947, -0.4014, -0.3921, -0.3947,\n",
       "          -0.3555, -0.3631, -0.3896, -0.3562, -0.3625, -0.1503, -0.1228, -0.0727,\n",
       "          -0.2216, -0.2268, -0.2155, -0.2173, -0.2648, -0.3319, -0.3588, -0.3572,\n",
       "          -0.3711, -0.3953, -0.1028, -0.0952],\n",
       "         [-0.0499, -0.1849, -0.3703, -0.3497, -0.3690, -0.3659, -0.4175, -0.4250,\n",
       "          -0.4107, -0.4186, -0.3437, -0.3121, -0.3689, -0.3181, -0.2222, -0.0952,\n",
       "          -0.0690, -0.1711, -0.2498, -0.3481, -0.3901, -0.4011, -0.4095, -0.4077,\n",
       "          -0.4337, -0.4295, -0.1642, -0.1033],\n",
       "         [-0.0525, -0.1439, -0.3913, -0.3182, -0.3184, -0.3422, -0.3613, -0.3475,\n",
       "          -0.3380, -0.3241, -0.2940, -0.3209, -0.3517, -0.3611, -0.3979, -0.4122,\n",
       "          -0.3956, -0.4196, -0.4392, -0.3761, -0.3641, -0.3254, -0.3217, -0.3476,\n",
       "          -0.3904, -0.3806, -0.2390, -0.0765],\n",
       "         [ 0.0197, -0.1514, -0.3917, -0.4015, -0.2941, -0.2941, -0.2884, -0.3059,\n",
       "          -0.3322, -0.3459, -0.3469, -0.3743, -0.3807, -0.3819, -0.3894, -0.3746,\n",
       "          -0.3738, -0.3455, -0.3149, -0.3012, -0.2844, -0.2544, -0.2414, -0.2381,\n",
       "          -0.2237, -0.2851, -0.1515, -0.1397],\n",
       "         [ 0.2021,  0.0271, -0.2515, -0.4113, -0.4477, -0.3644, -0.2381, -0.2286,\n",
       "          -0.2411, -0.2579, -0.2695, -0.2740, -0.2722, -0.2849, -0.2968, -0.2987,\n",
       "          -0.3206, -0.3284, -0.3385, -0.3444, -0.3166, -0.3303, -0.2925, -0.2700,\n",
       "          -0.3039, -0.3401, -0.2424, -0.2590],\n",
       "         [ 0.2527,  0.2190,  0.1374, -0.0915, -0.3483, -0.3967, -0.5190, -0.5075,\n",
       "          -0.4914, -0.4930, -0.5084, -0.5097, -0.5118, -0.5394, -0.5155, -0.5363,\n",
       "          -0.5054, -0.5223, -0.5141, -0.5182, -0.5046, -0.4854, -0.4593, -0.3784,\n",
       "          -0.3876, -0.2584, -0.1765,  0.0334],\n",
       "         [ 0.2508,  0.2492,  0.2517,  0.2246,  0.1369, -0.0233, -0.2534, -0.2927,\n",
       "          -0.3330, -0.3994, -0.3397, -0.3843, -0.3028, -0.3017, -0.2203, -0.2049,\n",
       "          -0.1643, -0.1570, -0.1431, -0.1465, -0.1440, -0.1361, -0.1255, -0.0853,\n",
       "          -0.0369,  0.0959,  0.1772,  0.2517],\n",
       "         [ 0.2517,  0.2517,  0.2517,  0.2517,  0.2517,  0.2517,  0.2353,  0.2069,\n",
       "           0.1521,  0.1220,  0.1427,  0.1246,  0.1818,  0.2068,  0.2517,  0.2517,\n",
       "           0.2517,  0.2517,  0.2517,  0.2517,  0.2517,  0.2517,  0.2517,  0.2517,\n",
       "           0.2517,  0.2517,  0.2517,  0.2517],\n",
       "         [ 0.2517,  0.2517,  0.2517,  0.2517,  0.2517,  0.2517,  0.2517,  0.2517,\n",
       "           0.2517,  0.2517,  0.2517,  0.2517,  0.2517,  0.2517,  0.2517,  0.2517,\n",
       "           0.2517,  0.2517,  0.2517,  0.2517,  0.2517,  0.2517,  0.2517,  0.2517,\n",
       "           0.2517,  0.2517,  0.2517,  0.2517]], device='cuda:0',\n",
       "        grad_fn=<SelectBackward0>))"
      ]
     },
     "execution_count": 37,
     "metadata": {},
     "output_type": "execute_result"
    }
   ],
   "source": [
    "conv1_layer_Output = conv1_layer(image.to(device))\n",
    "conv1_layer_Output.shape,conv1_layer_Output[1]"
   ]
  },
  {
   "cell_type": "markdown",
   "metadata": {},
   "source": [
    "## conv2d layer output image"
   ]
  },
  {
   "cell_type": "code",
   "execution_count": 38,
   "metadata": {},
   "outputs": [
    {
     "data": {
      "image/png": "[encoded data removed]",
      "text/plain": [
       "<Figure size 1000x1000 with 10 Axes>"
      ]
     },
     "metadata": {},
     "output_type": "display_data"
    }
   ],
   "source": [
    "#create image all 10 output\n",
    "figure=plt.figure(figsize=(10,10))\n",
    "for i in range(10):\n",
    "    figure.add_subplot(3,4,i+1)\n",
    "    plt.title(f\"Output channel {i}\")\n",
    "    plt.imshow(conv1_layer_Output[i].detach().cpu().numpy(),cmap=\"gray\")"
   ]
  },
  {
   "cell_type": "markdown",
   "metadata": {},
   "source": [
    "## maXPLOT"
   ]
  },
  {
   "cell_type": "code",
   "execution_count": 39,
   "metadata": {},
   "outputs": [
    {
     "data": {
      "text/plain": [
       "torch.Size([10, 14, 14])"
      ]
     },
     "execution_count": 39,
     "metadata": {},
     "output_type": "execute_result"
    }
   ],
   "source": [
    "# MAXPLOT LAYER\n",
    "maxpool_layer = nn.MaxPool2d(kernel_size=2, stride=2).to(device)\n",
    "\"\"\"MAXPLOT LAYER take 10x28x28 image and convert it into 10x14x14 image\n",
    "    MAXPLOT WILL TAKE 2x2 image and take max value from it and create 14x14 image\"\"\"\n",
    "maxpool_layer_output = maxpool_layer(conv1_layer_Output)\n",
    "maxpool_layer_output.shape"
   ]
  },
  {
   "cell_type": "code",
   "execution_count": 40,
   "metadata": {},
   "outputs": [
    {
     "data": {
      "image/png": "[encoded data removed]",
      "text/plain": [
       "<Figure size 1000x1000 with 10 Axes>"
      ]
     },
     "metadata": {},
     "output_type": "display_data"
    }
   ],
   "source": [
    "# create image all 10 output\n",
    "figure=plt.figure(figsize=(10,10))\n",
    "figure.suptitle(\"Maxpool layer output\")\n",
    "for i in range(10):\n",
    "    figure.add_subplot(3,4,i+1)\n",
    "    plt.title(f\"Output channel {i}\")\n",
    "    plt.imshow(maxpool_layer_output[i].detach().cpu().numpy(),cmap=\"gray\")\n",
    "\n",
    "plt.show()"
   ]
  }
 ],
 "metadata": {
  "kernelspec": {
   "display_name": "Python 3",
   "language": "python",
   "name": "python3"
  },
  "language_info": {
   "codemirror_mode": {
    "name": "ipython",
    "version": 3
   },
   "file_extension": ".py",
   "mimetype": "text/x-python",
   "name": "python",
   "nbconvert_exporter": "python",
   "pygments_lexer": "ipython3",
   "version": "3.10.12"
  }
 },
 "nbformat": 4,
 "nbformat_minor": 2
}
