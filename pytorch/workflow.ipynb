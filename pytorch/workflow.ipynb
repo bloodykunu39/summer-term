{
 "cells": [
  {
   "cell_type": "code",
   "execution_count": 1,
   "metadata": {},
   "outputs": [
    {
     "data": {
      "text/plain": [
       "'2.3.0+cu121'"
      ]
     },
     "execution_count": 1,
     "metadata": {},
     "output_type": "execute_result"
    }
   ],
   "source": [
    "import torch\n",
    "import torch.nn as nn\n",
    "import torch.nn.functional as F\n",
    "import torch.optim as optim\n",
    "import numpy as np\n",
    "import random\n",
    "import matplotlib.pyplot as plt\n",
    "torch.__version__\n"
   ]
  },
  {
   "cell_type": "markdown",
   "metadata": {},
   "source": [
    "# visualisation"
   ]
  },
  {
   "cell_type": "markdown",
   "metadata": {},
   "source": [
    "## 1. DATA (preparing data and loading data)\n",
    "* excel spreadsheet\n",
    "* images"
   ]
  },
  {
   "cell_type": "code",
   "execution_count": 2,
   "metadata": {},
   "outputs": [
    {
     "data": {
      "text/plain": [
       "(50, 50)"
      ]
     },
     "execution_count": 2,
     "metadata": {},
     "output_type": "execute_result"
    }
   ],
   "source": [
    "# lets create *known * parameter\n",
    "X = torch.arange(0, 10, 0.2).unsqueeze(dim=1)#dim=1 is to make it 2D an column vector\n",
    "Y= 2*X + 1 + 0.1\n",
    "len(X), len(Y)"
   ]
  },
  {
   "cell_type": "code",
   "execution_count": 3,
   "metadata": {},
   "outputs": [
    {
     "data": {
      "text/plain": [
       "(40, 10, 40, 10)"
      ]
     },
     "execution_count": 3,
     "metadata": {},
     "output_type": "execute_result"
    }
   ],
   "source": [
    "from sklearn.model_selection import train_test_split\n",
    "X_train, X_test, Y_train, Y_test = train_test_split(X, Y, test_size=0.2, random_state=42)#random_state is to make the split radnomly deterministic \n",
    "len(X_train), len(X_test),len(Y_train), len(Y_test)"
   ]
  },
  {
   "cell_type": "code",
   "execution_count": 4,
   "metadata": {},
   "outputs": [
    {
     "data": {
      "text/plain": [
       "tensor([[2.4000],\n",
       "        [0.8000],\n",
       "        [7.4000],\n",
       "        [1.6000],\n",
       "        [0.6000],\n",
       "        [1.2000],\n",
       "        [8.2000],\n",
       "        [9.2000],\n",
       "        [9.4000],\n",
       "        [3.0000],\n",
       "        [1.8000],\n",
       "        [3.2000],\n",
       "        [4.8000],\n",
       "        [6.8000],\n",
       "        [6.2000],\n",
       "        [0.0000],\n",
       "        [8.8000],\n",
       "        [5.4000],\n",
       "        [6.6000],\n",
       "        [1.0000],\n",
       "        [5.8000],\n",
       "        [2.2000],\n",
       "        [7.2000],\n",
       "        [0.2000],\n",
       "        [4.2000],\n",
       "        [0.4000],\n",
       "        [8.6000],\n",
       "        [7.0000],\n",
       "        [4.6000],\n",
       "        [8.0000],\n",
       "        [2.0000],\n",
       "        [4.4000],\n",
       "        [3.6000],\n",
       "        [9.8000],\n",
       "        [4.0000],\n",
       "        [1.4000],\n",
       "        [8.4000],\n",
       "        [2.8000],\n",
       "        [5.6000],\n",
       "        [7.6000]])"
      ]
     },
     "execution_count": 4,
     "metadata": {},
     "output_type": "execute_result"
    }
   ],
   "source": [
    "X_train"
   ]
  },
  {
   "cell_type": "code",
   "execution_count": 5,
   "metadata": {},
   "outputs": [],
   "source": [
    "def plot_pridictions(train_data=X_train, train_labels=Y_train, test_data=X_test, test_labels=Y_test, pred=None):\n",
    "    \n",
    "    plt.figure(figsize=(12, 6))\n",
    "    plt.scatter(train_data, train_labels, c='b', label='Train data')\n",
    "    plt.scatter(test_data, test_labels, c='g', label='Test data')\n",
    "    if pred is not None:\n",
    "        plt.plot(test_data, pred, c='r', label='Predictions')#\n",
    "    plt.legend()\n",
    "    plt.show()\n",
    "    \n",
    "    "
   ]
  },
  {
   "cell_type": "code",
   "execution_count": 6,
   "metadata": {},
   "outputs": [
    {
     "data": {
      "image/png": "[encoded data removed]",
      "text/plain": [
       "<Figure size 1200x600 with 1 Axes>"
      ]
     },
     "metadata": {},
     "output_type": "display_data"
    }
   ],
   "source": [
    "plot_pridictions()"
   ]
  },
  {
   "cell_type": "markdown",
   "metadata": {},
   "source": [
    "# 1st pytorch model"
   ]
  },
  {
   "cell_type": "code",
   "execution_count": 7,
   "metadata": {},
   "outputs": [],
   "source": [
    "# Create a model class\n",
    "# Create a Linear Regression model class\n",
    "class LinearRegressionModel(nn.Module): # <- almost everything in PyTorch is a nn.Module (think of this as neural network lego blocks)\n",
    "    def __init__(self):\n",
    "        super().__init__() \n",
    "        self.weights = nn.Parameter(torch.randn(1, # <- start with random weights (this will get adjusted as the model learns)\n",
    "                                                dtype=torch.float), # <- PyTorch loves float32 by default\n",
    "                                   requires_grad=True) # <- can we update this value with gradient descent?)\n",
    "\n",
    "        self.bias = nn.Parameter(torch.randn(1, # <- start with random bias (this will get adjusted as the model learns)\n",
    "                                            dtype=torch.float), # <- PyTorch loves float32 by default\n",
    "                                requires_grad=True) # <- can we update this value with gradient descent?))\n",
    "\n",
    "    # Forward defines the computation in the model\n",
    "    def forward(self, x: torch.Tensor) -> torch.Tensor: # <- \"x\" is the input data (e.g. training/testing features)\n",
    "        return self.weights * x + self.bias # <- this is the linear regression formula (y = m*x + b)\n",
    "            "
   ]
  }
 ],
 "metadata": {
  "kernelspec": {
   "display_name": "Python 3",
   "language": "python",
   "name": "python3"
  },
  "language_info": {
   "codemirror_mode": {
    "name": "ipython",
    "version": 3
   },
   "file_extension": ".py",
   "mimetype": "text/x-python",
   "name": "python",
   "nbconvert_exporter": "python",
   "pygments_lexer": "ipython3",
   "version": "3.10.12"
  }
 },
 "nbformat": 4,
 "nbformat_minor": 2
}
