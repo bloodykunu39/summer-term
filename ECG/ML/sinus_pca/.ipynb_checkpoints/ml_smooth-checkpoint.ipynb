{
  "cells": [
    {
      "cell_type": "code",
      "execution_count": 36,
      "metadata": {
        "id": "vGOD8SzOPQAk"
      },
      "outputs": [],
      "source": [
        "import torch\n",
        "import torch.nn as nn\n",
        "import torch.nn.functional as F\n",
        "\n",
        "\n",
        "import pandas as pd\n",
        "import matplotlib.pyplot as plt\n",
        "%matplotlib inline\n",
        "import numpy as np\n",
        "\n",
        "\n",
        "class Model(nn.Module):\n",
        "  def __init__(self, in_features= 20 , h1= 50  , h2= 50 , h3 = 25 ,  out_features=3):\n",
        "    super().__init__()\n",
        "    self.fc1 = nn.Linear(in_features, h1)\n",
        "    self.fc2 = nn.Linear(h1, h2)\n",
        "    self.fc3 = nn.Linear(h2, h3)\n",
        "\n",
        "    self.out = nn.Linear(h3, out_features)\n",
        "\n",
        "  def forward(self, x):\n",
        "    x = F.relu(self.fc1(x))\n",
        "    x = F.relu(self.fc2(x))\n",
        "    x = F.relu(self.fc3(x))\n",
        "\n",
        "    x = self.out(x)\n",
        "\n",
        "    return x\n",
        "\n",
        "\n",
        "torch.manual_seed(42)\n",
        "model = Model()\n",
        "\n",
        "\n",
        "\n",
        "data_ST_list = []\n",
        "for i in range(10):\n",
        "    cc = np.loadtxt('disease_ST_svd_'+str(i)+'.txt')\n",
        "    data_ST_list.append(cc)\n",
        "\n",
        "\n",
        "data_ST_list = np.array(data_ST_list)\n",
        "data_ST = np.resize(data_ST_list,(5000,5000))\n",
        "\n",
        "data_ST_ = []\n",
        "for i in range(data_ST.shape[0]):\n",
        "    data_ST_.append(data_ST[i][0:20])\n",
        "\n",
        "data_ST_ = np.array(data_ST_)\n",
        "\n",
        "\n",
        "del data_ST, data_ST_list\n",
        "\n",
        "\n",
        "\n",
        "\n",
        "\n",
        "data_SB_list = []\n",
        "for i in range(10):\n",
        "    cc = np.loadtxt('disease_SB_svd_'+str(i)+'.txt')\n",
        "    data_SB_list.append(cc)\n",
        "\n",
        "\n",
        "data_SB_list = np.array(data_SB_list)\n",
        "data_SB = np.resize(data_SB_list,(5000,5000))\n",
        "\n",
        "data_SB_ = []\n",
        "for i in range(data_SB.shape[0]):\n",
        "    data_SB_.append(data_SB[i][0:20])\n",
        "\n",
        "data_SB_ = np.array(data_SB_)\n",
        "\n",
        "\n",
        "del data_SB, data_SB_list\n",
        "\n",
        "\n",
        "\n",
        "\n",
        "data_SR_list = []\n",
        "for i in range(10):\n",
        "    cc = np.loadtxt('disease_SR_svd_'+str(i)+'.txt')\n",
        "    data_SR_list.append(cc)\n",
        "\n",
        "\n",
        "data_SR_list = np.array(data_SR_list)\n",
        "data_SR = np.resize(data_SR_list,(5000,5000))\n",
        "\n",
        "data_SR_ = []\n",
        "for i in range(data_SR.shape[0]):\n",
        "    data_SR_.append(data_SR[i][0:20])\n",
        "\n",
        "data_SR_ = np.array(data_SR_)\n",
        "\n",
        "\n",
        "del data_SR, data_SR_list\n",
        "\n",
        "\n",
        "\n",
        "data_ST_train = []\n",
        "data_SR_train = []\n",
        "data_SB_train = []\n",
        "\n",
        "for i in range(2500):\n",
        "    data_SB_train.append(data_SB_[i])\n",
        "    data_SR_train.append(data_SR_[i])\n",
        "    data_ST_train.append(data_ST_[i])\n",
        "\n",
        "\n",
        "\n",
        "data_ST_test = []\n",
        "data_SR_test = []\n",
        "data_SB_test = []\n",
        "\n",
        "for i in range(3000,4000):\n",
        "    data_SB_test.append(data_SB_[i])\n",
        "    data_SR_test.append(data_SR_[i])\n",
        "    data_ST_test.append(data_ST_[i])\n",
        "\n",
        "\n",
        "data_train = data_SB_train + data_SR_train + data_ST_train\n",
        "data_test = data_SB_test + data_SR_test + data_ST_test\n",
        "\n",
        "\n",
        "del data_SB_train, data_SR_train, data_ST_train\n",
        "del data_SB_test, data_SR_test, data_ST_test\n",
        "\n",
        "\n",
        "\n",
        "label_train = []\n",
        "for i in range(2500):\n",
        "    label_train.append(1)\n",
        "\n",
        "for i in range(2500):\n",
        "    label_train.append(2)\n",
        "\n",
        "for i in range(2500):\n",
        "    label_train.append(3)\n",
        "\n",
        "label_train = np.array(label_train)\n",
        "\n",
        "\n"
      ]
    },
    {
      "cell_type": "code",
      "execution_count": null,
      "metadata": {},
      "outputs": [],
      "source": [
        "data_train = torch.FloatTensor(data_train)\n",
        "label_train = torch.LongTensor(label_train)\n",
        "\n",
        "data_test = torch.FloatTensor(data_test)\n",
        "label_test = torch.LongTensor(label_test)\n",
        "\n",
        "criterion = nn.CrossEntropyLoss()\n",
        "optimizer = torch.optim.Adam(model.parameters(), lr=0.01)\n",
        "\n",
        "epochs = 100\n",
        "losses = []\n",
        "for i in range(epochs):\n",
        "  \n",
        "  y_pred = model.forward(data_train) \n",
        "\n",
        "  loss = criterion(y_pred, label_train) \n",
        "\n",
        "  losses.append(loss.detach().numpy())\n",
        "\n",
        "  # if i % 10 == 0:\n",
        "  print(f'Epoch: {i} and loss: {loss}')\n",
        "\n",
        "  optimizer.zero_grad()\n",
        "  loss.backward()\n",
        "  optimizer.step()\n",
        "\n",
        "\n",
        "\n",
        "plt.plot(range(epochs), losses)\n",
        "plt.ylabel(\"loss/error\")\n",
        "plt.xlabel('Epoch')\n",
        "\n",
        "\n",
        "\n"
      ]
    },
    {
      "cell_type": "code",
      "execution_count": null,
      "metadata": {},
      "outputs": [],
      "source": [
        "# Evaluate Model on Test Data Set (validate model on test set)\n",
        "with torch.no_grad():  # Basically turn off back propogation\n",
        "    y_eval = model.forward(data_test) # X_test are features from our test set, y_eval will be predictions\n",
        "    loss = criterion(y_eval, label_test) # Find the loss or error\n",
        "\n",
        "print(f'loss : {loss}')\n"
      ]
    },
    {
      "cell_type": "code",
      "execution_count": null,
      "metadata": {},
      "outputs": [],
      "source": []
    },
    {
      "cell_type": "code",
      "execution_count": 17,
      "metadata": {
        "id": "Dip1EQKV8e8C"
      },
      "outputs": [],
      "source": [
        "label_test = []\n",
        "for i in range(1000):\n",
        "    label_test.append(1)\n",
        "\n",
        "for i in range(1000):\n",
        "    label_test.append(2)\n",
        "\n",
        "for i in range(1000):\n",
        "    label_test.append(3)\n",
        "\n",
        "label_test = np.array(label_test)\n"
      ]
    },
    {
      "cell_type": "code",
      "execution_count": 18,
      "metadata": {
        "colab": {
          "base_uri": "https://localhost:8080/"
        },
        "id": "WKGJ7x_NZN5e",
        "outputId": "59c49944-1a98-44cf-d0e4-8f06a80c0b0a"
      },
      "outputs": [
        {
          "data": {
            "text/plain": [
              "tensor(0.1315)"
            ]
          },
          "execution_count": 18,
          "metadata": {},
          "output_type": "execute_result"
        }
      ],
      "source": [
        "torch.save(model.state_dict(), 'model_1.pt')\n",
        "new_model = Model()\n",
        "new_model.load_state_dict(torch.load('model_1.pt'))"
      ]
    },
    {
      "cell_type": "code",
      "execution_count": 19,
      "metadata": {
        "colab": {
          "base_uri": "https://localhost:8080/"
        },
        "id": "lyntMH5tZOtW",
        "outputId": "889fe499-9325-4879-e031-ff69b065b9de"
      },
      "outputs": [
        {
          "name": "stdout",
          "output_type": "stream",
          "text": [
            "1.)  tensor([-5.8771,  4.4629,  6.5155]) \t 2 \t 2\n",
            "2.)  tensor([-7.5451,  4.1668,  9.7293]) \t 2 \t 2\n",
            "3.)  tensor([-8.4517,  5.1275, 10.2015]) \t 2 \t 2\n",
            "4.)  tensor([-4.3411,  5.6280,  2.5636]) \t 1 \t 1\n",
            "5.)  tensor([-7.1838,  4.8757,  8.3023]) \t 2 \t 2\n",
            "6.)  tensor([-3.3940,  5.3421,  1.2802]) \t 1 \t 1\n",
            "7.)  tensor([-5.9240,  4.9826,  6.0025]) \t 2 \t 2\n",
            "8.)  tensor([-4.2895,  5.7016,  2.3920]) \t 1 \t 1\n",
            "9.)  tensor([-6.5369,  4.9261,  7.1291]) \t 2 \t 2\n",
            "10.)  tensor([-8.0526,  4.4129, 10.3325]) \t 2 \t 2\n",
            "11.)  tensor([-5.6775,  4.9505,  5.6248]) \t 2 \t 2\n",
            "12.)  tensor([ 4.5748, -2.2579, -2.8925]) \t 0 \t 0\n",
            "13.)  tensor([ 4.2646, -2.0055, -2.7342]) \t 0 \t 0\n",
            "14.)  tensor([-2.1081,  4.0482,  0.5803]) \t 1 \t 1\n",
            "15.)  tensor([ 3.4608, -1.2147, -2.3488]) \t 0 \t 0\n",
            "16.)  tensor([-5.4739,  5.1174,  5.0966]) \t 2 \t 1\n",
            "17.)  tensor([ 4.0637, -1.8045, -2.6504]) \t 0 \t 0\n",
            "18.)  tensor([-5.8090,  4.6057,  6.2494]) \t 1 \t 2\n",
            "19.)  tensor([ 4.9250, -2.5763, -3.0545]) \t 0 \t 0\n",
            "20.)  tensor([ 3.4559, -1.2559, -2.3637]) \t 0 \t 0\n",
            "21.)  tensor([-2.6161,  4.5584,  0.8575]) \t 1 \t 1\n",
            "22.)  tensor([-7.7427,  4.7379,  9.4233]) \t 2 \t 2\n",
            "23.)  tensor([ 3.5776, -1.3269, -2.4109]) \t 0 \t 0\n",
            "24.)  tensor([ 4.5445, -2.2478, -2.8698]) \t 0 \t 0\n",
            "25.)  tensor([-2.6548,  4.6138,  0.8825]) \t 1 \t 1\n",
            "26.)  tensor([-3.2832,  5.2189,  1.2163]) \t 1 \t 1\n",
            "27.)  tensor([-4.6527,  5.7790,  2.9302]) \t 1 \t 1\n",
            "28.)  tensor([-2.9436,  4.8858,  1.0381]) \t 1 \t 1\n",
            "29.)  tensor([ 4.5932, -2.2788, -2.8989]) \t 0 \t 0\n",
            "30.)  tensor([-4.5797,  5.4566,  3.1690]) \t 1 \t 1\n",
            "We got 28 correct!\n"
          ]
        }
      ],
      "source": [
        "correct = 0\n",
        "with torch.no_grad():\n",
        "  for i, data in enumerate(data_test):\n",
        "    y_val = model.forward(data)\n",
        "\n",
        "    if label_test[i] == 0:\n",
        "      x = \"Setosa\"\n",
        "    elif label_test[i] == 1:\n",
        "      x = 'Versicolor'\n",
        "    else:\n",
        "      x = 'Virginica'\n",
        "\n",
        "\n",
        "    # Will tell us what type of flower class our network thinks it is\n",
        "    print(f'{i+1}.)  {str(y_val)} \\t {y_test[i]} \\t {y_val.argmax().item()}')\n",
        "\n",
        "    # Correct or not\n",
        "    if y_val.argmax().item() == y_test[i]:\n",
        "      correct +=1\n",
        "\n",
        "print(f'We got {correct} correct!')"
      ]
    },
    {
      "cell_type": "code",
      "execution_count": 20,
      "metadata": {
        "id": "DJPl2eAmbJiM"
      },
      "outputs": [],
      "source": [
        "new_iris = torch.tensor([4.7, 3.2, 1.3, 0.2])"
      ]
    },
    {
      "cell_type": "code",
      "execution_count": 21,
      "metadata": {
        "colab": {
          "base_uri": "https://localhost:8080/"
        },
        "id": "WrDdPpEsmPOd",
        "outputId": "28800bc0-b5c0-4a65-ef4f-d850a0f1fc51"
      },
      "outputs": [
        {
          "name": "stdout",
          "output_type": "stream",
          "text": [
            "tensor([ 4.5445, -2.2478, -2.8698])\n"
          ]
        }
      ],
      "source": [
        "with torch.no_grad():\n",
        "  print(model(new_iris))"
      ]
    },
    {
      "cell_type": "code",
      "execution_count": 22,
      "metadata": {
        "id": "EcdmzRL7mZ_M"
      },
      "outputs": [],
      "source": [
        "newer_iris = torch.tensor([5.9, 3.0, 5.1, 1.8])"
      ]
    },
    {
      "cell_type": "code",
      "execution_count": 23,
      "metadata": {
        "colab": {
          "base_uri": "https://localhost:8080/"
        },
        "id": "hPnukBTCmrLs",
        "outputId": "bb09b40e-fc73-410e-8a36-aaa38578e59e"
      },
      "outputs": [
        {
          "name": "stdout",
          "output_type": "stream",
          "text": [
            "tensor([-5.9960,  4.5080,  6.6831])\n"
          ]
        }
      ],
      "source": [
        "with torch.no_grad():\n",
        "  print(model(newer_iris))"
      ]
    },
    {
      "cell_type": "code",
      "execution_count": 24,
      "metadata": {
        "id": "cc42k-Crmvck"
      },
      "outputs": [],
      "source": [
        "# Save our NN Model\n",
        "torch.save(model.state_dict(), 'my_really_awesome_iris_model.pt')"
      ]
    },
    {
      "cell_type": "code",
      "execution_count": 25,
      "metadata": {
        "colab": {
          "base_uri": "https://localhost:8080/"
        },
        "id": "3RKnF7RXnhYz",
        "outputId": "c0d210a5-7b39-46d7-bfdd-91aa678f2cbd"
      },
      "outputs": [
        {
          "data": {
            "text/plain": [
              "<All keys matched successfully>"
            ]
          },
          "execution_count": 25,
          "metadata": {},
          "output_type": "execute_result"
        }
      ],
      "source": [
        "# Load the Saved Model\n",
        "new_model = Model()\n",
        "new_model.load_state_dict(torch.load('my_really_awesome_iris_model.pt'))"
      ]
    },
    {
      "cell_type": "code",
      "execution_count": 26,
      "metadata": {
        "colab": {
          "base_uri": "https://localhost:8080/"
        },
        "id": "rV_GTla9nyAa",
        "outputId": "8784f762-4c12-4cf5-c9dc-dfa3fbf3dbe0"
      },
      "outputs": [
        {
          "data": {
            "text/plain": [
              "Model(\n",
              "  (fc1): Linear(in_features=4, out_features=8, bias=True)\n",
              "  (fc2): Linear(in_features=8, out_features=9, bias=True)\n",
              "  (out): Linear(in_features=9, out_features=3, bias=True)\n",
              ")"
            ]
          },
          "execution_count": 26,
          "metadata": {},
          "output_type": "execute_result"
        }
      ],
      "source": [
        "# Make sure it loaded correctly\n",
        "new_model.eval()"
      ]
    },
    {
      "cell_type": "code",
      "execution_count": 48,
      "metadata": {
        "id": "_SYJM4d0n1rb"
      },
      "outputs": [
        {
          "data": {
            "image/png": "[encoded data removed]",
            "text/plain": [
              "<Figure size 640x480 with 1 Axes>"
            ]
          },
          "metadata": {},
          "output_type": "display_data"
        }
      ],
      "source": [
        "import matplotlib.pyplot as plt\n",
        "\n",
        "url = '/home/pingal/Downloads/loss_model_4.txt'\n",
        "\n",
        "cc = np.loadtxt(url)\n",
        "plt.plot(cc[10:])\n",
        "\n",
        "plt.xlabel('epochs')\n",
        "plt.ylabel('loss')\n",
        "plt.title('training curve')\n",
        "\n",
        "plt.savefig('training_curve.png')"
      ]
    },
    {
      "cell_type": "code",
      "execution_count": null,
      "metadata": {},
      "outputs": [],
      "source": []
    }
  ],
  "metadata": {
    "colab": {
      "authorship_tag": "ABX9TyMUpEgHNEUhEvvktBMAIcXc",
      "include_colab_link": true,
      "provenance": []
    },
    "kernelspec": {
      "display_name": "Python 3",
      "name": "python3"
    },
    "language_info": {
      "codemirror_mode": {
        "name": "ipython",
        "version": 3
      },
      "file_extension": ".py",
      "mimetype": "text/x-python",
      "name": "python",
      "nbconvert_exporter": "python",
      "pygments_lexer": "ipython3",
      "version": "3.10.12"
    }
  },
  "nbformat": 4,
  "nbformat_minor": 0
}
