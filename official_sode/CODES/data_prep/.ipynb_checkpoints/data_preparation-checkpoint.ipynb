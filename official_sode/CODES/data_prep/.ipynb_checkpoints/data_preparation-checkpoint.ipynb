{
 "cells": [
  {
   "cell_type": "code",
   "execution_count": null,
   "metadata": {},
   "outputs": [],
   "source": [
    "import pandas as pd\n",
    "from scipy.io import loadmat\n",
    "import wfdb\n",
    "import numpy as np\n",
    "import os\n",
    "\n",
    "from numpy import asarray\n",
    "from numpy import save"
   ]
  },
  {
   "cell_type": "code",
   "execution_count": null,
   "metadata": {},
   "outputs": [],
   "source": [
    "path = '/home/pingal/Downloads/a-large-scale-12-lead-electrocardiogram-database-for-arrhythmia-study-1.0.0/WFDBRecords/'\n",
    "\n",
    "path_1_list = os.listdir(path)\n",
    "\n",
    "def disease_categorization(code):\n",
    "    disease_list = []\n",
    "    for i in range(len(path_1_list)):\n",
    "        path_1 = path_1_list[i]\n",
    "        path_2 = path+path_1\n",
    "        path_2_list = os.listdir(path_2)\n",
    "        for j in range(len(path_2_list)):\n",
    "            path_2 = path_2_list[j]\n",
    "\n",
    "\n",
    "            path_to_dir = path + path_1 + '/' + path_2 + '/'\n",
    "\n",
    "            records = open(path_to_dir+'RECORDS','r').read().split()\n",
    "\n",
    "            for k in range(len(records)):\n",
    "                data = wfdb.rdsamp(path_to_dir+records[k])\n",
    "\n",
    "                disease_codes_ = disease_codes(data)\n",
    "\n",
    "                for l in range(len(disease_codes_)):\n",
    "                    if disease_codes_[l] == str(code):\n",
    "\n",
    "                        disease_list.append(data[0])\n",
    "\n",
    "    \n",
    "    return disease_list\n",
    "\n",
    "\n",
    "def disease_codes(data):\n",
    "    disease_codes = data[1]['comments'][2].split()[1].split(',')\n",
    "    return disease_codes\n",
    "    \n",
    "\n",
    "\n",
    "\n"
   ]
  },
  {
   "cell_type": "code",
   "execution_count": null,
   "metadata": {},
   "outputs": [],
   "source": [
    "path_to_disease_codes = '/home/pingal/Downloads/a-large-scale-12-lead-electrocardiogram-database-for-arrhythmia-study-1.0.0/ConditionNames_SNOMED-CT.csv'\n",
    "disease_codes_list = pd.DataFrame(pd.read_csv(path_to_disease_codes))\n"
   ]
  },
  {
   "cell_type": "code",
   "execution_count": null,
   "metadata": {},
   "outputs": [],
   "source": [
    "disease_name = disease_codes_list.get('Acronym Name')\n",
    "disease_code = disease_codes_list.get('Snomed_CT')\n",
    "disease_list = []\n",
    "code_list_len = []\n",
    "for i in range(len(disease_name)):\n",
    "    code = disease_code[i]\n",
    "    cc = disease_categorization(code)\n",
    "    print(len(cc))\n",
    "    code_list_len.append(len(cc))\n",
    "    "
   ]
  },
  {
   "cell_type": "code",
   "execution_count": null,
   "metadata": {},
   "outputs": [],
   "source": [
    "for items in range(len(code_list_len)):\n",
    "    if code_list_len[items] >= 5000:\n",
    "        print(code_list_len[items])\n",
    "        print(disease_name[items])\n",
    "        print(disease_code[items])"
   ]
  },
  {
   "cell_type": "code",
   "execution_count": null,
   "metadata": {},
   "outputs": [],
   "source": [
    "SB_code = 426177001\n",
    "SR_code = 426783006\n",
    "ST_code = 427084000\n",
    "\n",
    "# disease_SB = disease_categorization(SB_code)\n",
    "\n",
    "# disease_SR = disease_categorization(SR_code)\n",
    "\n",
    "# disease_ST = disease_categorization(ST_code)\n",
    "\n",
    "disease_ST_cut = disease_ST[0:5000]\n",
    "del(disease_ST)\n",
    "\n",
    "\n",
    "\n",
    "data = asarray(disease_ST_cut)\n",
    "save('disease_ST.npy', data)\n",
    "\n"
   ]
  },
  {
   "cell_type": "code",
   "execution_count": null,
   "metadata": {},
   "outputs": [],
   "source": []
  },
  {
   "cell_type": "code",
   "execution_count": null,
   "metadata": {},
   "outputs": [],
   "source": []
  },
  {
   "cell_type": "code",
   "execution_count": null,
   "metadata": {},
   "outputs": [],
   "source": []
  },
  {
   "cell_type": "code",
   "execution_count": null,
   "metadata": {},
   "outputs": [],
   "source": []
  },
  {
   "cell_type": "code",
   "execution_count": null,
   "metadata": {},
   "outputs": [],
   "source": []
  },
  {
   "cell_type": "code",
   "execution_count": null,
   "metadata": {},
   "outputs": [],
   "source": []
  },
  {
   "cell_type": "code",
   "execution_count": null,
   "metadata": {},
   "outputs": [],
   "source": []
  },
  {
   "cell_type": "code",
   "execution_count": null,
   "metadata": {},
   "outputs": [],
   "source": []
  },
  {
   "cell_type": "code",
   "execution_count": null,
   "metadata": {},
   "outputs": [],
   "source": []
  },
  {
   "cell_type": "code",
   "execution_count": null,
   "metadata": {},
   "outputs": [],
   "source": []
  }
 ],
 "metadata": {
  "kernelspec": {
   "display_name": "Python 3 (ipykernel)",
   "language": "python",
   "name": "python3"
  },
  "language_info": {
   "codemirror_mode": {
    "name": "ipython",
    "version": 3
   },
   "file_extension": ".py",
   "mimetype": "text/x-python",
   "name": "python",
   "nbconvert_exporter": "python",
   "pygments_lexer": "ipython3",
   "version": "3.10.12"
  }
 },
 "nbformat": 4,
 "nbformat_minor": 4
}
